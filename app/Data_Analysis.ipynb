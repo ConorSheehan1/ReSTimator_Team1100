{
 "cells": [
  {
   "cell_type": "markdown",
   "metadata": {},
   "source": [
    "# Data Analysis"
   ]
  },
  {
   "cell_type": "markdown",
   "metadata": {},
   "source": [
    "## Imports"
   ]
  },
  {
   "cell_type": "code",
   "execution_count": 1,
   "metadata": {
    "collapsed": true
   },
   "outputs": [],
   "source": [
    "%matplotlib inline\n",
    "\n",
    "import pandas as pd\n",
    "pd.options.display.max_rows = 999\n",
    "import sqlite3\n",
    "import statsmodels.formula.api as sm\n",
    "import numpy as np\n",
    "import matplotlib.pyplot as plt\n",
    "\n",
    "from sklearn.linear_model import LinearRegression\n",
    "from sklearn.cross_validation import train_test_split\n",
    "from sklearn.cross_validation import cross_val_score\n",
    "from sklearn import metrics\n",
    "from sklearn.linear_model import LogisticRegression\n",
    "from sklearn.naive_bayes import GaussianNB\n",
    "from sklearn.neighbors import KNeighborsClassifier\n",
    "from sklearn.svm import SVC"
   ]
  },
  {
   "cell_type": "markdown",
   "metadata": {},
   "source": [
    "## Functions"
   ]
  },
  {
   "cell_type": "code",
   "execution_count": 2,
   "metadata": {
    "collapsed": true
   },
   "outputs": [],
   "source": [
    "def normalize(df, feature):\n",
    "    '''Normalize data'''\n",
    "    return (df[feature] - df[feature].mean()) / df[feature].std()\n",
    "\n",
    "def removeOutliers(df, feature):\n",
    "    '''Remove outliers (more than 3 std devs from mean)'''\n",
    "    return df[np.abs(df[feature] - df[feature].mean()) <= (3 * df[feature].std())]\n",
    "\n",
    "def convert_perc_int(df):\n",
    "    ''''''\n",
    "    df[\"occupancy\"] = df[\"occupancy\"].apply(lambda x: x * 100)\n",
    "    df[\"occupancy\"] = df[\"occupancy\"].astype(int)\n",
    "    return df"
   ]
  },
  {
   "cell_type": "markdown",
   "metadata": {},
   "source": [
    "## ABT Construction"
   ]
  },
  {
   "cell_type": "markdown",
   "metadata": {},
   "source": [
    "#### Database Connection"
   ]
  },
  {
   "cell_type": "code",
   "execution_count": 3,
   "metadata": {
    "collapsed": false
   },
   "outputs": [],
   "source": [
    "conn = sqlite3.connect(\"./project/restimator.db\")"
   ]
  },
  {
   "cell_type": "markdown",
   "metadata": {},
   "source": [
    "### Occupy Dataframe"
   ]
  },
  {
   "cell_type": "code",
   "execution_count": 4,
   "metadata": {
    "collapsed": false
   },
   "outputs": [],
   "source": [
    "df_occupy_1 = pd.read_sql(sql=\"SELECT room, date, time, associated_client_count, authenticated_client_count FROM occupy\", con=conn)\n",
    "df_occupy_2 = pd.read_sql(sql=\"SELECT room, date, time, module_code, occupancy FROM occupy\", con=conn)"
   ]
  },
  {
   "cell_type": "markdown",
   "metadata": {},
   "source": [
    "#### Only consider rows with the following conditions satisfied:\n",
    "\n",
    "* **Condition 1**: time between 9:00 and 16:00\n",
    "* **Condition 2**:  \n",
    "    - time >= quarter past the hour: account for DHCP lease duration\n",
    "    - time <= quarter to the hour: account for classes ending early\n",
    "\n",
    "This condition is because we want to take the average authenticated client count between these times. We are disregarding the other figures because we are not sure of the DHCP lease duration. For instance, a number of the devices could still be being considered from an individual who has already left the room but the lease is still considered.\n"
   ]
  },
  {
   "cell_type": "code",
   "execution_count": 5,
   "metadata": {
    "collapsed": true
   },
   "outputs": [],
   "source": [
    "df_occupy_1[\"condition1\"] = df_occupy_1[\"time\"].apply(lambda x: \"true\" if 16 >= int(x[0:2]) >= 9 else \"false\")\n",
    "df_occupy_1 = df_occupy_1[df_occupy_1[\"condition1\"] == \"true\"]"
   ]
  },
  {
   "cell_type": "code",
   "execution_count": 6,
   "metadata": {
    "collapsed": true
   },
   "outputs": [],
   "source": [
    "df_occupy_1[\"condition2\"] = df_occupy_1[\"time\"].apply(lambda x: \"true\" if 45 >= int(x[-2:]) >= 15 else \"false\")\n",
    "df_occupy_1 = df_occupy_1[df_occupy_1[\"condition2\"] == \"true\"]"
   ]
  },
  {
   "cell_type": "code",
   "execution_count": 7,
   "metadata": {
    "collapsed": true
   },
   "outputs": [],
   "source": [
    "del df_occupy_1[\"condition1\"]\n",
    "del df_occupy_1[\"condition2\"]\n",
    "df_occupy_1[\"time\"] = df_occupy_1[\"time\"].apply(lambda x: x[0:3] + \"00\")"
   ]
  },
  {
   "cell_type": "markdown",
   "metadata": {},
   "source": [
    "#### Merge tables and get average"
   ]
  },
  {
   "cell_type": "code",
   "execution_count": 8,
   "metadata": {
    "collapsed": true
   },
   "outputs": [],
   "source": [
    "df_occupy_merge = pd.merge(left = df_occupy_1, right = df_occupy_2, how=\"outer\", on=[\"room\", \"date\", \"time\"])"
   ]
  },
  {
   "cell_type": "code",
   "execution_count": 9,
   "metadata": {
    "collapsed": false
   },
   "outputs": [
    {
     "name": "stdout",
     "output_type": "stream",
     "text": [
      "(153, 7)\n"
     ]
    }
   ],
   "source": [
    "df_occupy = df_occupy_merge.groupby([\"room\", \"date\", \"time\", \"module_code\"], as_index=False).mean()\n",
    "df_occupy = df_occupy.dropna() \n",
    "print(df_occupy.shape)"
   ]
  },
  {
   "cell_type": "markdown",
   "metadata": {},
   "source": [
    "#### Module Dataframe"
   ]
  },
  {
   "cell_type": "code",
   "execution_count": 10,
   "metadata": {
    "collapsed": false
   },
   "outputs": [],
   "source": [
    "df_module = pd.read_sql(sql=\"SELECT * FROM module\", con=conn)"
   ]
  },
  {
   "cell_type": "markdown",
   "metadata": {},
   "source": [
    "#### Location Dataframe"
   ]
  },
  {
   "cell_type": "code",
   "execution_count": 11,
   "metadata": {
    "collapsed": true
   },
   "outputs": [],
   "source": [
    "df_location = pd.read_sql(sql=\"SELECT * FROM location\", con=conn)"
   ]
  },
  {
   "cell_type": "markdown",
   "metadata": {},
   "source": [
    "#### Close db connection"
   ]
  },
  {
   "cell_type": "code",
   "execution_count": 12,
   "metadata": {
    "collapsed": true
   },
   "outputs": [],
   "source": [
    "conn.close()"
   ]
  },
  {
   "cell_type": "markdown",
   "metadata": {},
   "source": [
    "#### Join tables"
   ]
  },
  {
   "cell_type": "code",
   "execution_count": 13,
   "metadata": {
    "collapsed": false
   },
   "outputs": [
    {
     "name": "stdout",
     "output_type": "stream",
     "text": [
      "(152, 11)\n"
     ]
    }
   ],
   "source": [
    "df_abt = pd.merge(left = df_occupy, right = df_module, how=\"outer\", on=[\"module_code\"]) \n",
    "df_abt = pd.merge(left = df_abt, right = df_location, how=\"outer\", on=[\"room\"]) \n",
    "df_abt = df_abt.dropna() \n",
    "print(df_abt.shape)"
   ]
  },
  {
   "cell_type": "markdown",
   "metadata": {},
   "source": [
    "#### Remove rows without registered students i.e. no class (only consider where those classes with modules taking place)"
   ]
  },
  {
   "cell_type": "code",
   "execution_count": 14,
   "metadata": {
    "collapsed": false
   },
   "outputs": [
    {
     "name": "stdout",
     "output_type": "stream",
     "text": [
      "(128, 11)\n"
     ]
    }
   ],
   "source": [
    "df_abt = df_abt[df_abt[\"reg_students\"] != 0]\n",
    "print(df_abt.shape)"
   ]
  },
  {
   "cell_type": "markdown",
   "metadata": {},
   "source": [
    "#### Add occupancy ground truth number to ABT (Capacity * GT%)"
   ]
  },
  {
   "cell_type": "code",
   "execution_count": 15,
   "metadata": {
    "collapsed": true
   },
   "outputs": [],
   "source": [
    "df_abt[\"occupancy_number\"] = df_abt[\"occupancy\"] * df_abt[\"capacity\"]"
   ]
  },
  {
   "cell_type": "markdown",
   "metadata": {},
   "source": [
    "#### Show error in GT i.e. difference between registered students and GT"
   ]
  },
  {
   "cell_type": "code",
   "execution_count": 16,
   "metadata": {
    "collapsed": false
   },
   "outputs": [],
   "source": [
    "df_abt[\"Difference\"] = df_abt[\"occupancy_number\"] - df_abt[\"reg_students\"]\n",
    "df_abt[\"max_error\"] = df_abt[\"capacity\"].apply(lambda x: x * .125)"
   ]
  },
  {
   "cell_type": "code",
   "execution_count": 17,
   "metadata": {
    "collapsed": false
   },
   "outputs": [
    {
     "data": {
      "text/html": [
       "<div>\n",
       "<table border=\"1\" class=\"dataframe\">\n",
       "  <thead>\n",
       "    <tr style=\"text-align: right;\">\n",
       "      <th></th>\n",
       "      <th>room</th>\n",
       "      <th>date</th>\n",
       "      <th>time</th>\n",
       "      <th>reg_students</th>\n",
       "      <th>occupancy_number</th>\n",
       "      <th>Difference</th>\n",
       "      <th>max_error</th>\n",
       "    </tr>\n",
       "  </thead>\n",
       "  <tbody>\n",
       "    <tr>\n",
       "      <th>4</th>\n",
       "      <td>B-002</td>\n",
       "      <td>2015-11-03</td>\n",
       "      <td>11:00</td>\n",
       "      <td>18</td>\n",
       "      <td>45.0</td>\n",
       "      <td>27.0</td>\n",
       "      <td>11.25</td>\n",
       "    </tr>\n",
       "    <tr>\n",
       "      <th>9</th>\n",
       "      <td>B-002</td>\n",
       "      <td>2015-11-03</td>\n",
       "      <td>12:00</td>\n",
       "      <td>27</td>\n",
       "      <td>45.0</td>\n",
       "      <td>18.0</td>\n",
       "      <td>11.25</td>\n",
       "    </tr>\n",
       "    <tr>\n",
       "      <th>15</th>\n",
       "      <td>B-002</td>\n",
       "      <td>2015-11-03</td>\n",
       "      <td>14:00</td>\n",
       "      <td>42</td>\n",
       "      <td>67.5</td>\n",
       "      <td>25.5</td>\n",
       "      <td>11.25</td>\n",
       "    </tr>\n",
       "    <tr>\n",
       "      <th>59</th>\n",
       "      <td>B-004</td>\n",
       "      <td>2015-11-13</td>\n",
       "      <td>15:00</td>\n",
       "      <td>38</td>\n",
       "      <td>80.0</td>\n",
       "      <td>42.0</td>\n",
       "      <td>20.00</td>\n",
       "    </tr>\n",
       "    <tr>\n",
       "      <th>97</th>\n",
       "      <td>B-004</td>\n",
       "      <td>2015-11-12</td>\n",
       "      <td>10:00</td>\n",
       "      <td>56</td>\n",
       "      <td>80.0</td>\n",
       "      <td>24.0</td>\n",
       "      <td>20.00</td>\n",
       "    </tr>\n",
       "    <tr>\n",
       "      <th>107</th>\n",
       "      <td>B-004</td>\n",
       "      <td>2015-11-09</td>\n",
       "      <td>15:00</td>\n",
       "      <td>19</td>\n",
       "      <td>80.0</td>\n",
       "      <td>61.0</td>\n",
       "      <td>20.00</td>\n",
       "    </tr>\n",
       "    <tr>\n",
       "      <th>116</th>\n",
       "      <td>B-003</td>\n",
       "      <td>2015-11-03</td>\n",
       "      <td>11:00</td>\n",
       "      <td>56</td>\n",
       "      <td>67.5</td>\n",
       "      <td>11.5</td>\n",
       "      <td>11.25</td>\n",
       "    </tr>\n",
       "  </tbody>\n",
       "</table>\n",
       "</div>"
      ],
      "text/plain": [
       "      room        date   time  reg_students  occupancy_number  Difference  \\\n",
       "4    B-002  2015-11-03  11:00            18              45.0        27.0   \n",
       "9    B-002  2015-11-03  12:00            27              45.0        18.0   \n",
       "15   B-002  2015-11-03  14:00            42              67.5        25.5   \n",
       "59   B-004  2015-11-13  15:00            38              80.0        42.0   \n",
       "97   B-004  2015-11-12  10:00            56              80.0        24.0   \n",
       "107  B-004  2015-11-09  15:00            19              80.0        61.0   \n",
       "116  B-003  2015-11-03  11:00            56              67.5        11.5   \n",
       "\n",
       "     max_error  \n",
       "4        11.25  \n",
       "9        11.25  \n",
       "15       11.25  \n",
       "59       20.00  \n",
       "97       20.00  \n",
       "107      20.00  \n",
       "116      11.25  "
      ]
     },
     "execution_count": 17,
     "metadata": {},
     "output_type": "execute_result"
    }
   ],
   "source": [
    "error = df_abt[df_abt[\"Difference\"] >= df_abt[\"max_error\"]]\n",
    "error[[\"room\",\"date\",\"time\",\"reg_students\",\"occupancy_number\",\"Difference\",\"max_error\"]]"
   ]
  },
  {
   "cell_type": "markdown",
   "metadata": {},
   "source": [
    "#### Remove those rows outside an acceptable error range"
   ]
  },
  {
   "cell_type": "code",
   "execution_count": 18,
   "metadata": {
    "collapsed": false
   },
   "outputs": [
    {
     "name": "stdout",
     "output_type": "stream",
     "text": [
      "(121, 14)\n"
     ]
    }
   ],
   "source": [
    "df_abt = df_abt[df_abt[\"Difference\"] <= df_abt[\"max_error\"]]\n",
    "print(df_abt.shape)"
   ]
  },
  {
   "cell_type": "markdown",
   "metadata": {},
   "source": [
    "#### Take min between occupancy gt and reg students to remove error in gt measurement"
   ]
  },
  {
   "cell_type": "code",
   "execution_count": 19,
   "metadata": {
    "collapsed": false
   },
   "outputs": [
    {
     "name": "stdout",
     "output_type": "stream",
     "text": [
      "(121, 15)\n"
     ]
    }
   ],
   "source": [
    "df_abt[\"min_occ_reg\"] = df_abt.loc[:, ['occupancy_number', 'reg_students']].min(axis=1)\n",
    "print(df_abt.shape)"
   ]
  },
  {
   "cell_type": "markdown",
   "metadata": {},
   "source": [
    "### Adjustment: Look at the max occupancy percentage (i.e. observation 50% then max is 62.5%) and take the product of capacity by this to get a max head count for that observation. Multiply this by 2 (assumption of max 2 devices per person connected for everyone in class at the max end of the range). If this number is still smaller than the actual client count then these observations are likely to have an error in the ground truth. Therefore, remove these from the analysis.\n",
    "\n",
    "**NB: reliant on 2 devices per individual but by taking the max of the range, I think this is currently a reasonable assumption to make until we can start collecting more accurate ground truth data**"
   ]
  },
  {
   "cell_type": "code",
   "execution_count": 20,
   "metadata": {
    "collapsed": false
   },
   "outputs": [
    {
     "data": {
      "text/html": [
       "<div>\n",
       "<table border=\"1\" class=\"dataframe\">\n",
       "  <thead>\n",
       "    <tr style=\"text-align: right;\">\n",
       "      <th></th>\n",
       "      <th>authenticated_client_count</th>\n",
       "      <th>max_devices</th>\n",
       "      <th>difference</th>\n",
       "    </tr>\n",
       "  </thead>\n",
       "  <tbody>\n",
       "    <tr>\n",
       "      <th>2</th>\n",
       "      <td>24.666667</td>\n",
       "      <td>22.5</td>\n",
       "      <td>2.166667</td>\n",
       "    </tr>\n",
       "    <tr>\n",
       "      <th>32</th>\n",
       "      <td>72.500000</td>\n",
       "      <td>67.5</td>\n",
       "      <td>5.000000</td>\n",
       "    </tr>\n",
       "    <tr>\n",
       "      <th>53</th>\n",
       "      <td>31.428571</td>\n",
       "      <td>22.5</td>\n",
       "      <td>8.928571</td>\n",
       "    </tr>\n",
       "    <tr>\n",
       "      <th>72</th>\n",
       "      <td>122.833333</td>\n",
       "      <td>120.0</td>\n",
       "      <td>2.833333</td>\n",
       "    </tr>\n",
       "    <tr>\n",
       "      <th>86</th>\n",
       "      <td>57.166667</td>\n",
       "      <td>40.0</td>\n",
       "      <td>17.166667</td>\n",
       "    </tr>\n",
       "    <tr>\n",
       "      <th>99</th>\n",
       "      <td>127.857143</td>\n",
       "      <td>120.0</td>\n",
       "      <td>7.857143</td>\n",
       "    </tr>\n",
       "    <tr>\n",
       "      <th>105</th>\n",
       "      <td>57.000000</td>\n",
       "      <td>40.0</td>\n",
       "      <td>17.000000</td>\n",
       "    </tr>\n",
       "    <tr>\n",
       "      <th>119</th>\n",
       "      <td>68.500000</td>\n",
       "      <td>67.5</td>\n",
       "      <td>1.000000</td>\n",
       "    </tr>\n",
       "  </tbody>\n",
       "</table>\n",
       "</div>"
      ],
      "text/plain": [
       "     authenticated_client_count  max_devices  difference\n",
       "2                     24.666667         22.5    2.166667\n",
       "32                    72.500000         67.5    5.000000\n",
       "53                    31.428571         22.5    8.928571\n",
       "72                   122.833333        120.0    2.833333\n",
       "86                    57.166667         40.0   17.166667\n",
       "99                   127.857143        120.0    7.857143\n",
       "105                   57.000000         40.0   17.000000\n",
       "119                   68.500000         67.5    1.000000"
      ]
     },
     "execution_count": 20,
     "metadata": {},
     "output_type": "execute_result"
    }
   ],
   "source": [
    "df_abt[\"max_devices\"] = ((df_abt[\"occupancy_number\"] + (df_abt[\"capacity\"] * .125)) * 2) \n",
    "df_abt[\"difference\"] = df_abt[\"authenticated_client_count\"] - df_abt[\"max_devices\"]\n",
    "df_abt[df_abt[\"difference\"] > 0][[\"authenticated_client_count\", \"max_devices\", \"difference\"]]"
   ]
  },
  {
   "cell_type": "code",
   "execution_count": 21,
   "metadata": {
    "collapsed": true
   },
   "outputs": [],
   "source": [
    "df_abt = df_abt[df_abt[\"difference\"] < 0]"
   ]
  },
  {
   "cell_type": "markdown",
   "metadata": {},
   "source": [
    "## Simple Linear Regression Models"
   ]
  },
  {
   "cell_type": "markdown",
   "metadata": {},
   "source": [
    "### Model 1: Simple Linear Regression (Y: min_occ_reg, X: authenticated_client_count)"
   ]
  },
  {
   "cell_type": "code",
   "execution_count": 22,
   "metadata": {
    "collapsed": false
   },
   "outputs": [
    {
     "name": "stdout",
     "output_type": "stream",
     "text": [
      "(113, 2)\n"
     ]
    }
   ],
   "source": [
    "df_reg_1= df_abt[[\"min_occ_reg\", \"authenticated_client_count\"]].copy()\n",
    "print(df_reg_1.shape)"
   ]
  },
  {
   "cell_type": "markdown",
   "metadata": {},
   "source": [
    "#### Feature Analysis"
   ]
  },
  {
   "cell_type": "code",
   "execution_count": 23,
   "metadata": {
    "collapsed": false
   },
   "outputs": [
    {
     "data": {
      "image/png": "[encoded data removed]",
      "text/plain": [
       "<matplotlib.figure.Figure at 0x10c3fcc18>"
      ]
     },
     "metadata": {},
     "output_type": "display_data"
    }
   ],
   "source": [
    "colour = dict(boxes='DarkGreen', whiskers='DarkOrange', medians='DarkBlue', caps='Gray') \n",
    "plt.figure() \n",
    "plt.subplot(211).set_title(\"min_occ_reg\", fontsize=5)\n",
    "df_reg_1[\"min_occ_reg\"].plot(kind = 'box', figsize = (5,5), color=colour, sym='r+') \n",
    "plt.subplot(212).set_title(\"authenticated_client_count\", fontsize=5)\n",
    "df_reg_1[\"authenticated_client_count\"].plot(kind = 'box', figsize = (5,5), color=colour, sym='r+') \n",
    "plt.tight_layout(pad=2.0, w_pad=2.0, h_pad=3.0)"
   ]
  },
  {
   "cell_type": "code",
   "execution_count": 24,
   "metadata": {
    "collapsed": false
   },
   "outputs": [
    {
     "name": "stdout",
     "output_type": "stream",
     "text": [
      "min_occ_reg                   float64\n",
      "authenticated_client_count    float64\n",
      "dtype: object\n"
     ]
    },
    {
     "data": {
      "text/html": [
       "<div>\n",
       "<table border=\"1\" class=\"dataframe\">\n",
       "  <thead>\n",
       "    <tr style=\"text-align: right;\">\n",
       "      <th></th>\n",
       "      <th>min_occ_reg</th>\n",
       "      <th>authenticated_client_count</th>\n",
       "    </tr>\n",
       "  </thead>\n",
       "  <tbody>\n",
       "    <tr>\n",
       "      <th>min_occ_reg</th>\n",
       "      <td>1.000000</td>\n",
       "      <td>0.838003</td>\n",
       "    </tr>\n",
       "    <tr>\n",
       "      <th>authenticated_client_count</th>\n",
       "      <td>0.838003</td>\n",
       "      <td>1.000000</td>\n",
       "    </tr>\n",
       "  </tbody>\n",
       "</table>\n",
       "</div>"
      ],
      "text/plain": [
       "                            min_occ_reg  authenticated_client_count\n",
       "min_occ_reg                    1.000000                    0.838003\n",
       "authenticated_client_count     0.838003                    1.000000"
      ]
     },
     "execution_count": 24,
     "metadata": {},
     "output_type": "execute_result"
    }
   ],
   "source": [
    "print(df_reg_1.dtypes)\n",
    "corrMatrix = df_reg_1.corr()\n",
    "corrMatrix"
   ]
  },
  {
   "cell_type": "code",
   "execution_count": 25,
   "metadata": {
    "collapsed": false
   },
   "outputs": [
    {
     "data": {
      "text/plain": [
       "<matplotlib.axes._subplots.AxesSubplot at 0x10c368358>"
      ]
     },
     "execution_count": 25,
     "metadata": {},
     "output_type": "execute_result"
    },
    {
     "data": {
      "text/plain": [
       "<matplotlib.figure.Figure at 0x10c435cf8>"
      ]
     },
     "metadata": {},
     "output_type": "display_data"
    },
    {
     "data": {
      "image/png": "[encoded data removed]",
      "text/plain": [
       "<matplotlib.figure.Figure at 0x10c3fce48>"
      ]
     },
     "metadata": {},
     "output_type": "display_data"
    }
   ],
   "source": [
    "plt.figure() \n",
    "df_reg_1.plot(kind=\"scatter\", x=\"authenticated_client_count\", y=\"min_occ_reg\", label=\"%.3f\" % corrMatrix.as_matrix()[0,1], figsize=(20, 6))"
   ]
  },
  {
   "cell_type": "markdown",
   "metadata": {},
   "source": [
    "#### Scikit Learn"
   ]
  },
  {
   "cell_type": "code",
   "execution_count": 26,
   "metadata": {
    "collapsed": false
   },
   "outputs": [
    {
     "name": "stdout",
     "output_type": "stream",
     "text": [
      "Coefficients: \n",
      " [ 0.69492395]\n",
      "Intercept: \n",
      " 5.91744866597\n",
      "Residual sum of squares: 211.66\n",
      "Square Root of Residual sum of squares: 14.55\n",
      "Variance score: 0.70\n"
     ]
    },
    {
     "name": "stderr",
     "output_type": "stream",
     "text": [
      "/Library/Frameworks/Python.framework/Versions/3.4/lib/python3.4/site-packages/scipy/linalg/basic.py:884: RuntimeWarning: internal gelsd driver lwork query error, required iwork dimension not returned. This is likely the result of LAPACK bug 0038, fixed in LAPACK 3.2.2 (released July 21, 2010). Falling back to 'gelss' driver.\n",
      "  warnings.warn(mesg, RuntimeWarning)\n"
     ]
    },
    {
     "data": {
      "image/png": "[encoded data removed]",
      "text/plain": [
       "<matplotlib.figure.Figure at 0x107a8f898>"
      ]
     },
     "metadata": {},
     "output_type": "display_data"
    },
    {
     "data": {
      "text/plain": [
       "<matplotlib.figure.Figure at 0x10c167400>"
      ]
     },
     "metadata": {},
     "output_type": "display_data"
    }
   ],
   "source": [
    "X = df_reg_1[\"authenticated_client_count\"].reshape(len(df_reg_1[\"authenticated_client_count\"]), 1)\n",
    "y = df_reg_1[\"min_occ_reg\"]\n",
    "\n",
    "lm_scikit_1 = LinearRegression()\n",
    "\n",
    "# Fit the model \n",
    "lm_scikit_1.fit(X, y)\n",
    "\n",
    "# Coefficients\n",
    "print(\"Coefficients: \\n\", lm_scikit_1.coef_)\n",
    "# The intercept\n",
    "print('Intercept: \\n', lm_scikit_1.intercept_)\n",
    "# The mean square error: MSE is more popular than MAE because MSE \"punishes\" larger errors. \n",
    "# But, RMSE is even more popular than MSE because RMSE is interpretable in the \"y\" units.\n",
    "print(\"Residual sum of squares: %.2f\" % metrics.mean_squared_error(y, lm_scikit_1.predict(X)))\n",
    "print(\"Square Root of Residual sum of squares: %.2f\" % np.sqrt(metrics.mean_squared_error(y, lm_scikit_1.predict(X))))\n",
    "# Explained variance score: coefficient of determination (R^2)\n",
    "print(\"Variance score: %.2f\" % lm_scikit_1.score(X, y))\n",
    "\n",
    "# Plot outputs\n",
    "plt.scatter(X, y,  color='navy')\n",
    "plt.plot(X, lm_scikit_1.predict(X), color='red',linewidth=2)\n",
    "plt.figure(figsize=(20,20))\n",
    "plt.show()"
   ]
  },
  {
   "cell_type": "markdown",
   "metadata": {},
   "source": [
    "#### Train & Testing"
   ]
  },
  {
   "cell_type": "markdown",
   "metadata": {},
   "source": [
    "**5-Fold Cross Validation**"
   ]
  },
  {
   "cell_type": "code",
   "execution_count": 27,
   "metadata": {
    "collapsed": false
   },
   "outputs": [
    {
     "name": "stdout",
     "output_type": "stream",
     "text": [
      "Accuracy: 0.47 (+/- 0.18)\n"
     ]
    }
   ],
   "source": [
    "R2_scores_1 = cross_val_score(lm_scikit_1, X.astype(int), y.astype(int), cv=5, scoring=\"r2\")\n",
    "print(\"Accuracy: %0.2f (+/- %0.2f)\" % (R2_scores_1.mean(), R2_scores_1.std()))"
   ]
  },
  {
   "cell_type": "markdown",
   "metadata": {},
   "source": [
    "**Random Sample Train and test** "
   ]
  },
  {
   "cell_type": "code",
   "execution_count": 28,
   "metadata": {
    "collapsed": false
   },
   "outputs": [
    {
     "name": "stdout",
     "output_type": "stream",
     "text": [
      "Coefficients:  [ 0.69397592]\n",
      "Intercept:  7.70909632045\n",
      "Residual sum of squares: 188.01\n",
      "Square Root of Residual sum of squares: 13.71\n",
      "Variance score: 0.76\n"
     ]
    }
   ],
   "source": [
    "X_train, X_test, y_train, y_test = train_test_split(X, y, test_size=0.6)\n",
    "\n",
    "lm_scikit_1_t = LinearRegression()\n",
    "\n",
    "# Train the model using the training sets\n",
    "lm_scikit_1_t.fit(X_train, y_train)\n",
    "\n",
    "# The coefficients\n",
    "print('Coefficients: ', lm_scikit_1_t.coef_)\n",
    "# The intercept\n",
    "print('Intercept: ', lm_scikit_1_t.intercept_)\n",
    "# The mean square error\n",
    "print(\"Residual sum of squares: %.2f\" % metrics.mean_squared_error(y_test, lm_scikit_1_t.predict(X_test)))\n",
    "print(\"Square Root of Residual sum of squares: %.2f\" % np.sqrt(metrics.mean_squared_error(y_test, lm_scikit_1_t.predict(X_test))))\n",
    "# Explained variance score: coefficient of determination (R^2)\n",
    "print('Variance score: %.2f' % lm_scikit_1_t.score(X_test, y_test))"
   ]
  },
  {
   "cell_type": "markdown",
   "metadata": {},
   "source": [
    "### Model 2: Simple Linear (Y: min_occ_reg, X: asso_client_count)"
   ]
  },
  {
   "cell_type": "code",
   "execution_count": 29,
   "metadata": {
    "collapsed": false
   },
   "outputs": [
    {
     "name": "stdout",
     "output_type": "stream",
     "text": [
      "(113, 2)\n"
     ]
    }
   ],
   "source": [
    "df_reg_2= df_abt[[\"min_occ_reg\", \"associated_client_count\"]].copy()\n",
    "print(df_reg_2.shape)"
   ]
  },
  {
   "cell_type": "markdown",
   "metadata": {},
   "source": [
    "#### Feature Analysis"
   ]
  },
  {
   "cell_type": "code",
   "execution_count": 30,
   "metadata": {
    "collapsed": false
   },
   "outputs": [
    {
     "data": {
      "image/png": "[encoded data removed]",
      "text/plain": [
       "<matplotlib.figure.Figure at 0x10c2d21d0>"
      ]
     },
     "metadata": {},
     "output_type": "display_data"
    }
   ],
   "source": [
    "plt.figure() \n",
    "plt.subplot(211).set_title(\"min_occ_reg\", fontsize=5)\n",
    "df_reg_2[\"min_occ_reg\"].plot(kind = 'box', figsize = (5,5), color=colour, sym='r+') \n",
    "plt.subplot(212).set_title(\"associated_client_count\", fontsize=5)\n",
    "df_reg_2[\"associated_client_count\"].plot(kind = 'box', figsize = (5,5), color=colour, sym='r+') \n",
    "plt.tight_layout(pad=2.0, w_pad=2.0, h_pad=3.0) #set padding"
   ]
  },
  {
   "cell_type": "code",
   "execution_count": 31,
   "metadata": {
    "collapsed": false
   },
   "outputs": [
    {
     "name": "stdout",
     "output_type": "stream",
     "text": [
      "min_occ_reg                float64\n",
      "associated_client_count    float64\n",
      "dtype: object\n"
     ]
    },
    {
     "data": {
      "text/html": [
       "<div>\n",
       "<table border=\"1\" class=\"dataframe\">\n",
       "  <thead>\n",
       "    <tr style=\"text-align: right;\">\n",
       "      <th></th>\n",
       "      <th>min_occ_reg</th>\n",
       "      <th>associated_client_count</th>\n",
       "    </tr>\n",
       "  </thead>\n",
       "  <tbody>\n",
       "    <tr>\n",
       "      <th>min_occ_reg</th>\n",
       "      <td>1.00000</td>\n",
       "      <td>0.83751</td>\n",
       "    </tr>\n",
       "    <tr>\n",
       "      <th>associated_client_count</th>\n",
       "      <td>0.83751</td>\n",
       "      <td>1.00000</td>\n",
       "    </tr>\n",
       "  </tbody>\n",
       "</table>\n",
       "</div>"
      ],
      "text/plain": [
       "                         min_occ_reg  associated_client_count\n",
       "min_occ_reg                  1.00000                  0.83751\n",
       "associated_client_count      0.83751                  1.00000"
      ]
     },
     "execution_count": 31,
     "metadata": {},
     "output_type": "execute_result"
    }
   ],
   "source": [
    "print(df_reg_2.dtypes)\n",
    "corrMatrix = df_reg_2.corr()\n",
    "corrMatrix"
   ]
  },
  {
   "cell_type": "code",
   "execution_count": 32,
   "metadata": {
    "collapsed": false
   },
   "outputs": [
    {
     "data": {
      "text/plain": [
       "<matplotlib.axes._subplots.AxesSubplot at 0x10c7e87f0>"
      ]
     },
     "execution_count": 32,
     "metadata": {},
     "output_type": "execute_result"
    },
    {
     "data": {
      "text/plain": [
       "<matplotlib.figure.Figure at 0x10c2bed30>"
      ]
     },
     "metadata": {},
     "output_type": "display_data"
    },
    {
     "data": {
      "image/png": "[encoded data removed]",
      "text/plain": [
       "<matplotlib.figure.Figure at 0x10c42b400>"
      ]
     },
     "metadata": {},
     "output_type": "display_data"
    }
   ],
   "source": [
    "plt.figure() \n",
    "df_reg_2.plot(kind=\"scatter\", x=\"associated_client_count\", y=\"min_occ_reg\", label=\"%.3f\" % corrMatrix.as_matrix()[0,1], figsize=(20, 6))"
   ]
  },
  {
   "cell_type": "code",
   "execution_count": 33,
   "metadata": {
    "collapsed": false
   },
   "outputs": [
    {
     "name": "stdout",
     "output_type": "stream",
     "text": [
      "Coefficients: \n",
      " [ 0.69164388]\n",
      "Intercept: \n",
      " 5.9758856768\n",
      "Residual sum of squares: 212.25\n",
      "Square Root of Residual sum of squares: 14.57\n",
      "Variance score: 0.70\n"
     ]
    },
    {
     "data": {
      "image/png": "[encoded data removed]",
      "text/plain": [
       "<matplotlib.figure.Figure at 0x10c8026d8>"
      ]
     },
     "metadata": {},
     "output_type": "display_data"
    },
    {
     "data": {
      "text/plain": [
       "<matplotlib.figure.Figure at 0x10c77df60>"
      ]
     },
     "metadata": {},
     "output_type": "display_data"
    }
   ],
   "source": [
    "X = df_reg_2[\"associated_client_count\"].reshape(len(df_reg_2[\"associated_client_count\"]), 1)\n",
    "y = df_reg_2[\"min_occ_reg\"]\n",
    "\n",
    "lm_scikit_2 = LinearRegression()\n",
    "\n",
    "# Fit the model \n",
    "lm_scikit_2.fit(X, y)\n",
    "\n",
    "# Coefficients\n",
    "print(\"Coefficients: \\n\", lm_scikit_2.coef_)\n",
    "# The intercept\n",
    "print('Intercept: \\n', lm_scikit_2.intercept_)\n",
    "# The mean square error: MSE is more popular than MAE because MSE \"punishes\" larger errors. \n",
    "# But, RMSE is even more popular than MSE because RMSE is interpretable in the \"y\" units.\n",
    "print(\"Residual sum of squares: %.2f\" % metrics.mean_squared_error(y, lm_scikit_2.predict(X)))\n",
    "print(\"Square Root of Residual sum of squares: %.2f\" % np.sqrt(metrics.mean_squared_error(y, lm_scikit_2.predict(X))))\n",
    "# Explained variance score: coefficient of determination (R^2)\n",
    "print(\"Variance score: %.2f\" % lm_scikit_2.score(X, y))\n",
    "\n",
    "# Plot outputs\n",
    "plt.scatter(X, y,  color='navy')\n",
    "plt.plot(X, lm_scikit_2.predict(X), color='red',linewidth=2)\n",
    "plt.figure(figsize=(20,20))\n",
    "plt.show()"
   ]
  },
  {
   "cell_type": "markdown",
   "metadata": {},
   "source": [
    "#### Train & Testing\n",
    "\n",
    "**Cross Validation**"
   ]
  },
  {
   "cell_type": "code",
   "execution_count": 34,
   "metadata": {
    "collapsed": false
   },
   "outputs": [
    {
     "name": "stdout",
     "output_type": "stream",
     "text": [
      "0.465925804768\n"
     ]
    }
   ],
   "source": [
    "R2_scores_2 = cross_val_score(lm_scikit_2, X.astype(int), y.astype(int), cv=5)\n",
    "print(R2_scores_2.mean())"
   ]
  },
  {
   "cell_type": "markdown",
   "metadata": {},
   "source": [
    "**Train and test** "
   ]
  },
  {
   "cell_type": "code",
   "execution_count": 35,
   "metadata": {
    "collapsed": false
   },
   "outputs": [
    {
     "name": "stdout",
     "output_type": "stream",
     "text": [
      "Coefficients: \n",
      " [ 0.69217188]\n",
      "Intercept: \n",
      " 5.79004192493\n",
      "Residual sum of squares: 171.71\n",
      "Square Root of Residual sum of squares: 13.10\n",
      "Variance score: 0.50\n"
     ]
    }
   ],
   "source": [
    "X_train, X_test, y_train, y_test = train_test_split(X, y, test_size=0.3, random_state=42)\n",
    "\n",
    "lm_scikit_2_t = LinearRegression()\n",
    "\n",
    "# Train the model using the training sets\n",
    "lm_scikit_2_t.fit(X_train, y_train)\n",
    "\n",
    "# The coefficients\n",
    "print('Coefficients: \\n', lm_scikit_2_t.coef_)\n",
    "# The intercept\n",
    "print('Intercept: \\n', lm_scikit_2_t.intercept_)\n",
    "# The mean square error\n",
    "print(\"Residual sum of squares: %.2f\" % metrics.mean_squared_error(y_test, lm_scikit_2_t.predict(X_test)))\n",
    "print(\"Square Root of Residual sum of squares: %.2f\" % np.sqrt(metrics.mean_squared_error(y_test, lm_scikit_2_t.predict(X_test))))\n",
    "# Explained variance score: coefficient of determination (R^2)\n",
    "print('Variance score: %.2f' % lm_scikit_2_t.score(X_test, y_test))"
   ]
  },
  {
   "cell_type": "markdown",
   "metadata": {},
   "source": [
    "## Categorical Models"
   ]
  },
  {
   "cell_type": "code",
   "execution_count": 36,
   "metadata": {
    "collapsed": true
   },
   "outputs": [],
   "source": [
    "df = df_abt.copy()\n",
    "df = convert_perc_int(df)"
   ]
  },
  {
   "cell_type": "markdown",
   "metadata": {},
   "source": [
    "#### Data Understanding"
   ]
  },
  {
   "cell_type": "code",
   "execution_count": 37,
   "metadata": {
    "collapsed": false
   },
   "outputs": [],
   "source": [
    "df_0 = df[df['occupancy'] == 0]\n",
    "df_25 = df[df['occupancy'] == 25]\n",
    "df_50 = df[df['occupancy'] == 50]\n",
    "df_75 = df[df['occupancy'] == 75]\n",
    "df_100 = df[df['occupancy'] == 100]"
   ]
  },
  {
   "cell_type": "code",
   "execution_count": 38,
   "metadata": {
    "collapsed": false
   },
   "outputs": [
    {
     "data": {
      "image/png": "[encoded data removed]",
      "text/plain": [
       "<matplotlib.figure.Figure at 0x10c79c710>"
      ]
     },
     "metadata": {},
     "output_type": "display_data"
    },
    {
     "data": {
      "text/plain": [
       "<matplotlib.figure.Figure at 0x10c7704e0>"
      ]
     },
     "metadata": {},
     "output_type": "display_data"
    }
   ],
   "source": [
    "plt.scatter(df_0[\"authenticated_client_count\"], df_0[\"capacity\"],  color='red')\n",
    "plt.scatter(df_25[\"authenticated_client_count\"],df_25[\"capacity\"],  color='orange')\n",
    "plt.scatter(df_50[\"authenticated_client_count\"],df_50[\"capacity\"],  color='yellow')\n",
    "plt.scatter(df_75[\"authenticated_client_count\"],df_75[\"capacity\"],  color='navy')\n",
    "plt.scatter(df_100[\"authenticated_client_count\"],df_100[\"capacity\"],  color='green')\n",
    "plt.figure(figsize=(20,20))\n",
    "plt.show()"
   ]
  },
  {
   "cell_type": "code",
   "execution_count": 39,
   "metadata": {
    "collapsed": false
   },
   "outputs": [
    {
     "data": {
      "image/png": "[encoded data removed]",
      "text/plain": [
       "<matplotlib.figure.Figure at 0x10c7fba20>"
      ]
     },
     "metadata": {},
     "output_type": "display_data"
    },
    {
     "data": {
      "text/plain": [
       "<matplotlib.figure.Figure at 0x10ce6dda0>"
      ]
     },
     "metadata": {},
     "output_type": "display_data"
    }
   ],
   "source": [
    "plt.scatter(df_0[\"authenticated_client_count\"] / df_0[\"capacity\"], df_0[\"capacity\"],  color='red')\n",
    "plt.scatter(df_25[\"authenticated_client_count\"] / df_25[\"capacity\"], df_25[\"capacity\"],  color='orange')\n",
    "plt.scatter(df_50[\"authenticated_client_count\"] / df_50[\"capacity\"], df_50[\"capacity\"],  color='yellow')\n",
    "plt.scatter(df_75[\"authenticated_client_count\"] / df_75[\"capacity\"], df_75[\"capacity\"],  color='navy')\n",
    "plt.scatter(df_100[\"authenticated_client_count\"] / df_100[\"capacity\"], df_100[\"capacity\"],  color='green')\n",
    "plt.figure(figsize=(20,20))\n",
    "plt.show()"
   ]
  },
  {
   "cell_type": "code",
   "execution_count": 40,
   "metadata": {
    "collapsed": false
   },
   "outputs": [
    {
     "data": {
      "image/png": "[encoded data removed]",
      "text/plain": [
       "<matplotlib.figure.Figure at 0x10c4aaeb8>"
      ]
     },
     "metadata": {},
     "output_type": "display_data"
    },
    {
     "data": {
      "text/plain": [
       "<matplotlib.figure.Figure at 0x10c83b2b0>"
      ]
     },
     "metadata": {},
     "output_type": "display_data"
    }
   ],
   "source": [
    "plt.scatter(df_0[\"authenticated_client_count\"], df_0[\"reg_students\"],  color='red')\n",
    "plt.scatter(df_25[\"authenticated_client_count\"], df_25[\"reg_students\"],  color='orange')\n",
    "plt.scatter(df_50[\"authenticated_client_count\"], df_50[\"reg_students\"],  color='yellow')\n",
    "plt.scatter(df_75[\"authenticated_client_count\"], df_75[\"reg_students\"],  color='navy')\n",
    "plt.scatter(df_100[\"authenticated_client_count\"], df_100[\"reg_students\"],  color='green')\n",
    "plt.figure(figsize=(20,20))\n",
    "plt.show()"
   ]
  },
  {
   "cell_type": "code",
   "execution_count": 41,
   "metadata": {
    "collapsed": false
   },
   "outputs": [
    {
     "data": {
      "image/png": "[encoded data removed]",
      "text/plain": [
       "<matplotlib.figure.Figure at 0x10c4bed68>"
      ]
     },
     "metadata": {},
     "output_type": "display_data"
    },
    {
     "data": {
      "text/plain": [
       "<matplotlib.figure.Figure at 0x10c1d1a90>"
      ]
     },
     "metadata": {},
     "output_type": "display_data"
    }
   ],
   "source": [
    "plt.scatter(df_0[\"authenticated_client_count\"], df_0[\"reg_students\"] / df_0[\"capacity\"],  color='red')\n",
    "plt.scatter(df_25[\"authenticated_client_count\"], df_25[\"reg_students\"] / df_25[\"capacity\"],  color='orange')\n",
    "plt.scatter(df_50[\"authenticated_client_count\"], df_50[\"reg_students\"] / df_50[\"capacity\"],  color='yellow')\n",
    "plt.scatter(df_75[\"authenticated_client_count\"], df_75[\"reg_students\"] / df_75[\"capacity\"],  color='navy')\n",
    "plt.scatter(df_100[\"authenticated_client_count\"], df_100[\"reg_students\"] / df_100[\"capacity\"],  color='green')\n",
    "plt.figure(figsize=(20,20))\n",
    "plt.show()"
   ]
  },
  {
   "cell_type": "code",
   "execution_count": 42,
   "metadata": {
    "collapsed": false
   },
   "outputs": [
    {
     "data": {
      "image/png": "[encoded data removed]",
      "text/plain": [
       "<matplotlib.figure.Figure at 0x10c7ff748>"
      ]
     },
     "metadata": {},
     "output_type": "display_data"
    },
    {
     "data": {
      "text/plain": [
       "<matplotlib.figure.Figure at 0x10c3037f0>"
      ]
     },
     "metadata": {},
     "output_type": "display_data"
    }
   ],
   "source": [
    "plt.scatter(df_0[\"authenticated_client_count\"] / df_0[\"capacity\"], df_0[\"reg_students\"],  color='red')\n",
    "plt.scatter(df_25[\"authenticated_client_count\"] / df_25[\"capacity\"], df_25[\"reg_students\"],  color='orange')\n",
    "plt.scatter(df_50[\"authenticated_client_count\"] / df_50[\"capacity\"], df_50[\"reg_students\"],  color='yellow')\n",
    "plt.scatter(df_75[\"authenticated_client_count\"] / df_75[\"capacity\"], df_75[\"reg_students\"],  color='navy')\n",
    "plt.scatter(df_100[\"authenticated_client_count\"] / df_100[\"capacity\"], df_100[\"reg_students\"],  color='green')\n",
    "plt.figure(figsize=(20,20))\n",
    "plt.show()"
   ]
  },
  {
   "cell_type": "markdown",
   "metadata": {},
   "source": [
    "### Multinomial Logistic Regression http://machinelearningmastery.com/get-your-hands-dirty-with-scikit-learn-now/\n",
    "\n",
    "log-odds of a categorical response being \"true\" (1) is modeled as a linear combination of the features.\n",
    "Logistic regression outputs the probabilities of a specific class\n",
    "Those probabilities can be converted into class predictions"
   ]
  },
  {
   "cell_type": "code",
   "execution_count": 43,
   "metadata": {
    "collapsed": false
   },
   "outputs": [
    {
     "name": "stdout",
     "output_type": "stream",
     "text": [
      "             precision    recall  f1-score   support\n",
      "\n",
      "          0       0.78      0.39      0.52        18\n",
      "         25       0.61      0.97      0.75        59\n",
      "         50       0.80      0.15      0.25        27\n",
      "         75       1.00      0.50      0.67         8\n",
      "        100       1.00      1.00      1.00         1\n",
      "\n",
      "avg / total       0.71      0.65      0.59       113\n",
      "\n",
      "[[ 7 11  0  0  0]\n",
      " [ 2 57  0  0  0]\n",
      " [ 0 23  4  0  0]\n",
      " [ 0  3  1  4  0]\n",
      " [ 0  0  0  0  1]]\n"
     ]
    }
   ],
   "source": [
    "df_log_1 = df.copy()\n",
    "EXP = []\n",
    "for a, o in zip(df_log_1[\"authenticated_client_count\"], df_log_1['capacity']):\n",
    "    EXP.append([a, o])\n",
    "X = np.array(EXP)\n",
    "y = df_log_1[\"occupancy\"]\n",
    "\n",
    "lr = LogisticRegression()\n",
    "lr.fit(X, y)\n",
    "\n",
    "pred_lr = lr.predict(X)\n",
    "df_log_1[\"predicted\"] = pd.Series(pred_lr, index=df_log_1.index)\n",
    "print(metrics.classification_report(y, pred_lr))\n",
    "print(metrics.confusion_matrix(y, pred_lr))"
   ]
  },
  {
   "cell_type": "markdown",
   "metadata": {},
   "source": [
    "#### Testing"
   ]
  },
  {
   "cell_type": "code",
   "execution_count": 44,
   "metadata": {
    "collapsed": false
   },
   "outputs": [
    {
     "name": "stdout",
     "output_type": "stream",
     "text": [
      "Accuracy: 0.59 (+/- 0.04)\n"
     ]
    },
    {
     "name": "stderr",
     "output_type": "stream",
     "text": [
      "/Library/Frameworks/Python.framework/Versions/3.4/lib/python3.4/site-packages/sklearn/cross_validation.py:516: Warning: The least populated class in y has only 1 members, which is too few. The minimum number of labels for any class cannot be less than n_folds=5.\n",
      "  % (min_labels, self.n_folds)), Warning)\n"
     ]
    }
   ],
   "source": [
    "clf = LogisticRegression()\n",
    "scores = cross_val_score(clf, X, y, cv=5)\n",
    "print(\"Accuracy: %0.2f (+/- %0.2f)\" % (scores.mean(), scores.std()))"
   ]
  },
  {
   "cell_type": "code",
   "execution_count": 45,
   "metadata": {
    "collapsed": false
   },
   "outputs": [
    {
     "name": "stdout",
     "output_type": "stream",
     "text": [
      "             precision    recall  f1-score   support\n",
      "\n",
      "          0       1.00      0.43      0.60         7\n",
      "         25       0.66      1.00      0.79        27\n",
      "         50       1.00      0.10      0.18        10\n",
      "         75       1.00      0.50      0.67         2\n",
      "\n",
      "avg / total       0.80      0.70      0.63        46\n",
      "\n",
      "[[ 3  4  0  0]\n",
      " [ 0 27  0  0]\n",
      " [ 0  9  1  0]\n",
      " [ 0  1  0  1]]\n"
     ]
    }
   ],
   "source": [
    "X_train, X_test, y_train, y_test = train_test_split(X, y, test_size=0.4, random_state=42)\n",
    "clf = LogisticRegression().fit(X_train, y_train)\n",
    "pred_log_train = clf.predict(X_test)\n",
    "print(metrics.classification_report(y_test, pred_log_train))\n",
    "print(metrics.confusion_matrix(y_test, pred_log_train))"
   ]
  },
  {
   "cell_type": "code",
   "execution_count": 46,
   "metadata": {
    "collapsed": false
   },
   "outputs": [
    {
     "data": {
      "image/png": "[encoded data removed]",
      "text/plain": [
       "<matplotlib.figure.Figure at 0x10c37e0b8>"
      ]
     },
     "metadata": {},
     "output_type": "display_data"
    },
    {
     "data": {
      "text/plain": [
       "<matplotlib.figure.Figure at 0x10c12e940>"
      ]
     },
     "metadata": {},
     "output_type": "display_data"
    }
   ],
   "source": [
    "plt.scatter(df_log_1[\"authenticated_client_count\"], df_log_1[\"occupancy\"],  color='navy')\n",
    "plt.scatter(df_log_1[\"authenticated_client_count\"], df_log_1[\"predicted\"],  color='green')\n",
    "plt.figure(figsize=(20,20))\n",
    "plt.show()"
   ]
  },
  {
   "cell_type": "markdown",
   "metadata": {},
   "source": [
    "### Gaussian Naive Bayes "
   ]
  },
  {
   "cell_type": "code",
   "execution_count": 47,
   "metadata": {
    "collapsed": false
   },
   "outputs": [
    {
     "name": "stdout",
     "output_type": "stream",
     "text": [
      "             precision    recall  f1-score   support\n",
      "\n",
      "          0       0.67      0.67      0.67        18\n",
      "         25       0.68      0.76      0.72        59\n",
      "         50       0.48      0.37      0.42        27\n",
      "         75       0.71      0.62      0.67         8\n",
      "        100       1.00      1.00      1.00         1\n",
      "\n",
      "avg / total       0.64      0.65      0.64       113\n",
      "\n",
      "[[12  6  0  0  0]\n",
      " [ 6 45  8  0  0]\n",
      " [ 0 15 10  2  0]\n",
      " [ 0  0  3  5  0]\n",
      " [ 0  0  0  0  1]]\n"
     ]
    }
   ],
   "source": [
    "df_gnb = df.copy()\n",
    "EXP = []\n",
    "for a, o in zip(df_gnb[\"authenticated_client_count\"] / df_gnb[\"capacity\"], df_gnb['reg_students']):\n",
    "    EXP.append([a, o])\n",
    "X = np.array(EXP)\n",
    "y = df_gnb[\"occupancy\"]\n",
    "\n",
    "gnb = GaussianNB()\n",
    "gnb.fit(X, y)\n",
    "\n",
    "pred_gnb = gnb.predict(X)\n",
    "df_gnb[\"predicted\"] = pd.Series(pred_gnb, index=df_gnb.index)\n",
    "print(metrics.classification_report(y, pred_gnb))\n",
    "print(metrics.confusion_matrix(y, pred_gnb))"
   ]
  },
  {
   "cell_type": "markdown",
   "metadata": {},
   "source": [
    "#### Testing"
   ]
  },
  {
   "cell_type": "code",
   "execution_count": 48,
   "metadata": {
    "collapsed": false
   },
   "outputs": [
    {
     "name": "stdout",
     "output_type": "stream",
     "text": [
      "Accuracy: 0.52 (+/- 0.13)\n"
     ]
    },
    {
     "name": "stderr",
     "output_type": "stream",
     "text": [
      "/Library/Frameworks/Python.framework/Versions/3.4/lib/python3.4/site-packages/sklearn/cross_validation.py:516: Warning: The least populated class in y has only 1 members, which is too few. The minimum number of labels for any class cannot be less than n_folds=5.\n",
      "  % (min_labels, self.n_folds)), Warning)\n"
     ]
    }
   ],
   "source": [
    "clf = GaussianNB()\n",
    "scores = cross_val_score(clf, X, y, cv=5)\n",
    "print(\"Accuracy: %0.2f (+/- %0.2f)\" % (scores.mean(), scores.std()))"
   ]
  },
  {
   "cell_type": "code",
   "execution_count": 49,
   "metadata": {
    "collapsed": false
   },
   "outputs": [
    {
     "name": "stdout",
     "output_type": "stream",
     "text": [
      "             precision    recall  f1-score   support\n",
      "\n",
      "          0       0.50      0.43      0.46         7\n",
      "         25       0.65      0.74      0.69        27\n",
      "         50       0.38      0.30      0.33        10\n",
      "         75       1.00      0.50      0.67         2\n",
      "\n",
      "avg / total       0.58      0.59      0.58        46\n",
      "\n",
      "[[ 3  4  0  0]\n",
      " [ 3 20  4  0]\n",
      " [ 0  7  3  0]\n",
      " [ 0  0  1  1]]\n"
     ]
    }
   ],
   "source": [
    "X_train, X_test, y_train, y_test = train_test_split(X, y, test_size=0.4, random_state=42)\n",
    "clf = GaussianNB().fit(X_train, y_train)\n",
    "pred_gnb_train = clf.predict(X_test)\n",
    "print(metrics.classification_report(y_test, pred_gnb_train))\n",
    "print(metrics.confusion_matrix(y_test, pred_gnb_train))"
   ]
  },
  {
   "cell_type": "code",
   "execution_count": 50,
   "metadata": {
    "collapsed": false
   },
   "outputs": [
    {
     "data": {
      "image/png": "[encoded data removed]",
      "text/plain": [
       "<matplotlib.figure.Figure at 0x10c3c9eb8>"
      ]
     },
     "metadata": {},
     "output_type": "display_data"
    },
    {
     "data": {
      "text/plain": [
       "<matplotlib.figure.Figure at 0x10c37e518>"
      ]
     },
     "metadata": {},
     "output_type": "display_data"
    }
   ],
   "source": [
    "plt.scatter(df_gnb[\"authenticated_client_count\"], df_gnb[\"occupancy\"],  color='navy')\n",
    "plt.scatter(df_gnb[\"authenticated_client_count\"], df_gnb[\"predicted\"],  color='green')\n",
    "plt.figure(figsize=(20,20))\n",
    "plt.show()"
   ]
  },
  {
   "cell_type": "markdown",
   "metadata": {},
   "source": [
    "### k-Nearest Neighbor"
   ]
  },
  {
   "cell_type": "code",
   "execution_count": 51,
   "metadata": {
    "collapsed": false
   },
   "outputs": [
    {
     "name": "stdout",
     "output_type": "stream",
     "text": [
      "             precision    recall  f1-score   support\n",
      "\n",
      "          0       0.53      0.50      0.51        18\n",
      "         25       0.64      0.83      0.73        59\n",
      "         50       0.65      0.48      0.55        27\n",
      "         75       0.00      0.00      0.00         8\n",
      "        100       0.00      0.00      0.00         1\n",
      "\n",
      "avg / total       0.58      0.63      0.59       113\n",
      "\n",
      "[[ 9  9  0  0  0]\n",
      " [ 6 49  4  0  0]\n",
      " [ 2 12 13  0  0]\n",
      " [ 0  6  2  0  0]\n",
      " [ 0  0  1  0  0]]\n"
     ]
    },
    {
     "name": "stderr",
     "output_type": "stream",
     "text": [
      "/Library/Frameworks/Python.framework/Versions/3.4/lib/python3.4/site-packages/sklearn/metrics/classification.py:1074: UndefinedMetricWarning: Precision and F-score are ill-defined and being set to 0.0 in labels with no predicted samples.\n",
      "  'precision', 'predicted', average, warn_for)\n"
     ]
    }
   ],
   "source": [
    "df_nn = df.copy()\n",
    "EXP = []\n",
    "for a, o in zip(df_nn[\"authenticated_client_count\"] / df_nn[\"capacity\"], df_nn['reg_students']):\n",
    "    EXP.append([a, o])\n",
    "X = np.array(EXP)\n",
    "y = df_nn[\"occupancy\"] \n",
    "\n",
    "nn = KNeighborsClassifier() # default n_neighbors=5\n",
    "nn.fit(X, y)\n",
    "\n",
    "pred_nn = nn.predict(X)\n",
    "print(metrics.classification_report(y, pred_nn))\n",
    "print(metrics.confusion_matrix(y, pred_nn))"
   ]
  },
  {
   "cell_type": "markdown",
   "metadata": {},
   "source": [
    "#### Testing"
   ]
  },
  {
   "cell_type": "code",
   "execution_count": 52,
   "metadata": {
    "collapsed": false
   },
   "outputs": [
    {
     "name": "stdout",
     "output_type": "stream",
     "text": [
      "Accuracy: 0.34 (+/- 0.29)\n"
     ]
    },
    {
     "name": "stderr",
     "output_type": "stream",
     "text": [
      "/Library/Frameworks/Python.framework/Versions/3.4/lib/python3.4/site-packages/sklearn/cross_validation.py:516: Warning: The least populated class in y has only 1 members, which is too few. The minimum number of labels for any class cannot be less than n_folds=5.\n",
      "  % (min_labels, self.n_folds)), Warning)\n"
     ]
    }
   ],
   "source": [
    "clf = KNeighborsClassifier()\n",
    "scores = cross_val_score(clf, X, y, cv=5)\n",
    "print(\"Accuracy: %0.2f (+/- %0.2f)\" % (scores.mean(), scores.std() * 2))"
   ]
  },
  {
   "cell_type": "code",
   "execution_count": 53,
   "metadata": {
    "collapsed": false
   },
   "outputs": [
    {
     "name": "stdout",
     "output_type": "stream",
     "text": [
      "             precision    recall  f1-score   support\n",
      "\n",
      "          0       0.50      0.43      0.46         7\n",
      "         25       0.65      0.81      0.72        27\n",
      "         50       0.50      0.30      0.37        10\n",
      "         75       0.00      0.00      0.00         2\n",
      "\n",
      "avg / total       0.56      0.61      0.58        46\n",
      "\n",
      "[[ 3  3  1  0]\n",
      " [ 3 22  2  0]\n",
      " [ 0  7  3  0]\n",
      " [ 0  2  0  0]]\n"
     ]
    },
    {
     "name": "stderr",
     "output_type": "stream",
     "text": [
      "/Library/Frameworks/Python.framework/Versions/3.4/lib/python3.4/site-packages/sklearn/metrics/classification.py:1074: UndefinedMetricWarning: Precision and F-score are ill-defined and being set to 0.0 in labels with no predicted samples.\n",
      "  'precision', 'predicted', average, warn_for)\n"
     ]
    }
   ],
   "source": [
    "X_train, X_test, y_train, y_test = train_test_split(X, y, test_size=0.4, random_state=42)\n",
    "scores=[]\n",
    "for n in range(2,15):\n",
    "    clf = KNeighborsClassifier(n_neighbors=n).fit(X_train, y_train)\n",
    "    scores.append(round(clf.score(X_test, y_test),2))\n",
    "neighbours = scores.index(max(scores)) + 2\n",
    "clf = KNeighborsClassifier(n_neighbors=neighbours).fit(X_train, y_train)\n",
    "pred_knn_train = clf.predict(X_test)\n",
    "print(metrics.classification_report(y_test, pred_knn_train))\n",
    "print(metrics.confusion_matrix(y_test, pred_knn_train))"
   ]
  },
  {
   "cell_type": "markdown",
   "metadata": {},
   "source": [
    "### Model results with dynamic k selection"
   ]
  },
  {
   "cell_type": "code",
   "execution_count": 54,
   "metadata": {
    "collapsed": false
   },
   "outputs": [
    {
     "name": "stdout",
     "output_type": "stream",
     "text": [
      "Dynamic Neighbour Selection:  2\n",
      "             precision    recall  f1-score   support\n",
      "\n",
      "          0       0.75      1.00      0.86        18\n",
      "         25       0.76      0.90      0.82        59\n",
      "         50       0.93      0.48      0.63        27\n",
      "         75       0.80      0.50      0.62         8\n",
      "        100       0.00      0.00      0.00         1\n",
      "\n",
      "avg / total       0.79      0.78      0.76       113\n",
      "\n",
      "[[18  0  0  0  0]\n",
      " [ 6 53  0  0  0]\n",
      " [ 0 14 13  0  0]\n",
      " [ 0  3  1  4  0]\n",
      " [ 0  0  0  1  0]]\n"
     ]
    },
    {
     "name": "stderr",
     "output_type": "stream",
     "text": [
      "/Library/Frameworks/Python.framework/Versions/3.4/lib/python3.4/site-packages/sklearn/metrics/classification.py:1074: UndefinedMetricWarning: Precision and F-score are ill-defined and being set to 0.0 in labels with no predicted samples.\n",
      "  'precision', 'predicted', average, warn_for)\n"
     ]
    }
   ],
   "source": [
    "nnd = KNeighborsClassifier(n_neighbors=neighbours)\n",
    "nnd.fit(X, y)\n",
    "\n",
    "pred_nnd = nnd.predict(X)\n",
    "df_nn[\"predicted\"] = pd.Series(pred_nnd, index=df_nn.index)\n",
    "print(\"Dynamic Neighbour Selection: \", neighbours)\n",
    "print(metrics.classification_report(y, pred_nnd))\n",
    "print(metrics.confusion_matrix(y, pred_nnd))"
   ]
  },
  {
   "cell_type": "code",
   "execution_count": 55,
   "metadata": {
    "collapsed": false
   },
   "outputs": [
    {
     "name": "stdout",
     "output_type": "stream",
     "text": [
      "Accuracy: 0.35 (+/- 0.15)\n"
     ]
    },
    {
     "name": "stderr",
     "output_type": "stream",
     "text": [
      "/Library/Frameworks/Python.framework/Versions/3.4/lib/python3.4/site-packages/sklearn/cross_validation.py:516: Warning: The least populated class in y has only 1 members, which is too few. The minimum number of labels for any class cannot be less than n_folds=5.\n",
      "  % (min_labels, self.n_folds)), Warning)\n"
     ]
    }
   ],
   "source": [
    "clfd = KNeighborsClassifier(n_neighbors=neighbours)\n",
    "scoresd = cross_val_score(clfd, X, y, cv=5)\n",
    "print(\"Accuracy: %0.2f (+/- %0.2f)\" % (scoresd.mean(), scoresd.std() * 2))"
   ]
  },
  {
   "cell_type": "code",
   "execution_count": 56,
   "metadata": {
    "collapsed": false
   },
   "outputs": [
    {
     "data": {
      "image/png": "[encoded data removed]",
      "text/plain": [
       "<matplotlib.figure.Figure at 0x10c80f0b8>"
      ]
     },
     "metadata": {},
     "output_type": "display_data"
    },
    {
     "data": {
      "text/plain": [
       "<matplotlib.figure.Figure at 0x10c1f7fd0>"
      ]
     },
     "metadata": {},
     "output_type": "display_data"
    }
   ],
   "source": [
    "plt.scatter(df_nn[\"authenticated_client_count\"], df_nn[\"occupancy\"],  color='navy')\n",
    "plt.scatter(df_nn[\"authenticated_client_count\"], df_nn[\"predicted\"],  color='green')\n",
    "plt.figure(figsize=(20,20))\n",
    "plt.show()"
   ]
  },
  {
   "cell_type": "markdown",
   "metadata": {},
   "source": [
    "### Support Vector Machines"
   ]
  },
  {
   "cell_type": "code",
   "execution_count": 57,
   "metadata": {
    "collapsed": false
   },
   "outputs": [
    {
     "name": "stdout",
     "output_type": "stream",
     "text": [
      "             precision    recall  f1-score   support\n",
      "\n",
      "          0       1.00      0.61      0.76        18\n",
      "         25       0.74      1.00      0.85        59\n",
      "         50       0.93      0.52      0.67        27\n",
      "         75       1.00      0.75      0.86         8\n",
      "        100       1.00      1.00      1.00         1\n",
      "\n",
      "avg / total       0.85      0.81      0.79       113\n",
      "\n",
      "[[11  7  0  0  0]\n",
      " [ 0 59  0  0  0]\n",
      " [ 0 13 14  0  0]\n",
      " [ 0  1  1  6  0]\n",
      " [ 0  0  0  0  1]]\n"
     ]
    }
   ],
   "source": [
    "df_svm = df.copy()\n",
    "EXP = []\n",
    "for a, o in zip(df_svm[\"authenticated_client_count\"], df_svm['capacity']):\n",
    "    EXP.append([a, o])\n",
    "X = np.array(EXP)\n",
    "y = df_svm[\"occupancy\"] \n",
    "\n",
    "svc = SVC()\n",
    "clf = svc.fit(X, y)\n",
    "pred_svm = clf.predict(X)\n",
    "\n",
    "# pred_svm = svc.predict(X)\n",
    "print(metrics.classification_report(y, pred_svm))\n",
    "print(metrics.confusion_matrix(y, pred_svm))"
   ]
  },
  {
   "cell_type": "markdown",
   "metadata": {},
   "source": [
    "#### Testing"
   ]
  },
  {
   "cell_type": "code",
   "execution_count": 58,
   "metadata": {
    "collapsed": false
   },
   "outputs": [
    {
     "name": "stdout",
     "output_type": "stream",
     "text": [
      "Accuracy: 0.51 (+/- 0.11)\n"
     ]
    },
    {
     "name": "stderr",
     "output_type": "stream",
     "text": [
      "/Library/Frameworks/Python.framework/Versions/3.4/lib/python3.4/site-packages/sklearn/cross_validation.py:516: Warning: The least populated class in y has only 1 members, which is too few. The minimum number of labels for any class cannot be less than n_folds=5.\n",
      "  % (min_labels, self.n_folds)), Warning)\n"
     ]
    }
   ],
   "source": [
    "clf = SVC()\n",
    "scores = cross_val_score(clf, X, y, cv=5)\n",
    "print(\"Accuracy: %0.2f (+/- %0.2f)\" % (scores.mean(), scores.std()))"
   ]
  },
  {
   "cell_type": "code",
   "execution_count": 59,
   "metadata": {
    "collapsed": false
   },
   "outputs": [
    {
     "name": "stdout",
     "output_type": "stream",
     "text": [
      "             precision    recall  f1-score   support\n",
      "\n",
      "          0       1.00      0.29      0.44         7\n",
      "         25       0.61      0.81      0.70        27\n",
      "         50       0.17      0.10      0.12        10\n",
      "         75       0.00      0.00      0.00         2\n",
      "\n",
      "avg / total       0.55      0.54      0.50        46\n",
      "\n",
      "[[ 2  4  1  0]\n",
      " [ 0 22  4  1]\n",
      " [ 0  8  1  1]\n",
      " [ 0  2  0  0]]\n"
     ]
    }
   ],
   "source": [
    "X_train, X_test, y_train, y_test = train_test_split(X, y, test_size=0.4, random_state=42)\n",
    "clf = SVC().fit(X_train, y_train)\n",
    "\n",
    "pred_svm_train = clf.predict(X_test)\n",
    "print(metrics.classification_report(y_test, pred_svm_train))\n",
    "print(metrics.confusion_matrix(y_test, pred_svm_train))"
   ]
  },
  {
   "cell_type": "code",
   "execution_count": 60,
   "metadata": {
    "collapsed": false
   },
   "outputs": [
    {
     "name": "stderr",
     "output_type": "stream",
     "text": [
      "/Library/Frameworks/Python.framework/Versions/3.4/lib/python3.4/site-packages/sklearn/svm/base.py:85: DeprecationWarning: gamma=0.0 has been deprecated in favor of gamma='auto' as of 0.17. Backward compatibility for gamma=0.0 will be removed in 0.18\n",
      "  DeprecationWarning)\n"
     ]
    }
   ],
   "source": [
    "X_train, X_test, y_train, y_test = train_test_split(X, y, test_size=0.4, random_state=42)\n",
    "scores=[]\n",
    "for n in range(0,20):\n",
    "    clf = SVC(gamma=n).fit(X_train, y_train)\n",
    "    scores.append(round(clf.score(X_test, y_test),2))\n",
    "gamma = scores.index(max(scores))"
   ]
  },
  {
   "cell_type": "markdown",
   "metadata": {},
   "source": [
    "#### Dynamic Gamma Selection"
   ]
  },
  {
   "cell_type": "code",
   "execution_count": 61,
   "metadata": {
    "collapsed": false
   },
   "outputs": [
    {
     "name": "stdout",
     "output_type": "stream",
     "text": [
      "Dynamic Gamma Selection:  3\n",
      "             precision    recall  f1-score   support\n",
      "\n",
      "          0       1.00      0.78      0.88        18\n",
      "         25       0.84      1.00      0.91        59\n",
      "         50       0.91      0.74      0.82        27\n",
      "         75       1.00      0.75      0.86         8\n",
      "        100       1.00      1.00      1.00         1\n",
      "\n",
      "avg / total       0.90      0.88      0.88       113\n",
      "\n",
      "[[14  3  1  0  0]\n",
      " [ 0 59  0  0  0]\n",
      " [ 0  7 20  0  0]\n",
      " [ 0  1  1  6  0]\n",
      " [ 0  0  0  0  1]]\n"
     ]
    }
   ],
   "source": [
    "svcd = SVC(gamma=gamma)\n",
    "svcd.fit(X, y)\n",
    "\n",
    "pred_svmd = svcd.predict(X)\n",
    "df_svm[\"predicted\"] = pd.Series(pred_svmd, index=df_svm.index)\n",
    "print(\"Dynamic Gamma Selection: \", gamma)\n",
    "print(metrics.classification_report(y, pred_svmd))\n",
    "print(metrics.confusion_matrix(y, pred_svmd))"
   ]
  },
  {
   "cell_type": "code",
   "execution_count": 62,
   "metadata": {
    "collapsed": false
   },
   "outputs": [
    {
     "name": "stdout",
     "output_type": "stream",
     "text": [
      "Accuracy: 0.53 (+/- 0.09)\n"
     ]
    },
    {
     "name": "stderr",
     "output_type": "stream",
     "text": [
      "/Library/Frameworks/Python.framework/Versions/3.4/lib/python3.4/site-packages/sklearn/cross_validation.py:516: Warning: The least populated class in y has only 1 members, which is too few. The minimum number of labels for any class cannot be less than n_folds=5.\n",
      "  % (min_labels, self.n_folds)), Warning)\n"
     ]
    }
   ],
   "source": [
    "clfd = SVC(gamma=gamma)\n",
    "scoresd = cross_val_score(clfd, X, y, cv=5)\n",
    "print(\"Accuracy: %0.2f (+/- %0.2f)\" % (scoresd.mean(), scoresd.std()))"
   ]
  },
  {
   "cell_type": "code",
   "execution_count": 63,
   "metadata": {
    "collapsed": false
   },
   "outputs": [
    {
     "data": {
      "image/png": "[encoded data removed]",
      "text/plain": [
       "<matplotlib.figure.Figure at 0x10c37e668>"
      ]
     },
     "metadata": {},
     "output_type": "display_data"
    },
    {
     "data": {
      "text/plain": [
       "<matplotlib.figure.Figure at 0x10c39fe48>"
      ]
     },
     "metadata": {},
     "output_type": "display_data"
    }
   ],
   "source": [
    "plt.scatter(df_svm[\"authenticated_client_count\"], df_svm[\"occupancy\"],  color='navy')\n",
    "plt.scatter(df_svm[\"authenticated_client_count\"], df_svm[\"predicted\"],  color='green')\n",
    "plt.figure(figsize=(20,20))\n",
    "plt.show()"
   ]
  }
 ],
 "metadata": {
  "kernelspec": {
   "display_name": "Python 3",
   "language": "python",
   "name": "python3"
  },
  "language_info": {
   "codemirror_mode": {
    "name": "ipython",
    "version": 3
   },
   "file_extension": ".py",
   "mimetype": "text/x-python",
   "name": "python",
   "nbconvert_exporter": "python",
   "pygments_lexer": "ipython3",
   "version": "3.4.3"
  }
 },
 "nbformat": 4,
 "nbformat_minor": 0
}
