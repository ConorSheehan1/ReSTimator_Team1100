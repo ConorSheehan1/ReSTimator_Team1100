{
 "cells": [
  {
   "cell_type": "markdown",
   "metadata": {},
   "source": [
    "# Data Analysis"
   ]
  },
  {
   "cell_type": "markdown",
   "metadata": {},
   "source": [
    "#### Imports"
   ]
  },
  {
   "cell_type": "code",
   "execution_count": null,
   "metadata": {
    "collapsed": true
   },
   "outputs": [],
   "source": [
    "%matplotlib inline\n",
    "\n",
    "import pandas as pd\n",
    "pd.options.display.max_rows = 999\n",
    "import sqlite3\n",
    "import statsmodels.formula.api as sm\n",
    "# import statsmodels.api as s\n",
    "import numpy as np\n",
    "import matplotlib.pyplot as plt\n",
    "\n",
    "from sklearn.linear_model import LinearRegression\n",
    "from sklearn.cross_validation import train_test_split\n",
    "from sklearn import metrics\n",
    "\n",
    "# from sklearn.linear_model import LogisticRegression\n",
    "# from sklearn.cross_validation import cross_val_score"
   ]
  },
  {
   "cell_type": "markdown",
   "metadata": {},
   "source": [
    "#### Database Connection"
   ]
  },
  {
   "cell_type": "code",
   "execution_count": null,
   "metadata": {
    "collapsed": false
   },
   "outputs": [],
   "source": [
    "conn = sqlite3.connect(\"./sample.db\")"
   ]
  },
  {
   "cell_type": "markdown",
   "metadata": {},
   "source": [
    "#### Occupy Dataframe"
   ]
  },
  {
   "cell_type": "code",
   "execution_count": null,
   "metadata": {
    "collapsed": false
   },
   "outputs": [],
   "source": [
    "# df_occupy = pd.read_sql(sql=\"SELECT * FROM occupy\", con=conn)\n",
    "df_occupy_1 = pd.read_sql(sql=\"SELECT room, date, time, associated_client_count, authenticated_client_count FROM occupy\", con=conn)\n",
    "df_occupy_2 = pd.read_sql(sql=\"SELECT room, date, time, module_code, occupancy FROM occupy\", con=conn)"
   ]
  },
  {
   "cell_type": "markdown",
   "metadata": {},
   "source": [
    "#### Only consider rows with the following conditions satisfied:\n",
    "\n",
    "* **Condition 1**: time between 9:00 and 17:00\n",
    "* **Condition 2:** This condition is because we want to take the average authenticated client count between these times. We are disregarding the other figures because we are not sure of the DHCP lease duration. For instance, a number of the devices could still be being considered from an individual who has already left the room but the lease is still considered.\n",
    "    - time >= quarter past the hour\n",
    "    - time <= quarter past the hour"
   ]
  },
  {
   "cell_type": "code",
   "execution_count": null,
   "metadata": {
    "collapsed": false
   },
   "outputs": [],
   "source": [
    "df_occupy_1[\"condition1\"] = df_occupy_1[\"time\"].apply(lambda x: \"true\" if 16 >= int(x[0:2]) >= 9 else \"false\")\n",
    "df_occupy_1 = df_occupy_1[df_occupy_1[\"condition1\"] == \"true\"]\n",
    "df_occupy_1"
   ]
  },
  {
   "cell_type": "code",
   "execution_count": null,
   "metadata": {
    "collapsed": false
   },
   "outputs": [],
   "source": [
    "df_occupy_1[\"condition2\"] = df_occupy_1[\"time\"].apply(lambda x: \"true\" if 45 >= int(x[-2:]) >= 15 else \"false\")\n",
    "df_occupy_1 = df_occupy_1[df_occupy_1[\"condition2\"] == \"true\"]\n",
    "df_occupy_1"
   ]
  },
  {
   "cell_type": "code",
   "execution_count": null,
   "metadata": {
    "collapsed": false
   },
   "outputs": [],
   "source": [
    "del df_occupy_1[\"condition1\"]\n",
    "del df_occupy_1[\"condition2\"]\n",
    "df_occupy_1[\"time\"] = df_occupy_1[\"time\"].apply(lambda x: x[0:3] + \"00\")\n",
    "df_occupy_1"
   ]
  },
  {
   "cell_type": "code",
   "execution_count": null,
   "metadata": {
    "collapsed": false
   },
   "outputs": [],
   "source": [
    "df_occupy_2"
   ]
  },
  {
   "cell_type": "code",
   "execution_count": null,
   "metadata": {
    "collapsed": false
   },
   "outputs": [],
   "source": [
    "df_occupy_merge = pd.merge(left = df_occupy_1, right = df_occupy_2, how=\"outer\", on=[\"room\", \"date\", \"time\"]) \n",
    "df_occupy_merge.head(10)"
   ]
  },
  {
   "cell_type": "code",
   "execution_count": null,
   "metadata": {
    "collapsed": false
   },
   "outputs": [],
   "source": [
    "df_occupy_merge.tail(10)"
   ]
  },
  {
   "cell_type": "code",
   "execution_count": null,
   "metadata": {
    "collapsed": false
   },
   "outputs": [],
   "source": [
    "df_occupy = df_occupy_merge.groupby([\"room\", \"date\", \"time\", \"module_code\"], as_index=False).mean()"
   ]
  },
  {
   "cell_type": "code",
   "execution_count": null,
   "metadata": {
    "collapsed": false
   },
   "outputs": [],
   "source": [
    "# df_occupy[\"authenticated_client_count\"] = df_occupy[\"authenticated_client_count\"].round(0)\n",
    "# df_occupy[\"associated_client_count\"] = df_occupy[\"associated_client_count\"].round(0)\n",
    "print(df_occupy.shape)\n",
    "df_occupy"
   ]
  },
  {
   "cell_type": "markdown",
   "metadata": {},
   "source": [
    "#### Remove rows with NaN values "
   ]
  },
  {
   "cell_type": "code",
   "execution_count": null,
   "metadata": {
    "collapsed": false
   },
   "outputs": [],
   "source": [
    "df_occupy = df_occupy.dropna() \n",
    "print(df_occupy.shape)\n",
    "df_occupy"
   ]
  },
  {
   "cell_type": "markdown",
   "metadata": {},
   "source": [
    "#### Module Dataframe"
   ]
  },
  {
   "cell_type": "code",
   "execution_count": null,
   "metadata": {
    "collapsed": false
   },
   "outputs": [],
   "source": [
    "df_module = pd.read_sql(sql=\"SELECT * FROM module\", con=conn)\n",
    "df_module.head(10)"
   ]
  },
  {
   "cell_type": "code",
   "execution_count": null,
   "metadata": {
    "collapsed": false
   },
   "outputs": [],
   "source": [
    "df_module.tail(10)"
   ]
  },
  {
   "cell_type": "markdown",
   "metadata": {},
   "source": [
    "#### Location Dataframe"
   ]
  },
  {
   "cell_type": "code",
   "execution_count": null,
   "metadata": {
    "collapsed": false
   },
   "outputs": [],
   "source": [
    "df_location = pd.read_sql(sql=\"SELECT * FROM location\", con=conn)\n",
    "df_location.head(10)"
   ]
  },
  {
   "cell_type": "code",
   "execution_count": null,
   "metadata": {
    "collapsed": false
   },
   "outputs": [],
   "source": [
    "df_location.tail(10)"
   ]
  },
  {
   "cell_type": "markdown",
   "metadata": {},
   "source": [
    "#### Close db connection"
   ]
  },
  {
   "cell_type": "code",
   "execution_count": null,
   "metadata": {
    "collapsed": true
   },
   "outputs": [],
   "source": [
    "conn.close()"
   ]
  },
  {
   "cell_type": "markdown",
   "metadata": {},
   "source": [
    "## Construct Analytics Base Table"
   ]
  },
  {
   "cell_type": "markdown",
   "metadata": {},
   "source": [
    "#### Join tables"
   ]
  },
  {
   "cell_type": "code",
   "execution_count": null,
   "metadata": {
    "collapsed": false
   },
   "outputs": [],
   "source": [
    "df_abt = pd.merge(left = df_occupy, right = df_module, how=\"outer\", on=[\"module_code\"]) \n",
    "df_abt = pd.merge(left = df_abt, right = df_location, how=\"outer\", on=[\"room\"]) \n",
    "print(df_abt.shape)\n",
    "df_abt"
   ]
  },
  {
   "cell_type": "code",
   "execution_count": null,
   "metadata": {
    "collapsed": false
   },
   "outputs": [],
   "source": [
    "df_abt[\"occupancy_number\"] = df_abt[\"occupancy\"] * df_abt[\"capacity\"]"
   ]
  },
  {
   "cell_type": "markdown",
   "metadata": {},
   "source": [
    "#### Test: Does ground truth data have more students than what is registered"
   ]
  },
  {
   "cell_type": "code",
   "execution_count": null,
   "metadata": {
    "collapsed": false
   },
   "outputs": [],
   "source": [
    "df_abt[\"reg_students_less_occ\"] = df_abt[\"reg_students\"] - df_abt[\"occupancy_number\"]"
   ]
  },
  {
   "cell_type": "code",
   "execution_count": null,
   "metadata": {
    "collapsed": false
   },
   "outputs": [],
   "source": [
    "errors = df_abt[df_abt[\"reg_students_less_occ\"] < 0]\n",
    "print(errors.shape)\n",
    "errors[[\"reg_students_less_occ\", \"occupancy_number\", \"reg_students\"]]"
   ]
  },
  {
   "cell_type": "markdown",
   "metadata": {},
   "source": [
    "* For those rows with -10, change occupancy_number to the number of registered students\n",
    "* Should we disregard rows with greater difference because data should be considered to be an outlier\n",
    "* Also, what to do with the rows that have 0 registered students i.e. was there a class? If not should we even consider it?......"
   ]
  },
  {
   "cell_type": "markdown",
   "metadata": {},
   "source": [
    "#### Get % error "
   ]
  },
  {
   "cell_type": "code",
   "execution_count": null,
   "metadata": {
    "collapsed": false
   },
   "outputs": [],
   "source": [
    "df_abt[\"error_perc\"] = (df_abt[\"reg_students\"] - df_abt[\"occupancy_number\"]) / df_abt[\"capacity\"]\n",
    "df_abt"
   ]
  },
  {
   "cell_type": "markdown",
   "metadata": {},
   "source": [
    "#### Remove those with an error larger than 10%"
   ]
  },
  {
   "cell_type": "code",
   "execution_count": null,
   "metadata": {
    "collapsed": false
   },
   "outputs": [],
   "source": [
    "df_abt = df_abt[df_abt[\"error_perc\"] >= -0.1]\n",
    "print(df_abt.shape)\n",
    "df_abt"
   ]
  },
  {
   "cell_type": "markdown",
   "metadata": {},
   "source": [
    "#### Those with an error equal to or less than a 10% error, adjust figure to equal ground truth"
   ]
  },
  {
   "cell_type": "code",
   "execution_count": null,
   "metadata": {
    "collapsed": false
   },
   "outputs": [],
   "source": [
    "df_abt[\"adjustment\"] = df_abt[\"reg_students_less_occ\"].apply(lambda x: x if x <= 0 else 0)\n",
    "df_abt"
   ]
  },
  {
   "cell_type": "code",
   "execution_count": null,
   "metadata": {
    "collapsed": false
   },
   "outputs": [],
   "source": [
    "df_abt[\"occupancy_number_adj\"] = df_abt[\"adjustment\"] + df_abt[\"occupancy_number\"]"
   ]
  },
  {
   "cell_type": "markdown",
   "metadata": {},
   "source": [
    "#### Analysis of data with occupancy number equal to zero (NEED TO DO SOMETHING WITH THIS!!!!)"
   ]
  },
  {
   "cell_type": "code",
   "execution_count": null,
   "metadata": {
    "collapsed": false
   },
   "outputs": [],
   "source": [
    "a = df_abt[df_abt[\"occupancy_number_adj\"] == 0]\n",
    "a[[\"module_code\", \"reg_students\", \"occupancy_number_adj\", \"authenticated_client_count\"]]"
   ]
  },
  {
   "cell_type": "markdown",
   "metadata": {},
   "source": [
    "#### Create binned associated and authenticated client counts for logistic regression"
   ]
  },
  {
   "cell_type": "code",
   "execution_count": null,
   "metadata": {
    "collapsed": false
   },
   "outputs": [],
   "source": [
    "# def bin(r):\n",
    "#     '''Bin client counts into percintle categories'''\n",
    "#     if r < .125:\n",
    "#         return .0\n",
    "#     elif r < .375: \n",
    "#         return .25\n",
    "#     elif r < .625:\n",
    "#         return .5\n",
    "#     elif r < .875:\n",
    "#         return .75\n",
    "#     else:\n",
    "#         return 1.0 \n",
    "\n",
    "# df_abt[\"assoc_binned\"] = df_abt[\"associated_client_count\"] / df_abt[\"capacity\"]\n",
    "# df_abt[\"assoc_binned\"] = df_abt[\"assoc_binned\"].apply(lambda x: bin(x))\n",
    "# df_abt[\"auth_binned\"] = df_abt[\"authenticated_client_count\"] / df_abt[\"capacity\"]\n",
    "# df_abt[\"auth_binned\"] = df_abt[\"auth_binned\"].apply(lambda x: bin(x))\n",
    "# df_abt"
   ]
  },
  {
   "cell_type": "markdown",
   "metadata": {},
   "source": [
    "#### Regression dataframe"
   ]
  },
  {
   "cell_type": "code",
   "execution_count": null,
   "metadata": {
    "collapsed": false
   },
   "outputs": [],
   "source": [
    "df_regression = df_abt[[\"occupancy_number_adj\", \"authenticated_client_count\"]]\n",
    "df_regression"
   ]
  },
  {
   "cell_type": "markdown",
   "metadata": {
    "collapsed": true
   },
   "source": [
    "#### Normalize Features and remove outliers (?)"
   ]
  },
  {
   "cell_type": "code",
   "execution_count": null,
   "metadata": {
    "collapsed": true
   },
   "outputs": [],
   "source": [
    "# def normalize(df, feature):\n",
    "#     return (df[feature] - df[feature].mean()) / df[feature].std()\n",
    "\n",
    "# for feature in normFeat:\n",
    "#     df_new[feature] = normalize(df_new, feature)\n",
    "\n",
    "# def removeOutliers(df, feature):\n",
    "#     '''Remove outliers (more than 3 std devs from mean)'''\n",
    "#     return df[np.abs(df[feature] - df[feature].mean()) <= (3 * df[feature].std())]\n",
    "\n",
    "# for feature in normFeat:\n",
    "#     df_new = removeOutliers(df_new, feature)"
   ]
  },
  {
   "cell_type": "markdown",
   "metadata": {
    "collapsed": true
   },
   "source": [
    "### Feature Analysis"
   ]
  },
  {
   "cell_type": "code",
   "execution_count": null,
   "metadata": {
    "collapsed": false
   },
   "outputs": [],
   "source": [
    "colour = dict(boxes='DarkGreen', whiskers='DarkOrange', medians='DarkBlue', caps='Gray') #colours for box plots\n",
    "\n",
    "plt.figure() \n",
    "\n",
    "plt.subplot(211).set_title(\"occupancy_number_adj\", fontsize=15)\n",
    "df_regression[\"occupancy_number_adj\"].plot(kind = 'box', figsize = (15,15), color=colour, sym='r+') \n",
    "\n",
    "plt.subplot(212).set_title(\"authenticated_client_count\", fontsize=15)\n",
    "df_regression[\"authenticated_client_count\"].plot(kind = 'box', figsize = (15,15), color=colour, sym='r+') \n",
    "\n",
    "plt.tight_layout(pad=2.0, w_pad=2.0, h_pad=3.0) #set padding\n",
    "# plt.savefig(\"Box_Plots.png\")"
   ]
  },
  {
   "cell_type": "code",
   "execution_count": null,
   "metadata": {
    "collapsed": false
   },
   "outputs": [],
   "source": [
    "print(df_regression.dtypes)\n",
    "\n",
    "corrMatrix = df_regression.corr()\n",
    "corrMatrix"
   ]
  },
  {
   "cell_type": "code",
   "execution_count": null,
   "metadata": {
    "collapsed": false
   },
   "outputs": [],
   "source": [
    "plt.figure() \n",
    "df_regression.plot(kind=\"scatter\", x=\"authenticated_client_count\", y=\"occupancy_number_adj\", label=\"%.3f\" % corrMatrix.as_matrix()[0,1], figsize=(20, 6))\n",
    "# plt.savefig(\"Scatter_Plot.png\")"
   ]
  },
  {
   "cell_type": "markdown",
   "metadata": {},
   "source": [
    "### Regression"
   ]
  },
  {
   "cell_type": "markdown",
   "metadata": {},
   "source": [
    "#### Statsmodels"
   ]
  },
  {
   "cell_type": "code",
   "execution_count": null,
   "metadata": {
    "collapsed": false
   },
   "outputs": [],
   "source": [
    "lm_sm = sm.ols(formula=\"occupancy_number_adj ~ authenticated_client_count - 1\", data=df_regression).fit()\n",
    "print(lm_sm.summary())"
   ]
  },
  {
   "cell_type": "markdown",
   "metadata": {},
   "source": [
    "#### Scikit Learn"
   ]
  },
  {
   "cell_type": "code",
   "execution_count": null,
   "metadata": {
    "collapsed": false
   },
   "outputs": [],
   "source": [
    "X = df_regression[\"authenticated_client_count\"].reshape(len(df_regression[\"authenticated_client_count\"]), 1)\n",
    "y = df_regression[\"occupancy_number_adj\"]\n",
    "\n",
    "lm_scikit = LinearRegression(fit_intercept=False)\n",
    "\n",
    "# Fit the model \n",
    "lm_scikit.fit(X, y)\n",
    "\n",
    "# Coefficients\n",
    "print(\"Coefficients: \\n\", lm_scikit.coef_)\n",
    "# The intercept\n",
    "print('Intercept: \\n', lm_scikit.intercept_)\n",
    "# The mean square error: MSE is more popular than MAE because MSE \"punishes\" larger errors. \n",
    "# But, RMSE is even more popular than MSE because RMSE is interpretable in the \"y\" units.\n",
    "print(\"Residual sum of squares: %.2f\" % np.mean((lm_scikit.predict(X) - y) ** 2))\n",
    "print(metrics.mean_squared_error(y, lm_scikit.predict(X)))\n",
    "print(np.sqrt(metrics.mean_squared_error(y, lm_scikit.predict(X))))\n",
    "\n",
    "# Explained variance score: coefficient of determination (R^2)\n",
    "print(\"Variance score: %.2f\" % lm_scikit.score(X, y))\n",
    "\n",
    "# Plot outputs\n",
    "plt.scatter(X, y,  color='navy')\n",
    "plt.plot(X, lm_scikit.predict(X), color='red',linewidth=2)\n",
    "plt.figure(figsize=(20,20))\n",
    "plt.show()"
   ]
  },
  {
   "cell_type": "code",
   "execution_count": null,
   "metadata": {
    "collapsed": false
   },
   "outputs": [],
   "source": [
    "print(lm_scikit.predict(X))"
   ]
  },
  {
   "cell_type": "code",
   "execution_count": null,
   "metadata": {
    "collapsed": false
   },
   "outputs": [],
   "source": [
    "df_regression[\"predicted_occupancy\"] = pd.Series(lm_scikit.predict(X), index=df_regression.index)\n",
    "df_regression"
   ]
  },
  {
   "cell_type": "markdown",
   "metadata": {},
   "source": [
    "### Train & Testing"
   ]
  },
  {
   "cell_type": "code",
   "execution_count": null,
   "metadata": {
    "collapsed": false
   },
   "outputs": [],
   "source": [
    "X_train, X_test, y_train, y_test = train_test_split(X, y, test_size=0.3)\n",
    "print(X_train.shape)\n",
    "print(y_train.shape)\n",
    "print(X_test.shape)\n",
    "print(y_test.shape)\n",
    "\n",
    "# Train the model using the training sets\n",
    "lm_scikit.fit(X_train, y_train)\n",
    "\n",
    "# The coefficients\n",
    "print('Coefficients: \\n', lm_scikit.coef_)\n",
    "# The intercept\n",
    "print('Intercept: \\n', lm_scikit.intercept_)\n",
    "# The mean square error\n",
    "print(\"Residual sum of squares: %.2f\" % np.mean((lm_scikit.predict(X_test) - y_test) ** 2))\n",
    "print(metrics.mean_squared_error(y_test, lm_scikit.predict(X_test)))\n",
    "print(np.sqrt(metrics.mean_squared_error(y_test, lm_scikit.predict(X_test))))\n",
    "# Explained variance score: coefficient of determination (R^2)\n",
    "print('Variance score: %.2f' % lm_scikit.score(X_test, y_test))\n",
    "\n",
    "# Plot outputs\n",
    "plt.scatter(X_test, y_test,  color='navy')\n",
    "plt.plot(X_test, lm_scikit.predict(X_test), color='red',linewidth=3)\n",
    "plt.figure(figsize=(20,20))\n",
    "plt.show()"
   ]
  },
  {
   "cell_type": "code",
   "execution_count": null,
   "metadata": {
    "collapsed": false
   },
   "outputs": [],
   "source": [
    "# plt.scatter(lm_scikit.predict(X_train), lm_scikit.predict(X_train) - y_train, color=\"navy\", s=40, alpha=0.5)\n",
    "# plt.scatter(lm_scikit.predict(X_test), lm_scikit.predict(X_test) - y_test, color=\"green\", s=40)\n",
    "# plt.hlines(y=0, xmin=0, xmax=160)\n",
    "# plt.title(\"Residual Plot: training (Navy) and test (Green) data\")\n",
    "# plt.ylabel(\"Residuals\")"
   ]
  },
  {
   "cell_type": "markdown",
   "metadata": {},
   "source": [
    "#### Construct a day column"
   ]
  },
  {
   "cell_type": "code",
   "execution_count": null,
   "metadata": {
    "collapsed": true
   },
   "outputs": [],
   "source": [
    "# def get_day(date_int):\n",
    "#     \"\"\"Takes date int in format yyyymmdd and returns weekday string.\n",
    "    \n",
    "#     Uses datetime.date\"\"\"\n",
    "    \n",
    "#     weekdays = [\"Monday\", \"Tuesday\", \"Wednesday\", \"Thursday\", \"Friday\", \"Saturday\", \"Sunday\"]\n",
    "#     year = date_int // 10000\n",
    "#     month = (date_int % 10000) // 100\n",
    "#     day = date_int % 100\n",
    "    \n",
    "#     # return index of weekdays list, which is the correct weekday. Uses datetime.date\n",
    "#     try:\n",
    "#         return weekdays[date(year, month, day).weekday()]\n",
    "#     except ValueError:\n",
    "#         return \"Incorrect number of days/months\"\n",
    "    \n",
    "# def add_day(df):\n",
    "#     \"\"\"Adds Day column to df.\n",
    "    \n",
    "#     Uses the int date column to find the weekday it refers to.\"\"\"\n",
    "    \n",
    "#     # copy df so it isn't overwritten\n",
    "#     df_new = df.copy(deep=True)\n",
    "    \n",
    "#     # get day from date, add to df\n",
    "#     if 'day' not in df_new.columns:\n",
    "#         days = []\n",
    "#         for i in range(len(df_new)):\n",
    "#             days.append(get_day(df_new.date.iloc[i]))\n",
    "#         df_new[\"day\"] = days\n",
    "#     else:\n",
    "#         for i in range(len(df_new)):\n",
    "#             if pd.isnull(df_new.day.iloc[i]):\n",
    "#                 df_new[\"day\"].iloc[i] = get_day(df_new.date.iloc[i])\n",
    "#     return df_new"
   ]
  },
  {
   "cell_type": "code",
   "execution_count": null,
   "metadata": {
    "collapsed": false
   },
   "outputs": [],
   "source": []
  },
  {
   "cell_type": "code",
   "execution_count": null,
   "metadata": {
    "collapsed": true
   },
   "outputs": [],
   "source": []
  },
  {
   "cell_type": "code",
   "execution_count": null,
   "metadata": {
    "collapsed": true
   },
   "outputs": [],
   "source": []
  }
 ],
 "metadata": {
  "kernelspec": {
   "display_name": "Python 3",
   "language": "python",
   "name": "python3"
  },
  "language_info": {
   "codemirror_mode": {
    "name": "ipython",
    "version": 3
   },
   "file_extension": ".py",
   "mimetype": "text/x-python",
   "name": "python",
   "nbconvert_exporter": "python",
   "pygments_lexer": "ipython3",
   "version": "3.5.1"
  }
 },
 "nbformat": 4,
 "nbformat_minor": 0
}
