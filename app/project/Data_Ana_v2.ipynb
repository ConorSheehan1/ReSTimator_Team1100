{
 "cells": [
  {
   "cell_type": "markdown",
   "metadata": {},
   "source": [
    "# Data Analysis"
   ]
  },
  {
   "cell_type": "markdown",
   "metadata": {},
   "source": [
    "#### Imports"
   ]
  },
  {
   "cell_type": "code",
   "execution_count": 1,
   "metadata": {
    "collapsed": true
   },
   "outputs": [],
   "source": [
    "%matplotlib inline\n",
    "\n",
    "import pandas as pd\n",
    "pd.options.display.max_rows = 999\n",
    "import sqlite3\n",
    "import statsmodels.formula.api as sm\n",
    "import numpy as np\n",
    "import matplotlib.pyplot as plt\n",
    "\n",
    "from sklearn.linear_model import LinearRegression\n",
    "from sklearn.cross_validation import train_test_split\n",
    "from sklearn.cross_validation import cross_val_score\n",
    "from sklearn import metrics\n",
    "from sklearn.linear_model import LogisticRegression\n",
    "from sklearn.naive_bayes import GaussianNB\n",
    "from sklearn.neighbors import KNeighborsClassifier\n",
    "from sklearn.svm import SVC"
   ]
  },
  {
   "cell_type": "markdown",
   "metadata": {},
   "source": [
    "#### Functions"
   ]
  },
  {
   "cell_type": "code",
   "execution_count": 2,
   "metadata": {
    "collapsed": true
   },
   "outputs": [],
   "source": [
    "def normalize(df, feature):\n",
    "    '''Normalize data'''\n",
    "    return (df[feature] - df[feature].mean()) / df[feature].std()\n",
    "\n",
    "def removeOutliers(df, feature):\n",
    "    '''Remove outliers (more than 3 std devs from mean)'''\n",
    "    return df[np.abs(df[feature] - df[feature].mean()) <= (3 * df[feature].std())]\n",
    "\n",
    "def convert_perc_int(df):\n",
    "    ''''''\n",
    "    df[\"occupancy\"] = df[\"occupancy\"].apply(lambda x: x * 100)\n",
    "    df[\"occupancy\"] = df[\"occupancy\"].astype(int)\n",
    "    return df"
   ]
  },
  {
   "cell_type": "markdown",
   "metadata": {},
   "source": [
    "#### Database Connection"
   ]
  },
  {
   "cell_type": "code",
   "execution_count": 3,
   "metadata": {
    "collapsed": false
   },
   "outputs": [],
   "source": [
    "conn = sqlite3.connect(\"./sample.db\")"
   ]
  },
  {
   "cell_type": "markdown",
   "metadata": {},
   "source": [
    "#### Occupy Dataframe"
   ]
  },
  {
   "cell_type": "code",
   "execution_count": 4,
   "metadata": {
    "collapsed": false
   },
   "outputs": [],
   "source": [
    "df_occupy_1 = pd.read_sql(sql=\"SELECT room, date, time, associated_client_count, authenticated_client_count FROM occupy\", con=conn)\n",
    "df_occupy_2 = pd.read_sql(sql=\"SELECT room, date, time, module_code, occupancy FROM occupy\", con=conn)"
   ]
  },
  {
   "cell_type": "markdown",
   "metadata": {},
   "source": [
    "#### Only consider rows with the following conditions satisfied:\n",
    "\n",
    "* **Condition 1**: time between 9:00 and 16:00\n",
    "* **Condition 2:** This condition is because we want to take the average authenticated client count between these times. We are disregarding the other figures because we are not sure of the DHCP lease duration. For instance, a number of the devices could still be being considered from an individual who has already left the room but the lease is still considered.\n",
    "    - time >= quarter past the hour\n",
    "    - time <= quarter past the hour"
   ]
  },
  {
   "cell_type": "code",
   "execution_count": 5,
   "metadata": {
    "collapsed": false
   },
   "outputs": [],
   "source": [
    "df_occupy_1[\"condition1\"] = df_occupy_1[\"time\"].apply(lambda x: \"true\" if 16 >= int(x[0:2]) >= 9 else \"false\")\n",
    "df_occupy_1 = df_occupy_1[df_occupy_1[\"condition1\"] == \"true\"]"
   ]
  },
  {
   "cell_type": "code",
   "execution_count": 6,
   "metadata": {
    "collapsed": false
   },
   "outputs": [],
   "source": [
    "df_occupy_1[\"condition2\"] = df_occupy_1[\"time\"].apply(lambda x: \"true\" if 45 >= int(x[-2:]) >= 15 else \"false\")\n",
    "df_occupy_1 = df_occupy_1[df_occupy_1[\"condition2\"] == \"true\"]"
   ]
  },
  {
   "cell_type": "code",
   "execution_count": 7,
   "metadata": {
    "collapsed": false
   },
   "outputs": [],
   "source": [
    "del df_occupy_1[\"condition1\"]\n",
    "del df_occupy_1[\"condition2\"]\n",
    "df_occupy_1[\"time\"] = df_occupy_1[\"time\"].apply(lambda x: x[0:3] + \"00\")"
   ]
  },
  {
   "cell_type": "code",
   "execution_count": 8,
   "metadata": {
    "collapsed": false
   },
   "outputs": [],
   "source": [
    "df_occupy_merge = pd.merge(left = df_occupy_1, right = df_occupy_2, how=\"outer\", on=[\"room\", \"date\", \"time\"]) "
   ]
  },
  {
   "cell_type": "code",
   "execution_count": 9,
   "metadata": {
    "collapsed": false
   },
   "outputs": [
    {
     "name": "stdout",
     "output_type": "stream",
     "text": [
      "(172, 7)\n"
     ]
    }
   ],
   "source": [
    "df_occupy = df_occupy_merge.groupby([\"room\", \"date\", \"time\", \"module_code\"], as_index=False).mean()\n",
    "print(df_occupy.shape)"
   ]
  },
  {
   "cell_type": "markdown",
   "metadata": {},
   "source": [
    "#### Remove rows with NaN values "
   ]
  },
  {
   "cell_type": "code",
   "execution_count": 10,
   "metadata": {
    "collapsed": false
   },
   "outputs": [
    {
     "name": "stdout",
     "output_type": "stream",
     "text": [
      "(153, 7)\n"
     ]
    }
   ],
   "source": [
    "df_occupy = df_occupy.dropna() \n",
    "print(df_occupy.shape)"
   ]
  },
  {
   "cell_type": "markdown",
   "metadata": {},
   "source": [
    "#### Module Dataframe"
   ]
  },
  {
   "cell_type": "code",
   "execution_count": 11,
   "metadata": {
    "collapsed": false
   },
   "outputs": [],
   "source": [
    "df_module = pd.read_sql(sql=\"SELECT * FROM module\", con=conn)"
   ]
  },
  {
   "cell_type": "markdown",
   "metadata": {},
   "source": [
    "#### Location Dataframe"
   ]
  },
  {
   "cell_type": "code",
   "execution_count": 12,
   "metadata": {
    "collapsed": false
   },
   "outputs": [],
   "source": [
    "df_location = pd.read_sql(sql=\"SELECT * FROM location\", con=conn)"
   ]
  },
  {
   "cell_type": "markdown",
   "metadata": {},
   "source": [
    "#### Close db connection"
   ]
  },
  {
   "cell_type": "code",
   "execution_count": 13,
   "metadata": {
    "collapsed": true
   },
   "outputs": [],
   "source": [
    "conn.close()"
   ]
  },
  {
   "cell_type": "markdown",
   "metadata": {},
   "source": [
    "## Construct Analytics Base Table"
   ]
  },
  {
   "cell_type": "markdown",
   "metadata": {},
   "source": [
    "#### Join tables"
   ]
  },
  {
   "cell_type": "code",
   "execution_count": 14,
   "metadata": {
    "collapsed": false
   },
   "outputs": [
    {
     "name": "stdout",
     "output_type": "stream",
     "text": [
      "(154, 11)\n"
     ]
    }
   ],
   "source": [
    "df_abt = pd.merge(left = df_occupy, right = df_module, how=\"outer\", on=[\"module_code\"]) \n",
    "df_abt = pd.merge(left = df_abt, right = df_location, how=\"outer\", on=[\"room\"]) \n",
    "print(df_abt.shape)"
   ]
  },
  {
   "cell_type": "markdown",
   "metadata": {},
   "source": [
    "#### Remove rows without registered students i.e. no class"
   ]
  },
  {
   "cell_type": "code",
   "execution_count": 15,
   "metadata": {
    "collapsed": false
   },
   "outputs": [
    {
     "name": "stdout",
     "output_type": "stream",
     "text": [
      "(130, 11)\n"
     ]
    }
   ],
   "source": [
    "df_abt = df_abt[df_abt[\"reg_students\"] != 0]\n",
    "print(df_abt.shape)"
   ]
  },
  {
   "cell_type": "markdown",
   "metadata": {},
   "source": [
    "#### Add occupancy ground truth number to ABT\n",
    "#### Take min between occupancy gt and reg students to remove error in gt measurement"
   ]
  },
  {
   "cell_type": "code",
   "execution_count": 19,
   "metadata": {
    "collapsed": false
   },
   "outputs": [
    {
     "data": {
      "text/html": [
       "<div>\n",
       "<table border=\"1\" class=\"dataframe\">\n",
       "  <thead>\n",
       "    <tr style=\"text-align: right;\">\n",
       "      <th></th>\n",
       "      <th>room</th>\n",
       "      <th>date</th>\n",
       "      <th>time</th>\n",
       "      <th>module_code</th>\n",
       "      <th>reg_students</th>\n",
       "      <th>occupancy_number</th>\n",
       "      <th>Difference</th>\n",
       "    </tr>\n",
       "  </thead>\n",
       "  <tbody>\n",
       "    <tr>\n",
       "      <th>4</th>\n",
       "      <td>B-002</td>\n",
       "      <td>20151103</td>\n",
       "      <td>11:00</td>\n",
       "      <td>COMP30260</td>\n",
       "      <td>18</td>\n",
       "      <td>45.0</td>\n",
       "      <td>27.0</td>\n",
       "    </tr>\n",
       "    <tr>\n",
       "      <th>9</th>\n",
       "      <td>B-002</td>\n",
       "      <td>20151103</td>\n",
       "      <td>12:00</td>\n",
       "      <td>COMP40370</td>\n",
       "      <td>27</td>\n",
       "      <td>45.0</td>\n",
       "      <td>18.0</td>\n",
       "    </tr>\n",
       "    <tr>\n",
       "      <th>15</th>\n",
       "      <td>B-002</td>\n",
       "      <td>20151103</td>\n",
       "      <td>14:00</td>\n",
       "      <td>COMP30240</td>\n",
       "      <td>42</td>\n",
       "      <td>67.5</td>\n",
       "      <td>25.5</td>\n",
       "    </tr>\n",
       "    <tr>\n",
       "      <th>59</th>\n",
       "      <td>B-004</td>\n",
       "      <td>20151113</td>\n",
       "      <td>15:00</td>\n",
       "      <td>COMP30220</td>\n",
       "      <td>38</td>\n",
       "      <td>80.0</td>\n",
       "      <td>42.0</td>\n",
       "    </tr>\n",
       "    <tr>\n",
       "      <th>97</th>\n",
       "      <td>B-004</td>\n",
       "      <td>20151112</td>\n",
       "      <td>10:00</td>\n",
       "      <td>MATH10130</td>\n",
       "      <td>56</td>\n",
       "      <td>80.0</td>\n",
       "      <td>24.0</td>\n",
       "    </tr>\n",
       "    <tr>\n",
       "      <th>107</th>\n",
       "      <td>B-004</td>\n",
       "      <td>20151109</td>\n",
       "      <td>15:00</td>\n",
       "      <td>COMP41110</td>\n",
       "      <td>19</td>\n",
       "      <td>80.0</td>\n",
       "      <td>61.0</td>\n",
       "    </tr>\n",
       "    <tr>\n",
       "      <th>116</th>\n",
       "      <td>B-003</td>\n",
       "      <td>20151103</td>\n",
       "      <td>11:00</td>\n",
       "      <td>COMP10280</td>\n",
       "      <td>56</td>\n",
       "      <td>67.5</td>\n",
       "      <td>11.5</td>\n",
       "    </tr>\n",
       "  </tbody>\n",
       "</table>\n",
       "</div>"
      ],
      "text/plain": [
       "      room      date   time module_code  reg_students  occupancy_number  \\\n",
       "4    B-002  20151103  11:00   COMP30260            18              45.0   \n",
       "9    B-002  20151103  12:00   COMP40370            27              45.0   \n",
       "15   B-002  20151103  14:00   COMP30240            42              67.5   \n",
       "59   B-004  20151113  15:00   COMP30220            38              80.0   \n",
       "97   B-004  20151112  10:00   MATH10130            56              80.0   \n",
       "107  B-004  20151109  15:00   COMP41110            19              80.0   \n",
       "116  B-003  20151103  11:00   COMP10280            56              67.5   \n",
       "\n",
       "     Difference  \n",
       "4          27.0  \n",
       "9          18.0  \n",
       "15         25.5  \n",
       "59         42.0  \n",
       "97         24.0  \n",
       "107        61.0  \n",
       "116        11.5  "
      ]
     },
     "execution_count": 19,
     "metadata": {},
     "output_type": "execute_result"
    }
   ],
   "source": [
    "df_abt[\"occupancy_number\"] = df_abt[\"occupancy\"] * df_abt[\"capacity\"]\n",
    "df_abt[\"Difference\"] = df_abt[\"occupancy_number\"] - df_abt[\"reg_students\"]\n",
    "df_conor = df_abt[[\"room\", \"date\", \"time\", \"module_code\", \"reg_students\", \"occupancy_number\", \"Difference\", \"capacity\"]].copy()\n",
    "df_conor = df_conor[df_conor[\"Difference\"] >= (df_conor[\"capacity\"] * .125)]\n",
    "df_conor[[\"room\", \"date\", \"time\", \"module_code\", \"reg_students\", \"occupancy_number\", \"Difference\"]]"
   ]
  },
  {
   "cell_type": "code",
   "execution_count": null,
   "metadata": {
    "collapsed": true
   },
   "outputs": [],
   "source": [
    "df_abt[\"min_occ_reg\"] = df_abt.loc[:, ['occupancy_number', 'reg_students']].min(axis=1)\n",
    "print(df_abt.shape)"
   ]
  },
  {
   "cell_type": "markdown",
   "metadata": {},
   "source": [
    "#### Drop NaN rows"
   ]
  },
  {
   "cell_type": "code",
   "execution_count": null,
   "metadata": {
    "collapsed": false
   },
   "outputs": [],
   "source": [
    "df_abt = df_abt.dropna() \n",
    "print(df_abt.shape)"
   ]
  },
  {
   "cell_type": "markdown",
   "metadata": {},
   "source": [
    "# Models"
   ]
  },
  {
   "cell_type": "markdown",
   "metadata": {},
   "source": [
    "### Model 1: Simple Linear (Y: min_occ_reg, X: authenticated_client_count)"
   ]
  },
  {
   "cell_type": "code",
   "execution_count": null,
   "metadata": {
    "collapsed": false
   },
   "outputs": [],
   "source": [
    "df_reg_1= df_abt[[\"min_occ_reg\", \"authenticated_client_count\"]].copy()\n",
    "print(df_reg_1.shape)"
   ]
  },
  {
   "cell_type": "markdown",
   "metadata": {
    "collapsed": true
   },
   "source": [
    "#### Feature Analysis"
   ]
  },
  {
   "cell_type": "code",
   "execution_count": null,
   "metadata": {
    "collapsed": false
   },
   "outputs": [],
   "source": [
    "colour = dict(boxes='DarkGreen', whiskers='DarkOrange', medians='DarkBlue', caps='Gray') \n",
    "plt.figure() \n",
    "plt.subplot(211).set_title(\"min_occ_reg\", fontsize=15)\n",
    "df_reg_1[\"min_occ_reg\"].plot(kind = 'box', figsize = (15,15), color=colour, sym='r+') \n",
    "plt.subplot(212).set_title(\"authenticated_client_count\", fontsize=15)\n",
    "df_reg_1[\"authenticated_client_count\"].plot(kind = 'box', figsize = (15,15), color=colour, sym='r+') \n",
    "plt.tight_layout(pad=2.0, w_pad=2.0, h_pad=3.0) "
   ]
  },
  {
   "cell_type": "markdown",
   "metadata": {
    "collapsed": true
   },
   "source": [
    "#### Normalize Features and remove outliers"
   ]
  },
  {
   "cell_type": "code",
   "execution_count": null,
   "metadata": {
    "collapsed": false
   },
   "outputs": [],
   "source": [
    "df_reg_1[\"min_occ_reg_NORM\"] = normalize(df_reg_1, \"min_occ_reg\")\n",
    "df_reg_1[\"auth_client_count_NORM\"] = normalize(df_reg_1, \"authenticated_client_count\")\n",
    "print(df_reg_1.shape)\n",
    "df_reg_1 = removeOutliers(df_reg_1, \"min_occ_reg_NORM\")\n",
    "df_reg_1 = removeOutliers(df_reg_1, \"auth_client_count_NORM\")\n",
    "df_reg_1 = df_reg_1[[\"min_occ_reg\", \"authenticated_client_count\"]]\n",
    "print(df_reg_1.shape)"
   ]
  },
  {
   "cell_type": "code",
   "execution_count": null,
   "metadata": {
    "collapsed": false
   },
   "outputs": [],
   "source": [
    "print(df_reg_1.dtypes)\n",
    "corrMatrix = df_reg_1.corr()\n",
    "corrMatrix"
   ]
  },
  {
   "cell_type": "code",
   "execution_count": null,
   "metadata": {
    "collapsed": false
   },
   "outputs": [],
   "source": [
    "plt.figure() \n",
    "df_reg_1.plot(kind=\"scatter\", x=\"authenticated_client_count\", y=\"min_occ_reg\", label=\"%.3f\" % corrMatrix.as_matrix()[0,1], figsize=(20, 6))"
   ]
  },
  {
   "cell_type": "markdown",
   "metadata": {},
   "source": [
    "#### Statsmodels"
   ]
  },
  {
   "cell_type": "code",
   "execution_count": null,
   "metadata": {
    "collapsed": false
   },
   "outputs": [],
   "source": [
    "lm_sm = sm.ols(formula=\"min_occ_reg ~ authenticated_client_count\", data=df_reg_1).fit()\n",
    "print(lm_sm.summary())"
   ]
  },
  {
   "cell_type": "markdown",
   "metadata": {},
   "source": [
    "#### Scikit Learn"
   ]
  },
  {
   "cell_type": "code",
   "execution_count": null,
   "metadata": {
    "collapsed": false
   },
   "outputs": [],
   "source": [
    "X = df_reg_1[\"authenticated_client_count\"].reshape(len(df_reg_1[\"authenticated_client_count\"]), 1)\n",
    "y = df_reg_1[\"min_occ_reg\"]\n",
    "\n",
    "lm_scikit_1 = LinearRegression()\n",
    "\n",
    "# Fit the model \n",
    "lm_scikit_1.fit(X, y)\n",
    "\n",
    "# Coefficients\n",
    "print(\"Coefficients: \\n\", lm_scikit_1.coef_)\n",
    "# The intercept\n",
    "print('Intercept: \\n', lm_scikit_1.intercept_)\n",
    "# The mean square error: MSE is more popular than MAE because MSE \"punishes\" larger errors. \n",
    "# But, RMSE is even more popular than MSE because RMSE is interpretable in the \"y\" units.\n",
    "print(\"Residual sum of squares: %.2f\" % metrics.mean_squared_error(y, lm_scikit_1.predict(X)))\n",
    "print(\"Square Root of Residual sum of squares: %.2f\" % np.sqrt(metrics.mean_squared_error(y, lm_scikit_1.predict(X))))\n",
    "# Explained variance score: coefficient of determination (R^2)\n",
    "print(\"Variance score: %.2f\" % lm_scikit_1.score(X, y))\n",
    "\n",
    "# Plot outputs\n",
    "plt.scatter(X, y,  color='navy')\n",
    "plt.plot(X, lm_scikit_1.predict(X), color='red',linewidth=2)\n",
    "plt.figure(figsize=(20,20))\n",
    "plt.show()"
   ]
  },
  {
   "cell_type": "markdown",
   "metadata": {},
   "source": [
    "#### Train & Testing"
   ]
  },
  {
   "cell_type": "markdown",
   "metadata": {},
   "source": [
    "**Cross Validation**"
   ]
  },
  {
   "cell_type": "code",
   "execution_count": null,
   "metadata": {
    "collapsed": false
   },
   "outputs": [],
   "source": [
    "R2_scores_1 = cross_val_score(lm_scikit_1.fit(X, y), X.astype(int), y.astype(int), cv=5, scoring=\"r2\")\n",
    "print(R2_scores_1)"
   ]
  },
  {
   "cell_type": "markdown",
   "metadata": {},
   "source": [
    "**Train and test** "
   ]
  },
  {
   "cell_type": "code",
   "execution_count": null,
   "metadata": {
    "collapsed": false
   },
   "outputs": [],
   "source": [
    "X_train, X_test, y_train, y_test = train_test_split(X, y, test_size=0.3)\n",
    "\n",
    "lm_scikit_1_t = LinearRegression()\n",
    "\n",
    "# Train the model using the training sets\n",
    "lm_scikit_1_t.fit(X_train, y_train)\n",
    "\n",
    "# The coefficients\n",
    "print('Coefficients: ', lm_scikit_1_t.coef_)\n",
    "# The intercept\n",
    "print('Intercept: ', lm_scikit_1_t.intercept_)\n",
    "# The mean square error\n",
    "print(\"Residual sum of squares: %.2f\" % metrics.mean_squared_error(y_test, lm_scikit_1_t.predict(X_test)))\n",
    "print(\"Square Root of Residual sum of squares: %.2f\" % np.sqrt(metrics.mean_squared_error(y_test, lm_scikit_1_t.predict(X_test))))\n",
    "# Explained variance score: coefficient of determination (R^2)\n",
    "print('Variance score: %.2f' % lm_scikit_1_t.score(X_test, y_test))\n",
    "\n",
    "# Plot outputs\n",
    "plt.scatter(X_test, y_test,  color='navy')\n",
    "plt.plot(X_test, lm_scikit_1_t.predict(X_test), color='red',linewidth=3)\n",
    "plt.figure(figsize=(20,20))\n",
    "plt.show()"
   ]
  },
  {
   "cell_type": "markdown",
   "metadata": {
    "collapsed": true
   },
   "source": [
    "### Model 2: Simple Linear (Y: min_occ_reg, X: asso_client_count)"
   ]
  },
  {
   "cell_type": "code",
   "execution_count": null,
   "metadata": {
    "collapsed": false
   },
   "outputs": [],
   "source": [
    "df_reg_2= df_abt[[\"min_occ_reg\", \"associated_client_count\"]].copy()\n",
    "print(df_reg_2.shape)"
   ]
  },
  {
   "cell_type": "markdown",
   "metadata": {},
   "source": [
    "#### Feature Analysis"
   ]
  },
  {
   "cell_type": "code",
   "execution_count": null,
   "metadata": {
    "collapsed": false
   },
   "outputs": [],
   "source": [
    "plt.figure() \n",
    "plt.subplot(211).set_title(\"min_occ_reg\", fontsize=15)\n",
    "df_reg_2[\"min_occ_reg\"].plot(kind = 'box', figsize = (15,15), color=colour, sym='r+') \n",
    "plt.subplot(212).set_title(\"associated_client_count\", fontsize=15)\n",
    "df_reg_2[\"associated_client_count\"].plot(kind = 'box', figsize = (15,15), color=colour, sym='r+') \n",
    "plt.tight_layout(pad=2.0, w_pad=2.0, h_pad=3.0) #set padding"
   ]
  },
  {
   "cell_type": "markdown",
   "metadata": {},
   "source": [
    "#### Normalize Features and remove outliers"
   ]
  },
  {
   "cell_type": "code",
   "execution_count": null,
   "metadata": {
    "collapsed": false
   },
   "outputs": [],
   "source": [
    "df_reg_2[\"min_occ_reg_NORM\"] = normalize(df_reg_2, \"min_occ_reg\")\n",
    "df_reg_2[\"asso_client_count_NORM\"] = normalize(df_reg_2, \"associated_client_count\")\n",
    "print(df_reg_2.shape)\n",
    "df_reg_2 = removeOutliers(df_reg_2, \"min_occ_reg_NORM\")\n",
    "df_reg_2 = removeOutliers(df_reg_2, \"asso_client_count_NORM\")\n",
    "df_reg_2 = df_reg_2[[\"min_occ_reg\", \"associated_client_count\"]]\n",
    "print(df_reg_2.shape)"
   ]
  },
  {
   "cell_type": "code",
   "execution_count": null,
   "metadata": {
    "collapsed": false
   },
   "outputs": [],
   "source": [
    "print(df_reg_2.dtypes)\n",
    "corrMatrix = df_reg_2.corr()\n",
    "corrMatrix"
   ]
  },
  {
   "cell_type": "code",
   "execution_count": null,
   "metadata": {
    "collapsed": false
   },
   "outputs": [],
   "source": [
    "plt.figure() \n",
    "df_reg_2.plot(kind=\"scatter\", x=\"associated_client_count\", y=\"min_occ_reg\", label=\"%.3f\" % corrMatrix.as_matrix()[0,1], figsize=(20, 6))"
   ]
  },
  {
   "cell_type": "code",
   "execution_count": null,
   "metadata": {
    "collapsed": false
   },
   "outputs": [],
   "source": [
    "lm_sm_2 = sm.ols(formula=\"min_occ_reg ~ associated_client_count - 1\", data=df_reg_2).fit()\n",
    "print(lm_sm_2.summary())"
   ]
  },
  {
   "cell_type": "code",
   "execution_count": null,
   "metadata": {
    "collapsed": false
   },
   "outputs": [],
   "source": [
    "X = df_reg_2[\"associated_client_count\"].reshape(len(df_reg_2[\"associated_client_count\"]), 1)\n",
    "y = df_reg_2[\"min_occ_reg\"]\n",
    "\n",
    "lm_scikit_2 = LinearRegression()\n",
    "\n",
    "# Fit the model \n",
    "lm_scikit_2.fit(X, y)\n",
    "\n",
    "# Coefficients\n",
    "print(\"Coefficients: \\n\", lm_scikit_2.coef_)\n",
    "# The intercept\n",
    "print('Intercept: \\n', lm_scikit_2.intercept_)\n",
    "# The mean square error: MSE is more popular than MAE because MSE \"punishes\" larger errors. \n",
    "# But, RMSE is even more popular than MSE because RMSE is interpretable in the \"y\" units.\n",
    "print(\"Residual sum of squares: %.2f\" % metrics.mean_squared_error(y, lm_scikit_2.predict(X)))\n",
    "print(\"Square Root of Residual sum of squares: %.2f\" % np.sqrt(metrics.mean_squared_error(y, lm_scikit_2.predict(X))))\n",
    "# Explained variance score: coefficient of determination (R^2)\n",
    "print(\"Variance score: %.2f\" % lm_scikit_2.score(X, y))\n",
    "\n",
    "# Plot outputs\n",
    "plt.scatter(X, y,  color='navy')\n",
    "plt.plot(X, lm_scikit_2.predict(X), color='red',linewidth=2)\n",
    "plt.figure(figsize=(20,20))\n",
    "plt.show()"
   ]
  },
  {
   "cell_type": "markdown",
   "metadata": {},
   "source": [
    "#### Train & Testing\n",
    "\n",
    "**Cross Validation**"
   ]
  },
  {
   "cell_type": "code",
   "execution_count": null,
   "metadata": {
    "collapsed": false
   },
   "outputs": [],
   "source": [
    "R2_scores_2 = cross_val_score(lm_scikit_2.fit(X, y), X.astype(int), y.astype(int), cv=5)\n",
    "print(R2_scores_2)"
   ]
  },
  {
   "cell_type": "markdown",
   "metadata": {},
   "source": [
    "**Train and test** "
   ]
  },
  {
   "cell_type": "code",
   "execution_count": null,
   "metadata": {
    "collapsed": false
   },
   "outputs": [],
   "source": [
    "X_train, X_test, y_train, y_test = train_test_split(X, y, test_size=0.3)\n",
    "\n",
    "lm_scikit_2_t = LinearRegression()\n",
    "\n",
    "# Train the model using the training sets\n",
    "lm_scikit_2_t.fit(X_train, y_train)\n",
    "\n",
    "# The coefficients\n",
    "print('Coefficients: \\n', lm_scikit_2_t.coef_)\n",
    "# The intercept\n",
    "print('Intercept: \\n', lm_scikit_2_t.intercept_)\n",
    "# The mean square error\n",
    "print(\"Residual sum of squares: %.2f\" % metrics.mean_squared_error(y_test, lm_scikit_2_t.predict(X_test)))\n",
    "print(\"Square Root of Residual sum of squares: %.2f\" % np.sqrt(metrics.mean_squared_error(y_test, lm_scikit_2_t.predict(X_test))))\n",
    "# Explained variance score: coefficient of determination (R^2)\n",
    "print('Variance score: %.2f' % lm_scikit_2_t.score(X_test, y_test))\n",
    "\n",
    "# Plot outputs\n",
    "plt.scatter(X_test, y_test,  color='navy')\n",
    "plt.plot(X_test, lm_scikit_2_t.predict(X_test), color='red',linewidth=3)\n",
    "plt.figure(figsize=(20,20))\n",
    "plt.show()"
   ]
  },
  {
   "cell_type": "markdown",
   "metadata": {},
   "source": [
    "### Categoriztion Models"
   ]
  },
  {
   "cell_type": "code",
   "execution_count": null,
   "metadata": {
    "collapsed": false
   },
   "outputs": [],
   "source": [
    "df = df_abt[[\"occupancy\", \"authenticated_client_count\", \"capacity\"]].copy()\n",
    "df = convert_perc_int(df)"
   ]
  },
  {
   "cell_type": "code",
   "execution_count": null,
   "metadata": {
    "collapsed": false
   },
   "outputs": [],
   "source": [
    "plt.figure() \n",
    "df.plot(kind=\"scatter\", x=\"authenticated_client_count\", y=\"occupancy\", label=\"%.3f\" % corrMatrix.as_matrix()[0,1], figsize=(20, 6))"
   ]
  },
  {
   "cell_type": "code",
   "execution_count": null,
   "metadata": {
    "collapsed": false
   },
   "outputs": [],
   "source": [
    "plt.figure() \n",
    "plt.subplot(211).set_title(\"occupancy\", fontsize=15)\n",
    "df[\"occupancy\"].plot(kind = 'box', figsize = (15,15), color=colour, sym='r+') \n",
    "plt.subplot(212).set_title(\"authenticated_client_count\", fontsize=15)\n",
    "df[\"authenticated_client_count\"].plot(kind = 'box', figsize = (15,15), color=colour, sym='r+') \n",
    "plt.tight_layout(pad=2.0, w_pad=2.0, h_pad=3.0) "
   ]
  },
  {
   "cell_type": "code",
   "execution_count": null,
   "metadata": {
    "collapsed": false
   },
   "outputs": [],
   "source": [
    "# df[\"occupancy_NORM\"] = normalize(df, \"occupancy\")\n",
    "# df[\"authenticated_client_count_NORM\"] = normalize(df, \"authenticated_client_count\")\n",
    "# print(df.shape)\n",
    "# df = removeOutliers(df, \"occupancy_NORM\")\n",
    "# df = removeOutliers(df, \"authenticated_client_count_NORM\")\n",
    "# df = df[[\"occupancy\", \"authenticated_client_count\"]]\n",
    "# print(df.shape)"
   ]
  },
  {
   "cell_type": "markdown",
   "metadata": {},
   "source": [
    "### Multinomial Logistic Regression http://machinelearningmastery.com/get-your-hands-dirty-with-scikit-learn-now/\n",
    "\n",
    "log-odds of a categorical response being \"true\" (1) is modeled as a linear combination of the features.\n",
    "Logistic regression outputs the probabilities of a specific class\n",
    "Those probabilities can be converted into class predictions"
   ]
  },
  {
   "cell_type": "code",
   "execution_count": null,
   "metadata": {
    "collapsed": false
   },
   "outputs": [],
   "source": [
    "df_log_1 = df.copy()\n",
    "X = df_log_1[\"authenticated_client_count\"].div(df_log_1[\"capacity\"]).reshape(len(df_log_1[\"authenticated_client_count\"]), 1)\n",
    "# X = df_log_1[\"authenticated_client_count\"].reshape(len(df_log_1[\"authenticated_client_count\"]), 1)\n",
    "y = df_log_1[\"occupancy\"]\n",
    "lr = LogisticRegression()\n",
    "lr.fit(X, y)\n",
    "pred_lr = lr.predict(X)\n",
    "print(metrics.classification_report(y, pred_lr))\n",
    "print(metrics.confusion_matrix(y, pred_lr))\n",
    "print(metrics.accuracy_score(y, pred_lr) )"
   ]
  },
  {
   "cell_type": "code",
   "execution_count": null,
   "metadata": {
    "collapsed": false
   },
   "outputs": [],
   "source": [
    "df_log_1[\"predicted\"] = pd.Series(pred_lr, index=df_log_1.index)"
   ]
  },
  {
   "cell_type": "code",
   "execution_count": null,
   "metadata": {
    "collapsed": false
   },
   "outputs": [],
   "source": [
    "####### How to use model to return occupancy prediction #######\n",
    "# lr.predict_proba(X)\n",
    "groups = [0, 25, 50, 75, 100]\n",
    "lr.predict_proba(X).argmax(axis=1)"
   ]
  },
  {
   "cell_type": "code",
   "execution_count": null,
   "metadata": {
    "collapsed": false
   },
   "outputs": [],
   "source": [
    "plt.scatter(df_log_1[\"predicted\"], df_log_1[\"occupancy\"],  color='navy')\n",
    "plt.figure(figsize=(20,20))\n",
    "plt.show()"
   ]
  },
  {
   "cell_type": "code",
   "execution_count": null,
   "metadata": {
    "collapsed": false
   },
   "outputs": [],
   "source": [
    "plt.scatter(df_log_1[\"authenticated_client_count\"], df_log_1[\"occupancy\"],  color='navy')\n",
    "plt.scatter(df_log_1[\"authenticated_client_count\"], df_log_1[\"predicted\"],  color='green')\n",
    "plt.figure(figsize=(20,20))\n",
    "plt.show()"
   ]
  },
  {
   "cell_type": "markdown",
   "metadata": {},
   "source": [
    "### Gaussian Naive Bayes "
   ]
  },
  {
   "cell_type": "code",
   "execution_count": null,
   "metadata": {
    "collapsed": false
   },
   "outputs": [],
   "source": [
    "df_gnb = df.copy()\n",
    "X = df_gnb[\"authenticated_client_count\"].div(df_gnb[\"capacity\"]).reshape(len(df_gnb[\"authenticated_client_count\"]), 1)\n",
    "# X = df_gnb[\"authenticated_client_count\"].reshape(len(df_gnb[\"authenticated_client_count\"]), 1)\n",
    "y = df_gnb[\"occupancy\"]\n",
    "# fit a Naive Bayes model to the data\n",
    "gnb = GaussianNB()\n",
    "gnb.fit(X, y)\n",
    "pred_gnb = gnb.predict(X)\n",
    "print(metrics.classification_report(y, pred_gnb))\n",
    "print(metrics.confusion_matrix(y, pred_gnb))"
   ]
  },
  {
   "cell_type": "code",
   "execution_count": null,
   "metadata": {
    "collapsed": false
   },
   "outputs": [],
   "source": [
    "df_gnb[\"predicted\"] = pd.Series(pred_gnb, index=df_gnb.index)"
   ]
  },
  {
   "cell_type": "code",
   "execution_count": null,
   "metadata": {
    "collapsed": true
   },
   "outputs": [],
   "source": [
    "####### How to use model to return occupancy prediction #######\n",
    "# groups = np.sort(y.unique())\n",
    "# groups[int(gnb.predict_proba(x).argmax(axis=1))]"
   ]
  },
  {
   "cell_type": "code",
   "execution_count": null,
   "metadata": {
    "collapsed": false
   },
   "outputs": [],
   "source": [
    "plt.scatter(df_gnb[\"predicted\"], df_gnb[\"occupancy\"],  color='navy')\n",
    "plt.figure(figsize=(20,20))\n",
    "plt.show()"
   ]
  },
  {
   "cell_type": "code",
   "execution_count": null,
   "metadata": {
    "collapsed": false
   },
   "outputs": [],
   "source": [
    "plt.scatter(df_gnb[\"authenticated_client_count\"], df_gnb[\"occupancy\"],  color='navy')\n",
    "plt.scatter(df_gnb[\"authenticated_client_count\"], df_gnb[\"predicted\"],  color='green')\n",
    "plt.figure(figsize=(20,20))\n",
    "plt.show()"
   ]
  },
  {
   "cell_type": "markdown",
   "metadata": {},
   "source": [
    "### k-Nearest Neighbor"
   ]
  },
  {
   "cell_type": "code",
   "execution_count": null,
   "metadata": {
    "collapsed": false
   },
   "outputs": [],
   "source": [
    "df_nn = df.copy()\n",
    "X = df_nn[\"authenticated_client_count\"].div(df_nn[\"capacity\"]).reshape(len(df_nn[\"authenticated_client_count\"]), 1)\n",
    "# X = df_nn[\"authenticated_client_count\"].reshape(len(df_nn[\"authenticated_client_count\"]), 1)\n",
    "y = df_nn[\"occupancy\"] \n",
    "nn = KNeighborsClassifier()\n",
    "nn.fit(X, y)\n",
    "pred_nn = nn.predict(X)\n",
    "print(metrics.classification_report(y, pred_nn))\n",
    "print(metrics.confusion_matrix(y, pred_nn))"
   ]
  },
  {
   "cell_type": "code",
   "execution_count": null,
   "metadata": {
    "collapsed": false
   },
   "outputs": [],
   "source": [
    "df_nn[\"predicted\"] = pd.Series(pred_nn, index=df_nn.index)"
   ]
  },
  {
   "cell_type": "code",
   "execution_count": null,
   "metadata": {
    "collapsed": true
   },
   "outputs": [],
   "source": [
    "####### How to use model to return occupancy prediction #######\n",
    "# groups = np.sort(y.unique())\n",
    "# groups[int(nn.predict_proba(x).argmax(axis=1))]"
   ]
  },
  {
   "cell_type": "code",
   "execution_count": null,
   "metadata": {
    "collapsed": false
   },
   "outputs": [],
   "source": [
    "plt.scatter(df_nn[\"predicted\"], df_nn[\"occupancy\"],  color='navy')\n",
    "plt.figure(figsize=(20,20))\n",
    "plt.show()"
   ]
  },
  {
   "cell_type": "code",
   "execution_count": null,
   "metadata": {
    "collapsed": false
   },
   "outputs": [],
   "source": [
    "plt.scatter(df_nn[\"authenticated_client_count\"], df_nn[\"occupancy\"],  color='navy')\n",
    "plt.scatter(df_nn[\"authenticated_client_count\"], df_nn[\"predicted\"],  color='green')\n",
    "plt.figure(figsize=(20,20))\n",
    "plt.show()"
   ]
  },
  {
   "cell_type": "markdown",
   "metadata": {},
   "source": [
    "### Support Vector Machines"
   ]
  },
  {
   "cell_type": "code",
   "execution_count": null,
   "metadata": {
    "collapsed": false
   },
   "outputs": [],
   "source": [
    "df_svm = df.copy()\n",
    "X = df_svm[\"authenticated_client_count\"].div(df_svm[\"capacity\"]).reshape(len(df_svm[\"authenticated_client_count\"]), 1)\n",
    "# X = df_svm[\"authenticated_client_count\"].reshape(len(df_svm[\"authenticated_client_count\"]), 1)\n",
    "y = df_svm[\"occupancy\"] \n",
    "svc = SVC()\n",
    "svc.fit(X, y)\n",
    "pred_svm = svc.predict(X)\n",
    "print(metrics.classification_report(y, pred_svm))\n",
    "print(metrics.confusion_matrix(y, pred_svm))"
   ]
  },
  {
   "cell_type": "code",
   "execution_count": null,
   "metadata": {
    "collapsed": true
   },
   "outputs": [],
   "source": [
    "df_svm[\"predicted\"] = pd.Series(pred_svm, index=df_svm.index)"
   ]
  },
  {
   "cell_type": "code",
   "execution_count": null,
   "metadata": {
    "collapsed": true
   },
   "outputs": [],
   "source": [
    "####### How to use model to return occupancy prediction #######\n",
    "# groups = np.sort(y.unique())\n",
    "# groups[int(svc.predict_proba(x).argmax(axis=1))]"
   ]
  },
  {
   "cell_type": "code",
   "execution_count": null,
   "metadata": {
    "collapsed": false
   },
   "outputs": [],
   "source": [
    "plt.scatter(df_svm[\"predicted\"], df_svm[\"occupancy\"],  color='navy')\n",
    "plt.figure(figsize=(20,20))\n",
    "plt.show()"
   ]
  },
  {
   "cell_type": "code",
   "execution_count": null,
   "metadata": {
    "collapsed": false
   },
   "outputs": [],
   "source": [
    "plt.scatter(df_svm[\"authenticated_client_count\"], df_svm[\"occupancy\"],  color='navy')\n",
    "plt.scatter(df_svm[\"authenticated_client_count\"], df_svm[\"predicted\"],  color='green')\n",
    "plt.figure(figsize=(20,20))\n",
    "plt.show()"
   ]
  },
  {
   "cell_type": "code",
   "execution_count": null,
   "metadata": {
    "collapsed": true
   },
   "outputs": [],
   "source": []
  },
  {
   "cell_type": "code",
   "execution_count": null,
   "metadata": {
    "collapsed": true
   },
   "outputs": [],
   "source": []
  },
  {
   "cell_type": "code",
   "execution_count": null,
   "metadata": {
    "collapsed": true
   },
   "outputs": [],
   "source": []
  },
  {
   "cell_type": "code",
   "execution_count": null,
   "metadata": {
    "collapsed": true
   },
   "outputs": [],
   "source": []
  },
  {
   "cell_type": "code",
   "execution_count": null,
   "metadata": {
    "collapsed": true
   },
   "outputs": [],
   "source": []
  },
  {
   "cell_type": "code",
   "execution_count": null,
   "metadata": {
    "collapsed": true
   },
   "outputs": [],
   "source": []
  },
  {
   "cell_type": "code",
   "execution_count": null,
   "metadata": {
    "collapsed": true
   },
   "outputs": [],
   "source": []
  }
 ],
 "metadata": {
  "kernelspec": {
   "display_name": "Python 3",
   "language": "python",
   "name": "python3"
  },
  "language_info": {
   "codemirror_mode": {
    "name": "ipython",
    "version": 3
   },
   "file_extension": ".py",
   "mimetype": "text/x-python",
   "name": "python",
   "nbconvert_exporter": "python",
   "pygments_lexer": "ipython3",
   "version": "3.5.1"
  }
 },
 "nbformat": 4,
 "nbformat_minor": 0
}
