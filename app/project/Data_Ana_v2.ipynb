{
 "cells": [
  {
   "cell_type": "markdown",
   "metadata": {},
   "source": [
    "# Data Analysis"
   ]
  },
  {
   "cell_type": "markdown",
   "metadata": {},
   "source": [
    "#### Imports"
   ]
  },
  {
   "cell_type": "code",
   "execution_count": 1,
   "metadata": {
    "collapsed": true
   },
   "outputs": [],
   "source": [
    "%matplotlib inline\n",
    "\n",
    "import pandas as pd\n",
    "pd.options.display.max_rows = 999\n",
    "import sqlite3\n",
    "import statsmodels.formula.api as sm\n",
    "import numpy as np\n",
    "import matplotlib.pyplot as plt\n",
    "\n",
    "from sklearn.linear_model import LinearRegression\n",
    "from sklearn.cross_validation import train_test_split\n",
    "from sklearn.cross_validation import cross_val_score\n",
    "from sklearn import metrics\n",
    "from sklearn.linear_model import LogisticRegression\n",
    "from sklearn.naive_bayes import GaussianNB\n",
    "from sklearn.neighbors import KNeighborsClassifier\n",
    "from sklearn.svm import SVC"
   ]
  },
  {
   "cell_type": "markdown",
   "metadata": {},
   "source": [
    "#### Functions"
   ]
  },
  {
   "cell_type": "code",
   "execution_count": 2,
   "metadata": {
    "collapsed": true
   },
   "outputs": [],
   "source": [
    "def normalize(df, feature):\n",
    "    '''Normalize data'''\n",
    "    return (df[feature] - df[feature].mean()) / df[feature].std()\n",
    "\n",
    "def removeOutliers(df, feature):\n",
    "    '''Remove outliers (more than 3 std devs from mean)'''\n",
    "    return df[np.abs(df[feature] - df[feature].mean()) <= (3 * df[feature].std())]\n",
    "\n",
    "def convert_perc_int(df):\n",
    "    ''''''\n",
    "    df[\"occupancy\"] = df[\"occupancy\"].apply(lambda x: x * 100)\n",
    "    return df"
   ]
  },
  {
   "cell_type": "markdown",
   "metadata": {},
   "source": [
    "#### Database Connection"
   ]
  },
  {
   "cell_type": "code",
   "execution_count": 3,
   "metadata": {
    "collapsed": false
   },
   "outputs": [],
   "source": [
    "conn = sqlite3.connect(\"./sample.db\")"
   ]
  },
  {
   "cell_type": "markdown",
   "metadata": {},
   "source": [
    "#### Occupy Dataframe"
   ]
  },
  {
   "cell_type": "code",
   "execution_count": 4,
   "metadata": {
    "collapsed": false
   },
   "outputs": [],
   "source": [
    "# df_occupy = pd.read_sql(sql=\"SELECT * FROM occupy\", con=conn)\n",
    "df_occupy_1 = pd.read_sql(sql=\"SELECT room, date, time, associated_client_count, authenticated_client_count FROM occupy\", con=conn)\n",
    "df_occupy_2 = pd.read_sql(sql=\"SELECT room, date, time, module_code, occupancy FROM occupy\", con=conn)"
   ]
  },
  {
   "cell_type": "markdown",
   "metadata": {},
   "source": [
    "#### Only consider rows with the following conditions satisfied:\n",
    "\n",
    "* **Condition 1**: time between 9:00 and 16:00\n",
    "* **Condition 2:** This condition is because we want to take the average authenticated client count between these times. We are disregarding the other figures because we are not sure of the DHCP lease duration. For instance, a number of the devices could still be being considered from an individual who has already left the room but the lease is still considered.\n",
    "    - time >= quarter past the hour\n",
    "    - time <= quarter past the hour"
   ]
  },
  {
   "cell_type": "code",
   "execution_count": 5,
   "metadata": {
    "collapsed": false
   },
   "outputs": [],
   "source": [
    "df_occupy_1[\"condition1\"] = df_occupy_1[\"time\"].apply(lambda x: \"true\" if 16 >= int(x[0:2]) >= 9 else \"false\")\n",
    "df_occupy_1 = df_occupy_1[df_occupy_1[\"condition1\"] == \"true\"]"
   ]
  },
  {
   "cell_type": "code",
   "execution_count": 6,
   "metadata": {
    "collapsed": false
   },
   "outputs": [],
   "source": [
    "df_occupy_1[\"condition2\"] = df_occupy_1[\"time\"].apply(lambda x: \"true\" if 45 >= int(x[-2:]) >= 15 else \"false\")\n",
    "df_occupy_1 = df_occupy_1[df_occupy_1[\"condition2\"] == \"true\"]"
   ]
  },
  {
   "cell_type": "code",
   "execution_count": 7,
   "metadata": {
    "collapsed": false
   },
   "outputs": [],
   "source": [
    "del df_occupy_1[\"condition1\"]\n",
    "del df_occupy_1[\"condition2\"]\n",
    "df_occupy_1[\"time\"] = df_occupy_1[\"time\"].apply(lambda x: x[0:3] + \"00\")"
   ]
  },
  {
   "cell_type": "code",
   "execution_count": 8,
   "metadata": {
    "collapsed": false
   },
   "outputs": [],
   "source": [
    "df_occupy_2 = df_occupy_2"
   ]
  },
  {
   "cell_type": "code",
   "execution_count": 9,
   "metadata": {
    "collapsed": false
   },
   "outputs": [],
   "source": [
    "df_occupy_merge = pd.merge(left = df_occupy_1, right = df_occupy_2, how=\"outer\", on=[\"room\", \"date\", \"time\"]) "
   ]
  },
  {
   "cell_type": "code",
   "execution_count": 10,
   "metadata": {
    "collapsed": false
   },
   "outputs": [
    {
     "name": "stdout",
     "output_type": "stream",
     "text": [
      "(172, 7)\n"
     ]
    }
   ],
   "source": [
    "df_occupy = df_occupy_merge.groupby([\"room\", \"date\", \"time\", \"module_code\"], as_index=False).mean()\n",
    "print(df_occupy.shape)"
   ]
  },
  {
   "cell_type": "markdown",
   "metadata": {},
   "source": [
    "#### Remove rows with NaN values "
   ]
  },
  {
   "cell_type": "code",
   "execution_count": 11,
   "metadata": {
    "collapsed": false
   },
   "outputs": [
    {
     "name": "stdout",
     "output_type": "stream",
     "text": [
      "(153, 7)\n"
     ]
    }
   ],
   "source": [
    "df_occupy = df_occupy.dropna() \n",
    "print(df_occupy.shape)"
   ]
  },
  {
   "cell_type": "markdown",
   "metadata": {},
   "source": [
    "#### Module Dataframe"
   ]
  },
  {
   "cell_type": "code",
   "execution_count": 12,
   "metadata": {
    "collapsed": false
   },
   "outputs": [],
   "source": [
    "df_module = pd.read_sql(sql=\"SELECT * FROM module\", con=conn)"
   ]
  },
  {
   "cell_type": "markdown",
   "metadata": {},
   "source": [
    "#### Location Dataframe"
   ]
  },
  {
   "cell_type": "code",
   "execution_count": 13,
   "metadata": {
    "collapsed": false
   },
   "outputs": [],
   "source": [
    "df_location = pd.read_sql(sql=\"SELECT * FROM location\", con=conn)"
   ]
  },
  {
   "cell_type": "markdown",
   "metadata": {},
   "source": [
    "#### Close db connection"
   ]
  },
  {
   "cell_type": "code",
   "execution_count": 14,
   "metadata": {
    "collapsed": true
   },
   "outputs": [],
   "source": [
    "conn.close()"
   ]
  },
  {
   "cell_type": "markdown",
   "metadata": {},
   "source": [
    "## Construct Analytics Base Table"
   ]
  },
  {
   "cell_type": "markdown",
   "metadata": {},
   "source": [
    "#### Join tables"
   ]
  },
  {
   "cell_type": "code",
   "execution_count": 15,
   "metadata": {
    "collapsed": false
   },
   "outputs": [
    {
     "name": "stdout",
     "output_type": "stream",
     "text": [
      "(154, 11)\n"
     ]
    }
   ],
   "source": [
    "df_abt = pd.merge(left = df_occupy, right = df_module, how=\"outer\", on=[\"module_code\"]) \n",
    "df_abt = pd.merge(left = df_abt, right = df_location, how=\"outer\", on=[\"room\"]) \n",
    "print(df_abt.shape)"
   ]
  },
  {
   "cell_type": "markdown",
   "metadata": {},
   "source": [
    "#### Remove rows without registered students i.e. no class"
   ]
  },
  {
   "cell_type": "code",
   "execution_count": 16,
   "metadata": {
    "collapsed": false
   },
   "outputs": [
    {
     "name": "stdout",
     "output_type": "stream",
     "text": [
      "(130, 11)\n"
     ]
    }
   ],
   "source": [
    "df_abt = df_abt[df_abt[\"reg_students\"] != 0]\n",
    "print(df_abt.shape)"
   ]
  },
  {
   "cell_type": "markdown",
   "metadata": {},
   "source": [
    "#### Add occupancy ground truth number to ABT\n",
    "#### Take min between occupancy gt and reg students to remove error in gt measurement"
   ]
  },
  {
   "cell_type": "code",
   "execution_count": 17,
   "metadata": {
    "collapsed": false
   },
   "outputs": [],
   "source": [
    "df_abt[\"occupancy_number\"] = df_abt[\"occupancy\"] * df_abt[\"capacity\"]\n",
    "df_abt[\"min_occ_reg\"] = df_abt.loc[:, ['occupancy_number', 'reg_students']].min(axis=1)"
   ]
  },
  {
   "cell_type": "markdown",
   "metadata": {},
   "source": [
    "#### Drop NaN rows"
   ]
  },
  {
   "cell_type": "code",
   "execution_count": 18,
   "metadata": {
    "collapsed": false
   },
   "outputs": [],
   "source": [
    "df_abt = df_abt.dropna() "
   ]
  },
  {
   "cell_type": "markdown",
   "metadata": {},
   "source": [
    "# Models"
   ]
  },
  {
   "cell_type": "markdown",
   "metadata": {},
   "source": [
    "### Model 1: Simple Linear (Y: min_occ_reg, X: authenticated_client_count)"
   ]
  },
  {
   "cell_type": "code",
   "execution_count": 19,
   "metadata": {
    "collapsed": false
   },
   "outputs": [
    {
     "name": "stdout",
     "output_type": "stream",
     "text": [
      "(128, 2)\n"
     ]
    }
   ],
   "source": [
    "df_reg_1= df_abt[[\"min_occ_reg\", \"authenticated_client_count\"]].copy()\n",
    "print(df_reg_1.shape)"
   ]
  },
  {
   "cell_type": "markdown",
   "metadata": {
    "collapsed": true
   },
   "source": [
    "#### Feature Analysis"
   ]
  },
  {
   "cell_type": "code",
   "execution_count": 20,
   "metadata": {
    "collapsed": false
   },
   "outputs": [
    {
     "data": {
      "image/png": "[encoded data removed]",
      "text/plain": [
       "<matplotlib.figure.Figure at 0x10bae34a8>"
      ]
     },
     "metadata": {},
     "output_type": "display_data"
    }
   ],
   "source": [
    "colour = dict(boxes='DarkGreen', whiskers='DarkOrange', medians='DarkBlue', caps='Gray') \n",
    "plt.figure() \n",
    "plt.subplot(211).set_title(\"min_occ_reg\", fontsize=15)\n",
    "df_reg_1[\"min_occ_reg\"].plot(kind = 'box', figsize = (15,15), color=colour, sym='r+') \n",
    "plt.subplot(212).set_title(\"authenticated_client_count\", fontsize=15)\n",
    "df_reg_1[\"authenticated_client_count\"].plot(kind = 'box', figsize = (15,15), color=colour, sym='r+') \n",
    "plt.tight_layout(pad=2.0, w_pad=2.0, h_pad=3.0) "
   ]
  },
  {
   "cell_type": "markdown",
   "metadata": {
    "collapsed": true
   },
   "source": [
    "#### Normalize Features and remove outliers"
   ]
  },
  {
   "cell_type": "code",
   "execution_count": 21,
   "metadata": {
    "collapsed": false
   },
   "outputs": [
    {
     "name": "stdout",
     "output_type": "stream",
     "text": [
      "(128, 4)\n",
      "(125, 2)\n"
     ]
    }
   ],
   "source": [
    "df_reg_1[\"min_occ_reg_NORM\"] = normalize(df_reg_1, \"min_occ_reg\")\n",
    "df_reg_1[\"auth_client_count_NORM\"] = normalize(df_reg_1, \"authenticated_client_count\")\n",
    "print(df_reg_1.shape)\n",
    "df_reg_1 = removeOutliers(df_reg_1, \"min_occ_reg_NORM\")\n",
    "df_reg_1 = removeOutliers(df_reg_1, \"auth_client_count_NORM\")\n",
    "df_reg_1 = df_reg_1[[\"min_occ_reg\", \"authenticated_client_count\"]]\n",
    "print(df_reg_1.shape)"
   ]
  },
  {
   "cell_type": "code",
   "execution_count": 22,
   "metadata": {
    "collapsed": false
   },
   "outputs": [
    {
     "name": "stdout",
     "output_type": "stream",
     "text": [
      "min_occ_reg                   float64\n",
      "authenticated_client_count    float64\n",
      "dtype: object\n"
     ]
    },
    {
     "data": {
      "text/html": [
       "<div>\n",
       "<table border=\"1\" class=\"dataframe\">\n",
       "  <thead>\n",
       "    <tr style=\"text-align: right;\">\n",
       "      <th></th>\n",
       "      <th>min_occ_reg</th>\n",
       "      <th>authenticated_client_count</th>\n",
       "    </tr>\n",
       "  </thead>\n",
       "  <tbody>\n",
       "    <tr>\n",
       "      <th>min_occ_reg</th>\n",
       "      <td>1.000000</td>\n",
       "      <td>0.693793</td>\n",
       "    </tr>\n",
       "    <tr>\n",
       "      <th>authenticated_client_count</th>\n",
       "      <td>0.693793</td>\n",
       "      <td>1.000000</td>\n",
       "    </tr>\n",
       "  </tbody>\n",
       "</table>\n",
       "</div>"
      ],
      "text/plain": [
       "                            min_occ_reg  authenticated_client_count\n",
       "min_occ_reg                    1.000000                    0.693793\n",
       "authenticated_client_count     0.693793                    1.000000"
      ]
     },
     "execution_count": 22,
     "metadata": {},
     "output_type": "execute_result"
    }
   ],
   "source": [
    "print(df_reg_1.dtypes)\n",
    "corrMatrix = df_reg_1.corr()\n",
    "corrMatrix"
   ]
  },
  {
   "cell_type": "code",
   "execution_count": 23,
   "metadata": {
    "collapsed": false
   },
   "outputs": [
    {
     "data": {
      "text/plain": [
       "<matplotlib.axes._subplots.AxesSubplot at 0x10ba0a3c8>"
      ]
     },
     "execution_count": 23,
     "metadata": {},
     "output_type": "execute_result"
    },
    {
     "data": {
      "text/plain": [
       "<matplotlib.figure.Figure at 0x10bae3978>"
      ]
     },
     "metadata": {},
     "output_type": "display_data"
    },
    {
     "data": {
      "image/png": "[encoded data removed]",
      "text/plain": [
       "<matplotlib.figure.Figure at 0x10bb05668>"
      ]
     },
     "metadata": {},
     "output_type": "display_data"
    }
   ],
   "source": [
    "plt.figure() \n",
    "df_reg_1.plot(kind=\"scatter\", x=\"authenticated_client_count\", y=\"min_occ_reg\", label=\"%.3f\" % corrMatrix.as_matrix()[0,1], figsize=(20, 6))"
   ]
  },
  {
   "cell_type": "markdown",
   "metadata": {},
   "source": [
    "#### Statsmodels"
   ]
  },
  {
   "cell_type": "code",
   "execution_count": 24,
   "metadata": {
    "collapsed": false
   },
   "outputs": [
    {
     "name": "stdout",
     "output_type": "stream",
     "text": [
      "                            OLS Regression Results                            \n",
      "==============================================================================\n",
      "Dep. Variable:            min_occ_reg   R-squared:                       0.814\n",
      "Model:                            OLS   Adj. R-squared:                  0.813\n",
      "Method:                 Least Squares   F-statistic:                     543.5\n",
      "Date:                Wed, 03 Aug 2016   Prob (F-statistic):           3.74e-47\n",
      "Time:                        14:37:07   Log-Likelihood:                -533.62\n",
      "No. Observations:                 125   AIC:                             1069.\n",
      "Df Residuals:                     124   BIC:                             1072.\n",
      "Df Model:                           1                                         \n",
      "Covariance Type:            nonrobust                                         \n",
      "==============================================================================================\n",
      "                                 coef    std err          t      P>|t|      [95.0% Conf. Int.]\n",
      "----------------------------------------------------------------------------------------------\n",
      "authenticated_client_count     0.7351      0.032     23.314      0.000         0.673     0.797\n",
      "==============================================================================\n",
      "Omnibus:                        3.674   Durbin-Watson:                   1.799\n",
      "Prob(Omnibus):                  0.159   Jarque-Bera (JB):                3.292\n",
      "Skew:                          -0.260   Prob(JB):                        0.193\n",
      "Kurtosis:                       3.602   Cond. No.                         1.00\n",
      "==============================================================================\n",
      "\n",
      "Warnings:\n",
      "[1] Standard Errors assume that the covariance matrix of the errors is correctly specified.\n"
     ]
    }
   ],
   "source": [
    "lm_sm = sm.ols(formula=\"min_occ_reg ~ authenticated_client_count - 1\", data=df_reg_1).fit()\n",
    "print(lm_sm.summary())"
   ]
  },
  {
   "cell_type": "markdown",
   "metadata": {},
   "source": [
    "#### Scikit Learn"
   ]
  },
  {
   "cell_type": "code",
   "execution_count": 25,
   "metadata": {
    "collapsed": false
   },
   "outputs": [
    {
     "name": "stdout",
     "output_type": "stream",
     "text": [
      "Coefficients: \n",
      " [ 0.60086851]\n",
      "Intercept: \n",
      " 7.88177302973\n",
      "Residual sum of squares: 280.40\n",
      "Square Root of Residual sum of squares: 16.75\n",
      "Variance score: 0.48\n"
     ]
    },
    {
     "data": {
      "image/png": "[encoded data removed]",
      "text/plain": [
       "<matplotlib.figure.Figure at 0x107a1c630>"
      ]
     },
     "metadata": {},
     "output_type": "display_data"
    },
    {
     "data": {
      "text/plain": [
       "<matplotlib.figure.Figure at 0x10bd96b70>"
      ]
     },
     "metadata": {},
     "output_type": "display_data"
    }
   ],
   "source": [
    "X = df_reg_1[\"authenticated_client_count\"].reshape(len(df_reg_1[\"authenticated_client_count\"]), 1)\n",
    "y = df_reg_1[\"min_occ_reg\"]\n",
    "\n",
    "lm_scikit_1 = LinearRegression()\n",
    "\n",
    "# Fit the model \n",
    "lm_scikit_1.fit(X, y)\n",
    "\n",
    "# Coefficients\n",
    "print(\"Coefficients: \\n\", lm_scikit_1.coef_)\n",
    "# The intercept\n",
    "print('Intercept: \\n', lm_scikit_1.intercept_)\n",
    "# The mean square error: MSE is more popular than MAE because MSE \"punishes\" larger errors. \n",
    "# But, RMSE is even more popular than MSE because RMSE is interpretable in the \"y\" units.\n",
    "print(\"Residual sum of squares: %.2f\" % metrics.mean_squared_error(y, lm_scikit_1.predict(X)))\n",
    "print(\"Square Root of Residual sum of squares: %.2f\" % np.sqrt(metrics.mean_squared_error(y, lm_scikit_1.predict(X))))\n",
    "# Explained variance score: coefficient of determination (R^2)\n",
    "print(\"Variance score: %.2f\" % lm_scikit_1.score(X, y))\n",
    "\n",
    "# Plot outputs\n",
    "plt.scatter(X, y,  color='navy')\n",
    "plt.plot(X, lm_scikit_1.predict(X), color='red',linewidth=2)\n",
    "plt.figure(figsize=(20,20))\n",
    "plt.show()"
   ]
  },
  {
   "cell_type": "markdown",
   "metadata": {},
   "source": [
    "#### Train & Testing"
   ]
  },
  {
   "cell_type": "markdown",
   "metadata": {},
   "source": [
    "**Cross Validation**"
   ]
  },
  {
   "cell_type": "code",
   "execution_count": 26,
   "metadata": {
    "collapsed": false
   },
   "outputs": [
    {
     "name": "stdout",
     "output_type": "stream",
     "text": [
      "[ 0.24550165 -0.08107307  0.28460772  0.4503266   0.32127097]\n"
     ]
    }
   ],
   "source": [
    "R2_scores_1 = cross_val_score(lm_scikit_1.fit(X, y), X.astype(int), y.astype(int), cv=5, scoring=\"r2\")\n",
    "print(R2_scores_1)"
   ]
  },
  {
   "cell_type": "markdown",
   "metadata": {},
   "source": [
    "**Train and test** "
   ]
  },
  {
   "cell_type": "code",
   "execution_count": 27,
   "metadata": {
    "collapsed": false
   },
   "outputs": [
    {
     "name": "stdout",
     "output_type": "stream",
     "text": [
      "Coefficients:  [ 0.56474999]\n",
      "Intercept:  6.91631791615\n",
      "Residual sum of squares: 244.41\n",
      "Square Root of Residual sum of squares: 15.63\n",
      "Variance score: 0.51\n"
     ]
    },
    {
     "data": {
      "image/png": "[encoded data removed]",
      "text/plain": [
       "<matplotlib.figure.Figure at 0x10b8ab438>"
      ]
     },
     "metadata": {},
     "output_type": "display_data"
    },
    {
     "data": {
      "text/plain": [
       "<matplotlib.figure.Figure at 0x10b8b8e80>"
      ]
     },
     "metadata": {},
     "output_type": "display_data"
    }
   ],
   "source": [
    "X_train, X_test, y_train, y_test = train_test_split(X, y, test_size=0.3)\n",
    "\n",
    "lm_scikit_1_t = LinearRegression()\n",
    "\n",
    "# Train the model using the training sets\n",
    "lm_scikit_1_t.fit(X_train, y_train)\n",
    "\n",
    "# The coefficients\n",
    "print('Coefficients: ', lm_scikit_1_t.coef_)\n",
    "# The intercept\n",
    "print('Intercept: ', lm_scikit_1_t.intercept_)\n",
    "# The mean square error\n",
    "print(\"Residual sum of squares: %.2f\" % metrics.mean_squared_error(y_test, lm_scikit_1_t.predict(X_test)))\n",
    "print(\"Square Root of Residual sum of squares: %.2f\" % np.sqrt(metrics.mean_squared_error(y_test, lm_scikit_1_t.predict(X_test))))\n",
    "# Explained variance score: coefficient of determination (R^2)\n",
    "print('Variance score: %.2f' % lm_scikit_1_t.score(X_test, y_test))\n",
    "\n",
    "# Plot outputs\n",
    "plt.scatter(X_test, y_test,  color='navy')\n",
    "plt.plot(X_test, lm_scikit_1_t.predict(X_test), color='red',linewidth=3)\n",
    "plt.figure(figsize=(20,20))\n",
    "plt.show()"
   ]
  },
  {
   "cell_type": "markdown",
   "metadata": {
    "collapsed": true
   },
   "source": [
    "### Model 2: Simple Linear (Y: min_occ_reg, X: asso_client_count)"
   ]
  },
  {
   "cell_type": "code",
   "execution_count": 28,
   "metadata": {
    "collapsed": false
   },
   "outputs": [
    {
     "name": "stdout",
     "output_type": "stream",
     "text": [
      "(128, 2)\n"
     ]
    }
   ],
   "source": [
    "df_reg_2= df_abt[[\"min_occ_reg\", \"associated_client_count\"]].copy()\n",
    "print(df_reg_2.shape)"
   ]
  },
  {
   "cell_type": "markdown",
   "metadata": {},
   "source": [
    "#### Feature Analysis"
   ]
  },
  {
   "cell_type": "code",
   "execution_count": 29,
   "metadata": {
    "collapsed": false
   },
   "outputs": [
    {
     "data": {
      "image/png": "[encoded data removed]",
      "text/plain": [
       "<matplotlib.figure.Figure at 0x10b896358>"
      ]
     },
     "metadata": {},
     "output_type": "display_data"
    }
   ],
   "source": [
    "plt.figure() \n",
    "plt.subplot(211).set_title(\"min_occ_reg\", fontsize=15)\n",
    "df_reg_2[\"min_occ_reg\"].plot(kind = 'box', figsize = (15,15), color=colour, sym='r+') \n",
    "plt.subplot(212).set_title(\"associated_client_count\", fontsize=15)\n",
    "df_reg_2[\"associated_client_count\"].plot(kind = 'box', figsize = (15,15), color=colour, sym='r+') \n",
    "plt.tight_layout(pad=2.0, w_pad=2.0, h_pad=3.0) #set padding"
   ]
  },
  {
   "cell_type": "markdown",
   "metadata": {},
   "source": [
    "#### Normalize Features and remove outliers"
   ]
  },
  {
   "cell_type": "code",
   "execution_count": 30,
   "metadata": {
    "collapsed": false
   },
   "outputs": [
    {
     "name": "stdout",
     "output_type": "stream",
     "text": [
      "(128, 4)\n",
      "(125, 2)\n"
     ]
    }
   ],
   "source": [
    "df_reg_2[\"min_occ_reg_NORM\"] = normalize(df_reg_2, \"min_occ_reg\")\n",
    "df_reg_2[\"asso_client_count_NORM\"] = normalize(df_reg_2, \"associated_client_count\")\n",
    "print(df_reg_2.shape)\n",
    "df_reg_2 = removeOutliers(df_reg_2, \"min_occ_reg_NORM\")\n",
    "df_reg_2 = removeOutliers(df_reg_2, \"asso_client_count_NORM\")\n",
    "df_reg_2 = df_reg_2[[\"min_occ_reg\", \"associated_client_count\"]]\n",
    "print(df_reg_2.shape)"
   ]
  },
  {
   "cell_type": "code",
   "execution_count": 31,
   "metadata": {
    "collapsed": false
   },
   "outputs": [
    {
     "name": "stdout",
     "output_type": "stream",
     "text": [
      "min_occ_reg                float64\n",
      "associated_client_count    float64\n",
      "dtype: object\n"
     ]
    },
    {
     "data": {
      "text/html": [
       "<div>\n",
       "<table border=\"1\" class=\"dataframe\">\n",
       "  <thead>\n",
       "    <tr style=\"text-align: right;\">\n",
       "      <th></th>\n",
       "      <th>min_occ_reg</th>\n",
       "      <th>associated_client_count</th>\n",
       "    </tr>\n",
       "  </thead>\n",
       "  <tbody>\n",
       "    <tr>\n",
       "      <th>min_occ_reg</th>\n",
       "      <td>1.000000</td>\n",
       "      <td>0.693639</td>\n",
       "    </tr>\n",
       "    <tr>\n",
       "      <th>associated_client_count</th>\n",
       "      <td>0.693639</td>\n",
       "      <td>1.000000</td>\n",
       "    </tr>\n",
       "  </tbody>\n",
       "</table>\n",
       "</div>"
      ],
      "text/plain": [
       "                         min_occ_reg  associated_client_count\n",
       "min_occ_reg                 1.000000                 0.693639\n",
       "associated_client_count     0.693639                 1.000000"
      ]
     },
     "execution_count": 31,
     "metadata": {},
     "output_type": "execute_result"
    }
   ],
   "source": [
    "print(df_reg_2.dtypes)\n",
    "corrMatrix = df_reg_2.corr()\n",
    "corrMatrix"
   ]
  },
  {
   "cell_type": "code",
   "execution_count": 32,
   "metadata": {
    "collapsed": false
   },
   "outputs": [
    {
     "data": {
      "text/plain": [
       "<matplotlib.axes._subplots.AxesSubplot at 0x10bd134e0>"
      ]
     },
     "execution_count": 32,
     "metadata": {},
     "output_type": "execute_result"
    },
    {
     "data": {
      "text/plain": [
       "<matplotlib.figure.Figure at 0x10b896ba8>"
      ]
     },
     "metadata": {},
     "output_type": "display_data"
    },
    {
     "data": {
      "image/png": "[encoded data removed]",
      "text/plain": [
       "<matplotlib.figure.Figure at 0x10bdb0f60>"
      ]
     },
     "metadata": {},
     "output_type": "display_data"
    }
   ],
   "source": [
    "plt.figure() \n",
    "df_reg_2.plot(kind=\"scatter\", x=\"associated_client_count\", y=\"min_occ_reg\", label=\"%.3f\" % corrMatrix.as_matrix()[0,1], figsize=(20, 6))"
   ]
  },
  {
   "cell_type": "code",
   "execution_count": 33,
   "metadata": {
    "collapsed": false
   },
   "outputs": [
    {
     "name": "stdout",
     "output_type": "stream",
     "text": [
      "                            OLS Regression Results                            \n",
      "==============================================================================\n",
      "Dep. Variable:            min_occ_reg   R-squared:                       0.814\n",
      "Model:                            OLS   Adj. R-squared:                  0.813\n",
      "Method:                 Least Squares   F-statistic:                     543.1\n",
      "Date:                Wed, 03 Aug 2016   Prob (F-statistic):           3.91e-47\n",
      "Time:                        14:37:08   Log-Likelihood:                -533.66\n",
      "No. Observations:                 125   AIC:                             1069.\n",
      "Df Residuals:                     124   BIC:                             1072.\n",
      "Df Model:                           1                                         \n",
      "Covariance Type:            nonrobust                                         \n",
      "===========================================================================================\n",
      "                              coef    std err          t      P>|t|      [95.0% Conf. Int.]\n",
      "-------------------------------------------------------------------------------------------\n",
      "associated_client_count     0.7329      0.031     23.304      0.000         0.671     0.795\n",
      "==============================================================================\n",
      "Omnibus:                        3.688   Durbin-Watson:                   1.797\n",
      "Prob(Omnibus):                  0.158   Jarque-Bera (JB):                3.327\n",
      "Skew:                          -0.256   Prob(JB):                        0.189\n",
      "Kurtosis:                       3.613   Cond. No.                         1.00\n",
      "==============================================================================\n",
      "\n",
      "Warnings:\n",
      "[1] Standard Errors assume that the covariance matrix of the errors is correctly specified.\n"
     ]
    }
   ],
   "source": [
    "lm_sm_2 = sm.ols(formula=\"min_occ_reg ~ associated_client_count - 1\", data=df_reg_2).fit()\n",
    "print(lm_sm_2.summary())"
   ]
  },
  {
   "cell_type": "code",
   "execution_count": 34,
   "metadata": {
    "collapsed": false
   },
   "outputs": [
    {
     "name": "stdout",
     "output_type": "stream",
     "text": [
      "Coefficients: \n",
      " [ 0.59885264]\n",
      "Intercept: \n",
      " 7.89820771409\n",
      "Residual sum of squares: 280.51\n",
      "Square Root of Residual sum of squares: 16.75\n",
      "Variance score: 0.48\n"
     ]
    },
    {
     "data": {
      "image/png": "[encoded data removed]",
      "text/plain": [
       "<matplotlib.figure.Figure at 0x10bd280b8>"
      ]
     },
     "metadata": {},
     "output_type": "display_data"
    },
    {
     "data": {
      "text/plain": [
       "<matplotlib.figure.Figure at 0x10cf8d588>"
      ]
     },
     "metadata": {},
     "output_type": "display_data"
    }
   ],
   "source": [
    "X = df_reg_2[\"associated_client_count\"].reshape(len(df_reg_2[\"associated_client_count\"]), 1)\n",
    "y = df_reg_2[\"min_occ_reg\"]\n",
    "\n",
    "lm_scikit_2 = LinearRegression()\n",
    "\n",
    "# Fit the model \n",
    "lm_scikit_2.fit(X, y)\n",
    "\n",
    "# Coefficients\n",
    "print(\"Coefficients: \\n\", lm_scikit_2.coef_)\n",
    "# The intercept\n",
    "print('Intercept: \\n', lm_scikit_2.intercept_)\n",
    "# The mean square error: MSE is more popular than MAE because MSE \"punishes\" larger errors. \n",
    "# But, RMSE is even more popular than MSE because RMSE is interpretable in the \"y\" units.\n",
    "print(\"Residual sum of squares: %.2f\" % metrics.mean_squared_error(y, lm_scikit_2.predict(X)))\n",
    "print(\"Square Root of Residual sum of squares: %.2f\" % np.sqrt(metrics.mean_squared_error(y, lm_scikit_2.predict(X))))\n",
    "# Explained variance score: coefficient of determination (R^2)\n",
    "print(\"Variance score: %.2f\" % lm_scikit_2.score(X, y))\n",
    "\n",
    "# Plot outputs\n",
    "plt.scatter(X, y,  color='navy')\n",
    "plt.plot(X, lm_scikit_2.predict(X), color='red',linewidth=2)\n",
    "plt.figure(figsize=(20,20))\n",
    "plt.show()"
   ]
  },
  {
   "cell_type": "markdown",
   "metadata": {},
   "source": [
    "#### Train & Testing\n",
    "\n",
    "**Cross Validation**"
   ]
  },
  {
   "cell_type": "code",
   "execution_count": 35,
   "metadata": {
    "collapsed": false
   },
   "outputs": [
    {
     "name": "stdout",
     "output_type": "stream",
     "text": [
      "[ 0.24260432 -0.07764585  0.28032236  0.45079952  0.32430428]\n"
     ]
    }
   ],
   "source": [
    "R2_scores_2 = cross_val_score(lm_scikit_2.fit(X, y), X.astype(int), y.astype(int), cv=5)\n",
    "print(R2_scores_2)"
   ]
  },
  {
   "cell_type": "markdown",
   "metadata": {},
   "source": [
    "**Train and test** "
   ]
  },
  {
   "cell_type": "code",
   "execution_count": 36,
   "metadata": {
    "collapsed": false
   },
   "outputs": [
    {
     "name": "stdout",
     "output_type": "stream",
     "text": [
      "Coefficients: \n",
      " [ 0.61298783]\n",
      "Intercept: \n",
      " 7.80920796818\n",
      "Residual sum of squares: 266.47\n",
      "Square Root of Residual sum of squares: 16.32\n",
      "Variance score: 0.35\n"
     ]
    },
    {
     "data": {
      "image/png": "[encoded data removed]",
      "text/plain": [
       "<matplotlib.figure.Figure at 0x10bdb9470>"
      ]
     },
     "metadata": {},
     "output_type": "display_data"
    },
    {
     "data": {
      "text/plain": [
       "<matplotlib.figure.Figure at 0x10cfb3898>"
      ]
     },
     "metadata": {},
     "output_type": "display_data"
    }
   ],
   "source": [
    "X_train, X_test, y_train, y_test = train_test_split(X, y, test_size=0.3)\n",
    "\n",
    "lm_scikit_2_t = LinearRegression()\n",
    "\n",
    "# Train the model using the training sets\n",
    "lm_scikit_2_t.fit(X_train, y_train)\n",
    "\n",
    "# The coefficients\n",
    "print('Coefficients: \\n', lm_scikit_2_t.coef_)\n",
    "# The intercept\n",
    "print('Intercept: \\n', lm_scikit_2_t.intercept_)\n",
    "# The mean square error\n",
    "print(\"Residual sum of squares: %.2f\" % metrics.mean_squared_error(y_test, lm_scikit_2_t.predict(X_test)))\n",
    "print(\"Square Root of Residual sum of squares: %.2f\" % np.sqrt(metrics.mean_squared_error(y_test, lm_scikit_2_t.predict(X_test))))\n",
    "# Explained variance score: coefficient of determination (R^2)\n",
    "print('Variance score: %.2f' % lm_scikit_2_t.score(X_test, y_test))\n",
    "\n",
    "# Plot outputs\n",
    "plt.scatter(X_test, y_test,  color='navy')\n",
    "plt.plot(X_test, lm_scikit_2_t.predict(X_test), color='red',linewidth=3)\n",
    "plt.figure(figsize=(20,20))\n",
    "plt.show()"
   ]
  },
  {
   "cell_type": "markdown",
   "metadata": {},
   "source": [
    "### Categoriztion Models"
   ]
  },
  {
   "cell_type": "code",
   "execution_count": 37,
   "metadata": {
    "collapsed": false
   },
   "outputs": [],
   "source": [
    "df = df_abt[[\"occupancy\", \"authenticated_client_count\"]].copy()\n",
    "df = convert_perc_int(df).astype(int)"
   ]
  },
  {
   "cell_type": "code",
   "execution_count": 38,
   "metadata": {
    "collapsed": false
   },
   "outputs": [
    {
     "data": {
      "text/plain": [
       "<matplotlib.axes._subplots.AxesSubplot at 0x10cf80b00>"
      ]
     },
     "execution_count": 38,
     "metadata": {},
     "output_type": "execute_result"
    },
    {
     "data": {
      "text/plain": [
       "<matplotlib.figure.Figure at 0x10bc88b70>"
      ]
     },
     "metadata": {},
     "output_type": "display_data"
    },
    {
     "data": {
      "image/png": "[encoded data removed]",
      "text/plain": [
       "<matplotlib.figure.Figure at 0x10be37400>"
      ]
     },
     "metadata": {},
     "output_type": "display_data"
    }
   ],
   "source": [
    "plt.figure() \n",
    "df.plot(kind=\"scatter\", x=\"authenticated_client_count\", y=\"occupancy\", label=\"%.3f\" % corrMatrix.as_matrix()[0,1], figsize=(20, 6))"
   ]
  },
  {
   "cell_type": "code",
   "execution_count": 39,
   "metadata": {
    "collapsed": false
   },
   "outputs": [
    {
     "data": {
      "image/png": "[encoded data removed]",
      "text/plain": [
       "<matplotlib.figure.Figure at 0x10be74ef0>"
      ]
     },
     "metadata": {},
     "output_type": "display_data"
    }
   ],
   "source": [
    "plt.figure() \n",
    "plt.subplot(211).set_title(\"occupancy\", fontsize=15)\n",
    "df[\"occupancy\"].plot(kind = 'box', figsize = (15,15), color=colour, sym='r+') \n",
    "plt.subplot(212).set_title(\"authenticated_client_count\", fontsize=15)\n",
    "df[\"authenticated_client_count\"].plot(kind = 'box', figsize = (15,15), color=colour, sym='r+') \n",
    "plt.tight_layout(pad=2.0, w_pad=2.0, h_pad=3.0) "
   ]
  },
  {
   "cell_type": "code",
   "execution_count": 40,
   "metadata": {
    "collapsed": false
   },
   "outputs": [],
   "source": [
    "df[\"occupancy_NORM\"] = normalize(df, \"occupancy\")\n",
    "df[\"authenticated_client_count_NORM\"] = normalize(df, \"authenticated_client_count\")\n",
    "print(df.shape)\n",
    "df = removeOutliers(df, \"occupancy_NORM\")\n",
    "df = removeOutliers(df, \"authenticated_client_count_NORM\")\n",
    "df = df[[\"occupancy\", \"authenticated_client_count\"]]\n",
    "print(df.shape)"
   ]
  },
  {
   "cell_type": "markdown",
   "metadata": {},
   "source": [
    "### Multinomial Logistic Regression http://machinelearningmastery.com/get-your-hands-dirty-with-scikit-learn-now/\n",
    "\n",
    "log-odds of a categorical response being \"true\" (1) is modeled as a linear combination of the features.\n",
    "Logistic regression outputs the probabilities of a specific class\n",
    "Those probabilities can be converted into class predictions"
   ]
  },
  {
   "cell_type": "code",
   "execution_count": 41,
   "metadata": {
    "collapsed": false
   },
   "outputs": [
    {
     "name": "stdout",
     "output_type": "stream",
     "text": [
      "             precision    recall  f1-score   support\n",
      "\n",
      "          0       1.00      0.14      0.24        22\n",
      "         25       0.51      0.97      0.67        63\n",
      "         50       0.20      0.03      0.05        32\n",
      "         75       0.00      0.00      0.00        10\n",
      "        100       0.00      0.00      0.00         1\n",
      "\n",
      "avg / total       0.47      0.51      0.38       128\n",
      "\n",
      "[[ 3 19  0  0  0]\n",
      " [ 0 61  2  0  0]\n",
      " [ 0 31  1  0  0]\n",
      " [ 0  9  1  0  0]\n",
      " [ 0  0  1  0  0]]\n"
     ]
    },
    {
     "name": "stderr",
     "output_type": "stream",
     "text": [
      "//anaconda/lib/python3.5/site-packages/sklearn/metrics/classification.py:1074: UndefinedMetricWarning: Precision and F-score are ill-defined and being set to 0.0 in labels with no predicted samples.\n",
      "  'precision', 'predicted', average, warn_for)\n"
     ]
    }
   ],
   "source": [
    "df_log_1 = df.copy()\n",
    "X = df_log_1[\"authenticated_client_count\"].reshape(len(df_log_1[\"authenticated_client_count\"]), 1)\n",
    "y = df_log_1[\"occupancy\"]\n",
    "lr = LogisticRegression()\n",
    "lr.fit(X.astype(int), y)\n",
    "pred_lr = lr.predict(X)\n",
    "print(metrics.classification_report(y.astype(int), pred_lr))\n",
    "print(metrics.confusion_matrix(y.astype(int), pred_lr))"
   ]
  },
  {
   "cell_type": "code",
   "execution_count": 60,
   "metadata": {
    "collapsed": false
   },
   "outputs": [
    {
     "data": {
      "text/plain": [
       "array([ 0.38316543,  0.26517333, -1.41498792, -2.77462431, -3.53473317])"
      ]
     },
     "execution_count": 60,
     "metadata": {},
     "output_type": "execute_result"
    }
   ],
   "source": [
    "lr.intercept_"
   ]
  },
  {
   "cell_type": "code",
   "execution_count": 58,
   "metadata": {
    "collapsed": false
   },
   "outputs": [
    {
     "data": {
      "text/plain": [
       "array([[-0.06581953],\n",
       "       [-0.0070308 ],\n",
       "       [ 0.008228  ],\n",
       "       [ 0.01172839],\n",
       "       [ 0.00497461]])"
      ]
     },
     "execution_count": 58,
     "metadata": {},
     "output_type": "execute_result"
    }
   ],
   "source": [
    "lr.coef_ # Coefficient of the features in the decision function."
   ]
  },
  {
   "cell_type": "code",
   "execution_count": 59,
   "metadata": {
    "collapsed": false
   },
   "outputs": [
    {
     "name": "stdout",
     "output_type": "stream",
     "text": [
      "[[ 0.41207102  0.39216257  0.13544189  0.0406855   0.01963902]]\n",
      "[[ 0.20388023  0.48280321  0.2124327   0.07133072  0.02955315]]\n",
      "[[ 0.05535015  0.51151893  0.28679311  0.10778905  0.03854876]]\n",
      "[[ 0.01124279  0.46905635  0.33490913  0.14095895  0.04383279]]\n",
      "[[ 0.00210371  0.40692885  0.36946966  0.17401357  0.0474842 ]]\n"
     ]
    }
   ],
   "source": [
    "print (lr.predict_proba(0))\n",
    "print (lr.predict_proba(25))\n",
    "print (lr.predict_proba(50))\n",
    "print (lr.predict_proba(75))\n",
    "print (lr.predict_proba(100))"
   ]
  },
  {
   "cell_type": "code",
   "execution_count": 42,
   "metadata": {
    "collapsed": false
   },
   "outputs": [],
   "source": [
    "df_log_1[\"predicted\"] = pd.Series(pred_lr, index=df_log_1.index)"
   ]
  },
  {
   "cell_type": "code",
   "execution_count": 43,
   "metadata": {
    "collapsed": false
   },
   "outputs": [
    {
     "data": {
      "image/png": "[encoded data removed]",
      "text/plain": [
       "<matplotlib.figure.Figure at 0x10bda7ef0>"
      ]
     },
     "metadata": {},
     "output_type": "display_data"
    },
    {
     "data": {
      "text/plain": [
       "<matplotlib.figure.Figure at 0x10b9e8198>"
      ]
     },
     "metadata": {},
     "output_type": "display_data"
    }
   ],
   "source": [
    "plt.scatter(df_log_1[\"predicted\"], df_log_1[\"occupancy\"],  color='navy')\n",
    "plt.figure(figsize=(20,20))\n",
    "plt.show()"
   ]
  },
  {
   "cell_type": "code",
   "execution_count": 44,
   "metadata": {
    "collapsed": false
   },
   "outputs": [
    {
     "data": {
      "image/png": "[encoded data removed]",
      "text/plain": [
       "<matplotlib.figure.Figure at 0x10baa4828>"
      ]
     },
     "metadata": {},
     "output_type": "display_data"
    },
    {
     "data": {
      "text/plain": [
       "<matplotlib.figure.Figure at 0x10b879e48>"
      ]
     },
     "metadata": {},
     "output_type": "display_data"
    }
   ],
   "source": [
    "plt.scatter(df_log_1[\"authenticated_client_count\"], df_log_1[\"occupancy\"],  color='navy')\n",
    "plt.scatter(df_log_1[\"authenticated_client_count\"], df_log_1[\"predicted\"],  color='green')\n",
    "plt.figure(figsize=(20,20))\n",
    "plt.show()"
   ]
  },
  {
   "cell_type": "markdown",
   "metadata": {},
   "source": [
    "### Gaussian Naive Bayes "
   ]
  },
  {
   "cell_type": "code",
   "execution_count": 45,
   "metadata": {
    "collapsed": false
   },
   "outputs": [
    {
     "name": "stdout",
     "output_type": "stream",
     "text": [
      "             precision    recall  f1-score   support\n",
      "\n",
      "          0       0.00      0.00      0.00        22\n",
      "         25       0.53      0.95      0.68        63\n",
      "         50       0.50      0.16      0.24        32\n",
      "         75       0.25      0.10      0.14        10\n",
      "        100       1.00      1.00      1.00         1\n",
      "\n",
      "avg / total       0.41      0.52      0.41       128\n",
      "\n",
      "[[ 0 22  0  0  0]\n",
      " [ 0 60  1  2  0]\n",
      " [ 0 26  5  1  0]\n",
      " [ 0  5  4  1  0]\n",
      " [ 0  0  0  0  1]]\n"
     ]
    },
    {
     "name": "stderr",
     "output_type": "stream",
     "text": [
      "//anaconda/lib/python3.5/site-packages/sklearn/metrics/classification.py:1074: UndefinedMetricWarning: Precision and F-score are ill-defined and being set to 0.0 in labels with no predicted samples.\n",
      "  'precision', 'predicted', average, warn_for)\n"
     ]
    }
   ],
   "source": [
    "df_gnb = df.copy()\n",
    "X = df_gnb[\"authenticated_client_count\"].reshape(len(df_gnb[\"authenticated_client_count\"]), 1)\n",
    "y = df_gnb[\"occupancy\"]\n",
    "# fit a Naive Bayes model to the data\n",
    "gnb = GaussianNB()\n",
    "gnb.fit(X, y)\n",
    "pred_gnb = gnb.predict(X)\n",
    "print(metrics.classification_report(y, pred_gnb))\n",
    "print(metrics.confusion_matrix(y, pred_gnb))"
   ]
  },
  {
   "cell_type": "code",
   "execution_count": 46,
   "metadata": {
    "collapsed": false
   },
   "outputs": [],
   "source": [
    "df_gnb[\"predicted\"] = pd.Series(pred_gnb, index=df_log_1.index)"
   ]
  },
  {
   "cell_type": "code",
   "execution_count": 47,
   "metadata": {
    "collapsed": false
   },
   "outputs": [
    {
     "data": {
      "image/png": "[encoded data removed]",
      "text/plain": [
       "<matplotlib.figure.Figure at 0x10b976278>"
      ]
     },
     "metadata": {},
     "output_type": "display_data"
    },
    {
     "data": {
      "text/plain": [
       "<matplotlib.figure.Figure at 0x10ba0a198>"
      ]
     },
     "metadata": {},
     "output_type": "display_data"
    }
   ],
   "source": [
    "plt.scatter(df_gnb[\"predicted\"], df_gnb[\"occupancy\"],  color='navy')\n",
    "plt.figure(figsize=(20,20))\n",
    "plt.show()"
   ]
  },
  {
   "cell_type": "code",
   "execution_count": 48,
   "metadata": {
    "collapsed": false
   },
   "outputs": [
    {
     "data": {
      "image/png": "[encoded data removed]",
      "text/plain": [
       "<matplotlib.figure.Figure at 0x10bab4978>"
      ]
     },
     "metadata": {},
     "output_type": "display_data"
    },
    {
     "data": {
      "text/plain": [
       "<matplotlib.figure.Figure at 0x10ba84ef0>"
      ]
     },
     "metadata": {},
     "output_type": "display_data"
    }
   ],
   "source": [
    "plt.scatter(df_gnb[\"authenticated_client_count\"], df_gnb[\"occupancy\"],  color='navy')\n",
    "plt.scatter(df_gnb[\"authenticated_client_count\"], df_gnb[\"predicted\"],  color='green')\n",
    "plt.figure(figsize=(20,20))\n",
    "plt.show()"
   ]
  },
  {
   "cell_type": "markdown",
   "metadata": {},
   "source": [
    "### k-Nearest Neighbor"
   ]
  },
  {
   "cell_type": "code",
   "execution_count": 49,
   "metadata": {
    "collapsed": false
   },
   "outputs": [
    {
     "name": "stdout",
     "output_type": "stream",
     "text": [
      "             precision    recall  f1-score   support\n",
      "\n",
      "          0       0.52      0.68      0.59        22\n",
      "         25       0.67      0.83      0.74        63\n",
      "         50       0.64      0.28      0.39        32\n",
      "         75       0.57      0.40      0.47        10\n",
      "        100       0.00      0.00      0.00         1\n",
      "\n",
      "avg / total       0.62      0.62      0.60       128\n",
      "\n",
      "[[15  7  0  0  0]\n",
      " [ 8 52  2  1  0]\n",
      " [ 5 16  9  2  0]\n",
      " [ 1  2  3  4  0]\n",
      " [ 0  1  0  0  0]]\n"
     ]
    },
    {
     "name": "stderr",
     "output_type": "stream",
     "text": [
      "//anaconda/lib/python3.5/site-packages/sklearn/metrics/classification.py:1074: UndefinedMetricWarning: Precision and F-score are ill-defined and being set to 0.0 in labels with no predicted samples.\n",
      "  'precision', 'predicted', average, warn_for)\n"
     ]
    }
   ],
   "source": [
    "df_nn = df.copy()\n",
    "X = df_nn[\"authenticated_client_count\"].reshape(len(df_nn[\"authenticated_client_count\"]), 1)\n",
    "y = df_nn[\"occupancy\"] \n",
    "nn = KNeighborsClassifier()\n",
    "nn.fit(X, y)\n",
    "pred_nn = nn.predict(X)\n",
    "print(metrics.classification_report(y, pred_nn))\n",
    "print(metrics.confusion_matrix(y, pred_nn))"
   ]
  },
  {
   "cell_type": "code",
   "execution_count": 50,
   "metadata": {
    "collapsed": false
   },
   "outputs": [],
   "source": [
    "df_nn[\"predicted\"] = pd.Series(pred_nn, index=df_log_1.index)"
   ]
  },
  {
   "cell_type": "code",
   "execution_count": 51,
   "metadata": {
    "collapsed": false
   },
   "outputs": [
    {
     "data": {
      "image/png": "[encoded data removed]",
      "text/plain": [
       "<matplotlib.figure.Figure at 0x10b879da0>"
      ]
     },
     "metadata": {},
     "output_type": "display_data"
    },
    {
     "data": {
      "text/plain": [
       "<matplotlib.figure.Figure at 0x10bb11320>"
      ]
     },
     "metadata": {},
     "output_type": "display_data"
    }
   ],
   "source": [
    "plt.scatter(df_nn[\"predicted\"], df_nn[\"occupancy\"],  color='navy')\n",
    "plt.figure(figsize=(20,20))\n",
    "plt.show()"
   ]
  },
  {
   "cell_type": "code",
   "execution_count": 52,
   "metadata": {
    "collapsed": false
   },
   "outputs": [
    {
     "data": {
      "image/png": "[encoded data removed]",
      "text/plain": [
       "<matplotlib.figure.Figure at 0x10b58a2e8>"
      ]
     },
     "metadata": {},
     "output_type": "display_data"
    },
    {
     "data": {
      "text/plain": [
       "<matplotlib.figure.Figure at 0x10ba55b00>"
      ]
     },
     "metadata": {},
     "output_type": "display_data"
    }
   ],
   "source": [
    "plt.scatter(df_nn[\"authenticated_client_count\"], df_nn[\"occupancy\"],  color='navy')\n",
    "plt.scatter(df_nn[\"authenticated_client_count\"], df_nn[\"predicted\"],  color='green')\n",
    "plt.figure(figsize=(20,20))\n",
    "plt.show()"
   ]
  },
  {
   "cell_type": "markdown",
   "metadata": {},
   "source": [
    "### Support Vector Machines"
   ]
  },
  {
   "cell_type": "code",
   "execution_count": 53,
   "metadata": {
    "collapsed": false
   },
   "outputs": [
    {
     "name": "stdout",
     "output_type": "stream",
     "text": [
      "             precision    recall  f1-score   support\n",
      "\n",
      "          0       0.88      0.64      0.74        22\n",
      "         25       0.71      0.97      0.82        63\n",
      "         50       0.78      0.56      0.65        32\n",
      "         75       1.00      0.20      0.33        10\n",
      "        100       1.00      1.00      1.00         1\n",
      "\n",
      "avg / total       0.78      0.75      0.73       128\n",
      "\n",
      "[[14  7  1  0  0]\n",
      " [ 2 61  0  0  0]\n",
      " [ 0 14 18  0  0]\n",
      " [ 0  4  4  2  0]\n",
      " [ 0  0  0  0  1]]\n"
     ]
    }
   ],
   "source": [
    "df_svm = df.copy()\n",
    "X = df_svm[\"authenticated_client_count\"].reshape(len(df_svm[\"authenticated_client_count\"]), 1)\n",
    "y = df_svm[\"occupancy\"] \n",
    "svc = SVC()\n",
    "svc.fit(X, y)\n",
    "pred_svm = svc.predict(X)\n",
    "print(metrics.classification_report(y, pred_svm))\n",
    "print(metrics.confusion_matrix(y, pred_svm))"
   ]
  },
  {
   "cell_type": "code",
   "execution_count": 54,
   "metadata": {
    "collapsed": true
   },
   "outputs": [],
   "source": [
    "df_svm[\"predicted\"] = pd.Series(pred_svm, index=df_log_1.index)"
   ]
  },
  {
   "cell_type": "code",
   "execution_count": 55,
   "metadata": {
    "collapsed": false
   },
   "outputs": [
    {
     "data": {
      "image/png": "[encoded data removed]",
      "text/plain": [
       "<matplotlib.figure.Figure at 0x10bd40860>"
      ]
     },
     "metadata": {},
     "output_type": "display_data"
    },
    {
     "data": {
      "text/plain": [
       "<matplotlib.figure.Figure at 0x10b58a6a0>"
      ]
     },
     "metadata": {},
     "output_type": "display_data"
    }
   ],
   "source": [
    "plt.scatter(df_svm[\"predicted\"], df_svm[\"occupancy\"],  color='navy')\n",
    "plt.figure(figsize=(20,20))\n",
    "plt.show()"
   ]
  },
  {
   "cell_type": "code",
   "execution_count": 56,
   "metadata": {
    "collapsed": false
   },
   "outputs": [
    {
     "data": {
      "image/png": "[encoded data removed]",
      "text/plain": [
       "<matplotlib.figure.Figure at 0x10cfbb780>"
      ]
     },
     "metadata": {},
     "output_type": "display_data"
    },
    {
     "data": {
      "text/plain": [
       "<matplotlib.figure.Figure at 0x10ba15710>"
      ]
     },
     "metadata": {},
     "output_type": "display_data"
    }
   ],
   "source": [
    "plt.scatter(df_svm[\"authenticated_client_count\"], df_svm[\"occupancy\"],  color='navy')\n",
    "plt.scatter(df_svm[\"authenticated_client_count\"], df_svm[\"predicted\"],  color='green')\n",
    "plt.figure(figsize=(20,20))\n",
    "plt.show()"
   ]
  },
  {
   "cell_type": "code",
   "execution_count": null,
   "metadata": {
    "collapsed": true
   },
   "outputs": [],
   "source": []
  },
  {
   "cell_type": "code",
   "execution_count": null,
   "metadata": {
    "collapsed": true
   },
   "outputs": [],
   "source": []
  },
  {
   "cell_type": "code",
   "execution_count": null,
   "metadata": {
    "collapsed": true
   },
   "outputs": [],
   "source": []
  },
  {
   "cell_type": "code",
   "execution_count": null,
   "metadata": {
    "collapsed": true
   },
   "outputs": [],
   "source": []
  },
  {
   "cell_type": "code",
   "execution_count": null,
   "metadata": {
    "collapsed": true
   },
   "outputs": [],
   "source": []
  },
  {
   "cell_type": "code",
   "execution_count": null,
   "metadata": {
    "collapsed": true
   },
   "outputs": [],
   "source": []
  },
  {
   "cell_type": "code",
   "execution_count": null,
   "metadata": {
    "collapsed": true
   },
   "outputs": [],
   "source": []
  }
 ],
 "metadata": {
  "kernelspec": {
   "display_name": "Python 3",
   "language": "python",
   "name": "python3"
  },
  "language_info": {
   "codemirror_mode": {
    "name": "ipython",
    "version": 3
   },
   "file_extension": ".py",
   "mimetype": "text/x-python",
   "name": "python",
   "nbconvert_exporter": "python",
   "pygments_lexer": "ipython3",
   "version": "3.5.1"
  }
 },
 "nbformat": 4,
 "nbformat_minor": 0
}
