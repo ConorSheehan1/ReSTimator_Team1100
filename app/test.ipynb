{
 "cells": [
  {
   "cell_type": "markdown",
   "metadata": {},
   "source": [
    "# Data Analysis"
   ]
  },
  {
   "cell_type": "markdown",
   "metadata": {},
   "source": [
    "## Imports"
   ]
  },
  {
   "cell_type": "code",
   "execution_count": 1,
   "metadata": {
    "collapsed": true
   },
   "outputs": [],
   "source": [
    "%matplotlib inline\n",
    "\n",
    "import pandas as pd\n",
    "pd.options.display.max_rows = 999\n",
    "import sqlite3\n",
    "import statsmodels.formula.api as sm\n",
    "import numpy as np\n",
    "import matplotlib.pyplot as plt\n",
    "\n",
    "from sklearn.linear_model import LinearRegression\n",
    "from sklearn.cross_validation import train_test_split\n",
    "from sklearn.cross_validation import cross_val_score\n",
    "from sklearn import metrics\n",
    "from sklearn.linear_model import LogisticRegression\n",
    "from sklearn.naive_bayes import GaussianNB\n",
    "from sklearn.neighbors import KNeighborsClassifier\n",
    "from sklearn.svm import SVC"
   ]
  },
  {
   "cell_type": "markdown",
   "metadata": {},
   "source": [
    "## Functions"
   ]
  },
  {
   "cell_type": "code",
   "execution_count": 2,
   "metadata": {
    "collapsed": true
   },
   "outputs": [],
   "source": [
    "def normalize(df, feature):\n",
    "    '''Normalize data'''\n",
    "    return (df[feature] - df[feature].mean()) / df[feature].std()\n",
    "\n",
    "def removeOutliers(df, feature):\n",
    "    '''Remove outliers (more than 3 std devs from mean)'''\n",
    "    return df[np.abs(df[feature] - df[feature].mean()) <= (3 * df[feature].std())]\n",
    "\n",
    "def convert_perc_int(df):\n",
    "    ''''''\n",
    "    df[\"occupancy\"] = df[\"occupancy\"].apply(lambda x: x * 100)\n",
    "    df[\"occupancy\"] = df[\"occupancy\"].astype(int)\n",
    "    return df"
   ]
  },
  {
   "cell_type": "markdown",
   "metadata": {},
   "source": [
    "## ABT Construction"
   ]
  },
  {
   "cell_type": "markdown",
   "metadata": {},
   "source": [
    "#### Database Connection"
   ]
  },
  {
   "cell_type": "code",
   "execution_count": 3,
   "metadata": {
    "collapsed": false
   },
   "outputs": [],
   "source": [
    "conn = sqlite3.connect(\"./project/restimator.db\")"
   ]
  },
  {
   "cell_type": "markdown",
   "metadata": {},
   "source": [
    "### Occupy Dataframe"
   ]
  },
  {
   "cell_type": "code",
   "execution_count": 4,
   "metadata": {
    "collapsed": false
   },
   "outputs": [],
   "source": [
    "df_occupy_1 = pd.read_sql(sql=\"SELECT room, date, time, associated_client_count, authenticated_client_count FROM occupy\", con=conn)\n",
    "df_occupy_2 = pd.read_sql(sql=\"SELECT room, date, time, module_code, occupancy FROM occupy\", con=conn)"
   ]
  },
  {
   "cell_type": "markdown",
   "metadata": {},
   "source": [
    "#### Only consider rows with the following conditions satisfied:\n",
    "\n",
    "* **Condition 1**: time between 9:00 and 16:00\n",
    "* **Condition 2**:  \n",
    "    - time >= quarter past the hour: account for DHCP lease duration\n",
    "    - time <= quarter to the hour: account for classes ending early\n",
    "\n",
    "This condition is because we want to take the average authenticated client count between these times. We are disregarding the other figures because we are not sure of the DHCP lease duration. For instance, a number of the devices could still be being considered from an individual who has already left the room but the lease is still considered.\n"
   ]
  },
  {
   "cell_type": "code",
   "execution_count": 5,
   "metadata": {
    "collapsed": true
   },
   "outputs": [],
   "source": [
    "df_occupy_1[\"condition1\"] = df_occupy_1[\"time\"].apply(lambda x: \"true\" if 16 >= int(x[0:2]) >= 9 else \"false\")\n",
    "df_occupy_1 = df_occupy_1[df_occupy_1[\"condition1\"] == \"true\"]"
   ]
  },
  {
   "cell_type": "code",
   "execution_count": 6,
   "metadata": {
    "collapsed": true
   },
   "outputs": [],
   "source": [
    "df_occupy_1[\"condition2\"] = df_occupy_1[\"time\"].apply(lambda x: \"true\" if 45 >= int(x[-2:]) >= 15 else \"false\")\n",
    "df_occupy_1 = df_occupy_1[df_occupy_1[\"condition2\"] == \"true\"]"
   ]
  },
  {
   "cell_type": "code",
   "execution_count": 7,
   "metadata": {
    "collapsed": true
   },
   "outputs": [],
   "source": [
    "del df_occupy_1[\"condition1\"]\n",
    "del df_occupy_1[\"condition2\"]\n",
    "df_occupy_1[\"time\"] = df_occupy_1[\"time\"].apply(lambda x: x[0:3] + \"00\")"
   ]
  },
  {
   "cell_type": "markdown",
   "metadata": {},
   "source": [
    "#### Merge tables and get average"
   ]
  },
  {
   "cell_type": "code",
   "execution_count": 8,
   "metadata": {
    "collapsed": true
   },
   "outputs": [],
   "source": [
    "df_occupy_merge = pd.merge(left = df_occupy_1, right = df_occupy_2, how=\"outer\", on=[\"room\", \"date\", \"time\"])"
   ]
  },
  {
   "cell_type": "code",
   "execution_count": 9,
   "metadata": {
    "collapsed": false
   },
   "outputs": [
    {
     "name": "stdout",
     "output_type": "stream",
     "text": [
      "(153, 7)\n"
     ]
    }
   ],
   "source": [
    "df_occupy = df_occupy_merge.groupby([\"room\", \"date\", \"time\", \"module_code\"], as_index=False).mean()\n",
    "df_occupy = df_occupy.dropna() \n",
    "print(df_occupy.shape)"
   ]
  },
  {
   "cell_type": "markdown",
   "metadata": {},
   "source": [
    "#### Module Dataframe"
   ]
  },
  {
   "cell_type": "code",
   "execution_count": 10,
   "metadata": {
    "collapsed": false
   },
   "outputs": [],
   "source": [
    "df_module = pd.read_sql(sql=\"SELECT * FROM module\", con=conn)"
   ]
  },
  {
   "cell_type": "markdown",
   "metadata": {},
   "source": [
    "#### Location Dataframe"
   ]
  },
  {
   "cell_type": "code",
   "execution_count": 11,
   "metadata": {
    "collapsed": true
   },
   "outputs": [],
   "source": [
    "df_location = pd.read_sql(sql=\"SELECT * FROM location\", con=conn)"
   ]
  },
  {
   "cell_type": "markdown",
   "metadata": {},
   "source": [
    "#### Close db connection"
   ]
  },
  {
   "cell_type": "code",
   "execution_count": 12,
   "metadata": {
    "collapsed": true
   },
   "outputs": [],
   "source": [
    "conn.close()"
   ]
  },
  {
   "cell_type": "markdown",
   "metadata": {},
   "source": [
    "#### Join tables"
   ]
  },
  {
   "cell_type": "code",
   "execution_count": 13,
   "metadata": {
    "collapsed": false
   },
   "outputs": [
    {
     "name": "stdout",
     "output_type": "stream",
     "text": [
      "(152, 11)\n"
     ]
    }
   ],
   "source": [
    "df_abt = pd.merge(left = df_occupy, right = df_module, how=\"outer\", on=[\"module_code\"]) \n",
    "df_abt = pd.merge(left = df_abt, right = df_location, how=\"outer\", on=[\"room\"]) \n",
    "df_abt = df_abt.dropna() \n",
    "print(df_abt.shape)"
   ]
  },
  {
   "cell_type": "markdown",
   "metadata": {},
   "source": [
    "#### Remove rows without registered students i.e. no class (only consider where those classes with modules taking place)"
   ]
  },
  {
   "cell_type": "code",
   "execution_count": 14,
   "metadata": {
    "collapsed": false
   },
   "outputs": [
    {
     "name": "stdout",
     "output_type": "stream",
     "text": [
      "(128, 11)\n"
     ]
    }
   ],
   "source": [
    "df_abt = df_abt[df_abt[\"reg_students\"] != 0]\n",
    "print(df_abt.shape)"
   ]
  },
  {
   "cell_type": "markdown",
   "metadata": {},
   "source": [
    "#### Add occupancy ground truth number to ABT (Capacity * GT%)"
   ]
  },
  {
   "cell_type": "code",
   "execution_count": 15,
   "metadata": {
    "collapsed": true
   },
   "outputs": [],
   "source": [
    "df_abt[\"occupancy_number\"] = df_abt[\"occupancy\"] * df_abt[\"capacity\"]"
   ]
  },
  {
   "cell_type": "markdown",
   "metadata": {},
   "source": [
    "#### Show error in GT i.e. difference between registered students and GT"
   ]
  },
  {
   "cell_type": "code",
   "execution_count": 16,
   "metadata": {
    "collapsed": false
   },
   "outputs": [],
   "source": [
    "df_abt[\"Difference\"] = df_abt[\"occupancy_number\"] - df_abt[\"reg_students\"]\n",
    "df_abt[\"max_error\"] = df_abt[\"capacity\"].apply(lambda x: x * .125)"
   ]
  },
  {
   "cell_type": "code",
   "execution_count": 17,
   "metadata": {
    "collapsed": false
   },
   "outputs": [
    {
     "data": {
      "text/html": [
       "<div>\n",
       "<table border=\"1\" class=\"dataframe\">\n",
       "  <thead>\n",
       "    <tr style=\"text-align: right;\">\n",
       "      <th></th>\n",
       "      <th>room</th>\n",
       "      <th>date</th>\n",
       "      <th>time</th>\n",
       "      <th>reg_students</th>\n",
       "      <th>occupancy_number</th>\n",
       "      <th>Difference</th>\n",
       "      <th>max_error</th>\n",
       "    </tr>\n",
       "  </thead>\n",
       "  <tbody>\n",
       "    <tr>\n",
       "      <th>4</th>\n",
       "      <td>B-002</td>\n",
       "      <td>2015-11-03</td>\n",
       "      <td>11:00</td>\n",
       "      <td>18</td>\n",
       "      <td>45.0</td>\n",
       "      <td>27.0</td>\n",
       "      <td>11.25</td>\n",
       "    </tr>\n",
       "    <tr>\n",
       "      <th>9</th>\n",
       "      <td>B-002</td>\n",
       "      <td>2015-11-03</td>\n",
       "      <td>12:00</td>\n",
       "      <td>27</td>\n",
       "      <td>45.0</td>\n",
       "      <td>18.0</td>\n",
       "      <td>11.25</td>\n",
       "    </tr>\n",
       "    <tr>\n",
       "      <th>15</th>\n",
       "      <td>B-002</td>\n",
       "      <td>2015-11-03</td>\n",
       "      <td>14:00</td>\n",
       "      <td>42</td>\n",
       "      <td>67.5</td>\n",
       "      <td>25.5</td>\n",
       "      <td>11.25</td>\n",
       "    </tr>\n",
       "    <tr>\n",
       "      <th>59</th>\n",
       "      <td>B-004</td>\n",
       "      <td>2015-11-13</td>\n",
       "      <td>15:00</td>\n",
       "      <td>38</td>\n",
       "      <td>80.0</td>\n",
       "      <td>42.0</td>\n",
       "      <td>20.00</td>\n",
       "    </tr>\n",
       "    <tr>\n",
       "      <th>97</th>\n",
       "      <td>B-004</td>\n",
       "      <td>2015-11-12</td>\n",
       "      <td>10:00</td>\n",
       "      <td>56</td>\n",
       "      <td>80.0</td>\n",
       "      <td>24.0</td>\n",
       "      <td>20.00</td>\n",
       "    </tr>\n",
       "    <tr>\n",
       "      <th>107</th>\n",
       "      <td>B-004</td>\n",
       "      <td>2015-11-09</td>\n",
       "      <td>15:00</td>\n",
       "      <td>19</td>\n",
       "      <td>80.0</td>\n",
       "      <td>61.0</td>\n",
       "      <td>20.00</td>\n",
       "    </tr>\n",
       "    <tr>\n",
       "      <th>116</th>\n",
       "      <td>B-003</td>\n",
       "      <td>2015-11-03</td>\n",
       "      <td>11:00</td>\n",
       "      <td>56</td>\n",
       "      <td>67.5</td>\n",
       "      <td>11.5</td>\n",
       "      <td>11.25</td>\n",
       "    </tr>\n",
       "  </tbody>\n",
       "</table>\n",
       "</div>"
      ],
      "text/plain": [
       "      room        date   time  reg_students  occupancy_number  Difference  \\\n",
       "4    B-002  2015-11-03  11:00            18              45.0        27.0   \n",
       "9    B-002  2015-11-03  12:00            27              45.0        18.0   \n",
       "15   B-002  2015-11-03  14:00            42              67.5        25.5   \n",
       "59   B-004  2015-11-13  15:00            38              80.0        42.0   \n",
       "97   B-004  2015-11-12  10:00            56              80.0        24.0   \n",
       "107  B-004  2015-11-09  15:00            19              80.0        61.0   \n",
       "116  B-003  2015-11-03  11:00            56              67.5        11.5   \n",
       "\n",
       "     max_error  \n",
       "4        11.25  \n",
       "9        11.25  \n",
       "15       11.25  \n",
       "59       20.00  \n",
       "97       20.00  \n",
       "107      20.00  \n",
       "116      11.25  "
      ]
     },
     "execution_count": 17,
     "metadata": {},
     "output_type": "execute_result"
    }
   ],
   "source": [
    "error = df_abt[df_abt[\"Difference\"] >= df_abt[\"max_error\"]]\n",
    "error[[\"room\",\"date\",\"time\",\"reg_students\",\"occupancy_number\",\"Difference\",\"max_error\"]]"
   ]
  },
  {
   "cell_type": "markdown",
   "metadata": {},
   "source": [
    "#### Remove those rows outside an acceptable error range"
   ]
  },
  {
   "cell_type": "code",
   "execution_count": 18,
   "metadata": {
    "collapsed": false
   },
   "outputs": [
    {
     "name": "stdout",
     "output_type": "stream",
     "text": [
      "(121, 14)\n"
     ]
    }
   ],
   "source": [
    "df_abt = df_abt[df_abt[\"Difference\"] <= df_abt[\"max_error\"]]\n",
    "print(df_abt.shape)"
   ]
  },
  {
   "cell_type": "markdown",
   "metadata": {},
   "source": [
    "#### Take min between occupancy gt and reg students to remove error in gt measurement"
   ]
  },
  {
   "cell_type": "code",
   "execution_count": 19,
   "metadata": {
    "collapsed": false
   },
   "outputs": [
    {
     "name": "stdout",
     "output_type": "stream",
     "text": [
      "(121, 15)\n"
     ]
    }
   ],
   "source": [
    "df_abt[\"min_occ_reg\"] = df_abt.loc[:, ['occupancy_number', 'reg_students']].min(axis=1)\n",
    "print(df_abt.shape)"
   ]
  },
  {
   "cell_type": "markdown",
   "metadata": {},
   "source": [
    "## Simple Linear Regression Models"
   ]
  },
  {
   "cell_type": "markdown",
   "metadata": {},
   "source": [
    "### Model 1: Simple Linear Regression (Y: min_occ_reg, X: authenticated_client_count)"
   ]
  },
  {
   "cell_type": "code",
   "execution_count": 20,
   "metadata": {
    "collapsed": false
   },
   "outputs": [
    {
     "name": "stdout",
     "output_type": "stream",
     "text": [
      "(121, 2)\n"
     ]
    }
   ],
   "source": [
    "df_reg_1= df_abt[[\"min_occ_reg\", \"authenticated_client_count\"]].copy()\n",
    "print(df_reg_1.shape)"
   ]
  },
  {
   "cell_type": "markdown",
   "metadata": {},
   "source": [
    "#### Feature Analysis"
   ]
  },
  {
   "cell_type": "code",
   "execution_count": 21,
   "metadata": {
    "collapsed": false
   },
   "outputs": [
    {
     "data": {
      "image/png": "[encoded data removed]",
      "text/plain": [
       "<matplotlib.figure.Figure at 0x10bb17240>"
      ]
     },
     "metadata": {},
     "output_type": "display_data"
    }
   ],
   "source": [
    "colour = dict(boxes='DarkGreen', whiskers='DarkOrange', medians='DarkBlue', caps='Gray') \n",
    "plt.figure() \n",
    "plt.subplot(211).set_title(\"min_occ_reg\", fontsize=15)\n",
    "df_reg_1[\"min_occ_reg\"].plot(kind = 'box', figsize = (15,15), color=colour, sym='r+') \n",
    "plt.subplot(212).set_title(\"authenticated_client_count\", fontsize=15)\n",
    "df_reg_1[\"authenticated_client_count\"].plot(kind = 'box', figsize = (15,15), color=colour, sym='r+') \n",
    "plt.tight_layout(pad=2.0, w_pad=2.0, h_pad=3.0)"
   ]
  },
  {
   "cell_type": "markdown",
   "metadata": {},
   "source": [
    "#### Normalize Features and remove outliers"
   ]
  },
  {
   "cell_type": "code",
   "execution_count": 22,
   "metadata": {
    "collapsed": false
   },
   "outputs": [
    {
     "name": "stdout",
     "output_type": "stream",
     "text": [
      "(121, 4)\n",
      "(118, 2)\n"
     ]
    }
   ],
   "source": [
    "df_reg_1[\"min_occ_reg_NORM\"] = normalize(df_reg_1, \"min_occ_reg\")\n",
    "df_reg_1[\"auth_client_count_NORM\"] = normalize(df_reg_1, \"authenticated_client_count\")\n",
    "print(df_reg_1.shape)\n",
    "df_reg_1 = removeOutliers(df_reg_1, \"min_occ_reg_NORM\")\n",
    "df_reg_1 = removeOutliers(df_reg_1, \"auth_client_count_NORM\")\n",
    "df_reg_1 = df_reg_1[[\"min_occ_reg\", \"authenticated_client_count\"]]\n",
    "print(df_reg_1.shape)"
   ]
  },
  {
   "cell_type": "code",
   "execution_count": 23,
   "metadata": {
    "collapsed": false
   },
   "outputs": [
    {
     "name": "stdout",
     "output_type": "stream",
     "text": [
      "min_occ_reg                   float64\n",
      "authenticated_client_count    float64\n",
      "dtype: object\n"
     ]
    },
    {
     "data": {
      "text/html": [
       "<div>\n",
       "<table border=\"1\" class=\"dataframe\">\n",
       "  <thead>\n",
       "    <tr style=\"text-align: right;\">\n",
       "      <th></th>\n",
       "      <th>min_occ_reg</th>\n",
       "      <th>authenticated_client_count</th>\n",
       "    </tr>\n",
       "  </thead>\n",
       "  <tbody>\n",
       "    <tr>\n",
       "      <th>min_occ_reg</th>\n",
       "      <td>1.000000</td>\n",
       "      <td>0.717987</td>\n",
       "    </tr>\n",
       "    <tr>\n",
       "      <th>authenticated_client_count</th>\n",
       "      <td>0.717987</td>\n",
       "      <td>1.000000</td>\n",
       "    </tr>\n",
       "  </tbody>\n",
       "</table>\n",
       "</div>"
      ],
      "text/plain": [
       "                            min_occ_reg  authenticated_client_count\n",
       "min_occ_reg                    1.000000                    0.717987\n",
       "authenticated_client_count     0.717987                    1.000000"
      ]
     },
     "execution_count": 23,
     "metadata": {},
     "output_type": "execute_result"
    }
   ],
   "source": [
    "print(df_reg_1.dtypes)\n",
    "corrMatrix = df_reg_1.corr()\n",
    "corrMatrix"
   ]
  },
  {
   "cell_type": "code",
   "execution_count": 24,
   "metadata": {
    "collapsed": false
   },
   "outputs": [
    {
     "data": {
      "text/plain": [
       "<matplotlib.axes._subplots.AxesSubplot at 0x10b9ff358>"
      ]
     },
     "execution_count": 24,
     "metadata": {},
     "output_type": "execute_result"
    },
    {
     "data": {
      "text/plain": [
       "<matplotlib.figure.Figure at 0x10bb06400>"
      ]
     },
     "metadata": {},
     "output_type": "display_data"
    },
    {
     "data": {
      "image/png": "[encoded data removed]",
      "text/plain": [
       "<matplotlib.figure.Figure at 0x107a98a58>"
      ]
     },
     "metadata": {},
     "output_type": "display_data"
    }
   ],
   "source": [
    "plt.figure() \n",
    "df_reg_1.plot(kind=\"scatter\", x=\"authenticated_client_count\", y=\"min_occ_reg\", label=\"%.3f\" % corrMatrix.as_matrix()[0,1], figsize=(20, 6))"
   ]
  },
  {
   "cell_type": "markdown",
   "metadata": {},
   "source": [
    "#### Statsmodels"
   ]
  },
  {
   "cell_type": "code",
   "execution_count": 25,
   "metadata": {
    "collapsed": true
   },
   "outputs": [],
   "source": [
    "# lm_sm = sm.ols(formula=\"min_occ_reg ~ authenticated_client_count\", data=df_reg_1).fit()\n",
    "# print(lm_sm.summary())"
   ]
  },
  {
   "cell_type": "markdown",
   "metadata": {},
   "source": [
    "#### Scikit Learn"
   ]
  },
  {
   "cell_type": "code",
   "execution_count": 26,
   "metadata": {
    "collapsed": false
   },
   "outputs": [
    {
     "name": "stdout",
     "output_type": "stream",
     "text": [
      "Coefficients: \n",
      " [ 0.62967539]\n",
      "Intercept: \n",
      " 6.35641943526\n",
      "Residual sum of squares: 270.72\n",
      "Square Root of Residual sum of squares: 16.45\n",
      "Variance score: 0.52\n"
     ]
    },
    {
     "name": "stderr",
     "output_type": "stream",
     "text": [
      "/Library/Frameworks/Python.framework/Versions/3.4/lib/python3.4/site-packages/scipy/linalg/basic.py:884: RuntimeWarning: internal gelsd driver lwork query error, required iwork dimension not returned. This is likely the result of LAPACK bug 0038, fixed in LAPACK 3.2.2 (released July 21, 2010). Falling back to 'gelss' driver.\n",
      "  warnings.warn(mesg, RuntimeWarning)\n"
     ]
    },
    {
     "data": {
      "image/png": "[encoded data removed]",
      "text/plain": [
       "<matplotlib.figure.Figure at 0x10bb3e470>"
      ]
     },
     "metadata": {},
     "output_type": "display_data"
    },
    {
     "data": {
      "text/plain": [
       "<matplotlib.figure.Figure at 0x10b84bb70>"
      ]
     },
     "metadata": {},
     "output_type": "display_data"
    }
   ],
   "source": [
    "X = df_reg_1[\"authenticated_client_count\"].reshape(len(df_reg_1[\"authenticated_client_count\"]), 1)\n",
    "y = df_reg_1[\"min_occ_reg\"]\n",
    "\n",
    "lm_scikit_1 = LinearRegression()\n",
    "\n",
    "# Fit the model \n",
    "lm_scikit_1.fit(X, y)\n",
    "\n",
    "# Coefficients\n",
    "print(\"Coefficients: \\n\", lm_scikit_1.coef_)\n",
    "# The intercept\n",
    "print('Intercept: \\n', lm_scikit_1.intercept_)\n",
    "# The mean square error: MSE is more popular than MAE because MSE \"punishes\" larger errors. \n",
    "# But, RMSE is even more popular than MSE because RMSE is interpretable in the \"y\" units.\n",
    "print(\"Residual sum of squares: %.2f\" % metrics.mean_squared_error(y, lm_scikit_1.predict(X)))\n",
    "print(\"Square Root of Residual sum of squares: %.2f\" % np.sqrt(metrics.mean_squared_error(y, lm_scikit_1.predict(X))))\n",
    "# Explained variance score: coefficient of determination (R^2)\n",
    "print(\"Variance score: %.2f\" % lm_scikit_1.score(X, y))\n",
    "\n",
    "# Plot outputs\n",
    "plt.scatter(X, y,  color='navy')\n",
    "plt.plot(X, lm_scikit_1.predict(X), color='red',linewidth=2)\n",
    "plt.figure(figsize=(20,20))\n",
    "plt.show()"
   ]
  },
  {
   "cell_type": "markdown",
   "metadata": {},
   "source": [
    "#### Train & Testing"
   ]
  },
  {
   "cell_type": "markdown",
   "metadata": {},
   "source": [
    "**Cross Validation**"
   ]
  },
  {
   "cell_type": "code",
   "execution_count": 27,
   "metadata": {
    "collapsed": false
   },
   "outputs": [
    {
     "name": "stdout",
     "output_type": "stream",
     "text": [
      "Accuracy: 0.30 (+/- 0.25)\n"
     ]
    }
   ],
   "source": [
    "R2_scores_1 = cross_val_score(lm_scikit_1.fit(X, y), X.astype(int), y.astype(int), cv=5, scoring=\"r2\")\n",
    "print(\"Accuracy: %0.2f (+/- %0.2f)\" % (R2_scores_1.mean(), R2_scores_1.std() * 2))"
   ]
  },
  {
   "cell_type": "code",
   "execution_count": 28,
   "metadata": {
    "collapsed": false
   },
   "outputs": [
    {
     "name": "stdout",
     "output_type": "stream",
     "text": [
      "[ 0.16406108  0.16743704  0.32248866  0.48245065  0.3806237 ]\n",
      "0.303412225252\n"
     ]
    }
   ],
   "source": [
    "R2_scores_1 = cross_val_score(lm_scikit_1.fit(X, y), X.astype(int), y.astype(int), cv=5, scoring=\"r2\")\n",
    "print(R2_scores_1)\n",
    "print(R2_scores_1.mean())"
   ]
  },
  {
   "cell_type": "markdown",
   "metadata": {},
   "source": [
    "**Train and test** "
   ]
  },
  {
   "cell_type": "code",
   "execution_count": 29,
   "metadata": {
    "collapsed": false
   },
   "outputs": [
    {
     "name": "stdout",
     "output_type": "stream",
     "text": [
      "Coefficients:  [ 0.65631715]\n",
      "Intercept:  5.55851997601\n",
      "Residual sum of squares: 287.83\n",
      "Square Root of Residual sum of squares: 16.97\n",
      "Variance score: 0.50\n"
     ]
    },
    {
     "data": {
      "image/png": "[encoded data removed]",
      "text/plain": [
       "<matplotlib.figure.Figure at 0x10b935e48>"
      ]
     },
     "metadata": {},
     "output_type": "display_data"
    },
    {
     "data": {
      "text/plain": [
       "<matplotlib.figure.Figure at 0x10b8a20b8>"
      ]
     },
     "metadata": {},
     "output_type": "display_data"
    }
   ],
   "source": [
    "X_train, X_test, y_train, y_test = train_test_split(X, y, test_size=0.6)\n",
    "\n",
    "lm_scikit_1_t = LinearRegression()\n",
    "\n",
    "# Train the model using the training sets\n",
    "lm_scikit_1_t.fit(X_train, y_train)\n",
    "\n",
    "# The coefficients\n",
    "print('Coefficients: ', lm_scikit_1_t.coef_)\n",
    "# The intercept\n",
    "print('Intercept: ', lm_scikit_1_t.intercept_)\n",
    "# The mean square error\n",
    "print(\"Residual sum of squares: %.2f\" % metrics.mean_squared_error(y_test, lm_scikit_1_t.predict(X_test)))\n",
    "print(\"Square Root of Residual sum of squares: %.2f\" % np.sqrt(metrics.mean_squared_error(y_test, lm_scikit_1_t.predict(X_test))))\n",
    "# Explained variance score: coefficient of determination (R^2)\n",
    "print('Variance score: %.2f' % lm_scikit_1_t.score(X_test, y_test))\n",
    "\n",
    "# Plot outputs\n",
    "plt.scatter(X_test, y_test,  color='navy')\n",
    "plt.plot(X_test, lm_scikit_1_t.predict(X_test), color='red',linewidth=3)\n",
    "plt.figure(figsize=(20,20))\n",
    "plt.show()"
   ]
  },
  {
   "cell_type": "markdown",
   "metadata": {},
   "source": [
    "### Model 2: Simple Linear (Y: min_occ_reg, X: asso_client_count)"
   ]
  },
  {
   "cell_type": "code",
   "execution_count": 30,
   "metadata": {
    "collapsed": false
   },
   "outputs": [
    {
     "name": "stdout",
     "output_type": "stream",
     "text": [
      "(121, 2)\n"
     ]
    }
   ],
   "source": [
    "df_reg_2= df_abt[[\"min_occ_reg\", \"associated_client_count\"]].copy()\n",
    "print(df_reg_2.shape)"
   ]
  },
  {
   "cell_type": "markdown",
   "metadata": {},
   "source": [
    "#### Feature Analysis"
   ]
  },
  {
   "cell_type": "code",
   "execution_count": 31,
   "metadata": {
    "collapsed": false
   },
   "outputs": [
    {
     "data": {
      "image/png": "[encoded data removed]",
      "text/plain": [
       "<matplotlib.figure.Figure at 0x10bae36a0>"
      ]
     },
     "metadata": {},
     "output_type": "display_data"
    }
   ],
   "source": [
    "plt.figure() \n",
    "plt.subplot(211).set_title(\"min_occ_reg\", fontsize=15)\n",
    "df_reg_2[\"min_occ_reg\"].plot(kind = 'box', figsize = (15,15), color=colour, sym='r+') \n",
    "plt.subplot(212).set_title(\"associated_client_count\", fontsize=15)\n",
    "df_reg_2[\"associated_client_count\"].plot(kind = 'box', figsize = (15,15), color=colour, sym='r+') \n",
    "plt.tight_layout(pad=2.0, w_pad=2.0, h_pad=3.0) #set padding"
   ]
  },
  {
   "cell_type": "markdown",
   "metadata": {},
   "source": [
    "#### Normalize Features and remove outliers"
   ]
  },
  {
   "cell_type": "code",
   "execution_count": 32,
   "metadata": {
    "collapsed": false
   },
   "outputs": [
    {
     "name": "stdout",
     "output_type": "stream",
     "text": [
      "(121, 4)\n",
      "(118, 2)\n"
     ]
    }
   ],
   "source": [
    "df_reg_2[\"min_occ_reg_NORM\"] = normalize(df_reg_2, \"min_occ_reg\")\n",
    "df_reg_2[\"asso_client_count_NORM\"] = normalize(df_reg_2, \"associated_client_count\")\n",
    "print(df_reg_2.shape)\n",
    "df_reg_2 = removeOutliers(df_reg_2, \"min_occ_reg_NORM\")\n",
    "df_reg_2 = removeOutliers(df_reg_2, \"asso_client_count_NORM\")\n",
    "df_reg_2 = df_reg_2[[\"min_occ_reg\", \"associated_client_count\"]]\n",
    "print(df_reg_2.shape)"
   ]
  },
  {
   "cell_type": "code",
   "execution_count": 33,
   "metadata": {
    "collapsed": false
   },
   "outputs": [
    {
     "name": "stdout",
     "output_type": "stream",
     "text": [
      "min_occ_reg                float64\n",
      "associated_client_count    float64\n",
      "dtype: object\n"
     ]
    },
    {
     "data": {
      "text/html": [
       "<div>\n",
       "<table border=\"1\" class=\"dataframe\">\n",
       "  <thead>\n",
       "    <tr style=\"text-align: right;\">\n",
       "      <th></th>\n",
       "      <th>min_occ_reg</th>\n",
       "      <th>associated_client_count</th>\n",
       "    </tr>\n",
       "  </thead>\n",
       "  <tbody>\n",
       "    <tr>\n",
       "      <th>min_occ_reg</th>\n",
       "      <td>1.000000</td>\n",
       "      <td>0.717581</td>\n",
       "    </tr>\n",
       "    <tr>\n",
       "      <th>associated_client_count</th>\n",
       "      <td>0.717581</td>\n",
       "      <td>1.000000</td>\n",
       "    </tr>\n",
       "  </tbody>\n",
       "</table>\n",
       "</div>"
      ],
      "text/plain": [
       "                         min_occ_reg  associated_client_count\n",
       "min_occ_reg                 1.000000                 0.717581\n",
       "associated_client_count     0.717581                 1.000000"
      ]
     },
     "execution_count": 33,
     "metadata": {},
     "output_type": "execute_result"
    }
   ],
   "source": [
    "print(df_reg_2.dtypes)\n",
    "corrMatrix = df_reg_2.corr()\n",
    "corrMatrix"
   ]
  },
  {
   "cell_type": "code",
   "execution_count": 34,
   "metadata": {
    "collapsed": false
   },
   "outputs": [
    {
     "data": {
      "text/plain": [
       "<matplotlib.axes._subplots.AxesSubplot at 0x10becfa20>"
      ]
     },
     "execution_count": 34,
     "metadata": {},
     "output_type": "execute_result"
    },
    {
     "data": {
      "text/plain": [
       "<matplotlib.figure.Figure at 0x10b9c25f8>"
      ]
     },
     "metadata": {},
     "output_type": "display_data"
    },
    {
     "data": {
      "image/png": "[encoded data removed]",
      "text/plain": [
       "<matplotlib.figure.Figure at 0x10bb4f1d0>"
      ]
     },
     "metadata": {},
     "output_type": "display_data"
    }
   ],
   "source": [
    "plt.figure() \n",
    "df_reg_2.plot(kind=\"scatter\", x=\"associated_client_count\", y=\"min_occ_reg\", label=\"%.3f\" % corrMatrix.as_matrix()[0,1], figsize=(20, 6))"
   ]
  },
  {
   "cell_type": "code",
   "execution_count": 35,
   "metadata": {
    "collapsed": false
   },
   "outputs": [
    {
     "name": "stdout",
     "output_type": "stream",
     "text": [
      "Coefficients: \n",
      " [ 0.62746015]\n",
      "Intercept: \n",
      " 6.38138235553\n",
      "Residual sum of squares: 271.05\n",
      "Square Root of Residual sum of squares: 16.46\n",
      "Variance score: 0.51\n"
     ]
    },
    {
     "data": {
      "image/png": "[encoded data removed]",
      "text/plain": [
       "<matplotlib.figure.Figure at 0x10beef470>"
      ]
     },
     "metadata": {},
     "output_type": "display_data"
    },
    {
     "data": {
      "text/plain": [
       "<matplotlib.figure.Figure at 0x10be6a518>"
      ]
     },
     "metadata": {},
     "output_type": "display_data"
    }
   ],
   "source": [
    "X = df_reg_2[\"associated_client_count\"].reshape(len(df_reg_2[\"associated_client_count\"]), 1)\n",
    "y = df_reg_2[\"min_occ_reg\"]\n",
    "\n",
    "lm_scikit_2 = LinearRegression()\n",
    "\n",
    "# Fit the model \n",
    "lm_scikit_2.fit(X, y)\n",
    "\n",
    "# Coefficients\n",
    "print(\"Coefficients: \\n\", lm_scikit_2.coef_)\n",
    "# The intercept\n",
    "print('Intercept: \\n', lm_scikit_2.intercept_)\n",
    "# The mean square error: MSE is more popular than MAE because MSE \"punishes\" larger errors. \n",
    "# But, RMSE is even more popular than MSE because RMSE is interpretable in the \"y\" units.\n",
    "print(\"Residual sum of squares: %.2f\" % metrics.mean_squared_error(y, lm_scikit_2.predict(X)))\n",
    "print(\"Square Root of Residual sum of squares: %.2f\" % np.sqrt(metrics.mean_squared_error(y, lm_scikit_2.predict(X))))\n",
    "# Explained variance score: coefficient of determination (R^2)\n",
    "print(\"Variance score: %.2f\" % lm_scikit_2.score(X, y))\n",
    "\n",
    "# Plot outputs\n",
    "plt.scatter(X, y,  color='navy')\n",
    "plt.plot(X, lm_scikit_2.predict(X), color='red',linewidth=2)\n",
    "plt.figure(figsize=(20,20))\n",
    "plt.show()"
   ]
  },
  {
   "cell_type": "markdown",
   "metadata": {},
   "source": [
    "#### Train & Testing\n",
    "\n",
    "**Cross Validation**"
   ]
  },
  {
   "cell_type": "code",
   "execution_count": 36,
   "metadata": {
    "collapsed": false
   },
   "outputs": [
    {
     "name": "stdout",
     "output_type": "stream",
     "text": [
      "[ 0.16112777  0.17065649  0.31806162  0.48293983  0.38207857]\n",
      "0.3029728567\n"
     ]
    }
   ],
   "source": [
    "R2_scores_2 = cross_val_score(lm_scikit_2.fit(X, y), X.astype(int), y.astype(int), cv=5)\n",
    "print(R2_scores_2)\n",
    "print(R2_scores_2.mean())"
   ]
  },
  {
   "cell_type": "markdown",
   "metadata": {},
   "source": [
    "**Train and test** "
   ]
  },
  {
   "cell_type": "code",
   "execution_count": 37,
   "metadata": {
    "collapsed": false
   },
   "outputs": [
    {
     "name": "stdout",
     "output_type": "stream",
     "text": [
      "Coefficients: \n",
      " [ 0.66588293]\n",
      "Intercept: \n",
      " 4.55047712022\n",
      "Residual sum of squares: 286.13\n",
      "Square Root of Residual sum of squares: 16.92\n",
      "Variance score: 0.49\n"
     ]
    },
    {
     "data": {
      "image/png": "[encoded data removed]",
      "text/plain": [
       "<matplotlib.figure.Figure at 0x10b85eac8>"
      ]
     },
     "metadata": {},
     "output_type": "display_data"
    },
    {
     "data": {
      "text/plain": [
       "<matplotlib.figure.Figure at 0x10be657f0>"
      ]
     },
     "metadata": {},
     "output_type": "display_data"
    }
   ],
   "source": [
    "X_train, X_test, y_train, y_test = train_test_split(X, y, test_size=0.3, random_state=42)\n",
    "\n",
    "lm_scikit_2_t = LinearRegression()\n",
    "\n",
    "# Train the model using the training sets\n",
    "lm_scikit_2_t.fit(X_train, y_train)\n",
    "\n",
    "# The coefficients\n",
    "print('Coefficients: \\n', lm_scikit_2_t.coef_)\n",
    "# The intercept\n",
    "print('Intercept: \\n', lm_scikit_2_t.intercept_)\n",
    "# The mean square error\n",
    "print(\"Residual sum of squares: %.2f\" % metrics.mean_squared_error(y_test, lm_scikit_2_t.predict(X_test)))\n",
    "print(\"Square Root of Residual sum of squares: %.2f\" % np.sqrt(metrics.mean_squared_error(y_test, lm_scikit_2_t.predict(X_test))))\n",
    "# Explained variance score: coefficient of determination (R^2)\n",
    "print('Variance score: %.2f' % lm_scikit_2_t.score(X_test, y_test))\n",
    "\n",
    "# Plot outputs\n",
    "plt.scatter(X_test, y_test,  color='navy')\n",
    "plt.plot(X_test, lm_scikit_2_t.predict(X_test), color='red',linewidth=3)\n",
    "plt.figure(figsize=(20,20))\n",
    "plt.show()"
   ]
  },
  {
   "cell_type": "code",
   "execution_count": 38,
   "metadata": {
    "collapsed": false
   },
   "outputs": [
    {
     "data": {
      "text/html": [
       "<div>\n",
       "<table border=\"1\" class=\"dataframe\">\n",
       "  <thead>\n",
       "    <tr style=\"text-align: right;\">\n",
       "      <th></th>\n",
       "      <th>room</th>\n",
       "      <th>date</th>\n",
       "      <th>time</th>\n",
       "      <th>module_code</th>\n",
       "      <th>associated_client_count</th>\n",
       "      <th>authenticated_client_count</th>\n",
       "      <th>occupancy</th>\n",
       "      <th>reg_students</th>\n",
       "      <th>campus</th>\n",
       "      <th>building</th>\n",
       "      <th>capacity</th>\n",
       "      <th>occupancy_number</th>\n",
       "      <th>Difference</th>\n",
       "      <th>max_error</th>\n",
       "      <th>min_occ_reg</th>\n",
       "    </tr>\n",
       "  </thead>\n",
       "  <tbody>\n",
       "    <tr>\n",
       "      <th>0</th>\n",
       "      <td>B-002</td>\n",
       "      <td>2015-11-03</td>\n",
       "      <td>10:00</td>\n",
       "      <td>COMP30110</td>\n",
       "      <td>29.000000</td>\n",
       "      <td>29.000000</td>\n",
       "      <td>0.50</td>\n",
       "      <td>45</td>\n",
       "      <td>Belfield</td>\n",
       "      <td>Computer Science</td>\n",
       "      <td>90</td>\n",
       "      <td>45.0</td>\n",
       "      <td>0.0</td>\n",
       "      <td>11.25</td>\n",
       "      <td>45.0</td>\n",
       "    </tr>\n",
       "    <tr>\n",
       "      <th>1</th>\n",
       "      <td>B-002</td>\n",
       "      <td>2015-11-05</td>\n",
       "      <td>10:00</td>\n",
       "      <td>COMP30110</td>\n",
       "      <td>33.166667</td>\n",
       "      <td>33.166667</td>\n",
       "      <td>0.50</td>\n",
       "      <td>45</td>\n",
       "      <td>Belfield</td>\n",
       "      <td>Computer Science</td>\n",
       "      <td>90</td>\n",
       "      <td>45.0</td>\n",
       "      <td>0.0</td>\n",
       "      <td>11.25</td>\n",
       "      <td>45.0</td>\n",
       "    </tr>\n",
       "    <tr>\n",
       "      <th>2</th>\n",
       "      <td>B-002</td>\n",
       "      <td>2015-11-10</td>\n",
       "      <td>10:00</td>\n",
       "      <td>COMP30110</td>\n",
       "      <td>24.666667</td>\n",
       "      <td>24.666667</td>\n",
       "      <td>0.00</td>\n",
       "      <td>45</td>\n",
       "      <td>Belfield</td>\n",
       "      <td>Computer Science</td>\n",
       "      <td>90</td>\n",
       "      <td>0.0</td>\n",
       "      <td>-45.0</td>\n",
       "      <td>11.25</td>\n",
       "      <td>0.0</td>\n",
       "    </tr>\n",
       "    <tr>\n",
       "      <th>3</th>\n",
       "      <td>B-002</td>\n",
       "      <td>2015-11-12</td>\n",
       "      <td>10:00</td>\n",
       "      <td>COMP30110</td>\n",
       "      <td>27.166667</td>\n",
       "      <td>27.166667</td>\n",
       "      <td>0.25</td>\n",
       "      <td>45</td>\n",
       "      <td>Belfield</td>\n",
       "      <td>Computer Science</td>\n",
       "      <td>90</td>\n",
       "      <td>22.5</td>\n",
       "      <td>-22.5</td>\n",
       "      <td>11.25</td>\n",
       "      <td>22.5</td>\n",
       "    </tr>\n",
       "    <tr>\n",
       "      <th>5</th>\n",
       "      <td>B-002</td>\n",
       "      <td>2015-11-05</td>\n",
       "      <td>12:00</td>\n",
       "      <td>COMP30260</td>\n",
       "      <td>20.833333</td>\n",
       "      <td>20.833333</td>\n",
       "      <td>0.25</td>\n",
       "      <td>18</td>\n",
       "      <td>Belfield</td>\n",
       "      <td>Computer Science</td>\n",
       "      <td>90</td>\n",
       "      <td>22.5</td>\n",
       "      <td>4.5</td>\n",
       "      <td>11.25</td>\n",
       "      <td>18.0</td>\n",
       "    </tr>\n",
       "    <tr>\n",
       "      <th>6</th>\n",
       "      <td>B-002</td>\n",
       "      <td>2015-11-09</td>\n",
       "      <td>14:00</td>\n",
       "      <td>COMP30260</td>\n",
       "      <td>11.333333</td>\n",
       "      <td>11.333333</td>\n",
       "      <td>0.25</td>\n",
       "      <td>18</td>\n",
       "      <td>Belfield</td>\n",
       "      <td>Computer Science</td>\n",
       "      <td>90</td>\n",
       "      <td>22.5</td>\n",
       "      <td>4.5</td>\n",
       "      <td>11.25</td>\n",
       "      <td>18.0</td>\n",
       "    </tr>\n",
       "    <tr>\n",
       "      <th>7</th>\n",
       "      <td>B-002</td>\n",
       "      <td>2015-11-10</td>\n",
       "      <td>11:00</td>\n",
       "      <td>COMP30260</td>\n",
       "      <td>19.333333</td>\n",
       "      <td>19.333333</td>\n",
       "      <td>0.25</td>\n",
       "      <td>18</td>\n",
       "      <td>Belfield</td>\n",
       "      <td>Computer Science</td>\n",
       "      <td>90</td>\n",
       "      <td>22.5</td>\n",
       "      <td>4.5</td>\n",
       "      <td>11.25</td>\n",
       "      <td>18.0</td>\n",
       "    </tr>\n",
       "    <tr>\n",
       "      <th>8</th>\n",
       "      <td>B-002</td>\n",
       "      <td>2015-11-12</td>\n",
       "      <td>12:00</td>\n",
       "      <td>COMP30260</td>\n",
       "      <td>13.833333</td>\n",
       "      <td>13.833333</td>\n",
       "      <td>0.25</td>\n",
       "      <td>18</td>\n",
       "      <td>Belfield</td>\n",
       "      <td>Computer Science</td>\n",
       "      <td>90</td>\n",
       "      <td>22.5</td>\n",
       "      <td>4.5</td>\n",
       "      <td>11.25</td>\n",
       "      <td>18.0</td>\n",
       "    </tr>\n",
       "    <tr>\n",
       "      <th>10</th>\n",
       "      <td>B-002</td>\n",
       "      <td>2015-11-03</td>\n",
       "      <td>16:00</td>\n",
       "      <td>COMP40370</td>\n",
       "      <td>38.714286</td>\n",
       "      <td>38.142857</td>\n",
       "      <td>0.25</td>\n",
       "      <td>27</td>\n",
       "      <td>Belfield</td>\n",
       "      <td>Computer Science</td>\n",
       "      <td>90</td>\n",
       "      <td>22.5</td>\n",
       "      <td>-4.5</td>\n",
       "      <td>11.25</td>\n",
       "      <td>22.5</td>\n",
       "    </tr>\n",
       "    <tr>\n",
       "      <th>11</th>\n",
       "      <td>B-002</td>\n",
       "      <td>2015-11-05</td>\n",
       "      <td>11:00</td>\n",
       "      <td>COMP40370</td>\n",
       "      <td>30.250000</td>\n",
       "      <td>30.000000</td>\n",
       "      <td>0.25</td>\n",
       "      <td>27</td>\n",
       "      <td>Belfield</td>\n",
       "      <td>Computer Science</td>\n",
       "      <td>90</td>\n",
       "      <td>22.5</td>\n",
       "      <td>-4.5</td>\n",
       "      <td>11.25</td>\n",
       "      <td>22.5</td>\n",
       "    </tr>\n",
       "    <tr>\n",
       "      <th>12</th>\n",
       "      <td>B-002</td>\n",
       "      <td>2015-11-10</td>\n",
       "      <td>12:00</td>\n",
       "      <td>COMP40370</td>\n",
       "      <td>31.833333</td>\n",
       "      <td>31.500000</td>\n",
       "      <td>0.25</td>\n",
       "      <td>27</td>\n",
       "      <td>Belfield</td>\n",
       "      <td>Computer Science</td>\n",
       "      <td>90</td>\n",
       "      <td>22.5</td>\n",
       "      <td>-4.5</td>\n",
       "      <td>11.25</td>\n",
       "      <td>22.5</td>\n",
       "    </tr>\n",
       "    <tr>\n",
       "      <th>13</th>\n",
       "      <td>B-002</td>\n",
       "      <td>2015-11-10</td>\n",
       "      <td>16:00</td>\n",
       "      <td>COMP40370</td>\n",
       "      <td>35.166667</td>\n",
       "      <td>35.166667</td>\n",
       "      <td>0.25</td>\n",
       "      <td>27</td>\n",
       "      <td>Belfield</td>\n",
       "      <td>Computer Science</td>\n",
       "      <td>90</td>\n",
       "      <td>22.5</td>\n",
       "      <td>-4.5</td>\n",
       "      <td>11.25</td>\n",
       "      <td>22.5</td>\n",
       "    </tr>\n",
       "    <tr>\n",
       "      <th>14</th>\n",
       "      <td>B-002</td>\n",
       "      <td>2015-11-12</td>\n",
       "      <td>11:00</td>\n",
       "      <td>COMP40370</td>\n",
       "      <td>29.000000</td>\n",
       "      <td>29.000000</td>\n",
       "      <td>0.25</td>\n",
       "      <td>27</td>\n",
       "      <td>Belfield</td>\n",
       "      <td>Computer Science</td>\n",
       "      <td>90</td>\n",
       "      <td>22.5</td>\n",
       "      <td>-4.5</td>\n",
       "      <td>11.25</td>\n",
       "      <td>22.5</td>\n",
       "    </tr>\n",
       "    <tr>\n",
       "      <th>16</th>\n",
       "      <td>B-002</td>\n",
       "      <td>2015-11-03</td>\n",
       "      <td>15:00</td>\n",
       "      <td>COMP30240</td>\n",
       "      <td>35.800000</td>\n",
       "      <td>35.400000</td>\n",
       "      <td>0.25</td>\n",
       "      <td>42</td>\n",
       "      <td>Belfield</td>\n",
       "      <td>Computer Science</td>\n",
       "      <td>90</td>\n",
       "      <td>22.5</td>\n",
       "      <td>-19.5</td>\n",
       "      <td>11.25</td>\n",
       "      <td>22.5</td>\n",
       "    </tr>\n",
       "    <tr>\n",
       "      <th>17</th>\n",
       "      <td>B-002</td>\n",
       "      <td>2015-11-05</td>\n",
       "      <td>14:00</td>\n",
       "      <td>COMP30240</td>\n",
       "      <td>29.500000</td>\n",
       "      <td>29.333333</td>\n",
       "      <td>0.25</td>\n",
       "      <td>42</td>\n",
       "      <td>Belfield</td>\n",
       "      <td>Computer Science</td>\n",
       "      <td>90</td>\n",
       "      <td>22.5</td>\n",
       "      <td>-19.5</td>\n",
       "      <td>11.25</td>\n",
       "      <td>22.5</td>\n",
       "    </tr>\n",
       "    <tr>\n",
       "      <th>18</th>\n",
       "      <td>B-002</td>\n",
       "      <td>2015-11-06</td>\n",
       "      <td>14:00</td>\n",
       "      <td>COMP30240</td>\n",
       "      <td>34.428571</td>\n",
       "      <td>33.857143</td>\n",
       "      <td>0.25</td>\n",
       "      <td>42</td>\n",
       "      <td>Belfield</td>\n",
       "      <td>Computer Science</td>\n",
       "      <td>90</td>\n",
       "      <td>22.5</td>\n",
       "      <td>-19.5</td>\n",
       "      <td>11.25</td>\n",
       "      <td>22.5</td>\n",
       "    </tr>\n",
       "    <tr>\n",
       "      <th>19</th>\n",
       "      <td>B-002</td>\n",
       "      <td>2015-11-10</td>\n",
       "      <td>14:00</td>\n",
       "      <td>COMP30240</td>\n",
       "      <td>43.800000</td>\n",
       "      <td>43.600000</td>\n",
       "      <td>0.50</td>\n",
       "      <td>42</td>\n",
       "      <td>Belfield</td>\n",
       "      <td>Computer Science</td>\n",
       "      <td>90</td>\n",
       "      <td>45.0</td>\n",
       "      <td>3.0</td>\n",
       "      <td>11.25</td>\n",
       "      <td>42.0</td>\n",
       "    </tr>\n",
       "    <tr>\n",
       "      <th>20</th>\n",
       "      <td>B-002</td>\n",
       "      <td>2015-11-10</td>\n",
       "      <td>15:00</td>\n",
       "      <td>COMP30240</td>\n",
       "      <td>42.333333</td>\n",
       "      <td>42.166667</td>\n",
       "      <td>0.50</td>\n",
       "      <td>42</td>\n",
       "      <td>Belfield</td>\n",
       "      <td>Computer Science</td>\n",
       "      <td>90</td>\n",
       "      <td>45.0</td>\n",
       "      <td>3.0</td>\n",
       "      <td>11.25</td>\n",
       "      <td>42.0</td>\n",
       "    </tr>\n",
       "    <tr>\n",
       "      <th>21</th>\n",
       "      <td>B-002</td>\n",
       "      <td>2015-11-12</td>\n",
       "      <td>14:00</td>\n",
       "      <td>COMP30240</td>\n",
       "      <td>29.428571</td>\n",
       "      <td>29.428571</td>\n",
       "      <td>0.50</td>\n",
       "      <td>42</td>\n",
       "      <td>Belfield</td>\n",
       "      <td>Computer Science</td>\n",
       "      <td>90</td>\n",
       "      <td>45.0</td>\n",
       "      <td>3.0</td>\n",
       "      <td>11.25</td>\n",
       "      <td>42.0</td>\n",
       "    </tr>\n",
       "    <tr>\n",
       "      <th>22</th>\n",
       "      <td>B-002</td>\n",
       "      <td>2015-11-13</td>\n",
       "      <td>14:00</td>\n",
       "      <td>COMP30240</td>\n",
       "      <td>17.833333</td>\n",
       "      <td>17.500000</td>\n",
       "      <td>0.25</td>\n",
       "      <td>42</td>\n",
       "      <td>Belfield</td>\n",
       "      <td>Computer Science</td>\n",
       "      <td>90</td>\n",
       "      <td>22.5</td>\n",
       "      <td>-19.5</td>\n",
       "      <td>11.25</td>\n",
       "      <td>22.5</td>\n",
       "    </tr>\n",
       "    <tr>\n",
       "      <th>23</th>\n",
       "      <td>B-002</td>\n",
       "      <td>2015-11-04</td>\n",
       "      <td>09:00</td>\n",
       "      <td>COMP30190</td>\n",
       "      <td>14.000000</td>\n",
       "      <td>14.000000</td>\n",
       "      <td>0.25</td>\n",
       "      <td>29</td>\n",
       "      <td>Belfield</td>\n",
       "      <td>Computer Science</td>\n",
       "      <td>90</td>\n",
       "      <td>22.5</td>\n",
       "      <td>-6.5</td>\n",
       "      <td>11.25</td>\n",
       "      <td>22.5</td>\n",
       "    </tr>\n",
       "    <tr>\n",
       "      <th>24</th>\n",
       "      <td>B-002</td>\n",
       "      <td>2015-11-06</td>\n",
       "      <td>11:00</td>\n",
       "      <td>COMP30190</td>\n",
       "      <td>17.000000</td>\n",
       "      <td>17.000000</td>\n",
       "      <td>0.25</td>\n",
       "      <td>29</td>\n",
       "      <td>Belfield</td>\n",
       "      <td>Computer Science</td>\n",
       "      <td>90</td>\n",
       "      <td>22.5</td>\n",
       "      <td>-6.5</td>\n",
       "      <td>11.25</td>\n",
       "      <td>22.5</td>\n",
       "    </tr>\n",
       "    <tr>\n",
       "      <th>25</th>\n",
       "      <td>B-002</td>\n",
       "      <td>2015-11-06</td>\n",
       "      <td>12:00</td>\n",
       "      <td>COMP30190</td>\n",
       "      <td>14.333333</td>\n",
       "      <td>14.333333</td>\n",
       "      <td>0.25</td>\n",
       "      <td>29</td>\n",
       "      <td>Belfield</td>\n",
       "      <td>Computer Science</td>\n",
       "      <td>90</td>\n",
       "      <td>22.5</td>\n",
       "      <td>-6.5</td>\n",
       "      <td>11.25</td>\n",
       "      <td>22.5</td>\n",
       "    </tr>\n",
       "    <tr>\n",
       "      <th>26</th>\n",
       "      <td>B-002</td>\n",
       "      <td>2015-11-09</td>\n",
       "      <td>09:00</td>\n",
       "      <td>COMP30190</td>\n",
       "      <td>14.833333</td>\n",
       "      <td>14.833333</td>\n",
       "      <td>0.25</td>\n",
       "      <td>29</td>\n",
       "      <td>Belfield</td>\n",
       "      <td>Computer Science</td>\n",
       "      <td>90</td>\n",
       "      <td>22.5</td>\n",
       "      <td>-6.5</td>\n",
       "      <td>11.25</td>\n",
       "      <td>22.5</td>\n",
       "    </tr>\n",
       "    <tr>\n",
       "      <th>27</th>\n",
       "      <td>B-002</td>\n",
       "      <td>2015-11-11</td>\n",
       "      <td>09:00</td>\n",
       "      <td>COMP30190</td>\n",
       "      <td>12.833333</td>\n",
       "      <td>12.833333</td>\n",
       "      <td>0.25</td>\n",
       "      <td>29</td>\n",
       "      <td>Belfield</td>\n",
       "      <td>Computer Science</td>\n",
       "      <td>90</td>\n",
       "      <td>22.5</td>\n",
       "      <td>-6.5</td>\n",
       "      <td>11.25</td>\n",
       "      <td>22.5</td>\n",
       "    </tr>\n",
       "    <tr>\n",
       "      <th>28</th>\n",
       "      <td>B-002</td>\n",
       "      <td>2015-11-13</td>\n",
       "      <td>11:00</td>\n",
       "      <td>COMP30190</td>\n",
       "      <td>11.000000</td>\n",
       "      <td>11.000000</td>\n",
       "      <td>0.00</td>\n",
       "      <td>29</td>\n",
       "      <td>Belfield</td>\n",
       "      <td>Computer Science</td>\n",
       "      <td>90</td>\n",
       "      <td>0.0</td>\n",
       "      <td>-29.0</td>\n",
       "      <td>11.25</td>\n",
       "      <td>0.0</td>\n",
       "    </tr>\n",
       "    <tr>\n",
       "      <th>29</th>\n",
       "      <td>B-002</td>\n",
       "      <td>2015-11-13</td>\n",
       "      <td>12:00</td>\n",
       "      <td>COMP30190</td>\n",
       "      <td>16.000000</td>\n",
       "      <td>16.000000</td>\n",
       "      <td>0.00</td>\n",
       "      <td>29</td>\n",
       "      <td>Belfield</td>\n",
       "      <td>Computer Science</td>\n",
       "      <td>90</td>\n",
       "      <td>0.0</td>\n",
       "      <td>-29.0</td>\n",
       "      <td>11.25</td>\n",
       "      <td>0.0</td>\n",
       "    </tr>\n",
       "    <tr>\n",
       "      <th>30</th>\n",
       "      <td>B-002</td>\n",
       "      <td>2015-11-04</td>\n",
       "      <td>10:00</td>\n",
       "      <td>COMP40660</td>\n",
       "      <td>14.166667</td>\n",
       "      <td>14.166667</td>\n",
       "      <td>0.25</td>\n",
       "      <td>53</td>\n",
       "      <td>Belfield</td>\n",
       "      <td>Computer Science</td>\n",
       "      <td>90</td>\n",
       "      <td>22.5</td>\n",
       "      <td>-30.5</td>\n",
       "      <td>11.25</td>\n",
       "      <td>22.5</td>\n",
       "    </tr>\n",
       "    <tr>\n",
       "      <th>31</th>\n",
       "      <td>B-002</td>\n",
       "      <td>2015-11-09</td>\n",
       "      <td>10:00</td>\n",
       "      <td>COMP40660</td>\n",
       "      <td>17.500000</td>\n",
       "      <td>17.500000</td>\n",
       "      <td>0.25</td>\n",
       "      <td>53</td>\n",
       "      <td>Belfield</td>\n",
       "      <td>Computer Science</td>\n",
       "      <td>90</td>\n",
       "      <td>22.5</td>\n",
       "      <td>-30.5</td>\n",
       "      <td>11.25</td>\n",
       "      <td>22.5</td>\n",
       "    </tr>\n",
       "    <tr>\n",
       "      <th>32</th>\n",
       "      <td>B-002</td>\n",
       "      <td>2015-11-09</td>\n",
       "      <td>16:00</td>\n",
       "      <td>COMP40660</td>\n",
       "      <td>72.500000</td>\n",
       "      <td>72.500000</td>\n",
       "      <td>0.25</td>\n",
       "      <td>53</td>\n",
       "      <td>Belfield</td>\n",
       "      <td>Computer Science</td>\n",
       "      <td>90</td>\n",
       "      <td>22.5</td>\n",
       "      <td>-30.5</td>\n",
       "      <td>11.25</td>\n",
       "      <td>22.5</td>\n",
       "    </tr>\n",
       "    <tr>\n",
       "      <th>33</th>\n",
       "      <td>B-002</td>\n",
       "      <td>2015-11-11</td>\n",
       "      <td>10:00</td>\n",
       "      <td>COMP40660</td>\n",
       "      <td>10.714286</td>\n",
       "      <td>10.714286</td>\n",
       "      <td>0.00</td>\n",
       "      <td>53</td>\n",
       "      <td>Belfield</td>\n",
       "      <td>Computer Science</td>\n",
       "      <td>90</td>\n",
       "      <td>0.0</td>\n",
       "      <td>-53.0</td>\n",
       "      <td>11.25</td>\n",
       "      <td>0.0</td>\n",
       "    </tr>\n",
       "    <tr>\n",
       "      <th>34</th>\n",
       "      <td>B-002</td>\n",
       "      <td>2015-11-04</td>\n",
       "      <td>11:00</td>\n",
       "      <td>COMP30250</td>\n",
       "      <td>8.000000</td>\n",
       "      <td>7.833333</td>\n",
       "      <td>0.25</td>\n",
       "      <td>22</td>\n",
       "      <td>Belfield</td>\n",
       "      <td>Computer Science</td>\n",
       "      <td>90</td>\n",
       "      <td>22.5</td>\n",
       "      <td>0.5</td>\n",
       "      <td>11.25</td>\n",
       "      <td>22.0</td>\n",
       "    </tr>\n",
       "    <tr>\n",
       "      <th>35</th>\n",
       "      <td>B-002</td>\n",
       "      <td>2015-11-04</td>\n",
       "      <td>16:00</td>\n",
       "      <td>COMP30250</td>\n",
       "      <td>20.200000</td>\n",
       "      <td>20.200000</td>\n",
       "      <td>0.25</td>\n",
       "      <td>22</td>\n",
       "      <td>Belfield</td>\n",
       "      <td>Computer Science</td>\n",
       "      <td>90</td>\n",
       "      <td>22.5</td>\n",
       "      <td>0.5</td>\n",
       "      <td>11.25</td>\n",
       "      <td>22.0</td>\n",
       "    </tr>\n",
       "    <tr>\n",
       "      <th>36</th>\n",
       "      <td>B-002</td>\n",
       "      <td>2015-11-09</td>\n",
       "      <td>12:00</td>\n",
       "      <td>COMP30250</td>\n",
       "      <td>16.666667</td>\n",
       "      <td>16.666667</td>\n",
       "      <td>0.25</td>\n",
       "      <td>22</td>\n",
       "      <td>Belfield</td>\n",
       "      <td>Computer Science</td>\n",
       "      <td>90</td>\n",
       "      <td>22.5</td>\n",
       "      <td>0.5</td>\n",
       "      <td>11.25</td>\n",
       "      <td>22.0</td>\n",
       "    </tr>\n",
       "    <tr>\n",
       "      <th>37</th>\n",
       "      <td>B-002</td>\n",
       "      <td>2015-11-11</td>\n",
       "      <td>11:00</td>\n",
       "      <td>COMP30250</td>\n",
       "      <td>10.666667</td>\n",
       "      <td>10.666667</td>\n",
       "      <td>0.25</td>\n",
       "      <td>22</td>\n",
       "      <td>Belfield</td>\n",
       "      <td>Computer Science</td>\n",
       "      <td>90</td>\n",
       "      <td>22.5</td>\n",
       "      <td>0.5</td>\n",
       "      <td>11.25</td>\n",
       "      <td>22.0</td>\n",
       "    </tr>\n",
       "    <tr>\n",
       "      <th>38</th>\n",
       "      <td>B-002</td>\n",
       "      <td>2015-11-11</td>\n",
       "      <td>16:00</td>\n",
       "      <td>COMP30250</td>\n",
       "      <td>23.500000</td>\n",
       "      <td>23.166667</td>\n",
       "      <td>0.25</td>\n",
       "      <td>22</td>\n",
       "      <td>Belfield</td>\n",
       "      <td>Computer Science</td>\n",
       "      <td>90</td>\n",
       "      <td>22.5</td>\n",
       "      <td>0.5</td>\n",
       "      <td>11.25</td>\n",
       "      <td>22.0</td>\n",
       "    </tr>\n",
       "    <tr>\n",
       "      <th>39</th>\n",
       "      <td>B-002</td>\n",
       "      <td>2015-11-04</td>\n",
       "      <td>12:00</td>\n",
       "      <td>COMP41690</td>\n",
       "      <td>36.166667</td>\n",
       "      <td>36.000000</td>\n",
       "      <td>0.50</td>\n",
       "      <td>60</td>\n",
       "      <td>Belfield</td>\n",
       "      <td>Computer Science</td>\n",
       "      <td>90</td>\n",
       "      <td>45.0</td>\n",
       "      <td>-15.0</td>\n",
       "      <td>11.25</td>\n",
       "      <td>45.0</td>\n",
       "    </tr>\n",
       "    <tr>\n",
       "      <th>40</th>\n",
       "      <td>B-002</td>\n",
       "      <td>2015-11-04</td>\n",
       "      <td>13:00</td>\n",
       "      <td>COMP41690</td>\n",
       "      <td>22.333333</td>\n",
       "      <td>22.333333</td>\n",
       "      <td>0.00</td>\n",
       "      <td>60</td>\n",
       "      <td>Belfield</td>\n",
       "      <td>Computer Science</td>\n",
       "      <td>90</td>\n",
       "      <td>0.0</td>\n",
       "      <td>-60.0</td>\n",
       "      <td>11.25</td>\n",
       "      <td>0.0</td>\n",
       "    </tr>\n",
       "    <tr>\n",
       "      <th>41</th>\n",
       "      <td>B-002</td>\n",
       "      <td>2015-11-09</td>\n",
       "      <td>13:00</td>\n",
       "      <td>COMP41690</td>\n",
       "      <td>35.833333</td>\n",
       "      <td>35.833333</td>\n",
       "      <td>0.25</td>\n",
       "      <td>60</td>\n",
       "      <td>Belfield</td>\n",
       "      <td>Computer Science</td>\n",
       "      <td>90</td>\n",
       "      <td>22.5</td>\n",
       "      <td>-37.5</td>\n",
       "      <td>11.25</td>\n",
       "      <td>22.5</td>\n",
       "    </tr>\n",
       "    <tr>\n",
       "      <th>42</th>\n",
       "      <td>B-002</td>\n",
       "      <td>2015-11-11</td>\n",
       "      <td>12:00</td>\n",
       "      <td>COMP41690</td>\n",
       "      <td>41.166667</td>\n",
       "      <td>41.166667</td>\n",
       "      <td>0.25</td>\n",
       "      <td>60</td>\n",
       "      <td>Belfield</td>\n",
       "      <td>Computer Science</td>\n",
       "      <td>90</td>\n",
       "      <td>22.5</td>\n",
       "      <td>-37.5</td>\n",
       "      <td>11.25</td>\n",
       "      <td>22.5</td>\n",
       "    </tr>\n",
       "    <tr>\n",
       "      <th>43</th>\n",
       "      <td>B-002</td>\n",
       "      <td>2015-11-11</td>\n",
       "      <td>13:00</td>\n",
       "      <td>COMP41690</td>\n",
       "      <td>18.000000</td>\n",
       "      <td>18.000000</td>\n",
       "      <td>0.25</td>\n",
       "      <td>60</td>\n",
       "      <td>Belfield</td>\n",
       "      <td>Computer Science</td>\n",
       "      <td>90</td>\n",
       "      <td>22.5</td>\n",
       "      <td>-37.5</td>\n",
       "      <td>11.25</td>\n",
       "      <td>22.5</td>\n",
       "    </tr>\n",
       "    <tr>\n",
       "      <th>44</th>\n",
       "      <td>B-002</td>\n",
       "      <td>2015-11-04</td>\n",
       "      <td>14:00</td>\n",
       "      <td>COMP30220</td>\n",
       "      <td>24.166667</td>\n",
       "      <td>24.166667</td>\n",
       "      <td>0.25</td>\n",
       "      <td>38</td>\n",
       "      <td>Belfield</td>\n",
       "      <td>Computer Science</td>\n",
       "      <td>90</td>\n",
       "      <td>22.5</td>\n",
       "      <td>-15.5</td>\n",
       "      <td>11.25</td>\n",
       "      <td>22.5</td>\n",
       "    </tr>\n",
       "    <tr>\n",
       "      <th>45</th>\n",
       "      <td>B-002</td>\n",
       "      <td>2015-11-06</td>\n",
       "      <td>09:00</td>\n",
       "      <td>COMP30220</td>\n",
       "      <td>2.666667</td>\n",
       "      <td>2.666667</td>\n",
       "      <td>0.00</td>\n",
       "      <td>38</td>\n",
       "      <td>Belfield</td>\n",
       "      <td>Computer Science</td>\n",
       "      <td>90</td>\n",
       "      <td>0.0</td>\n",
       "      <td>-38.0</td>\n",
       "      <td>11.25</td>\n",
       "      <td>0.0</td>\n",
       "    </tr>\n",
       "    <tr>\n",
       "      <th>46</th>\n",
       "      <td>B-002</td>\n",
       "      <td>2015-11-11</td>\n",
       "      <td>14:00</td>\n",
       "      <td>COMP30220</td>\n",
       "      <td>17.166667</td>\n",
       "      <td>17.166667</td>\n",
       "      <td>0.00</td>\n",
       "      <td>38</td>\n",
       "      <td>Belfield</td>\n",
       "      <td>Computer Science</td>\n",
       "      <td>90</td>\n",
       "      <td>0.0</td>\n",
       "      <td>-38.0</td>\n",
       "      <td>11.25</td>\n",
       "      <td>0.0</td>\n",
       "    </tr>\n",
       "    <tr>\n",
       "      <th>47</th>\n",
       "      <td>B-002</td>\n",
       "      <td>2015-11-13</td>\n",
       "      <td>09:00</td>\n",
       "      <td>COMP30220</td>\n",
       "      <td>6.500000</td>\n",
       "      <td>6.500000</td>\n",
       "      <td>0.00</td>\n",
       "      <td>38</td>\n",
       "      <td>Belfield</td>\n",
       "      <td>Computer Science</td>\n",
       "      <td>90</td>\n",
       "      <td>0.0</td>\n",
       "      <td>-38.0</td>\n",
       "      <td>11.25</td>\n",
       "      <td>0.0</td>\n",
       "    </tr>\n",
       "    <tr>\n",
       "      <th>48</th>\n",
       "      <td>B-002</td>\n",
       "      <td>2015-11-04</td>\n",
       "      <td>15:00</td>\n",
       "      <td>COMP30520 &amp; COMP41110</td>\n",
       "      <td>5.166667</td>\n",
       "      <td>5.166667</td>\n",
       "      <td>0.00</td>\n",
       "      <td>79</td>\n",
       "      <td>Belfield</td>\n",
       "      <td>Computer Science</td>\n",
       "      <td>90</td>\n",
       "      <td>0.0</td>\n",
       "      <td>-79.0</td>\n",
       "      <td>11.25</td>\n",
       "      <td>0.0</td>\n",
       "    </tr>\n",
       "    <tr>\n",
       "      <th>49</th>\n",
       "      <td>B-002</td>\n",
       "      <td>2015-11-11</td>\n",
       "      <td>15:00</td>\n",
       "      <td>COMP30520 &amp; COMP41110</td>\n",
       "      <td>30.666667</td>\n",
       "      <td>30.666667</td>\n",
       "      <td>0.25</td>\n",
       "      <td>79</td>\n",
       "      <td>Belfield</td>\n",
       "      <td>Computer Science</td>\n",
       "      <td>90</td>\n",
       "      <td>22.5</td>\n",
       "      <td>-56.5</td>\n",
       "      <td>11.25</td>\n",
       "      <td>22.5</td>\n",
       "    </tr>\n",
       "    <tr>\n",
       "      <th>52</th>\n",
       "      <td>B-002</td>\n",
       "      <td>2015-11-05</td>\n",
       "      <td>15:00</td>\n",
       "      <td>COMP30520</td>\n",
       "      <td>51.000000</td>\n",
       "      <td>51.000000</td>\n",
       "      <td>0.50</td>\n",
       "      <td>60</td>\n",
       "      <td>Belfield</td>\n",
       "      <td>Computer Science</td>\n",
       "      <td>90</td>\n",
       "      <td>45.0</td>\n",
       "      <td>-15.0</td>\n",
       "      <td>11.25</td>\n",
       "      <td>45.0</td>\n",
       "    </tr>\n",
       "    <tr>\n",
       "      <th>53</th>\n",
       "      <td>B-002</td>\n",
       "      <td>2015-11-05</td>\n",
       "      <td>16:00</td>\n",
       "      <td>COMP30520</td>\n",
       "      <td>31.428571</td>\n",
       "      <td>31.428571</td>\n",
       "      <td>0.00</td>\n",
       "      <td>60</td>\n",
       "      <td>Belfield</td>\n",
       "      <td>Computer Science</td>\n",
       "      <td>90</td>\n",
       "      <td>0.0</td>\n",
       "      <td>-60.0</td>\n",
       "      <td>11.25</td>\n",
       "      <td>0.0</td>\n",
       "    </tr>\n",
       "    <tr>\n",
       "      <th>54</th>\n",
       "      <td>B-002</td>\n",
       "      <td>2015-11-12</td>\n",
       "      <td>15:00</td>\n",
       "      <td>COMP30520</td>\n",
       "      <td>64.833333</td>\n",
       "      <td>64.833333</td>\n",
       "      <td>0.25</td>\n",
       "      <td>60</td>\n",
       "      <td>Belfield</td>\n",
       "      <td>Computer Science</td>\n",
       "      <td>90</td>\n",
       "      <td>22.5</td>\n",
       "      <td>-37.5</td>\n",
       "      <td>11.25</td>\n",
       "      <td>22.5</td>\n",
       "    </tr>\n",
       "    <tr>\n",
       "      <th>55</th>\n",
       "      <td>B-002</td>\n",
       "      <td>2015-11-12</td>\n",
       "      <td>16:00</td>\n",
       "      <td>COMP30520</td>\n",
       "      <td>49.833333</td>\n",
       "      <td>49.666667</td>\n",
       "      <td>0.25</td>\n",
       "      <td>60</td>\n",
       "      <td>Belfield</td>\n",
       "      <td>Computer Science</td>\n",
       "      <td>90</td>\n",
       "      <td>22.5</td>\n",
       "      <td>-37.5</td>\n",
       "      <td>11.25</td>\n",
       "      <td>22.5</td>\n",
       "    </tr>\n",
       "    <tr>\n",
       "      <th>56</th>\n",
       "      <td>B-002</td>\n",
       "      <td>2015-11-06</td>\n",
       "      <td>13:00</td>\n",
       "      <td>COMP30170</td>\n",
       "      <td>9.800000</td>\n",
       "      <td>9.600000</td>\n",
       "      <td>0.25</td>\n",
       "      <td>51</td>\n",
       "      <td>Belfield</td>\n",
       "      <td>Computer Science</td>\n",
       "      <td>90</td>\n",
       "      <td>22.5</td>\n",
       "      <td>-28.5</td>\n",
       "      <td>11.25</td>\n",
       "      <td>22.5</td>\n",
       "    </tr>\n",
       "    <tr>\n",
       "      <th>57</th>\n",
       "      <td>B-002</td>\n",
       "      <td>2015-11-13</td>\n",
       "      <td>13:00</td>\n",
       "      <td>COMP30170</td>\n",
       "      <td>13.500000</td>\n",
       "      <td>13.500000</td>\n",
       "      <td>0.00</td>\n",
       "      <td>51</td>\n",
       "      <td>Belfield</td>\n",
       "      <td>Computer Science</td>\n",
       "      <td>90</td>\n",
       "      <td>0.0</td>\n",
       "      <td>-51.0</td>\n",
       "      <td>11.25</td>\n",
       "      <td>0.0</td>\n",
       "    </tr>\n",
       "    <tr>\n",
       "      <th>58</th>\n",
       "      <td>B-004</td>\n",
       "      <td>2015-11-06</td>\n",
       "      <td>15:00</td>\n",
       "      <td>COMP30220</td>\n",
       "      <td>10.500000</td>\n",
       "      <td>10.500000</td>\n",
       "      <td>0.00</td>\n",
       "      <td>38</td>\n",
       "      <td>Belfield</td>\n",
       "      <td>Computer Science</td>\n",
       "      <td>160</td>\n",
       "      <td>0.0</td>\n",
       "      <td>-38.0</td>\n",
       "      <td>20.00</td>\n",
       "      <td>0.0</td>\n",
       "    </tr>\n",
       "    <tr>\n",
       "      <th>60</th>\n",
       "      <td>B-004</td>\n",
       "      <td>2015-11-04</td>\n",
       "      <td>11:00</td>\n",
       "      <td>COMP20020</td>\n",
       "      <td>61.333333</td>\n",
       "      <td>61.333333</td>\n",
       "      <td>0.25</td>\n",
       "      <td>98</td>\n",
       "      <td>Belfield</td>\n",
       "      <td>Computer Science</td>\n",
       "      <td>160</td>\n",
       "      <td>40.0</td>\n",
       "      <td>-58.0</td>\n",
       "      <td>20.00</td>\n",
       "      <td>40.0</td>\n",
       "    </tr>\n",
       "    <tr>\n",
       "      <th>61</th>\n",
       "      <td>B-004</td>\n",
       "      <td>2015-11-09</td>\n",
       "      <td>12:00</td>\n",
       "      <td>COMP20020</td>\n",
       "      <td>66.333333</td>\n",
       "      <td>65.833333</td>\n",
       "      <td>0.25</td>\n",
       "      <td>98</td>\n",
       "      <td>Belfield</td>\n",
       "      <td>Computer Science</td>\n",
       "      <td>160</td>\n",
       "      <td>40.0</td>\n",
       "      <td>-58.0</td>\n",
       "      <td>20.00</td>\n",
       "      <td>40.0</td>\n",
       "    </tr>\n",
       "    <tr>\n",
       "      <th>62</th>\n",
       "      <td>B-004</td>\n",
       "      <td>2015-11-11</td>\n",
       "      <td>11:00</td>\n",
       "      <td>COMP20020</td>\n",
       "      <td>51.166667</td>\n",
       "      <td>51.166667</td>\n",
       "      <td>0.25</td>\n",
       "      <td>98</td>\n",
       "      <td>Belfield</td>\n",
       "      <td>Computer Science</td>\n",
       "      <td>160</td>\n",
       "      <td>40.0</td>\n",
       "      <td>-58.0</td>\n",
       "      <td>20.00</td>\n",
       "      <td>40.0</td>\n",
       "    </tr>\n",
       "    <tr>\n",
       "      <th>63</th>\n",
       "      <td>B-004</td>\n",
       "      <td>2015-11-03</td>\n",
       "      <td>12:00</td>\n",
       "      <td>COMP30080</td>\n",
       "      <td>110.000000</td>\n",
       "      <td>110.000000</td>\n",
       "      <td>0.50</td>\n",
       "      <td>139</td>\n",
       "      <td>Belfield</td>\n",
       "      <td>Computer Science</td>\n",
       "      <td>160</td>\n",
       "      <td>80.0</td>\n",
       "      <td>-59.0</td>\n",
       "      <td>20.00</td>\n",
       "      <td>80.0</td>\n",
       "    </tr>\n",
       "    <tr>\n",
       "      <th>64</th>\n",
       "      <td>B-004</td>\n",
       "      <td>2015-11-05</td>\n",
       "      <td>11:00</td>\n",
       "      <td>COMP30080</td>\n",
       "      <td>71.500000</td>\n",
       "      <td>71.250000</td>\n",
       "      <td>0.25</td>\n",
       "      <td>139</td>\n",
       "      <td>Belfield</td>\n",
       "      <td>Computer Science</td>\n",
       "      <td>160</td>\n",
       "      <td>40.0</td>\n",
       "      <td>-99.0</td>\n",
       "      <td>20.00</td>\n",
       "      <td>40.0</td>\n",
       "    </tr>\n",
       "    <tr>\n",
       "      <th>65</th>\n",
       "      <td>B-004</td>\n",
       "      <td>2015-11-10</td>\n",
       "      <td>12:00</td>\n",
       "      <td>COMP30080</td>\n",
       "      <td>91.333333</td>\n",
       "      <td>91.166667</td>\n",
       "      <td>0.25</td>\n",
       "      <td>139</td>\n",
       "      <td>Belfield</td>\n",
       "      <td>Computer Science</td>\n",
       "      <td>160</td>\n",
       "      <td>40.0</td>\n",
       "      <td>-99.0</td>\n",
       "      <td>20.00</td>\n",
       "      <td>40.0</td>\n",
       "    </tr>\n",
       "    <tr>\n",
       "      <th>66</th>\n",
       "      <td>B-004</td>\n",
       "      <td>2015-11-12</td>\n",
       "      <td>11:00</td>\n",
       "      <td>COMP30080</td>\n",
       "      <td>69.000000</td>\n",
       "      <td>68.500000</td>\n",
       "      <td>0.25</td>\n",
       "      <td>139</td>\n",
       "      <td>Belfield</td>\n",
       "      <td>Computer Science</td>\n",
       "      <td>160</td>\n",
       "      <td>40.0</td>\n",
       "      <td>-99.0</td>\n",
       "      <td>20.00</td>\n",
       "      <td>40.0</td>\n",
       "    </tr>\n",
       "    <tr>\n",
       "      <th>67</th>\n",
       "      <td>B-004</td>\n",
       "      <td>2015-11-03</td>\n",
       "      <td>09:00</td>\n",
       "      <td>COMP41450 &amp; COMP30120</td>\n",
       "      <td>123.166667</td>\n",
       "      <td>123.000000</td>\n",
       "      <td>0.75</td>\n",
       "      <td>143</td>\n",
       "      <td>Belfield</td>\n",
       "      <td>Computer Science</td>\n",
       "      <td>160</td>\n",
       "      <td>120.0</td>\n",
       "      <td>-23.0</td>\n",
       "      <td>20.00</td>\n",
       "      <td>120.0</td>\n",
       "    </tr>\n",
       "    <tr>\n",
       "      <th>68</th>\n",
       "      <td>B-004</td>\n",
       "      <td>2015-11-05</td>\n",
       "      <td>09:00</td>\n",
       "      <td>COMP41450 &amp; COMP30120</td>\n",
       "      <td>226.833333</td>\n",
       "      <td>225.166667</td>\n",
       "      <td>1.00</td>\n",
       "      <td>143</td>\n",
       "      <td>Belfield</td>\n",
       "      <td>Computer Science</td>\n",
       "      <td>160</td>\n",
       "      <td>160.0</td>\n",
       "      <td>17.0</td>\n",
       "      <td>20.00</td>\n",
       "      <td>143.0</td>\n",
       "    </tr>\n",
       "    <tr>\n",
       "      <th>69</th>\n",
       "      <td>B-004</td>\n",
       "      <td>2015-11-10</td>\n",
       "      <td>09:00</td>\n",
       "      <td>COMP41450 &amp; COMP30120</td>\n",
       "      <td>67.833333</td>\n",
       "      <td>67.500000</td>\n",
       "      <td>0.25</td>\n",
       "      <td>143</td>\n",
       "      <td>Belfield</td>\n",
       "      <td>Computer Science</td>\n",
       "      <td>160</td>\n",
       "      <td>40.0</td>\n",
       "      <td>-103.0</td>\n",
       "      <td>20.00</td>\n",
       "      <td>40.0</td>\n",
       "    </tr>\n",
       "    <tr>\n",
       "      <th>70</th>\n",
       "      <td>B-004</td>\n",
       "      <td>2015-11-12</td>\n",
       "      <td>09:00</td>\n",
       "      <td>COMP41450 &amp; COMP30120</td>\n",
       "      <td>90.600000</td>\n",
       "      <td>90.600000</td>\n",
       "      <td>0.50</td>\n",
       "      <td>143</td>\n",
       "      <td>Belfield</td>\n",
       "      <td>Computer Science</td>\n",
       "      <td>160</td>\n",
       "      <td>80.0</td>\n",
       "      <td>-63.0</td>\n",
       "      <td>20.00</td>\n",
       "      <td>80.0</td>\n",
       "    </tr>\n",
       "    <tr>\n",
       "      <th>71</th>\n",
       "      <td>B-004</td>\n",
       "      <td>2015-11-03</td>\n",
       "      <td>10:00</td>\n",
       "      <td>COMP10130</td>\n",
       "      <td>102.833333</td>\n",
       "      <td>102.333333</td>\n",
       "      <td>0.50</td>\n",
       "      <td>112</td>\n",
       "      <td>Belfield</td>\n",
       "      <td>Computer Science</td>\n",
       "      <td>160</td>\n",
       "      <td>80.0</td>\n",
       "      <td>-32.0</td>\n",
       "      <td>20.00</td>\n",
       "      <td>80.0</td>\n",
       "    </tr>\n",
       "    <tr>\n",
       "      <th>72</th>\n",
       "      <td>B-004</td>\n",
       "      <td>2015-11-10</td>\n",
       "      <td>10:00</td>\n",
       "      <td>COMP10130</td>\n",
       "      <td>123.666667</td>\n",
       "      <td>122.833333</td>\n",
       "      <td>0.25</td>\n",
       "      <td>112</td>\n",
       "      <td>Belfield</td>\n",
       "      <td>Computer Science</td>\n",
       "      <td>160</td>\n",
       "      <td>40.0</td>\n",
       "      <td>-72.0</td>\n",
       "      <td>20.00</td>\n",
       "      <td>40.0</td>\n",
       "    </tr>\n",
       "    <tr>\n",
       "      <th>73</th>\n",
       "      <td>B-004</td>\n",
       "      <td>2015-11-03</td>\n",
       "      <td>11:00</td>\n",
       "      <td>COMP20070</td>\n",
       "      <td>65.800000</td>\n",
       "      <td>65.600000</td>\n",
       "      <td>0.50</td>\n",
       "      <td>107</td>\n",
       "      <td>Belfield</td>\n",
       "      <td>Computer Science</td>\n",
       "      <td>160</td>\n",
       "      <td>80.0</td>\n",
       "      <td>-27.0</td>\n",
       "      <td>20.00</td>\n",
       "      <td>80.0</td>\n",
       "    </tr>\n",
       "    <tr>\n",
       "      <th>74</th>\n",
       "      <td>B-004</td>\n",
       "      <td>2015-11-05</td>\n",
       "      <td>12:00</td>\n",
       "      <td>COMP20070</td>\n",
       "      <td>50.166667</td>\n",
       "      <td>50.000000</td>\n",
       "      <td>0.25</td>\n",
       "      <td>107</td>\n",
       "      <td>Belfield</td>\n",
       "      <td>Computer Science</td>\n",
       "      <td>160</td>\n",
       "      <td>40.0</td>\n",
       "      <td>-67.0</td>\n",
       "      <td>20.00</td>\n",
       "      <td>40.0</td>\n",
       "    </tr>\n",
       "    <tr>\n",
       "      <th>75</th>\n",
       "      <td>B-004</td>\n",
       "      <td>2015-11-10</td>\n",
       "      <td>11:00</td>\n",
       "      <td>COMP20070</td>\n",
       "      <td>69.666667</td>\n",
       "      <td>69.166667</td>\n",
       "      <td>0.25</td>\n",
       "      <td>107</td>\n",
       "      <td>Belfield</td>\n",
       "      <td>Computer Science</td>\n",
       "      <td>160</td>\n",
       "      <td>40.0</td>\n",
       "      <td>-67.0</td>\n",
       "      <td>20.00</td>\n",
       "      <td>40.0</td>\n",
       "    </tr>\n",
       "    <tr>\n",
       "      <th>76</th>\n",
       "      <td>B-004</td>\n",
       "      <td>2015-11-12</td>\n",
       "      <td>12:00</td>\n",
       "      <td>COMP20070</td>\n",
       "      <td>52.333333</td>\n",
       "      <td>52.333333</td>\n",
       "      <td>0.25</td>\n",
       "      <td>107</td>\n",
       "      <td>Belfield</td>\n",
       "      <td>Computer Science</td>\n",
       "      <td>160</td>\n",
       "      <td>40.0</td>\n",
       "      <td>-67.0</td>\n",
       "      <td>20.00</td>\n",
       "      <td>40.0</td>\n",
       "    </tr>\n",
       "    <tr>\n",
       "      <th>77</th>\n",
       "      <td>B-004</td>\n",
       "      <td>2015-11-03</td>\n",
       "      <td>13:00</td>\n",
       "      <td>COMP20110</td>\n",
       "      <td>55.166667</td>\n",
       "      <td>55.166667</td>\n",
       "      <td>0.50</td>\n",
       "      <td>103</td>\n",
       "      <td>Belfield</td>\n",
       "      <td>Computer Science</td>\n",
       "      <td>160</td>\n",
       "      <td>80.0</td>\n",
       "      <td>-23.0</td>\n",
       "      <td>20.00</td>\n",
       "      <td>80.0</td>\n",
       "    </tr>\n",
       "    <tr>\n",
       "      <th>78</th>\n",
       "      <td>B-004</td>\n",
       "      <td>2015-11-06</td>\n",
       "      <td>13:00</td>\n",
       "      <td>COMP20110</td>\n",
       "      <td>48.400000</td>\n",
       "      <td>48.400000</td>\n",
       "      <td>0.50</td>\n",
       "      <td>103</td>\n",
       "      <td>Belfield</td>\n",
       "      <td>Computer Science</td>\n",
       "      <td>160</td>\n",
       "      <td>80.0</td>\n",
       "      <td>-23.0</td>\n",
       "      <td>20.00</td>\n",
       "      <td>80.0</td>\n",
       "    </tr>\n",
       "    <tr>\n",
       "      <th>79</th>\n",
       "      <td>B-004</td>\n",
       "      <td>2015-11-10</td>\n",
       "      <td>13:00</td>\n",
       "      <td>COMP20110</td>\n",
       "      <td>56.500000</td>\n",
       "      <td>56.500000</td>\n",
       "      <td>0.25</td>\n",
       "      <td>103</td>\n",
       "      <td>Belfield</td>\n",
       "      <td>Computer Science</td>\n",
       "      <td>160</td>\n",
       "      <td>40.0</td>\n",
       "      <td>-63.0</td>\n",
       "      <td>20.00</td>\n",
       "      <td>40.0</td>\n",
       "    </tr>\n",
       "    <tr>\n",
       "      <th>80</th>\n",
       "      <td>B-004</td>\n",
       "      <td>2015-11-13</td>\n",
       "      <td>13:00</td>\n",
       "      <td>COMP20110</td>\n",
       "      <td>24.833333</td>\n",
       "      <td>24.833333</td>\n",
       "      <td>0.00</td>\n",
       "      <td>103</td>\n",
       "      <td>Belfield</td>\n",
       "      <td>Computer Science</td>\n",
       "      <td>160</td>\n",
       "      <td>0.0</td>\n",
       "      <td>-103.0</td>\n",
       "      <td>20.00</td>\n",
       "      <td>0.0</td>\n",
       "    </tr>\n",
       "    <tr>\n",
       "      <th>83</th>\n",
       "      <td>B-004</td>\n",
       "      <td>2015-11-03</td>\n",
       "      <td>15:00</td>\n",
       "      <td>COMP20010</td>\n",
       "      <td>58.800000</td>\n",
       "      <td>58.800000</td>\n",
       "      <td>0.25</td>\n",
       "      <td>108</td>\n",
       "      <td>Belfield</td>\n",
       "      <td>Computer Science</td>\n",
       "      <td>160</td>\n",
       "      <td>40.0</td>\n",
       "      <td>-68.0</td>\n",
       "      <td>20.00</td>\n",
       "      <td>40.0</td>\n",
       "    </tr>\n",
       "    <tr>\n",
       "      <th>84</th>\n",
       "      <td>B-004</td>\n",
       "      <td>2015-11-05</td>\n",
       "      <td>16:00</td>\n",
       "      <td>COMP20010</td>\n",
       "      <td>0.000000</td>\n",
       "      <td>0.000000</td>\n",
       "      <td>0.00</td>\n",
       "      <td>108</td>\n",
       "      <td>Belfield</td>\n",
       "      <td>Computer Science</td>\n",
       "      <td>160</td>\n",
       "      <td>0.0</td>\n",
       "      <td>-108.0</td>\n",
       "      <td>20.00</td>\n",
       "      <td>0.0</td>\n",
       "    </tr>\n",
       "    <tr>\n",
       "      <th>85</th>\n",
       "      <td>B-004</td>\n",
       "      <td>2015-11-10</td>\n",
       "      <td>15:00</td>\n",
       "      <td>COMP20010</td>\n",
       "      <td>65.000000</td>\n",
       "      <td>65.000000</td>\n",
       "      <td>0.25</td>\n",
       "      <td>108</td>\n",
       "      <td>Belfield</td>\n",
       "      <td>Computer Science</td>\n",
       "      <td>160</td>\n",
       "      <td>40.0</td>\n",
       "      <td>-68.0</td>\n",
       "      <td>20.00</td>\n",
       "      <td>40.0</td>\n",
       "    </tr>\n",
       "    <tr>\n",
       "      <th>86</th>\n",
       "      <td>B-004</td>\n",
       "      <td>2015-11-12</td>\n",
       "      <td>16:00</td>\n",
       "      <td>COMP20010</td>\n",
       "      <td>57.166667</td>\n",
       "      <td>57.166667</td>\n",
       "      <td>0.00</td>\n",
       "      <td>108</td>\n",
       "      <td>Belfield</td>\n",
       "      <td>Computer Science</td>\n",
       "      <td>160</td>\n",
       "      <td>0.0</td>\n",
       "      <td>-108.0</td>\n",
       "      <td>20.00</td>\n",
       "      <td>0.0</td>\n",
       "    </tr>\n",
       "    <tr>\n",
       "      <th>87</th>\n",
       "      <td>B-004</td>\n",
       "      <td>2015-11-04</td>\n",
       "      <td>09:00</td>\n",
       "      <td>COMP30010</td>\n",
       "      <td>32.600000</td>\n",
       "      <td>32.600000</td>\n",
       "      <td>0.25</td>\n",
       "      <td>79</td>\n",
       "      <td>Belfield</td>\n",
       "      <td>Computer Science</td>\n",
       "      <td>160</td>\n",
       "      <td>40.0</td>\n",
       "      <td>-39.0</td>\n",
       "      <td>20.00</td>\n",
       "      <td>40.0</td>\n",
       "    </tr>\n",
       "    <tr>\n",
       "      <th>88</th>\n",
       "      <td>B-004</td>\n",
       "      <td>2015-11-09</td>\n",
       "      <td>09:00</td>\n",
       "      <td>COMP30010</td>\n",
       "      <td>29.166667</td>\n",
       "      <td>29.166667</td>\n",
       "      <td>0.25</td>\n",
       "      <td>79</td>\n",
       "      <td>Belfield</td>\n",
       "      <td>Computer Science</td>\n",
       "      <td>160</td>\n",
       "      <td>40.0</td>\n",
       "      <td>-39.0</td>\n",
       "      <td>20.00</td>\n",
       "      <td>40.0</td>\n",
       "    </tr>\n",
       "    <tr>\n",
       "      <th>89</th>\n",
       "      <td>B-004</td>\n",
       "      <td>2015-11-11</td>\n",
       "      <td>09:00</td>\n",
       "      <td>COMP30010</td>\n",
       "      <td>24.333333</td>\n",
       "      <td>24.333333</td>\n",
       "      <td>0.00</td>\n",
       "      <td>79</td>\n",
       "      <td>Belfield</td>\n",
       "      <td>Computer Science</td>\n",
       "      <td>160</td>\n",
       "      <td>0.0</td>\n",
       "      <td>-79.0</td>\n",
       "      <td>20.00</td>\n",
       "      <td>0.0</td>\n",
       "    </tr>\n",
       "    <tr>\n",
       "      <th>90</th>\n",
       "      <td>B-004</td>\n",
       "      <td>2015-11-04</td>\n",
       "      <td>12:00</td>\n",
       "      <td>COMP20130</td>\n",
       "      <td>72.833333</td>\n",
       "      <td>72.833333</td>\n",
       "      <td>0.50</td>\n",
       "      <td>74</td>\n",
       "      <td>Belfield</td>\n",
       "      <td>Computer Science</td>\n",
       "      <td>160</td>\n",
       "      <td>80.0</td>\n",
       "      <td>6.0</td>\n",
       "      <td>20.00</td>\n",
       "      <td>74.0</td>\n",
       "    </tr>\n",
       "    <tr>\n",
       "      <th>91</th>\n",
       "      <td>B-004</td>\n",
       "      <td>2015-11-11</td>\n",
       "      <td>12:00</td>\n",
       "      <td>COMP20130</td>\n",
       "      <td>71.500000</td>\n",
       "      <td>71.500000</td>\n",
       "      <td>0.25</td>\n",
       "      <td>74</td>\n",
       "      <td>Belfield</td>\n",
       "      <td>Computer Science</td>\n",
       "      <td>160</td>\n",
       "      <td>40.0</td>\n",
       "      <td>-34.0</td>\n",
       "      <td>20.00</td>\n",
       "      <td>40.0</td>\n",
       "    </tr>\n",
       "    <tr>\n",
       "      <th>92</th>\n",
       "      <td>B-004</td>\n",
       "      <td>2015-11-04</td>\n",
       "      <td>15:00</td>\n",
       "      <td>COMP30070</td>\n",
       "      <td>1.166667</td>\n",
       "      <td>1.166667</td>\n",
       "      <td>0.00</td>\n",
       "      <td>84</td>\n",
       "      <td>Belfield</td>\n",
       "      <td>Computer Science</td>\n",
       "      <td>160</td>\n",
       "      <td>0.0</td>\n",
       "      <td>-84.0</td>\n",
       "      <td>20.00</td>\n",
       "      <td>0.0</td>\n",
       "    </tr>\n",
       "    <tr>\n",
       "      <th>93</th>\n",
       "      <td>B-004</td>\n",
       "      <td>2015-11-06</td>\n",
       "      <td>11:00</td>\n",
       "      <td>COMP30070</td>\n",
       "      <td>31.666667</td>\n",
       "      <td>31.333333</td>\n",
       "      <td>0.25</td>\n",
       "      <td>84</td>\n",
       "      <td>Belfield</td>\n",
       "      <td>Computer Science</td>\n",
       "      <td>160</td>\n",
       "      <td>40.0</td>\n",
       "      <td>-44.0</td>\n",
       "      <td>20.00</td>\n",
       "      <td>40.0</td>\n",
       "    </tr>\n",
       "    <tr>\n",
       "      <th>94</th>\n",
       "      <td>B-004</td>\n",
       "      <td>2015-11-11</td>\n",
       "      <td>15:00</td>\n",
       "      <td>COMP30070</td>\n",
       "      <td>37.000000</td>\n",
       "      <td>37.000000</td>\n",
       "      <td>0.00</td>\n",
       "      <td>84</td>\n",
       "      <td>Belfield</td>\n",
       "      <td>Computer Science</td>\n",
       "      <td>160</td>\n",
       "      <td>0.0</td>\n",
       "      <td>-84.0</td>\n",
       "      <td>20.00</td>\n",
       "      <td>0.0</td>\n",
       "    </tr>\n",
       "    <tr>\n",
       "      <th>95</th>\n",
       "      <td>B-004</td>\n",
       "      <td>2015-11-13</td>\n",
       "      <td>11:00</td>\n",
       "      <td>COMP30070</td>\n",
       "      <td>34.166667</td>\n",
       "      <td>34.166667</td>\n",
       "      <td>0.00</td>\n",
       "      <td>84</td>\n",
       "      <td>Belfield</td>\n",
       "      <td>Computer Science</td>\n",
       "      <td>160</td>\n",
       "      <td>0.0</td>\n",
       "      <td>-84.0</td>\n",
       "      <td>20.00</td>\n",
       "      <td>0.0</td>\n",
       "    </tr>\n",
       "    <tr>\n",
       "      <th>96</th>\n",
       "      <td>B-004</td>\n",
       "      <td>2015-11-05</td>\n",
       "      <td>10:00</td>\n",
       "      <td>MATH10130</td>\n",
       "      <td>40.333333</td>\n",
       "      <td>40.333333</td>\n",
       "      <td>0.25</td>\n",
       "      <td>56</td>\n",
       "      <td>Belfield</td>\n",
       "      <td>Computer Science</td>\n",
       "      <td>160</td>\n",
       "      <td>40.0</td>\n",
       "      <td>-16.0</td>\n",
       "      <td>20.00</td>\n",
       "      <td>40.0</td>\n",
       "    </tr>\n",
       "    <tr>\n",
       "      <th>98</th>\n",
       "      <td>B-004</td>\n",
       "      <td>2015-11-05</td>\n",
       "      <td>13:00</td>\n",
       "      <td>COMP10110</td>\n",
       "      <td>101.166667</td>\n",
       "      <td>100.666667</td>\n",
       "      <td>0.50</td>\n",
       "      <td>113</td>\n",
       "      <td>Belfield</td>\n",
       "      <td>Computer Science</td>\n",
       "      <td>160</td>\n",
       "      <td>80.0</td>\n",
       "      <td>-33.0</td>\n",
       "      <td>20.00</td>\n",
       "      <td>80.0</td>\n",
       "    </tr>\n",
       "    <tr>\n",
       "      <th>99</th>\n",
       "      <td>B-004</td>\n",
       "      <td>2015-11-06</td>\n",
       "      <td>14:00</td>\n",
       "      <td>COMP10110</td>\n",
       "      <td>128.285714</td>\n",
       "      <td>127.857143</td>\n",
       "      <td>0.25</td>\n",
       "      <td>113</td>\n",
       "      <td>Belfield</td>\n",
       "      <td>Computer Science</td>\n",
       "      <td>160</td>\n",
       "      <td>40.0</td>\n",
       "      <td>-73.0</td>\n",
       "      <td>20.00</td>\n",
       "      <td>40.0</td>\n",
       "    </tr>\n",
       "    <tr>\n",
       "      <th>100</th>\n",
       "      <td>B-004</td>\n",
       "      <td>2015-11-12</td>\n",
       "      <td>13:00</td>\n",
       "      <td>COMP10110</td>\n",
       "      <td>85.500000</td>\n",
       "      <td>85.333333</td>\n",
       "      <td>0.50</td>\n",
       "      <td>113</td>\n",
       "      <td>Belfield</td>\n",
       "      <td>Computer Science</td>\n",
       "      <td>160</td>\n",
       "      <td>80.0</td>\n",
       "      <td>-33.0</td>\n",
       "      <td>20.00</td>\n",
       "      <td>80.0</td>\n",
       "    </tr>\n",
       "    <tr>\n",
       "      <th>101</th>\n",
       "      <td>B-004</td>\n",
       "      <td>2015-11-13</td>\n",
       "      <td>14:00</td>\n",
       "      <td>COMP10110</td>\n",
       "      <td>117.000000</td>\n",
       "      <td>116.833333</td>\n",
       "      <td>0.50</td>\n",
       "      <td>113</td>\n",
       "      <td>Belfield</td>\n",
       "      <td>Computer Science</td>\n",
       "      <td>160</td>\n",
       "      <td>80.0</td>\n",
       "      <td>-33.0</td>\n",
       "      <td>20.00</td>\n",
       "      <td>80.0</td>\n",
       "    </tr>\n",
       "    <tr>\n",
       "      <th>102</th>\n",
       "      <td>B-004</td>\n",
       "      <td>2015-11-05</td>\n",
       "      <td>14:00</td>\n",
       "      <td>ENVB30110</td>\n",
       "      <td>69.500000</td>\n",
       "      <td>69.500000</td>\n",
       "      <td>0.25</td>\n",
       "      <td>83</td>\n",
       "      <td>Belfield</td>\n",
       "      <td>Computer Science</td>\n",
       "      <td>160</td>\n",
       "      <td>40.0</td>\n",
       "      <td>-43.0</td>\n",
       "      <td>20.00</td>\n",
       "      <td>40.0</td>\n",
       "    </tr>\n",
       "    <tr>\n",
       "      <th>103</th>\n",
       "      <td>B-004</td>\n",
       "      <td>2015-11-12</td>\n",
       "      <td>14:00</td>\n",
       "      <td>ENVB30110</td>\n",
       "      <td>52.714286</td>\n",
       "      <td>52.714286</td>\n",
       "      <td>0.50</td>\n",
       "      <td>83</td>\n",
       "      <td>Belfield</td>\n",
       "      <td>Computer Science</td>\n",
       "      <td>160</td>\n",
       "      <td>80.0</td>\n",
       "      <td>-3.0</td>\n",
       "      <td>20.00</td>\n",
       "      <td>80.0</td>\n",
       "    </tr>\n",
       "    <tr>\n",
       "      <th>104</th>\n",
       "      <td>B-004</td>\n",
       "      <td>2015-11-06</td>\n",
       "      <td>10:00</td>\n",
       "      <td>MATH10200</td>\n",
       "      <td>66.166667</td>\n",
       "      <td>66.166667</td>\n",
       "      <td>0.50</td>\n",
       "      <td>96</td>\n",
       "      <td>Belfield</td>\n",
       "      <td>Computer Science</td>\n",
       "      <td>160</td>\n",
       "      <td>80.0</td>\n",
       "      <td>-16.0</td>\n",
       "      <td>20.00</td>\n",
       "      <td>80.0</td>\n",
       "    </tr>\n",
       "    <tr>\n",
       "      <th>105</th>\n",
       "      <td>B-004</td>\n",
       "      <td>2015-11-13</td>\n",
       "      <td>10:00</td>\n",
       "      <td>MATH10200</td>\n",
       "      <td>57.166667</td>\n",
       "      <td>57.000000</td>\n",
       "      <td>0.00</td>\n",
       "      <td>96</td>\n",
       "      <td>Belfield</td>\n",
       "      <td>Computer Science</td>\n",
       "      <td>160</td>\n",
       "      <td>0.0</td>\n",
       "      <td>-96.0</td>\n",
       "      <td>20.00</td>\n",
       "      <td>0.0</td>\n",
       "    </tr>\n",
       "    <tr>\n",
       "      <th>106</th>\n",
       "      <td>B-004</td>\n",
       "      <td>2015-11-09</td>\n",
       "      <td>14:00</td>\n",
       "      <td>SCI30060</td>\n",
       "      <td>43.333333</td>\n",
       "      <td>43.333333</td>\n",
       "      <td>0.25</td>\n",
       "      <td>66</td>\n",
       "      <td>Belfield</td>\n",
       "      <td>Computer Science</td>\n",
       "      <td>160</td>\n",
       "      <td>40.0</td>\n",
       "      <td>-26.0</td>\n",
       "      <td>20.00</td>\n",
       "      <td>40.0</td>\n",
       "    </tr>\n",
       "    <tr>\n",
       "      <th>117</th>\n",
       "      <td>B-003</td>\n",
       "      <td>2015-11-05</td>\n",
       "      <td>12:00</td>\n",
       "      <td>COMP10280</td>\n",
       "      <td>46.833333</td>\n",
       "      <td>46.666667</td>\n",
       "      <td>0.50</td>\n",
       "      <td>56</td>\n",
       "      <td>Belfield</td>\n",
       "      <td>Computer Science</td>\n",
       "      <td>90</td>\n",
       "      <td>45.0</td>\n",
       "      <td>-11.0</td>\n",
       "      <td>11.25</td>\n",
       "      <td>45.0</td>\n",
       "    </tr>\n",
       "    <tr>\n",
       "      <th>118</th>\n",
       "      <td>B-003</td>\n",
       "      <td>2015-11-10</td>\n",
       "      <td>11:00</td>\n",
       "      <td>COMP10280</td>\n",
       "      <td>60.000000</td>\n",
       "      <td>59.833333</td>\n",
       "      <td>0.50</td>\n",
       "      <td>56</td>\n",
       "      <td>Belfield</td>\n",
       "      <td>Computer Science</td>\n",
       "      <td>90</td>\n",
       "      <td>45.0</td>\n",
       "      <td>-11.0</td>\n",
       "      <td>11.25</td>\n",
       "      <td>45.0</td>\n",
       "    </tr>\n",
       "    <tr>\n",
       "      <th>119</th>\n",
       "      <td>B-003</td>\n",
       "      <td>2015-11-12</td>\n",
       "      <td>12:00</td>\n",
       "      <td>COMP10280</td>\n",
       "      <td>68.666667</td>\n",
       "      <td>68.500000</td>\n",
       "      <td>0.25</td>\n",
       "      <td>56</td>\n",
       "      <td>Belfield</td>\n",
       "      <td>Computer Science</td>\n",
       "      <td>90</td>\n",
       "      <td>22.5</td>\n",
       "      <td>-33.5</td>\n",
       "      <td>11.25</td>\n",
       "      <td>22.5</td>\n",
       "    </tr>\n",
       "    <tr>\n",
       "      <th>132</th>\n",
       "      <td>B-003</td>\n",
       "      <td>2015-11-04</td>\n",
       "      <td>12:00</td>\n",
       "      <td>COMP30080_P1</td>\n",
       "      <td>90.666667</td>\n",
       "      <td>90.166667</td>\n",
       "      <td>0.75</td>\n",
       "      <td>73</td>\n",
       "      <td>Belfield</td>\n",
       "      <td>Computer Science</td>\n",
       "      <td>90</td>\n",
       "      <td>67.5</td>\n",
       "      <td>-5.5</td>\n",
       "      <td>11.25</td>\n",
       "      <td>67.5</td>\n",
       "    </tr>\n",
       "    <tr>\n",
       "      <th>133</th>\n",
       "      <td>B-003</td>\n",
       "      <td>2015-11-04</td>\n",
       "      <td>13:00</td>\n",
       "      <td>COMP30080_P1</td>\n",
       "      <td>88.166667</td>\n",
       "      <td>88.166667</td>\n",
       "      <td>0.75</td>\n",
       "      <td>73</td>\n",
       "      <td>Belfield</td>\n",
       "      <td>Computer Science</td>\n",
       "      <td>90</td>\n",
       "      <td>67.5</td>\n",
       "      <td>-5.5</td>\n",
       "      <td>11.25</td>\n",
       "      <td>67.5</td>\n",
       "    </tr>\n",
       "    <tr>\n",
       "      <th>134</th>\n",
       "      <td>B-003</td>\n",
       "      <td>2015-11-05</td>\n",
       "      <td>09:00</td>\n",
       "      <td>COMP30060</td>\n",
       "      <td>13.333333</td>\n",
       "      <td>13.166667</td>\n",
       "      <td>0.00</td>\n",
       "      <td>42</td>\n",
       "      <td>Belfield</td>\n",
       "      <td>Computer Science</td>\n",
       "      <td>90</td>\n",
       "      <td>0.0</td>\n",
       "      <td>-42.0</td>\n",
       "      <td>11.25</td>\n",
       "      <td>0.0</td>\n",
       "    </tr>\n",
       "    <tr>\n",
       "      <th>135</th>\n",
       "      <td>B-003</td>\n",
       "      <td>2015-11-12</td>\n",
       "      <td>09:00</td>\n",
       "      <td>COMP30060</td>\n",
       "      <td>6.200000</td>\n",
       "      <td>6.200000</td>\n",
       "      <td>0.00</td>\n",
       "      <td>42</td>\n",
       "      <td>Belfield</td>\n",
       "      <td>Computer Science</td>\n",
       "      <td>90</td>\n",
       "      <td>0.0</td>\n",
       "      <td>-42.0</td>\n",
       "      <td>11.25</td>\n",
       "      <td>0.0</td>\n",
       "    </tr>\n",
       "    <tr>\n",
       "      <th>136</th>\n",
       "      <td>B-003</td>\n",
       "      <td>2015-11-06</td>\n",
       "      <td>09:00</td>\n",
       "      <td>COMP20020</td>\n",
       "      <td>26.333333</td>\n",
       "      <td>26.333333</td>\n",
       "      <td>0.25</td>\n",
       "      <td>98</td>\n",
       "      <td>Belfield</td>\n",
       "      <td>Computer Science</td>\n",
       "      <td>90</td>\n",
       "      <td>22.5</td>\n",
       "      <td>-75.5</td>\n",
       "      <td>11.25</td>\n",
       "      <td>22.5</td>\n",
       "    </tr>\n",
       "    <tr>\n",
       "      <th>137</th>\n",
       "      <td>B-003</td>\n",
       "      <td>2015-11-06</td>\n",
       "      <td>10:00</td>\n",
       "      <td>COMP20020</td>\n",
       "      <td>46.666667</td>\n",
       "      <td>46.666667</td>\n",
       "      <td>0.75</td>\n",
       "      <td>98</td>\n",
       "      <td>Belfield</td>\n",
       "      <td>Computer Science</td>\n",
       "      <td>90</td>\n",
       "      <td>67.5</td>\n",
       "      <td>-30.5</td>\n",
       "      <td>11.25</td>\n",
       "      <td>67.5</td>\n",
       "    </tr>\n",
       "    <tr>\n",
       "      <th>138</th>\n",
       "      <td>B-003</td>\n",
       "      <td>2015-11-13</td>\n",
       "      <td>09:00</td>\n",
       "      <td>COMP20020</td>\n",
       "      <td>22.666667</td>\n",
       "      <td>22.666667</td>\n",
       "      <td>0.50</td>\n",
       "      <td>98</td>\n",
       "      <td>Belfield</td>\n",
       "      <td>Computer Science</td>\n",
       "      <td>90</td>\n",
       "      <td>45.0</td>\n",
       "      <td>-53.0</td>\n",
       "      <td>11.25</td>\n",
       "      <td>45.0</td>\n",
       "    </tr>\n",
       "    <tr>\n",
       "      <th>139</th>\n",
       "      <td>B-003</td>\n",
       "      <td>2015-11-13</td>\n",
       "      <td>10:00</td>\n",
       "      <td>COMP20020</td>\n",
       "      <td>28.000000</td>\n",
       "      <td>28.000000</td>\n",
       "      <td>0.50</td>\n",
       "      <td>98</td>\n",
       "      <td>Belfield</td>\n",
       "      <td>Computer Science</td>\n",
       "      <td>90</td>\n",
       "      <td>45.0</td>\n",
       "      <td>-53.0</td>\n",
       "      <td>11.25</td>\n",
       "      <td>45.0</td>\n",
       "    </tr>\n",
       "    <tr>\n",
       "      <th>140</th>\n",
       "      <td>B-003</td>\n",
       "      <td>2015-11-06</td>\n",
       "      <td>14:00</td>\n",
       "      <td>COMP30080</td>\n",
       "      <td>55.571429</td>\n",
       "      <td>55.285714</td>\n",
       "      <td>0.75</td>\n",
       "      <td>139</td>\n",
       "      <td>Belfield</td>\n",
       "      <td>Computer Science</td>\n",
       "      <td>90</td>\n",
       "      <td>67.5</td>\n",
       "      <td>-71.5</td>\n",
       "      <td>11.25</td>\n",
       "      <td>67.5</td>\n",
       "    </tr>\n",
       "    <tr>\n",
       "      <th>141</th>\n",
       "      <td>B-003</td>\n",
       "      <td>2015-11-06</td>\n",
       "      <td>15:00</td>\n",
       "      <td>COMP30080</td>\n",
       "      <td>49.500000</td>\n",
       "      <td>49.333333</td>\n",
       "      <td>0.75</td>\n",
       "      <td>139</td>\n",
       "      <td>Belfield</td>\n",
       "      <td>Computer Science</td>\n",
       "      <td>90</td>\n",
       "      <td>67.5</td>\n",
       "      <td>-71.5</td>\n",
       "      <td>11.25</td>\n",
       "      <td>67.5</td>\n",
       "    </tr>\n",
       "    <tr>\n",
       "      <th>142</th>\n",
       "      <td>B-003</td>\n",
       "      <td>2015-11-13</td>\n",
       "      <td>14:00</td>\n",
       "      <td>COMP30080</td>\n",
       "      <td>46.500000</td>\n",
       "      <td>46.333333</td>\n",
       "      <td>0.50</td>\n",
       "      <td>139</td>\n",
       "      <td>Belfield</td>\n",
       "      <td>Computer Science</td>\n",
       "      <td>90</td>\n",
       "      <td>45.0</td>\n",
       "      <td>-94.0</td>\n",
       "      <td>11.25</td>\n",
       "      <td>45.0</td>\n",
       "    </tr>\n",
       "    <tr>\n",
       "      <th>143</th>\n",
       "      <td>B-003</td>\n",
       "      <td>2015-11-13</td>\n",
       "      <td>15:00</td>\n",
       "      <td>COMP30080</td>\n",
       "      <td>40.333333</td>\n",
       "      <td>40.166667</td>\n",
       "      <td>0.25</td>\n",
       "      <td>139</td>\n",
       "      <td>Belfield</td>\n",
       "      <td>Computer Science</td>\n",
       "      <td>90</td>\n",
       "      <td>22.5</td>\n",
       "      <td>-116.5</td>\n",
       "      <td>11.25</td>\n",
       "      <td>22.5</td>\n",
       "    </tr>\n",
       "    <tr>\n",
       "      <th>144</th>\n",
       "      <td>B-003</td>\n",
       "      <td>2015-11-09</td>\n",
       "      <td>09:00</td>\n",
       "      <td>COMP20020_P1</td>\n",
       "      <td>30.000000</td>\n",
       "      <td>29.833333</td>\n",
       "      <td>0.50</td>\n",
       "      <td>53</td>\n",
       "      <td>Belfield</td>\n",
       "      <td>Computer Science</td>\n",
       "      <td>90</td>\n",
       "      <td>45.0</td>\n",
       "      <td>-8.0</td>\n",
       "      <td>11.25</td>\n",
       "      <td>45.0</td>\n",
       "    </tr>\n",
       "    <tr>\n",
       "      <th>145</th>\n",
       "      <td>B-003</td>\n",
       "      <td>2015-11-09</td>\n",
       "      <td>10:00</td>\n",
       "      <td>COMP20020_P2</td>\n",
       "      <td>38.750000</td>\n",
       "      <td>38.750000</td>\n",
       "      <td>0.25</td>\n",
       "      <td>45</td>\n",
       "      <td>Belfield</td>\n",
       "      <td>Computer Science</td>\n",
       "      <td>90</td>\n",
       "      <td>22.5</td>\n",
       "      <td>-22.5</td>\n",
       "      <td>11.25</td>\n",
       "      <td>22.5</td>\n",
       "    </tr>\n",
       "    <tr>\n",
       "      <th>146</th>\n",
       "      <td>B-003</td>\n",
       "      <td>2015-11-09</td>\n",
       "      <td>11:00</td>\n",
       "      <td>COMP30010_P1</td>\n",
       "      <td>34.333333</td>\n",
       "      <td>34.333333</td>\n",
       "      <td>0.50</td>\n",
       "      <td>45</td>\n",
       "      <td>Belfield</td>\n",
       "      <td>Computer Science</td>\n",
       "      <td>90</td>\n",
       "      <td>45.0</td>\n",
       "      <td>0.0</td>\n",
       "      <td>11.25</td>\n",
       "      <td>45.0</td>\n",
       "    </tr>\n",
       "    <tr>\n",
       "      <th>147</th>\n",
       "      <td>B-003</td>\n",
       "      <td>2015-11-09</td>\n",
       "      <td>12:00</td>\n",
       "      <td>COMP30010_P1</td>\n",
       "      <td>49.166667</td>\n",
       "      <td>49.166667</td>\n",
       "      <td>0.50</td>\n",
       "      <td>45</td>\n",
       "      <td>Belfield</td>\n",
       "      <td>Computer Science</td>\n",
       "      <td>90</td>\n",
       "      <td>45.0</td>\n",
       "      <td>0.0</td>\n",
       "      <td>11.25</td>\n",
       "      <td>45.0</td>\n",
       "    </tr>\n",
       "    <tr>\n",
       "      <th>148</th>\n",
       "      <td>B-003</td>\n",
       "      <td>2015-11-09</td>\n",
       "      <td>14:00</td>\n",
       "      <td>COMP30010_P2</td>\n",
       "      <td>34.666667</td>\n",
       "      <td>34.666667</td>\n",
       "      <td>0.25</td>\n",
       "      <td>33</td>\n",
       "      <td>Belfield</td>\n",
       "      <td>Computer Science</td>\n",
       "      <td>90</td>\n",
       "      <td>22.5</td>\n",
       "      <td>-10.5</td>\n",
       "      <td>11.25</td>\n",
       "      <td>22.5</td>\n",
       "    </tr>\n",
       "    <tr>\n",
       "      <th>149</th>\n",
       "      <td>B-003</td>\n",
       "      <td>2015-11-09</td>\n",
       "      <td>15:00</td>\n",
       "      <td>COMP30010_P2</td>\n",
       "      <td>26.428571</td>\n",
       "      <td>26.285714</td>\n",
       "      <td>0.25</td>\n",
       "      <td>33</td>\n",
       "      <td>Belfield</td>\n",
       "      <td>Computer Science</td>\n",
       "      <td>90</td>\n",
       "      <td>22.5</td>\n",
       "      <td>-10.5</td>\n",
       "      <td>11.25</td>\n",
       "      <td>22.5</td>\n",
       "    </tr>\n",
       "    <tr>\n",
       "      <th>151</th>\n",
       "      <td>B-003</td>\n",
       "      <td>2015-11-11</td>\n",
       "      <td>12:00</td>\n",
       "      <td>COMP30080_P2</td>\n",
       "      <td>92.000000</td>\n",
       "      <td>92.000000</td>\n",
       "      <td>0.75</td>\n",
       "      <td>65</td>\n",
       "      <td>Belfield</td>\n",
       "      <td>Computer Science</td>\n",
       "      <td>90</td>\n",
       "      <td>67.5</td>\n",
       "      <td>2.5</td>\n",
       "      <td>11.25</td>\n",
       "      <td>65.0</td>\n",
       "    </tr>\n",
       "    <tr>\n",
       "      <th>152</th>\n",
       "      <td>B-003</td>\n",
       "      <td>2015-11-11</td>\n",
       "      <td>13:00</td>\n",
       "      <td>COMP30080_P2</td>\n",
       "      <td>89.500000</td>\n",
       "      <td>88.500000</td>\n",
       "      <td>0.75</td>\n",
       "      <td>65</td>\n",
       "      <td>Belfield</td>\n",
       "      <td>Computer Science</td>\n",
       "      <td>90</td>\n",
       "      <td>67.5</td>\n",
       "      <td>2.5</td>\n",
       "      <td>11.25</td>\n",
       "      <td>65.0</td>\n",
       "    </tr>\n",
       "  </tbody>\n",
       "</table>\n",
       "</div>"
      ],
      "text/plain": [
       "      room        date   time            module_code  associated_client_count  \\\n",
       "0    B-002  2015-11-03  10:00              COMP30110                29.000000   \n",
       "1    B-002  2015-11-05  10:00              COMP30110                33.166667   \n",
       "2    B-002  2015-11-10  10:00              COMP30110                24.666667   \n",
       "3    B-002  2015-11-12  10:00              COMP30110                27.166667   \n",
       "5    B-002  2015-11-05  12:00              COMP30260                20.833333   \n",
       "6    B-002  2015-11-09  14:00              COMP30260                11.333333   \n",
       "7    B-002  2015-11-10  11:00              COMP30260                19.333333   \n",
       "8    B-002  2015-11-12  12:00              COMP30260                13.833333   \n",
       "10   B-002  2015-11-03  16:00              COMP40370                38.714286   \n",
       "11   B-002  2015-11-05  11:00              COMP40370                30.250000   \n",
       "12   B-002  2015-11-10  12:00              COMP40370                31.833333   \n",
       "13   B-002  2015-11-10  16:00              COMP40370                35.166667   \n",
       "14   B-002  2015-11-12  11:00              COMP40370                29.000000   \n",
       "16   B-002  2015-11-03  15:00              COMP30240                35.800000   \n",
       "17   B-002  2015-11-05  14:00              COMP30240                29.500000   \n",
       "18   B-002  2015-11-06  14:00              COMP30240                34.428571   \n",
       "19   B-002  2015-11-10  14:00              COMP30240                43.800000   \n",
       "20   B-002  2015-11-10  15:00              COMP30240                42.333333   \n",
       "21   B-002  2015-11-12  14:00              COMP30240                29.428571   \n",
       "22   B-002  2015-11-13  14:00              COMP30240                17.833333   \n",
       "23   B-002  2015-11-04  09:00              COMP30190                14.000000   \n",
       "24   B-002  2015-11-06  11:00              COMP30190                17.000000   \n",
       "25   B-002  2015-11-06  12:00              COMP30190                14.333333   \n",
       "26   B-002  2015-11-09  09:00              COMP30190                14.833333   \n",
       "27   B-002  2015-11-11  09:00              COMP30190                12.833333   \n",
       "28   B-002  2015-11-13  11:00              COMP30190                11.000000   \n",
       "29   B-002  2015-11-13  12:00              COMP30190                16.000000   \n",
       "30   B-002  2015-11-04  10:00              COMP40660                14.166667   \n",
       "31   B-002  2015-11-09  10:00              COMP40660                17.500000   \n",
       "32   B-002  2015-11-09  16:00              COMP40660                72.500000   \n",
       "33   B-002  2015-11-11  10:00              COMP40660                10.714286   \n",
       "34   B-002  2015-11-04  11:00              COMP30250                 8.000000   \n",
       "35   B-002  2015-11-04  16:00              COMP30250                20.200000   \n",
       "36   B-002  2015-11-09  12:00              COMP30250                16.666667   \n",
       "37   B-002  2015-11-11  11:00              COMP30250                10.666667   \n",
       "38   B-002  2015-11-11  16:00              COMP30250                23.500000   \n",
       "39   B-002  2015-11-04  12:00              COMP41690                36.166667   \n",
       "40   B-002  2015-11-04  13:00              COMP41690                22.333333   \n",
       "41   B-002  2015-11-09  13:00              COMP41690                35.833333   \n",
       "42   B-002  2015-11-11  12:00              COMP41690                41.166667   \n",
       "43   B-002  2015-11-11  13:00              COMP41690                18.000000   \n",
       "44   B-002  2015-11-04  14:00              COMP30220                24.166667   \n",
       "45   B-002  2015-11-06  09:00              COMP30220                 2.666667   \n",
       "46   B-002  2015-11-11  14:00              COMP30220                17.166667   \n",
       "47   B-002  2015-11-13  09:00              COMP30220                 6.500000   \n",
       "48   B-002  2015-11-04  15:00  COMP30520 & COMP41110                 5.166667   \n",
       "49   B-002  2015-11-11  15:00  COMP30520 & COMP41110                30.666667   \n",
       "52   B-002  2015-11-05  15:00              COMP30520                51.000000   \n",
       "53   B-002  2015-11-05  16:00              COMP30520                31.428571   \n",
       "54   B-002  2015-11-12  15:00              COMP30520                64.833333   \n",
       "55   B-002  2015-11-12  16:00              COMP30520                49.833333   \n",
       "56   B-002  2015-11-06  13:00              COMP30170                 9.800000   \n",
       "57   B-002  2015-11-13  13:00              COMP30170                13.500000   \n",
       "58   B-004  2015-11-06  15:00              COMP30220                10.500000   \n",
       "60   B-004  2015-11-04  11:00              COMP20020                61.333333   \n",
       "61   B-004  2015-11-09  12:00              COMP20020                66.333333   \n",
       "62   B-004  2015-11-11  11:00              COMP20020                51.166667   \n",
       "63   B-004  2015-11-03  12:00              COMP30080               110.000000   \n",
       "64   B-004  2015-11-05  11:00              COMP30080                71.500000   \n",
       "65   B-004  2015-11-10  12:00              COMP30080                91.333333   \n",
       "66   B-004  2015-11-12  11:00              COMP30080                69.000000   \n",
       "67   B-004  2015-11-03  09:00  COMP41450 & COMP30120               123.166667   \n",
       "68   B-004  2015-11-05  09:00  COMP41450 & COMP30120               226.833333   \n",
       "69   B-004  2015-11-10  09:00  COMP41450 & COMP30120                67.833333   \n",
       "70   B-004  2015-11-12  09:00  COMP41450 & COMP30120                90.600000   \n",
       "71   B-004  2015-11-03  10:00              COMP10130               102.833333   \n",
       "72   B-004  2015-11-10  10:00              COMP10130               123.666667   \n",
       "73   B-004  2015-11-03  11:00              COMP20070                65.800000   \n",
       "74   B-004  2015-11-05  12:00              COMP20070                50.166667   \n",
       "75   B-004  2015-11-10  11:00              COMP20070                69.666667   \n",
       "76   B-004  2015-11-12  12:00              COMP20070                52.333333   \n",
       "77   B-004  2015-11-03  13:00              COMP20110                55.166667   \n",
       "78   B-004  2015-11-06  13:00              COMP20110                48.400000   \n",
       "79   B-004  2015-11-10  13:00              COMP20110                56.500000   \n",
       "80   B-004  2015-11-13  13:00              COMP20110                24.833333   \n",
       "83   B-004  2015-11-03  15:00              COMP20010                58.800000   \n",
       "84   B-004  2015-11-05  16:00              COMP20010                 0.000000   \n",
       "85   B-004  2015-11-10  15:00              COMP20010                65.000000   \n",
       "86   B-004  2015-11-12  16:00              COMP20010                57.166667   \n",
       "87   B-004  2015-11-04  09:00              COMP30010                32.600000   \n",
       "88   B-004  2015-11-09  09:00              COMP30010                29.166667   \n",
       "89   B-004  2015-11-11  09:00              COMP30010                24.333333   \n",
       "90   B-004  2015-11-04  12:00              COMP20130                72.833333   \n",
       "91   B-004  2015-11-11  12:00              COMP20130                71.500000   \n",
       "92   B-004  2015-11-04  15:00              COMP30070                 1.166667   \n",
       "93   B-004  2015-11-06  11:00              COMP30070                31.666667   \n",
       "94   B-004  2015-11-11  15:00              COMP30070                37.000000   \n",
       "95   B-004  2015-11-13  11:00              COMP30070                34.166667   \n",
       "96   B-004  2015-11-05  10:00              MATH10130                40.333333   \n",
       "98   B-004  2015-11-05  13:00              COMP10110               101.166667   \n",
       "99   B-004  2015-11-06  14:00              COMP10110               128.285714   \n",
       "100  B-004  2015-11-12  13:00              COMP10110                85.500000   \n",
       "101  B-004  2015-11-13  14:00              COMP10110               117.000000   \n",
       "102  B-004  2015-11-05  14:00              ENVB30110                69.500000   \n",
       "103  B-004  2015-11-12  14:00              ENVB30110                52.714286   \n",
       "104  B-004  2015-11-06  10:00              MATH10200                66.166667   \n",
       "105  B-004  2015-11-13  10:00              MATH10200                57.166667   \n",
       "106  B-004  2015-11-09  14:00               SCI30060                43.333333   \n",
       "117  B-003  2015-11-05  12:00              COMP10280                46.833333   \n",
       "118  B-003  2015-11-10  11:00              COMP10280                60.000000   \n",
       "119  B-003  2015-11-12  12:00              COMP10280                68.666667   \n",
       "132  B-003  2015-11-04  12:00           COMP30080_P1                90.666667   \n",
       "133  B-003  2015-11-04  13:00           COMP30080_P1                88.166667   \n",
       "134  B-003  2015-11-05  09:00              COMP30060                13.333333   \n",
       "135  B-003  2015-11-12  09:00              COMP30060                 6.200000   \n",
       "136  B-003  2015-11-06  09:00              COMP20020                26.333333   \n",
       "137  B-003  2015-11-06  10:00              COMP20020                46.666667   \n",
       "138  B-003  2015-11-13  09:00              COMP20020                22.666667   \n",
       "139  B-003  2015-11-13  10:00              COMP20020                28.000000   \n",
       "140  B-003  2015-11-06  14:00              COMP30080                55.571429   \n",
       "141  B-003  2015-11-06  15:00              COMP30080                49.500000   \n",
       "142  B-003  2015-11-13  14:00              COMP30080                46.500000   \n",
       "143  B-003  2015-11-13  15:00              COMP30080                40.333333   \n",
       "144  B-003  2015-11-09  09:00           COMP20020_P1                30.000000   \n",
       "145  B-003  2015-11-09  10:00           COMP20020_P2                38.750000   \n",
       "146  B-003  2015-11-09  11:00           COMP30010_P1                34.333333   \n",
       "147  B-003  2015-11-09  12:00           COMP30010_P1                49.166667   \n",
       "148  B-003  2015-11-09  14:00           COMP30010_P2                34.666667   \n",
       "149  B-003  2015-11-09  15:00           COMP30010_P2                26.428571   \n",
       "151  B-003  2015-11-11  12:00           COMP30080_P2                92.000000   \n",
       "152  B-003  2015-11-11  13:00           COMP30080_P2                89.500000   \n",
       "\n",
       "     authenticated_client_count  occupancy  reg_students    campus  \\\n",
       "0                     29.000000       0.50            45  Belfield   \n",
       "1                     33.166667       0.50            45  Belfield   \n",
       "2                     24.666667       0.00            45  Belfield   \n",
       "3                     27.166667       0.25            45  Belfield   \n",
       "5                     20.833333       0.25            18  Belfield   \n",
       "6                     11.333333       0.25            18  Belfield   \n",
       "7                     19.333333       0.25            18  Belfield   \n",
       "8                     13.833333       0.25            18  Belfield   \n",
       "10                    38.142857       0.25            27  Belfield   \n",
       "11                    30.000000       0.25            27  Belfield   \n",
       "12                    31.500000       0.25            27  Belfield   \n",
       "13                    35.166667       0.25            27  Belfield   \n",
       "14                    29.000000       0.25            27  Belfield   \n",
       "16                    35.400000       0.25            42  Belfield   \n",
       "17                    29.333333       0.25            42  Belfield   \n",
       "18                    33.857143       0.25            42  Belfield   \n",
       "19                    43.600000       0.50            42  Belfield   \n",
       "20                    42.166667       0.50            42  Belfield   \n",
       "21                    29.428571       0.50            42  Belfield   \n",
       "22                    17.500000       0.25            42  Belfield   \n",
       "23                    14.000000       0.25            29  Belfield   \n",
       "24                    17.000000       0.25            29  Belfield   \n",
       "25                    14.333333       0.25            29  Belfield   \n",
       "26                    14.833333       0.25            29  Belfield   \n",
       "27                    12.833333       0.25            29  Belfield   \n",
       "28                    11.000000       0.00            29  Belfield   \n",
       "29                    16.000000       0.00            29  Belfield   \n",
       "30                    14.166667       0.25            53  Belfield   \n",
       "31                    17.500000       0.25            53  Belfield   \n",
       "32                    72.500000       0.25            53  Belfield   \n",
       "33                    10.714286       0.00            53  Belfield   \n",
       "34                     7.833333       0.25            22  Belfield   \n",
       "35                    20.200000       0.25            22  Belfield   \n",
       "36                    16.666667       0.25            22  Belfield   \n",
       "37                    10.666667       0.25            22  Belfield   \n",
       "38                    23.166667       0.25            22  Belfield   \n",
       "39                    36.000000       0.50            60  Belfield   \n",
       "40                    22.333333       0.00            60  Belfield   \n",
       "41                    35.833333       0.25            60  Belfield   \n",
       "42                    41.166667       0.25            60  Belfield   \n",
       "43                    18.000000       0.25            60  Belfield   \n",
       "44                    24.166667       0.25            38  Belfield   \n",
       "45                     2.666667       0.00            38  Belfield   \n",
       "46                    17.166667       0.00            38  Belfield   \n",
       "47                     6.500000       0.00            38  Belfield   \n",
       "48                     5.166667       0.00            79  Belfield   \n",
       "49                    30.666667       0.25            79  Belfield   \n",
       "52                    51.000000       0.50            60  Belfield   \n",
       "53                    31.428571       0.00            60  Belfield   \n",
       "54                    64.833333       0.25            60  Belfield   \n",
       "55                    49.666667       0.25            60  Belfield   \n",
       "56                     9.600000       0.25            51  Belfield   \n",
       "57                    13.500000       0.00            51  Belfield   \n",
       "58                    10.500000       0.00            38  Belfield   \n",
       "60                    61.333333       0.25            98  Belfield   \n",
       "61                    65.833333       0.25            98  Belfield   \n",
       "62                    51.166667       0.25            98  Belfield   \n",
       "63                   110.000000       0.50           139  Belfield   \n",
       "64                    71.250000       0.25           139  Belfield   \n",
       "65                    91.166667       0.25           139  Belfield   \n",
       "66                    68.500000       0.25           139  Belfield   \n",
       "67                   123.000000       0.75           143  Belfield   \n",
       "68                   225.166667       1.00           143  Belfield   \n",
       "69                    67.500000       0.25           143  Belfield   \n",
       "70                    90.600000       0.50           143  Belfield   \n",
       "71                   102.333333       0.50           112  Belfield   \n",
       "72                   122.833333       0.25           112  Belfield   \n",
       "73                    65.600000       0.50           107  Belfield   \n",
       "74                    50.000000       0.25           107  Belfield   \n",
       "75                    69.166667       0.25           107  Belfield   \n",
       "76                    52.333333       0.25           107  Belfield   \n",
       "77                    55.166667       0.50           103  Belfield   \n",
       "78                    48.400000       0.50           103  Belfield   \n",
       "79                    56.500000       0.25           103  Belfield   \n",
       "80                    24.833333       0.00           103  Belfield   \n",
       "83                    58.800000       0.25           108  Belfield   \n",
       "84                     0.000000       0.00           108  Belfield   \n",
       "85                    65.000000       0.25           108  Belfield   \n",
       "86                    57.166667       0.00           108  Belfield   \n",
       "87                    32.600000       0.25            79  Belfield   \n",
       "88                    29.166667       0.25            79  Belfield   \n",
       "89                    24.333333       0.00            79  Belfield   \n",
       "90                    72.833333       0.50            74  Belfield   \n",
       "91                    71.500000       0.25            74  Belfield   \n",
       "92                     1.166667       0.00            84  Belfield   \n",
       "93                    31.333333       0.25            84  Belfield   \n",
       "94                    37.000000       0.00            84  Belfield   \n",
       "95                    34.166667       0.00            84  Belfield   \n",
       "96                    40.333333       0.25            56  Belfield   \n",
       "98                   100.666667       0.50           113  Belfield   \n",
       "99                   127.857143       0.25           113  Belfield   \n",
       "100                   85.333333       0.50           113  Belfield   \n",
       "101                  116.833333       0.50           113  Belfield   \n",
       "102                   69.500000       0.25            83  Belfield   \n",
       "103                   52.714286       0.50            83  Belfield   \n",
       "104                   66.166667       0.50            96  Belfield   \n",
       "105                   57.000000       0.00            96  Belfield   \n",
       "106                   43.333333       0.25            66  Belfield   \n",
       "117                   46.666667       0.50            56  Belfield   \n",
       "118                   59.833333       0.50            56  Belfield   \n",
       "119                   68.500000       0.25            56  Belfield   \n",
       "132                   90.166667       0.75            73  Belfield   \n",
       "133                   88.166667       0.75            73  Belfield   \n",
       "134                   13.166667       0.00            42  Belfield   \n",
       "135                    6.200000       0.00            42  Belfield   \n",
       "136                   26.333333       0.25            98  Belfield   \n",
       "137                   46.666667       0.75            98  Belfield   \n",
       "138                   22.666667       0.50            98  Belfield   \n",
       "139                   28.000000       0.50            98  Belfield   \n",
       "140                   55.285714       0.75           139  Belfield   \n",
       "141                   49.333333       0.75           139  Belfield   \n",
       "142                   46.333333       0.50           139  Belfield   \n",
       "143                   40.166667       0.25           139  Belfield   \n",
       "144                   29.833333       0.50            53  Belfield   \n",
       "145                   38.750000       0.25            45  Belfield   \n",
       "146                   34.333333       0.50            45  Belfield   \n",
       "147                   49.166667       0.50            45  Belfield   \n",
       "148                   34.666667       0.25            33  Belfield   \n",
       "149                   26.285714       0.25            33  Belfield   \n",
       "151                   92.000000       0.75            65  Belfield   \n",
       "152                   88.500000       0.75            65  Belfield   \n",
       "\n",
       "             building  capacity  occupancy_number  Difference  max_error  \\\n",
       "0    Computer Science        90              45.0         0.0      11.25   \n",
       "1    Computer Science        90              45.0         0.0      11.25   \n",
       "2    Computer Science        90               0.0       -45.0      11.25   \n",
       "3    Computer Science        90              22.5       -22.5      11.25   \n",
       "5    Computer Science        90              22.5         4.5      11.25   \n",
       "6    Computer Science        90              22.5         4.5      11.25   \n",
       "7    Computer Science        90              22.5         4.5      11.25   \n",
       "8    Computer Science        90              22.5         4.5      11.25   \n",
       "10   Computer Science        90              22.5        -4.5      11.25   \n",
       "11   Computer Science        90              22.5        -4.5      11.25   \n",
       "12   Computer Science        90              22.5        -4.5      11.25   \n",
       "13   Computer Science        90              22.5        -4.5      11.25   \n",
       "14   Computer Science        90              22.5        -4.5      11.25   \n",
       "16   Computer Science        90              22.5       -19.5      11.25   \n",
       "17   Computer Science        90              22.5       -19.5      11.25   \n",
       "18   Computer Science        90              22.5       -19.5      11.25   \n",
       "19   Computer Science        90              45.0         3.0      11.25   \n",
       "20   Computer Science        90              45.0         3.0      11.25   \n",
       "21   Computer Science        90              45.0         3.0      11.25   \n",
       "22   Computer Science        90              22.5       -19.5      11.25   \n",
       "23   Computer Science        90              22.5        -6.5      11.25   \n",
       "24   Computer Science        90              22.5        -6.5      11.25   \n",
       "25   Computer Science        90              22.5        -6.5      11.25   \n",
       "26   Computer Science        90              22.5        -6.5      11.25   \n",
       "27   Computer Science        90              22.5        -6.5      11.25   \n",
       "28   Computer Science        90               0.0       -29.0      11.25   \n",
       "29   Computer Science        90               0.0       -29.0      11.25   \n",
       "30   Computer Science        90              22.5       -30.5      11.25   \n",
       "31   Computer Science        90              22.5       -30.5      11.25   \n",
       "32   Computer Science        90              22.5       -30.5      11.25   \n",
       "33   Computer Science        90               0.0       -53.0      11.25   \n",
       "34   Computer Science        90              22.5         0.5      11.25   \n",
       "35   Computer Science        90              22.5         0.5      11.25   \n",
       "36   Computer Science        90              22.5         0.5      11.25   \n",
       "37   Computer Science        90              22.5         0.5      11.25   \n",
       "38   Computer Science        90              22.5         0.5      11.25   \n",
       "39   Computer Science        90              45.0       -15.0      11.25   \n",
       "40   Computer Science        90               0.0       -60.0      11.25   \n",
       "41   Computer Science        90              22.5       -37.5      11.25   \n",
       "42   Computer Science        90              22.5       -37.5      11.25   \n",
       "43   Computer Science        90              22.5       -37.5      11.25   \n",
       "44   Computer Science        90              22.5       -15.5      11.25   \n",
       "45   Computer Science        90               0.0       -38.0      11.25   \n",
       "46   Computer Science        90               0.0       -38.0      11.25   \n",
       "47   Computer Science        90               0.0       -38.0      11.25   \n",
       "48   Computer Science        90               0.0       -79.0      11.25   \n",
       "49   Computer Science        90              22.5       -56.5      11.25   \n",
       "52   Computer Science        90              45.0       -15.0      11.25   \n",
       "53   Computer Science        90               0.0       -60.0      11.25   \n",
       "54   Computer Science        90              22.5       -37.5      11.25   \n",
       "55   Computer Science        90              22.5       -37.5      11.25   \n",
       "56   Computer Science        90              22.5       -28.5      11.25   \n",
       "57   Computer Science        90               0.0       -51.0      11.25   \n",
       "58   Computer Science       160               0.0       -38.0      20.00   \n",
       "60   Computer Science       160              40.0       -58.0      20.00   \n",
       "61   Computer Science       160              40.0       -58.0      20.00   \n",
       "62   Computer Science       160              40.0       -58.0      20.00   \n",
       "63   Computer Science       160              80.0       -59.0      20.00   \n",
       "64   Computer Science       160              40.0       -99.0      20.00   \n",
       "65   Computer Science       160              40.0       -99.0      20.00   \n",
       "66   Computer Science       160              40.0       -99.0      20.00   \n",
       "67   Computer Science       160             120.0       -23.0      20.00   \n",
       "68   Computer Science       160             160.0        17.0      20.00   \n",
       "69   Computer Science       160              40.0      -103.0      20.00   \n",
       "70   Computer Science       160              80.0       -63.0      20.00   \n",
       "71   Computer Science       160              80.0       -32.0      20.00   \n",
       "72   Computer Science       160              40.0       -72.0      20.00   \n",
       "73   Computer Science       160              80.0       -27.0      20.00   \n",
       "74   Computer Science       160              40.0       -67.0      20.00   \n",
       "75   Computer Science       160              40.0       -67.0      20.00   \n",
       "76   Computer Science       160              40.0       -67.0      20.00   \n",
       "77   Computer Science       160              80.0       -23.0      20.00   \n",
       "78   Computer Science       160              80.0       -23.0      20.00   \n",
       "79   Computer Science       160              40.0       -63.0      20.00   \n",
       "80   Computer Science       160               0.0      -103.0      20.00   \n",
       "83   Computer Science       160              40.0       -68.0      20.00   \n",
       "84   Computer Science       160               0.0      -108.0      20.00   \n",
       "85   Computer Science       160              40.0       -68.0      20.00   \n",
       "86   Computer Science       160               0.0      -108.0      20.00   \n",
       "87   Computer Science       160              40.0       -39.0      20.00   \n",
       "88   Computer Science       160              40.0       -39.0      20.00   \n",
       "89   Computer Science       160               0.0       -79.0      20.00   \n",
       "90   Computer Science       160              80.0         6.0      20.00   \n",
       "91   Computer Science       160              40.0       -34.0      20.00   \n",
       "92   Computer Science       160               0.0       -84.0      20.00   \n",
       "93   Computer Science       160              40.0       -44.0      20.00   \n",
       "94   Computer Science       160               0.0       -84.0      20.00   \n",
       "95   Computer Science       160               0.0       -84.0      20.00   \n",
       "96   Computer Science       160              40.0       -16.0      20.00   \n",
       "98   Computer Science       160              80.0       -33.0      20.00   \n",
       "99   Computer Science       160              40.0       -73.0      20.00   \n",
       "100  Computer Science       160              80.0       -33.0      20.00   \n",
       "101  Computer Science       160              80.0       -33.0      20.00   \n",
       "102  Computer Science       160              40.0       -43.0      20.00   \n",
       "103  Computer Science       160              80.0        -3.0      20.00   \n",
       "104  Computer Science       160              80.0       -16.0      20.00   \n",
       "105  Computer Science       160               0.0       -96.0      20.00   \n",
       "106  Computer Science       160              40.0       -26.0      20.00   \n",
       "117  Computer Science        90              45.0       -11.0      11.25   \n",
       "118  Computer Science        90              45.0       -11.0      11.25   \n",
       "119  Computer Science        90              22.5       -33.5      11.25   \n",
       "132  Computer Science        90              67.5        -5.5      11.25   \n",
       "133  Computer Science        90              67.5        -5.5      11.25   \n",
       "134  Computer Science        90               0.0       -42.0      11.25   \n",
       "135  Computer Science        90               0.0       -42.0      11.25   \n",
       "136  Computer Science        90              22.5       -75.5      11.25   \n",
       "137  Computer Science        90              67.5       -30.5      11.25   \n",
       "138  Computer Science        90              45.0       -53.0      11.25   \n",
       "139  Computer Science        90              45.0       -53.0      11.25   \n",
       "140  Computer Science        90              67.5       -71.5      11.25   \n",
       "141  Computer Science        90              67.5       -71.5      11.25   \n",
       "142  Computer Science        90              45.0       -94.0      11.25   \n",
       "143  Computer Science        90              22.5      -116.5      11.25   \n",
       "144  Computer Science        90              45.0        -8.0      11.25   \n",
       "145  Computer Science        90              22.5       -22.5      11.25   \n",
       "146  Computer Science        90              45.0         0.0      11.25   \n",
       "147  Computer Science        90              45.0         0.0      11.25   \n",
       "148  Computer Science        90              22.5       -10.5      11.25   \n",
       "149  Computer Science        90              22.5       -10.5      11.25   \n",
       "151  Computer Science        90              67.5         2.5      11.25   \n",
       "152  Computer Science        90              67.5         2.5      11.25   \n",
       "\n",
       "     min_occ_reg  \n",
       "0           45.0  \n",
       "1           45.0  \n",
       "2            0.0  \n",
       "3           22.5  \n",
       "5           18.0  \n",
       "6           18.0  \n",
       "7           18.0  \n",
       "8           18.0  \n",
       "10          22.5  \n",
       "11          22.5  \n",
       "12          22.5  \n",
       "13          22.5  \n",
       "14          22.5  \n",
       "16          22.5  \n",
       "17          22.5  \n",
       "18          22.5  \n",
       "19          42.0  \n",
       "20          42.0  \n",
       "21          42.0  \n",
       "22          22.5  \n",
       "23          22.5  \n",
       "24          22.5  \n",
       "25          22.5  \n",
       "26          22.5  \n",
       "27          22.5  \n",
       "28           0.0  \n",
       "29           0.0  \n",
       "30          22.5  \n",
       "31          22.5  \n",
       "32          22.5  \n",
       "33           0.0  \n",
       "34          22.0  \n",
       "35          22.0  \n",
       "36          22.0  \n",
       "37          22.0  \n",
       "38          22.0  \n",
       "39          45.0  \n",
       "40           0.0  \n",
       "41          22.5  \n",
       "42          22.5  \n",
       "43          22.5  \n",
       "44          22.5  \n",
       "45           0.0  \n",
       "46           0.0  \n",
       "47           0.0  \n",
       "48           0.0  \n",
       "49          22.5  \n",
       "52          45.0  \n",
       "53           0.0  \n",
       "54          22.5  \n",
       "55          22.5  \n",
       "56          22.5  \n",
       "57           0.0  \n",
       "58           0.0  \n",
       "60          40.0  \n",
       "61          40.0  \n",
       "62          40.0  \n",
       "63          80.0  \n",
       "64          40.0  \n",
       "65          40.0  \n",
       "66          40.0  \n",
       "67         120.0  \n",
       "68         143.0  \n",
       "69          40.0  \n",
       "70          80.0  \n",
       "71          80.0  \n",
       "72          40.0  \n",
       "73          80.0  \n",
       "74          40.0  \n",
       "75          40.0  \n",
       "76          40.0  \n",
       "77          80.0  \n",
       "78          80.0  \n",
       "79          40.0  \n",
       "80           0.0  \n",
       "83          40.0  \n",
       "84           0.0  \n",
       "85          40.0  \n",
       "86           0.0  \n",
       "87          40.0  \n",
       "88          40.0  \n",
       "89           0.0  \n",
       "90          74.0  \n",
       "91          40.0  \n",
       "92           0.0  \n",
       "93          40.0  \n",
       "94           0.0  \n",
       "95           0.0  \n",
       "96          40.0  \n",
       "98          80.0  \n",
       "99          40.0  \n",
       "100         80.0  \n",
       "101         80.0  \n",
       "102         40.0  \n",
       "103         80.0  \n",
       "104         80.0  \n",
       "105          0.0  \n",
       "106         40.0  \n",
       "117         45.0  \n",
       "118         45.0  \n",
       "119         22.5  \n",
       "132         67.5  \n",
       "133         67.5  \n",
       "134          0.0  \n",
       "135          0.0  \n",
       "136         22.5  \n",
       "137         67.5  \n",
       "138         45.0  \n",
       "139         45.0  \n",
       "140         67.5  \n",
       "141         67.5  \n",
       "142         45.0  \n",
       "143         22.5  \n",
       "144         45.0  \n",
       "145         22.5  \n",
       "146         45.0  \n",
       "147         45.0  \n",
       "148         22.5  \n",
       "149         22.5  \n",
       "151         65.0  \n",
       "152         65.0  "
      ]
     },
     "execution_count": 38,
     "metadata": {},
     "output_type": "execute_result"
    }
   ],
   "source": [
    "df_abt"
   ]
  },
  {
   "cell_type": "code",
   "execution_count": 39,
   "metadata": {
    "collapsed": false
   },
   "outputs": [
    {
     "data": {
      "text/plain": [
       "<matplotlib.axes._subplots.AxesSubplot at 0x10beb9080>"
      ]
     },
     "execution_count": 39,
     "metadata": {},
     "output_type": "execute_result"
    },
    {
     "data": {
      "image/png": "[encoded data removed]",
      "text/plain": [
       "<matplotlib.figure.Figure at 0x10be8dd30>"
      ]
     },
     "metadata": {},
     "output_type": "display_data"
    }
   ],
   "source": [
    "#  df_abt[\"x\"] = df_abt[\"authenticated_client_count\"].apply(lambda x: x / df_abt[\"reg_students\"].values[0])\n",
    "df_abt[\"x\"] = df_abt[\"authenticated_client_count\"]\n",
    "df_0 = df_abt.authenticated_client_count[df_abt['occupancy'] == 0.00]\n",
    "df_25 = df_abt.authenticated_client_count[df_abt['occupancy'] == 0.25]\n",
    "df_50 = df_abt.authenticated_client_count[df_abt['occupancy'] == 0.50]\n",
    "df_75 = df_abt.authenticated_client_count[df_abt['occupancy'] == 0.75]\n",
    "df_100 = df_abt.authenticated_client_count[df_abt['occupancy'] == 1.00]\n",
    "df_0.hist()\n",
    "df_25.hist()\n",
    "df_50.hist()\n",
    "df_75.hist()\n",
    "df_100.hist()"
   ]
  },
  {
   "cell_type": "code",
   "execution_count": 40,
   "metadata": {
    "collapsed": false
   },
   "outputs": [
    {
     "ename": "ValueError",
     "evalue": "Wrong number of items passed 16, placement implies 1",
     "output_type": "error",
     "traceback": [
      "\u001b[0;31m---------------------------------------------------------------------------\u001b[0m",
      "\u001b[0;31mKeyError\u001b[0m                                  Traceback (most recent call last)",
      "\u001b[0;32m/Library/Frameworks/Python.framework/Versions/3.4/lib/python3.4/site-packages/pandas/core/internals.py\u001b[0m in \u001b[0;36mset\u001b[0;34m(self, item, value, check)\u001b[0m\n\u001b[1;32m   3330\u001b[0m         \u001b[0;32mtry\u001b[0m\u001b[0;34m:\u001b[0m\u001b[0;34m\u001b[0m\u001b[0m\n\u001b[0;32m-> 3331\u001b[0;31m             \u001b[0mloc\u001b[0m \u001b[0;34m=\u001b[0m \u001b[0mself\u001b[0m\u001b[0;34m.\u001b[0m\u001b[0mitems\u001b[0m\u001b[0;34m.\u001b[0m\u001b[0mget_loc\u001b[0m\u001b[0;34m(\u001b[0m\u001b[0mitem\u001b[0m\u001b[0;34m)\u001b[0m\u001b[0;34m\u001b[0m\u001b[0m\n\u001b[0m\u001b[1;32m   3332\u001b[0m         \u001b[0;32mexcept\u001b[0m \u001b[0mKeyError\u001b[0m\u001b[0;34m:\u001b[0m\u001b[0;34m\u001b[0m\u001b[0m\n",
      "\u001b[0;32m/Library/Frameworks/Python.framework/Versions/3.4/lib/python3.4/site-packages/pandas/core/index.py\u001b[0m in \u001b[0;36mget_loc\u001b[0;34m(self, key, method, tolerance)\u001b[0m\n\u001b[1;32m   1758\u001b[0m             \u001b[0mkey\u001b[0m \u001b[0;34m=\u001b[0m \u001b[0m_values_from_object\u001b[0m\u001b[0;34m(\u001b[0m\u001b[0mkey\u001b[0m\u001b[0;34m)\u001b[0m\u001b[0;34m\u001b[0m\u001b[0m\n\u001b[0;32m-> 1759\u001b[0;31m             \u001b[0;32mreturn\u001b[0m \u001b[0mself\u001b[0m\u001b[0;34m.\u001b[0m\u001b[0m_engine\u001b[0m\u001b[0;34m.\u001b[0m\u001b[0mget_loc\u001b[0m\u001b[0;34m(\u001b[0m\u001b[0mkey\u001b[0m\u001b[0;34m)\u001b[0m\u001b[0;34m\u001b[0m\u001b[0m\n\u001b[0m\u001b[1;32m   1760\u001b[0m \u001b[0;34m\u001b[0m\u001b[0m\n",
      "\u001b[0;32mpandas/index.pyx\u001b[0m in \u001b[0;36mpandas.index.IndexEngine.get_loc (pandas/index.c:3979)\u001b[0;34m()\u001b[0m\n",
      "\u001b[0;32mpandas/index.pyx\u001b[0m in \u001b[0;36mpandas.index.IndexEngine.get_loc (pandas/index.c:3843)\u001b[0;34m()\u001b[0m\n",
      "\u001b[0;32mpandas/hashtable.pyx\u001b[0m in \u001b[0;36mpandas.hashtable.PyObjectHashTable.get_item (pandas/hashtable.c:12265)\u001b[0;34m()\u001b[0m\n",
      "\u001b[0;32mpandas/hashtable.pyx\u001b[0m in \u001b[0;36mpandas.hashtable.PyObjectHashTable.get_item (pandas/hashtable.c:12216)\u001b[0;34m()\u001b[0m\n",
      "\u001b[0;31mKeyError\u001b[0m: 'y'",
      "\nDuring handling of the above exception, another exception occurred:\n",
      "\u001b[0;31mValueError\u001b[0m                                Traceback (most recent call last)",
      "\u001b[0;32m<ipython-input-40-3f52826e190f>\u001b[0m in \u001b[0;36m<module>\u001b[0;34m()\u001b[0m\n\u001b[1;32m      1\u001b[0m \u001b[0mdf_abt\u001b[0m\u001b[0;34m[\u001b[0m\u001b[0;34m\"x\"\u001b[0m\u001b[0;34m]\u001b[0m \u001b[0;34m=\u001b[0m \u001b[0mnp\u001b[0m\u001b[0;34m.\u001b[0m\u001b[0mlog\u001b[0m\u001b[0;34m(\u001b[0m\u001b[0mdf_abt\u001b[0m\u001b[0;34m[\u001b[0m\u001b[0;34m\"authenticated_client_count\"\u001b[0m\u001b[0;34m]\u001b[0m\u001b[0;34m)\u001b[0m\u001b[0;34m\u001b[0m\u001b[0m\n\u001b[0;32m----> 2\u001b[0;31m \u001b[0mdf_abt\u001b[0m\u001b[0;34m[\u001b[0m\u001b[0;34m\"y\"\u001b[0m\u001b[0;34m]\u001b[0m \u001b[0;34m=\u001b[0m \u001b[0mdf_abt\u001b[0m\u001b[0;34m[\u001b[0m\u001b[0mdf_abt\u001b[0m\u001b[0;34m[\u001b[0m\u001b[0;34m\"x\"\u001b[0m\u001b[0;34m]\u001b[0m \u001b[0;34m<=\u001b[0m \u001b[0;36m0\u001b[0m\u001b[0;34m]\u001b[0m\u001b[0;34m\u001b[0m\u001b[0m\n\u001b[0m\u001b[1;32m      3\u001b[0m \u001b[0mdf_abt\u001b[0m\u001b[0;34m[\u001b[0m\u001b[0;34m\"y\"\u001b[0m\u001b[0;34m]\u001b[0m\u001b[0;34m\u001b[0m\u001b[0m\n\u001b[1;32m      4\u001b[0m \u001b[0;31m# df_0 = df_abt.x[df_abt['occupancy'] == 0.00]\u001b[0m\u001b[0;34m\u001b[0m\u001b[0;34m\u001b[0m\u001b[0m\n\u001b[1;32m      5\u001b[0m \u001b[0;31m# df_25 = df_abt.x[df_abt['occupancy'] == 0.25]\u001b[0m\u001b[0;34m\u001b[0m\u001b[0;34m\u001b[0m\u001b[0m\n",
      "\u001b[0;32m/Library/Frameworks/Python.framework/Versions/3.4/lib/python3.4/site-packages/pandas/core/frame.py\u001b[0m in \u001b[0;36m__setitem__\u001b[0;34m(self, key, value)\u001b[0m\n\u001b[1;32m   2297\u001b[0m         \u001b[0;32melse\u001b[0m\u001b[0;34m:\u001b[0m\u001b[0;34m\u001b[0m\u001b[0m\n\u001b[1;32m   2298\u001b[0m             \u001b[0;31m# set column\u001b[0m\u001b[0;34m\u001b[0m\u001b[0;34m\u001b[0m\u001b[0m\n\u001b[0;32m-> 2299\u001b[0;31m             \u001b[0mself\u001b[0m\u001b[0;34m.\u001b[0m\u001b[0m_set_item\u001b[0m\u001b[0;34m(\u001b[0m\u001b[0mkey\u001b[0m\u001b[0;34m,\u001b[0m \u001b[0mvalue\u001b[0m\u001b[0;34m)\u001b[0m\u001b[0;34m\u001b[0m\u001b[0m\n\u001b[0m\u001b[1;32m   2300\u001b[0m \u001b[0;34m\u001b[0m\u001b[0m\n\u001b[1;32m   2301\u001b[0m     \u001b[0;32mdef\u001b[0m \u001b[0m_setitem_slice\u001b[0m\u001b[0;34m(\u001b[0m\u001b[0mself\u001b[0m\u001b[0;34m,\u001b[0m \u001b[0mkey\u001b[0m\u001b[0;34m,\u001b[0m \u001b[0mvalue\u001b[0m\u001b[0;34m)\u001b[0m\u001b[0;34m:\u001b[0m\u001b[0;34m\u001b[0m\u001b[0m\n",
      "\u001b[0;32m/Library/Frameworks/Python.framework/Versions/3.4/lib/python3.4/site-packages/pandas/core/frame.py\u001b[0m in \u001b[0;36m_set_item\u001b[0;34m(self, key, value)\u001b[0m\n\u001b[1;32m   2365\u001b[0m         \u001b[0mself\u001b[0m\u001b[0;34m.\u001b[0m\u001b[0m_ensure_valid_index\u001b[0m\u001b[0;34m(\u001b[0m\u001b[0mvalue\u001b[0m\u001b[0;34m)\u001b[0m\u001b[0;34m\u001b[0m\u001b[0m\n\u001b[1;32m   2366\u001b[0m         \u001b[0mvalue\u001b[0m \u001b[0;34m=\u001b[0m \u001b[0mself\u001b[0m\u001b[0;34m.\u001b[0m\u001b[0m_sanitize_column\u001b[0m\u001b[0;34m(\u001b[0m\u001b[0mkey\u001b[0m\u001b[0;34m,\u001b[0m \u001b[0mvalue\u001b[0m\u001b[0;34m)\u001b[0m\u001b[0;34m\u001b[0m\u001b[0m\n\u001b[0;32m-> 2367\u001b[0;31m         \u001b[0mNDFrame\u001b[0m\u001b[0;34m.\u001b[0m\u001b[0m_set_item\u001b[0m\u001b[0;34m(\u001b[0m\u001b[0mself\u001b[0m\u001b[0;34m,\u001b[0m \u001b[0mkey\u001b[0m\u001b[0;34m,\u001b[0m \u001b[0mvalue\u001b[0m\u001b[0;34m)\u001b[0m\u001b[0;34m\u001b[0m\u001b[0m\n\u001b[0m\u001b[1;32m   2368\u001b[0m \u001b[0;34m\u001b[0m\u001b[0m\n\u001b[1;32m   2369\u001b[0m         \u001b[0;31m# check if we are modifying a copy\u001b[0m\u001b[0;34m\u001b[0m\u001b[0;34m\u001b[0m\u001b[0m\n",
      "\u001b[0;32m/Library/Frameworks/Python.framework/Versions/3.4/lib/python3.4/site-packages/pandas/core/generic.py\u001b[0m in \u001b[0;36m_set_item\u001b[0;34m(self, key, value)\u001b[0m\n\u001b[1;32m   1206\u001b[0m \u001b[0;34m\u001b[0m\u001b[0m\n\u001b[1;32m   1207\u001b[0m     \u001b[0;32mdef\u001b[0m \u001b[0m_set_item\u001b[0m\u001b[0;34m(\u001b[0m\u001b[0mself\u001b[0m\u001b[0;34m,\u001b[0m \u001b[0mkey\u001b[0m\u001b[0;34m,\u001b[0m \u001b[0mvalue\u001b[0m\u001b[0;34m)\u001b[0m\u001b[0;34m:\u001b[0m\u001b[0;34m\u001b[0m\u001b[0m\n\u001b[0;32m-> 1208\u001b[0;31m         \u001b[0mself\u001b[0m\u001b[0;34m.\u001b[0m\u001b[0m_data\u001b[0m\u001b[0;34m.\u001b[0m\u001b[0mset\u001b[0m\u001b[0;34m(\u001b[0m\u001b[0mkey\u001b[0m\u001b[0;34m,\u001b[0m \u001b[0mvalue\u001b[0m\u001b[0;34m)\u001b[0m\u001b[0;34m\u001b[0m\u001b[0m\n\u001b[0m\u001b[1;32m   1209\u001b[0m         \u001b[0mself\u001b[0m\u001b[0;34m.\u001b[0m\u001b[0m_clear_item_cache\u001b[0m\u001b[0;34m(\u001b[0m\u001b[0;34m)\u001b[0m\u001b[0;34m\u001b[0m\u001b[0m\n\u001b[1;32m   1210\u001b[0m \u001b[0;34m\u001b[0m\u001b[0m\n",
      "\u001b[0;32m/Library/Frameworks/Python.framework/Versions/3.4/lib/python3.4/site-packages/pandas/core/internals.py\u001b[0m in \u001b[0;36mset\u001b[0;34m(self, item, value, check)\u001b[0m\n\u001b[1;32m   3332\u001b[0m         \u001b[0;32mexcept\u001b[0m \u001b[0mKeyError\u001b[0m\u001b[0;34m:\u001b[0m\u001b[0;34m\u001b[0m\u001b[0m\n\u001b[1;32m   3333\u001b[0m             \u001b[0;31m# This item wasn't present, just insert at end\u001b[0m\u001b[0;34m\u001b[0m\u001b[0;34m\u001b[0m\u001b[0m\n\u001b[0;32m-> 3334\u001b[0;31m             \u001b[0mself\u001b[0m\u001b[0;34m.\u001b[0m\u001b[0minsert\u001b[0m\u001b[0;34m(\u001b[0m\u001b[0mlen\u001b[0m\u001b[0;34m(\u001b[0m\u001b[0mself\u001b[0m\u001b[0;34m.\u001b[0m\u001b[0mitems\u001b[0m\u001b[0;34m)\u001b[0m\u001b[0;34m,\u001b[0m \u001b[0mitem\u001b[0m\u001b[0;34m,\u001b[0m \u001b[0mvalue\u001b[0m\u001b[0;34m)\u001b[0m\u001b[0;34m\u001b[0m\u001b[0m\n\u001b[0m\u001b[1;32m   3335\u001b[0m             \u001b[0;32mreturn\u001b[0m\u001b[0;34m\u001b[0m\u001b[0m\n\u001b[1;32m   3336\u001b[0m \u001b[0;34m\u001b[0m\u001b[0m\n",
      "\u001b[0;32m/Library/Frameworks/Python.framework/Versions/3.4/lib/python3.4/site-packages/pandas/core/internals.py\u001b[0m in \u001b[0;36minsert\u001b[0;34m(self, loc, item, value, allow_duplicates)\u001b[0m\n\u001b[1;32m   3434\u001b[0m         block = make_block(values=value,\n\u001b[1;32m   3435\u001b[0m                            \u001b[0mndim\u001b[0m\u001b[0;34m=\u001b[0m\u001b[0mself\u001b[0m\u001b[0;34m.\u001b[0m\u001b[0mndim\u001b[0m\u001b[0;34m,\u001b[0m\u001b[0;34m\u001b[0m\u001b[0m\n\u001b[0;32m-> 3436\u001b[0;31m                            placement=slice(loc, loc+1))\n\u001b[0m\u001b[1;32m   3437\u001b[0m \u001b[0;34m\u001b[0m\u001b[0m\n\u001b[1;32m   3438\u001b[0m         \u001b[0;32mfor\u001b[0m \u001b[0mblkno\u001b[0m\u001b[0;34m,\u001b[0m \u001b[0mcount\u001b[0m \u001b[0;32min\u001b[0m \u001b[0m_fast_count_smallints\u001b[0m\u001b[0;34m(\u001b[0m\u001b[0mself\u001b[0m\u001b[0;34m.\u001b[0m\u001b[0m_blknos\u001b[0m\u001b[0;34m[\u001b[0m\u001b[0mloc\u001b[0m\u001b[0;34m:\u001b[0m\u001b[0;34m]\u001b[0m\u001b[0;34m)\u001b[0m\u001b[0;34m:\u001b[0m\u001b[0;34m\u001b[0m\u001b[0m\n",
      "\u001b[0;32m/Library/Frameworks/Python.framework/Versions/3.4/lib/python3.4/site-packages/pandas/core/internals.py\u001b[0m in \u001b[0;36mmake_block\u001b[0;34m(values, placement, klass, ndim, dtype, fastpath)\u001b[0m\n\u001b[1;32m   2452\u001b[0m \u001b[0;34m\u001b[0m\u001b[0m\n\u001b[1;32m   2453\u001b[0m     return klass(values, ndim=ndim, fastpath=fastpath,\n\u001b[0;32m-> 2454\u001b[0;31m                  placement=placement)\n\u001b[0m\u001b[1;32m   2455\u001b[0m \u001b[0;34m\u001b[0m\u001b[0m\n\u001b[1;32m   2456\u001b[0m \u001b[0;34m\u001b[0m\u001b[0m\n",
      "\u001b[0;32m/Library/Frameworks/Python.framework/Versions/3.4/lib/python3.4/site-packages/pandas/core/internals.py\u001b[0m in \u001b[0;36m__init__\u001b[0;34m(self, values, ndim, fastpath, placement, **kwargs)\u001b[0m\n\u001b[1;32m   1626\u001b[0m         super(ObjectBlock, self).__init__(values, ndim=ndim,\n\u001b[1;32m   1627\u001b[0m                                           \u001b[0mfastpath\u001b[0m\u001b[0;34m=\u001b[0m\u001b[0mfastpath\u001b[0m\u001b[0;34m,\u001b[0m\u001b[0;34m\u001b[0m\u001b[0m\n\u001b[0;32m-> 1628\u001b[0;31m                                           placement=placement, **kwargs)\n\u001b[0m\u001b[1;32m   1629\u001b[0m \u001b[0;34m\u001b[0m\u001b[0m\n\u001b[1;32m   1630\u001b[0m     \u001b[0;34m@\u001b[0m\u001b[0mproperty\u001b[0m\u001b[0;34m\u001b[0m\u001b[0m\n",
      "\u001b[0;32m/Library/Frameworks/Python.framework/Versions/3.4/lib/python3.4/site-packages/pandas/core/internals.py\u001b[0m in \u001b[0;36m__init__\u001b[0;34m(self, values, placement, ndim, fastpath)\u001b[0m\n\u001b[1;32m     85\u001b[0m             raise ValueError('Wrong number of items passed %d,'\n\u001b[1;32m     86\u001b[0m                              ' placement implies %d' % (\n\u001b[0;32m---> 87\u001b[0;31m                                  len(self.values), len(self.mgr_locs)))\n\u001b[0m\u001b[1;32m     88\u001b[0m \u001b[0;34m\u001b[0m\u001b[0m\n\u001b[1;32m     89\u001b[0m     \u001b[0;34m@\u001b[0m\u001b[0mproperty\u001b[0m\u001b[0;34m\u001b[0m\u001b[0m\n",
      "\u001b[0;31mValueError\u001b[0m: Wrong number of items passed 16, placement implies 1"
     ]
    }
   ],
   "source": [
    "df_abt[\"x\"] = np.log(df_abt[\"authenticated_client_count\"])\n",
    "df_abt[\"y\"] = df_abt[df_abt[\"x\"] <= 0]\n",
    "df_abt[\"y\"]\n",
    "# df_0 = df_abt.x[df_abt['occupancy'] == 0.00]\n",
    "# df_25 = df_abt.x[df_abt['occupancy'] == 0.25]\n",
    "# df_50 = df_abt.x[df_abt['occupancy'] == 0.50]\n",
    "# df_75 = df_abt.x[df_abt['occupancy'] == 0.75]\n",
    "# df_100 = df_abt.x[df_abt['occupancy'] == 1.00]\n",
    "# df_0.hist()\n",
    "# df_25.hist()\n",
    "# df_50.hist()\n",
    "# df_75.hist()\n",
    "# df_100.hist()"
   ]
  },
  {
   "cell_type": "code",
   "execution_count": null,
   "metadata": {
    "collapsed": false
   },
   "outputs": [],
   "source": [
    "df_90=df_abt[df_abt['capacity']==90]\n",
    "df_0 = df_90[df_90['occupancy'] == 0.00]\n",
    "df_25 = df_90[df_90['occupancy'] == 0.25]\n",
    "df_50 = df_90[df_90['occupancy'] == 0.50]\n",
    "df_75 = df_90[df_90['occupancy'] == 0.75]\n",
    "df_100 = df_90[df_90['occupancy'] == 1.00]\n",
    "\n",
    "plt.scatter(df_0[\"capacity\"], df_0[\"x\"],  color='red')\n",
    "plt.scatter(df_25[\"capacity\"], df_25[\"x\"],  color='orange')\n",
    "plt.scatter(df_50[\"capacity\"], df_50[\"x\"],  color='yellow')\n",
    "plt.scatter(df_75[\"capacity\"], df_75[\"x\"],  color='navy')\n",
    "plt.scatter(df_100[\"capacity\"], df_100[\"x\"],  color='green')\n",
    "plt.figure(figsize=(20,20))\n",
    "plt.show()"
   ]
  },
  {
   "cell_type": "code",
   "execution_count": null,
   "metadata": {
    "collapsed": false
   },
   "outputs": [],
   "source": [
    " # df_abt[\"x\"] = df_abt[\"authenticated_client_count\"].apply(lambda x: x / df_abt[\"reg_students\"].values[0])\n",
    "df_160=df_abt[df_abt['capacity']==160]\n",
    "df_0 = df_160[df_160['occupancy'] == 0.00]\n",
    "df_25 = df_160[df_160['occupancy'] == 0.25]\n",
    "df_50 = df_160[df_160['occupancy'] == 0.50]\n",
    "df_75 = df_160[df_160['occupancy'] == 0.75]\n",
    "df_100 = df_160[df_160['occupancy'] == 1.00]\n",
    "\n",
    "plt.scatter(df_0[\"capacity\"], df_0[\"x\"],  color='red')\n",
    "plt.scatter(df_25[\"capacity\"], df_25[\"x\"],  color='orange')\n",
    "plt.scatter(df_50[\"capacity\"], df_50[\"x\"],  color='yellow')\n",
    "plt.scatter(df_75[\"capacity\"], df_75[\"x\"],  color='navy')\n",
    "plt.scatter(df_100[\"capacity\"], df_100[\"x\"],  color='green')\n",
    "plt.figure(figsize=(20,20))\n",
    "plt.show()"
   ]
  },
  {
   "cell_type": "markdown",
   "metadata": {},
   "source": [
    "## Categorical Models"
   ]
  },
  {
   "cell_type": "code",
   "execution_count": null,
   "metadata": {
    "collapsed": true
   },
   "outputs": [],
   "source": [
    "df = df_abt[[\"occupancy\", \"authenticated_client_count\", \"capacity\", \"reg_students\"]].copy()\n",
    "df = convert_perc_int(df)"
   ]
  },
  {
   "cell_type": "code",
   "execution_count": null,
   "metadata": {
    "collapsed": false
   },
   "outputs": [],
   "source": [
    "plt.figure() \n",
    "df.plot(kind=\"scatter\", x=\"authenticated_client_count\", y=\"occupancy\", label=\"%.3f\" % corrMatrix.as_matrix()[0,1], figsize=(20, 6))"
   ]
  },
  {
   "cell_type": "code",
   "execution_count": null,
   "metadata": {
    "collapsed": false
   },
   "outputs": [],
   "source": [
    "df[\"occ_by_cap\"] = df[\"occupancy\"].copy().apply(lambda x: (x / 100) * df[\"capacity\"].values[0])\n",
    "print(df.shape)\n",
    "plt.figure() \n",
    "df.plot(kind=\"scatter\", x=\"authenticated_client_count\", y=\"occ_by_cap\", label=\"%.3f\" % corrMatrix.as_matrix()[0,1], figsize=(20, 6))"
   ]
  },
  {
   "cell_type": "code",
   "execution_count": null,
   "metadata": {
    "collapsed": false
   },
   "outputs": [],
   "source": [
    "plt.figure() \n",
    "plt.subplot(211).set_title(\"occupancy\", fontsize=15)\n",
    "df[\"occupancy\"].plot(kind = 'box', figsize = (15,15), color=colour, sym='r+') \n",
    "plt.subplot(212).set_title(\"authenticated_client_count\", fontsize=15)\n",
    "df[\"authenticated_client_count\"].plot(kind = 'box', figsize = (15,15), color=colour, sym='r+') \n",
    "plt.tight_layout(pad=2.0, w_pad=2.0, h_pad=3.0)"
   ]
  },
  {
   "cell_type": "code",
   "execution_count": null,
   "metadata": {
    "collapsed": true
   },
   "outputs": [],
   "source": [
    "# df[\"occupancy_NORM\"] = normalize(df, \"occupancy\")\n",
    "# df[\"authenticated_client_count_NORM\"] = normalize(df, \"authenticated_client_count\")\n",
    "# print(df.shape)\n",
    "# df = removeOutliers(df, \"occupancy_NORM\")\n",
    "# df = removeOutliers(df, \"authenticated_client_count_NORM\")\n",
    "# df = df[[\"occupancy\", \"authenticated_client_count\"]]\n",
    "# print(df.shape)"
   ]
  },
  {
   "cell_type": "markdown",
   "metadata": {},
   "source": [
    "### Multinomial Logistic Regression http://machinelearningmastery.com/get-your-hands-dirty-with-scikit-learn-now/\n",
    "\n",
    "log-odds of a categorical response being \"true\" (1) is modeled as a linear combination of the features.\n",
    "Logistic regression outputs the probabilities of a specific class\n",
    "Those probabilities can be converted into class predictions"
   ]
  },
  {
   "cell_type": "code",
   "execution_count": null,
   "metadata": {
    "collapsed": false
   },
   "outputs": [],
   "source": [
    "df_log_1 = df.copy()\n",
    "from sklearn.preprocessing import scale\n",
    "X=scale(df_log_1[['authenticated_client_count', 'reg_students']])\n",
    "plt.plot(X)\n",
    "y = df_log_1[\"occupancy\"]\n",
    "lr = LogisticRegression()\n",
    "lr.fit(X, y)\n",
    "pred_lr = lr.predict(X)\n",
    "df_log_1[\"predicted\"] = pd.Series(pred_lr, index=df_log_1.index)\n",
    "print(metrics.classification_report(y, pred_lr))\n",
    "print(metrics.confusion_matrix(y, pred_lr))\n",
    "print(metrics.accuracy_score(y, pred_lr) )"
   ]
  },
  {
   "cell_type": "markdown",
   "metadata": {},
   "source": [
    "#### Rows where predicted doesn't match actual"
   ]
  },
  {
   "cell_type": "code",
   "execution_count": null,
   "metadata": {
    "collapsed": false
   },
   "outputs": [],
   "source": [
    "df_log_1[df_log_1[\"occupancy\"] != df_log_1[\"predicted\"]]"
   ]
  },
  {
   "cell_type": "markdown",
   "metadata": {},
   "source": [
    "#### Testing"
   ]
  },
  {
   "cell_type": "code",
   "execution_count": null,
   "metadata": {
    "collapsed": false
   },
   "outputs": [],
   "source": [
    "clf = LogisticRegression()\n",
    "scores = cross_val_score(clf, X, y, cv=5)\n",
    "print(\"Accuracy: %0.2f (+/- %0.2f)\" % (scores.mean(), scores.std() * 2))"
   ]
  },
  {
   "cell_type": "code",
   "execution_count": null,
   "metadata": {
    "collapsed": false
   },
   "outputs": [],
   "source": [
    "X_train, X_test, y_train, y_test = train_test_split(X, y, test_size=0.4, random_state=42)\n",
    "clf = LogisticRegression().fit(X_train, y_train)\n",
    "# score = clf.score(X_test, y_test)\n",
    "# print(score)\n",
    "pred_log_train = clf.predict(X_test)\n",
    "print(metrics.classification_report(y_test, pred_log_train))\n",
    "print(metrics.confusion_matrix(y_test, pred_log_train))\n",
    "print(metrics.accuracy_score(y_test, pred_log_train))"
   ]
  },
  {
   "cell_type": "code",
   "execution_count": null,
   "metadata": {
    "collapsed": true
   },
   "outputs": [],
   "source": [
    "df_log_1[\"predicted\"] = pd.Series(pred_lr, index=df_log_1.index)"
   ]
  },
  {
   "cell_type": "code",
   "execution_count": null,
   "metadata": {
    "collapsed": true
   },
   "outputs": [],
   "source": [
    "####### How to use model to return occupancy prediction #######\n",
    "# lr.predict_proba(X)\n",
    "# groups = [0, 25, 50, 75, 100]\n",
    "# lr.predict_proba(X).argmax(axis=1)"
   ]
  },
  {
   "cell_type": "code",
   "execution_count": null,
   "metadata": {
    "collapsed": false
   },
   "outputs": [],
   "source": [
    "plt.scatter(df_log_1[\"predicted\"], df_log_1[\"occupancy\"],  color='navy')\n",
    "plt.figure(figsize=(20,20))\n",
    "plt.show()"
   ]
  },
  {
   "cell_type": "code",
   "execution_count": null,
   "metadata": {
    "collapsed": false
   },
   "outputs": [],
   "source": [
    "plt.scatter(df_log_1[\"authenticated_client_count\"], df_log_1[\"occupancy\"],  color='navy')\n",
    "plt.scatter(df_log_1[\"authenticated_client_count\"], df_log_1[\"predicted\"],  color='green')\n",
    "plt.figure(figsize=(20,20))\n",
    "plt.show()"
   ]
  },
  {
   "cell_type": "markdown",
   "metadata": {},
   "source": [
    "### Gaussian Naive Bayes "
   ]
  },
  {
   "cell_type": "code",
   "execution_count": null,
   "metadata": {
    "collapsed": false
   },
   "outputs": [],
   "source": [
    "df_gnb = df.copy()\n",
    "from sklearn.preprocessing import scale\n",
    "X=scale(df_gnb[['authenticated_client_count', 'reg_students']])\n",
    "plt.plot(X)\n",
    "y = df_gnb[\"occupancy\"]\n",
    "# fit a Naive Bayes model to the data\n",
    "gnb = GaussianNB()\n",
    "gnb.fit(X, y)\n",
    "pred_gnb = gnb.predict(X)\n",
    "df_gnb[\"predicted\"] = pd.Series(pred_gnb, index=df_gnb.index)\n",
    "print(metrics.classification_report(y, pred_gnb))\n",
    "print(metrics.confusion_matrix(y, pred_gnb))"
   ]
  },
  {
   "cell_type": "code",
   "execution_count": null,
   "metadata": {
    "collapsed": false
   },
   "outputs": [],
   "source": [
    "df_gnb[df_gnb[\"occupancy\"] != df_gnb[\"predicted\"]]"
   ]
  },
  {
   "cell_type": "markdown",
   "metadata": {},
   "source": [
    "#### Testing"
   ]
  },
  {
   "cell_type": "code",
   "execution_count": null,
   "metadata": {
    "collapsed": false
   },
   "outputs": [],
   "source": [
    "clf = GaussianNB()\n",
    "scores = cross_val_score(clf, X, y, cv=5)\n",
    "print(\"Accuracy: %0.2f (+/- %0.2f)\" % (scores.mean(), scores.std() * 2))"
   ]
  },
  {
   "cell_type": "code",
   "execution_count": null,
   "metadata": {
    "collapsed": false
   },
   "outputs": [],
   "source": [
    "X_train, X_test, y_train, y_test = train_test_split(X, y, test_size=0.4, random_state=42)\n",
    "clf = GaussianNB().fit(X_train, y_train)\n",
    "# score = clf.score(X_test, y_test)\n",
    "# print(score)\n",
    "pred_gnb_train = clf.predict(X_test)\n",
    "print(metrics.classification_report(y_test, pred_gnb_train))\n",
    "print(metrics.confusion_matrix(y_test, pred_gnb_train))\n",
    "print(metrics.accuracy_score(y_test, pred_gnb_train))"
   ]
  },
  {
   "cell_type": "code",
   "execution_count": null,
   "metadata": {
    "collapsed": true
   },
   "outputs": [],
   "source": [
    "df_gnb[\"predicted\"] = pd.Series(pred_gnb, index=df_gnb.index)"
   ]
  },
  {
   "cell_type": "code",
   "execution_count": null,
   "metadata": {
    "collapsed": false
   },
   "outputs": [],
   "source": [
    "plt.scatter(df_gnb[\"predicted\"], df_gnb[\"occupancy\"],  color='navy')\n",
    "plt.figure(figsize=(20,20))\n",
    "plt.show()"
   ]
  },
  {
   "cell_type": "code",
   "execution_count": null,
   "metadata": {
    "collapsed": false
   },
   "outputs": [],
   "source": [
    "plt.scatter(df_gnb[\"authenticated_client_count\"], df_gnb[\"occupancy\"],  color='navy')\n",
    "plt.scatter(df_gnb[\"authenticated_client_count\"], df_gnb[\"predicted\"],  color='green')\n",
    "plt.figure(figsize=(20,20))\n",
    "plt.show()"
   ]
  },
  {
   "cell_type": "markdown",
   "metadata": {},
   "source": [
    "### k-Nearest Neighbor"
   ]
  },
  {
   "cell_type": "code",
   "execution_count": null,
   "metadata": {
    "collapsed": false
   },
   "outputs": [],
   "source": [
    "# from sklearn.preprocessing import MinMaxScaler\n",
    "df_nn = df.copy()\n",
    "from sklearn.preprocessing import scale\n",
    "X=scale(df_nn[['authenticated_client_count', 'reg_students']])\n",
    "plt.plot(X)\n",
    "y = df_nn[\"occupancy\"] \n",
    "nn = KNeighborsClassifier() # default n_neighbors=5\n",
    "nn.fit(X, y)\n",
    "pred_nn = nn.predict(X)\n",
    "df_nn[\"predicted\"] = pd.Series(pred_nn, index=df_nn.index)\n",
    "print(metrics.classification_report(y, pred_nn))\n",
    "print(metrics.confusion_matrix(y, pred_nn))"
   ]
  },
  {
   "cell_type": "code",
   "execution_count": null,
   "metadata": {
    "collapsed": false
   },
   "outputs": [],
   "source": [
    "df_nn = df.copy()\n",
    "\n",
    "df_nn.authenticated_client_count.hist()\n",
    "df_nn.reg_students.hist()"
   ]
  },
  {
   "cell_type": "code",
   "execution_count": null,
   "metadata": {
    "collapsed": false
   },
   "outputs": [],
   "source": [
    "clf = KNeighborsClassifier()\n",
    "scores = cross_val_score(clf, X, y, cv=5)\n",
    "print(\"Accuracy: %0.2f (+/- %0.2f)\" % (scores.mean(), scores.std() * 2))"
   ]
  },
  {
   "cell_type": "markdown",
   "metadata": {},
   "source": [
    "bhhhhhhhhhhhhhhhhhhhhhhhhhhhhhhhhhhhh"
   ]
  },
  {
   "cell_type": "code",
   "execution_count": null,
   "metadata": {
    "collapsed": false
   },
   "outputs": [],
   "source": [
    "df_nn = df.copy()\n",
    "# occ = df_nn[\"authenticated_client_count\"].apply(lambda x: x / df_nn[\"capacity\"].values[0])\n",
    "occ = df_nn[\"authenticated_client_count\"]\n",
    "EXP = []\n",
    "for a, o in zip(df_nn[\"reg_students\"], occ):\n",
    "    EXP.append([a, o])\n",
    "X = np.array(EXP)\n",
    "\n",
    "# X = df_nn[\"authenticated_client_count\"].div(df_nn[\"capacity\"]).reshape(len(df_nn[\"authenticated_client_count\"]), 1)\n",
    "# X = df_nn[\"authenticated_client_count\"].reshape(len(df_nn[\"authenticated_client_count\"]), 1)\n",
    "y = df_nn[\"occupancy\"] \n",
    "nn = KNeighborsClassifier() # default n_neighbors=5\n",
    "nn.fit(X, y)\n",
    "pred_nn = nn.predict(X)\n",
    "df_nn[\"predicted\"] = pd.Series(pred_nn, index=df_nn.index)\n",
    "print(metrics.classification_report(y, pred_nn))\n",
    "print(metrics.confusion_matrix(y, pred_nn))"
   ]
  },
  {
   "cell_type": "code",
   "execution_count": null,
   "metadata": {
    "collapsed": false
   },
   "outputs": [],
   "source": [
    "df_nn[df_nn[\"occupancy\"] != df_nn[\"predicted\"]]"
   ]
  },
  {
   "cell_type": "markdown",
   "metadata": {},
   "source": [
    "#### Testing"
   ]
  },
  {
   "cell_type": "code",
   "execution_count": null,
   "metadata": {
    "collapsed": false
   },
   "outputs": [],
   "source": [
    "clf = KNeighborsClassifier()\n",
    "scores = cross_val_score(clf, X, y, cv=5)\n",
    "print(\"Accuracy: %0.2f (+/- %0.2f)\" % (scores.mean(), scores.std() * 2))"
   ]
  },
  {
   "cell_type": "code",
   "execution_count": null,
   "metadata": {
    "collapsed": false
   },
   "outputs": [],
   "source": [
    "X_train, X_test, y_train, y_test = train_test_split(X, y, test_size=0.4, random_state=42)\n",
    "scores=[]\n",
    "for n in range(2,15):\n",
    "    clf = KNeighborsClassifier(n_neighbors=n).fit(X_train, y_train)\n",
    "    scores.append(round(clf.score(X_test, y_test),2))\n",
    "neighbours = scores.index(max(scores)) + 1\n",
    "# print(scores)\n",
    "clf = KNeighborsClassifier(n_neighbors=neighbours).fit(X_train, y_train)\n",
    "pred_knn_train = clf.predict(X_test)\n",
    "print(metrics.classification_report(y_test, pred_knn_train))\n",
    "print(metrics.confusion_matrix(y_test, pred_knn_train))\n",
    "print(metrics.accuracy_score(y_test, pred_knn_train))"
   ]
  },
  {
   "cell_type": "code",
   "execution_count": null,
   "metadata": {
    "collapsed": true
   },
   "outputs": [],
   "source": [
    "df_nn[\"predicted\"] = pd.Series(pred_nn, index=df_nn.index)"
   ]
  },
  {
   "cell_type": "code",
   "execution_count": null,
   "metadata": {
    "collapsed": false
   },
   "outputs": [],
   "source": [
    "plt.scatter(df_nn[\"predicted\"], df_nn[\"occupancy\"],  color='navy')\n",
    "plt.figure(figsize=(20,20))\n",
    "plt.show()"
   ]
  },
  {
   "cell_type": "code",
   "execution_count": null,
   "metadata": {
    "collapsed": false
   },
   "outputs": [],
   "source": [
    "plt.scatter(df_nn[\"authenticated_client_count\"], df_nn[\"occupancy\"],  color='navy')\n",
    "plt.scatter(df_nn[\"authenticated_client_count\"], df_nn[\"predicted\"],  color='green')\n",
    "plt.figure(figsize=(20,20))\n",
    "plt.show()"
   ]
  },
  {
   "cell_type": "markdown",
   "metadata": {},
   "source": [
    "### Support Vector Machines"
   ]
  },
  {
   "cell_type": "code",
   "execution_count": null,
   "metadata": {
    "collapsed": false
   },
   "outputs": [],
   "source": [
    "df_svm = df.copy()\n",
    "from sklearn.preprocessing import scale\n",
    "X=scale(df_svm[['authenticated_client_count', 'reg_students']])\n",
    "plt.plot(X)\n",
    "y = df_svm[\"occupancy\"] \n",
    "svc = SVC()\n",
    "svc.fit(X, y)\n",
    "pred_svm = svc.predict(X)\n",
    "df_svm[\"predicted\"] = pd.Series(pred_svm, index=df_svm.index)\n",
    "print(metrics.classification_report(y, pred_svm))\n",
    "print(metrics.confusion_matrix(y, pred_svm))"
   ]
  },
  {
   "cell_type": "code",
   "execution_count": null,
   "metadata": {
    "collapsed": false
   },
   "outputs": [],
   "source": [
    "df_svm[df_svm[\"occupancy\"] != df_svm[\"predicted\"]]"
   ]
  },
  {
   "cell_type": "markdown",
   "metadata": {},
   "source": [
    "#### Testing"
   ]
  },
  {
   "cell_type": "code",
   "execution_count": null,
   "metadata": {
    "collapsed": false
   },
   "outputs": [],
   "source": [
    "clf = SVC()\n",
    "scores = cross_val_score(clf, X, y, cv=5)\n",
    "print(scores)\n",
    "print(\"Accuracy: %0.2f (+/- %0.2f)\" % (scores.mean(), scores.std() * 2))"
   ]
  },
  {
   "cell_type": "code",
   "execution_count": null,
   "metadata": {
    "collapsed": false
   },
   "outputs": [],
   "source": [
    "X_train, X_test, y_train, y_test = train_test_split(X, y, test_size=0.4, random_state=42)\n",
    "clf = SVC().fit(X_train, y_train)\n",
    "# score = clf.score(X_test, y_test)\n",
    "# print(score)\n",
    "pred_svm_train = clf.predict(X_test)\n",
    "print(metrics.classification_report(y_test, pred_svm_train))\n",
    "print(metrics.confusion_matrix(y_test, pred_svm_train))"
   ]
  },
  {
   "cell_type": "code",
   "execution_count": null,
   "metadata": {
    "collapsed": false
   },
   "outputs": [],
   "source": [
    "X_train, X_test, y_train, y_test = train_test_split(X, y, test_size=0.4, random_state=42)\n",
    "scores=[]\n",
    "for n in range(0,20):\n",
    "    clf = SVC(gamma=n).fit(X_train, y_train)\n",
    "    scores.append(round(clf.score(X_test, y_test),2))\n",
    "print(scores)\n",
    "gamma = scores.index(max(scores))\n",
    "print(gamma)"
   ]
  },
  {
   "cell_type": "code",
   "execution_count": null,
   "metadata": {
    "collapsed": true
   },
   "outputs": [],
   "source": [
    "df_svm[\"predicted\"] = pd.Series(pred_svm, index=df_svm.index)"
   ]
  },
  {
   "cell_type": "code",
   "execution_count": null,
   "metadata": {
    "collapsed": false
   },
   "outputs": [],
   "source": [
    "plt.scatter(df_svm[\"predicted\"], df_svm[\"occupancy\"],  color='navy')\n",
    "plt.figure(figsize=(20,20))\n",
    "plt.show()"
   ]
  },
  {
   "cell_type": "code",
   "execution_count": null,
   "metadata": {
    "collapsed": false
   },
   "outputs": [],
   "source": [
    "plt.scatter(df_svm[\"authenticated_client_count\"], df_svm[\"occupancy\"],  color='navy')\n",
    "plt.scatter(df_svm[\"authenticated_client_count\"], df_svm[\"predicted\"],  color='green')\n",
    "plt.figure(figsize=(20,20))\n",
    "plt.show()"
   ]
  },
  {
   "cell_type": "code",
   "execution_count": null,
   "metadata": {
    "collapsed": true
   },
   "outputs": [],
   "source": []
  },
  {
   "cell_type": "code",
   "execution_count": null,
   "metadata": {
    "collapsed": true
   },
   "outputs": [],
   "source": []
  },
  {
   "cell_type": "code",
   "execution_count": null,
   "metadata": {
    "collapsed": true
   },
   "outputs": [],
   "source": []
  },
  {
   "cell_type": "code",
   "execution_count": null,
   "metadata": {
    "collapsed": true
   },
   "outputs": [],
   "source": []
  },
  {
   "cell_type": "code",
   "execution_count": null,
   "metadata": {
    "collapsed": true
   },
   "outputs": [],
   "source": []
  },
  {
   "cell_type": "code",
   "execution_count": null,
   "metadata": {
    "collapsed": true
   },
   "outputs": [],
   "source": []
  },
  {
   "cell_type": "code",
   "execution_count": null,
   "metadata": {
    "collapsed": true
   },
   "outputs": [],
   "source": []
  },
  {
   "cell_type": "code",
   "execution_count": null,
   "metadata": {
    "collapsed": true
   },
   "outputs": [],
   "source": []
  },
  {
   "cell_type": "code",
   "execution_count": null,
   "metadata": {
    "collapsed": true
   },
   "outputs": [],
   "source": []
  },
  {
   "cell_type": "code",
   "execution_count": null,
   "metadata": {
    "collapsed": true
   },
   "outputs": [],
   "source": []
  },
  {
   "cell_type": "code",
   "execution_count": null,
   "metadata": {
    "collapsed": true
   },
   "outputs": [],
   "source": []
  },
  {
   "cell_type": "code",
   "execution_count": null,
   "metadata": {
    "collapsed": true
   },
   "outputs": [],
   "source": []
  },
  {
   "cell_type": "code",
   "execution_count": null,
   "metadata": {
    "collapsed": true
   },
   "outputs": [],
   "source": []
  },
  {
   "cell_type": "code",
   "execution_count": null,
   "metadata": {
    "collapsed": true
   },
   "outputs": [],
   "source": []
  },
  {
   "cell_type": "code",
   "execution_count": null,
   "metadata": {
    "collapsed": true
   },
   "outputs": [],
   "source": []
  },
  {
   "cell_type": "code",
   "execution_count": null,
   "metadata": {
    "collapsed": true
   },
   "outputs": [],
   "source": []
  },
  {
   "cell_type": "code",
   "execution_count": null,
   "metadata": {
    "collapsed": true
   },
   "outputs": [],
   "source": []
  },
  {
   "cell_type": "code",
   "execution_count": null,
   "metadata": {
    "collapsed": true
   },
   "outputs": [],
   "source": []
  },
  {
   "cell_type": "code",
   "execution_count": null,
   "metadata": {
    "collapsed": true
   },
   "outputs": [],
   "source": []
  },
  {
   "cell_type": "code",
   "execution_count": null,
   "metadata": {
    "collapsed": true
   },
   "outputs": [],
   "source": []
  },
  {
   "cell_type": "code",
   "execution_count": null,
   "metadata": {
    "collapsed": true
   },
   "outputs": [],
   "source": []
  },
  {
   "cell_type": "code",
   "execution_count": null,
   "metadata": {
    "collapsed": true
   },
   "outputs": [],
   "source": []
  },
  {
   "cell_type": "code",
   "execution_count": null,
   "metadata": {
    "collapsed": true
   },
   "outputs": [],
   "source": []
  },
  {
   "cell_type": "code",
   "execution_count": null,
   "metadata": {
    "collapsed": true
   },
   "outputs": [],
   "source": []
  },
  {
   "cell_type": "code",
   "execution_count": null,
   "metadata": {
    "collapsed": true
   },
   "outputs": [],
   "source": []
  },
  {
   "cell_type": "code",
   "execution_count": null,
   "metadata": {
    "collapsed": true
   },
   "outputs": [],
   "source": []
  },
  {
   "cell_type": "code",
   "execution_count": null,
   "metadata": {
    "collapsed": true
   },
   "outputs": [],
   "source": []
  },
  {
   "cell_type": "code",
   "execution_count": null,
   "metadata": {
    "collapsed": true
   },
   "outputs": [],
   "source": []
  },
  {
   "cell_type": "code",
   "execution_count": null,
   "metadata": {
    "collapsed": true
   },
   "outputs": [],
   "source": []
  },
  {
   "cell_type": "code",
   "execution_count": null,
   "metadata": {
    "collapsed": true
   },
   "outputs": [],
   "source": []
  },
  {
   "cell_type": "code",
   "execution_count": null,
   "metadata": {
    "collapsed": true
   },
   "outputs": [],
   "source": []
  },
  {
   "cell_type": "code",
   "execution_count": null,
   "metadata": {
    "collapsed": true
   },
   "outputs": [],
   "source": []
  },
  {
   "cell_type": "code",
   "execution_count": null,
   "metadata": {
    "collapsed": true
   },
   "outputs": [],
   "source": []
  },
  {
   "cell_type": "code",
   "execution_count": null,
   "metadata": {
    "collapsed": true
   },
   "outputs": [],
   "source": []
  },
  {
   "cell_type": "code",
   "execution_count": null,
   "metadata": {
    "collapsed": true
   },
   "outputs": [],
   "source": []
  },
  {
   "cell_type": "code",
   "execution_count": null,
   "metadata": {
    "collapsed": true
   },
   "outputs": [],
   "source": []
  },
  {
   "cell_type": "code",
   "execution_count": null,
   "metadata": {
    "collapsed": true
   },
   "outputs": [],
   "source": []
  },
  {
   "cell_type": "code",
   "execution_count": null,
   "metadata": {
    "collapsed": true
   },
   "outputs": [],
   "source": []
  },
  {
   "cell_type": "code",
   "execution_count": null,
   "metadata": {
    "collapsed": true
   },
   "outputs": [],
   "source": []
  },
  {
   "cell_type": "code",
   "execution_count": null,
   "metadata": {
    "collapsed": true
   },
   "outputs": [],
   "source": []
  },
  {
   "cell_type": "code",
   "execution_count": null,
   "metadata": {
    "collapsed": true
   },
   "outputs": [],
   "source": []
  },
  {
   "cell_type": "code",
   "execution_count": null,
   "metadata": {
    "collapsed": true
   },
   "outputs": [],
   "source": []
  },
  {
   "cell_type": "code",
   "execution_count": null,
   "metadata": {
    "collapsed": true
   },
   "outputs": [],
   "source": []
  },
  {
   "cell_type": "code",
   "execution_count": null,
   "metadata": {
    "collapsed": true
   },
   "outputs": [],
   "source": []
  },
  {
   "cell_type": "code",
   "execution_count": null,
   "metadata": {
    "collapsed": true
   },
   "outputs": [],
   "source": []
  },
  {
   "cell_type": "code",
   "execution_count": null,
   "metadata": {
    "collapsed": true
   },
   "outputs": [],
   "source": []
  },
  {
   "cell_type": "code",
   "execution_count": null,
   "metadata": {
    "collapsed": true
   },
   "outputs": [],
   "source": []
  },
  {
   "cell_type": "code",
   "execution_count": null,
   "metadata": {
    "collapsed": true
   },
   "outputs": [],
   "source": []
  },
  {
   "cell_type": "code",
   "execution_count": null,
   "metadata": {
    "collapsed": true
   },
   "outputs": [],
   "source": []
  },
  {
   "cell_type": "code",
   "execution_count": null,
   "metadata": {
    "collapsed": true
   },
   "outputs": [],
   "source": []
  },
  {
   "cell_type": "code",
   "execution_count": null,
   "metadata": {
    "collapsed": true
   },
   "outputs": [],
   "source": []
  },
  {
   "cell_type": "code",
   "execution_count": null,
   "metadata": {
    "collapsed": true
   },
   "outputs": [],
   "source": []
  },
  {
   "cell_type": "code",
   "execution_count": null,
   "metadata": {
    "collapsed": true
   },
   "outputs": [],
   "source": []
  },
  {
   "cell_type": "code",
   "execution_count": null,
   "metadata": {
    "collapsed": true
   },
   "outputs": [],
   "source": []
  },
  {
   "cell_type": "code",
   "execution_count": null,
   "metadata": {
    "collapsed": true
   },
   "outputs": [],
   "source": []
  },
  {
   "cell_type": "code",
   "execution_count": null,
   "metadata": {
    "collapsed": true
   },
   "outputs": [],
   "source": []
  },
  {
   "cell_type": "code",
   "execution_count": null,
   "metadata": {
    "collapsed": true
   },
   "outputs": [],
   "source": []
  },
  {
   "cell_type": "code",
   "execution_count": null,
   "metadata": {
    "collapsed": true
   },
   "outputs": [],
   "source": []
  },
  {
   "cell_type": "code",
   "execution_count": null,
   "metadata": {
    "collapsed": true
   },
   "outputs": [],
   "source": []
  },
  {
   "cell_type": "code",
   "execution_count": null,
   "metadata": {
    "collapsed": true
   },
   "outputs": [],
   "source": []
  },
  {
   "cell_type": "code",
   "execution_count": null,
   "metadata": {
    "collapsed": true
   },
   "outputs": [],
   "source": []
  },
  {
   "cell_type": "code",
   "execution_count": null,
   "metadata": {
    "collapsed": true
   },
   "outputs": [],
   "source": []
  },
  {
   "cell_type": "code",
   "execution_count": null,
   "metadata": {
    "collapsed": true
   },
   "outputs": [],
   "source": []
  }
 ],
 "metadata": {
  "kernelspec": {
   "display_name": "Python 3",
   "language": "python",
   "name": "python3"
  },
  "language_info": {
   "codemirror_mode": {
    "name": "ipython",
    "version": 3
   },
   "file_extension": ".py",
   "mimetype": "text/x-python",
   "name": "python",
   "nbconvert_exporter": "python",
   "pygments_lexer": "ipython3",
   "version": "3.4.3"
  }
 },
 "nbformat": 4,
 "nbformat_minor": 0
}
