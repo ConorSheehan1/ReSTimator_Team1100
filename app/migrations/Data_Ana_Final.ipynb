{
 "cells": [
  {
   "cell_type": "markdown",
   "metadata": {},
   "source": [
    "# Data Analysis"
   ]
  },
  {
   "cell_type": "markdown",
   "metadata": {},
   "source": [
    "## Imports"
   ]
  },
  {
   "cell_type": "code",
   "execution_count": 1,
   "metadata": {
    "collapsed": true
   },
   "outputs": [],
   "source": [
    "%matplotlib inline\n",
    "\n",
    "import pandas as pd\n",
    "pd.options.display.max_rows = 999\n",
    "import sqlite3\n",
    "import statsmodels.formula.api as sm\n",
    "import numpy as np\n",
    "import matplotlib.pyplot as plt\n",
    "\n",
    "from sklearn.linear_model import LinearRegression\n",
    "from sklearn.cross_validation import train_test_split\n",
    "from sklearn.cross_validation import cross_val_score\n",
    "from sklearn import metrics\n",
    "from sklearn.linear_model import LogisticRegression\n",
    "from sklearn.naive_bayes import GaussianNB\n",
    "from sklearn.neighbors import KNeighborsClassifier\n",
    "from sklearn.svm import SVC"
   ]
  },
  {
   "cell_type": "markdown",
   "metadata": {},
   "source": [
    "## Functions"
   ]
  },
  {
   "cell_type": "code",
   "execution_count": 2,
   "metadata": {
    "collapsed": true
   },
   "outputs": [],
   "source": [
    "def normalize(df, feature):\n",
    "    '''Normalize data'''\n",
    "    return (df[feature] - df[feature].mean()) / df[feature].std()\n",
    "\n",
    "def removeOutliers(df, feature):\n",
    "    '''Remove outliers (more than 3 std devs from mean)'''\n",
    "    return df[np.abs(df[feature] - df[feature].mean()) <= (3 * df[feature].std())]\n",
    "\n",
    "def convert_perc_int(df):\n",
    "    ''''''\n",
    "    df[\"occupancy\"] = df[\"occupancy\"].apply(lambda x: x * 100)\n",
    "    df[\"occupancy\"] = df[\"occupancy\"].astype(int)\n",
    "    return df"
   ]
  },
  {
   "cell_type": "markdown",
   "metadata": {},
   "source": [
    "## ABT Construction"
   ]
  },
  {
   "cell_type": "markdown",
   "metadata": {},
   "source": [
    "#### Database Connection"
   ]
  },
  {
   "cell_type": "code",
   "execution_count": 3,
   "metadata": {
    "collapsed": false
   },
   "outputs": [],
   "source": [
    "conn = sqlite3.connect(\"./project/restimator.db\")"
   ]
  },
  {
   "cell_type": "markdown",
   "metadata": {},
   "source": [
    "### Occupy Dataframe"
   ]
  },
  {
   "cell_type": "code",
   "execution_count": 4,
   "metadata": {
    "collapsed": false
   },
   "outputs": [],
   "source": [
    "df_occupy_1 = pd.read_sql(sql=\"SELECT room, date, time, associated_client_count, authenticated_client_count FROM occupy\", con=conn)\n",
    "df_occupy_2 = pd.read_sql(sql=\"SELECT room, date, time, module_code, occupancy FROM occupy\", con=conn)"
   ]
  },
  {
   "cell_type": "markdown",
   "metadata": {},
   "source": [
    "#### Only consider rows with the following conditions satisfied:\n",
    "\n",
    "* **Condition 1**: time between 9:00 and 16:00\n",
    "* **Condition 2**:  \n",
    "    - time >= quarter past the hour: account for DHCP lease duration\n",
    "    - time <= quarter to the hour: account for classes ending early\n",
    "\n",
    "This condition is because we want to take the average authenticated client count between these times. We are disregarding the other figures because we are not sure of the DHCP lease duration. For instance, a number of the devices could still be being considered from an individual who has already left the room but the lease is still considered.\n"
   ]
  },
  {
   "cell_type": "code",
   "execution_count": 5,
   "metadata": {
    "collapsed": true
   },
   "outputs": [],
   "source": [
    "df_occupy_1[\"condition1\"] = df_occupy_1[\"time\"].apply(lambda x: \"true\" if 16 >= int(x[0:2]) >= 9 else \"false\")\n",
    "df_occupy_1 = df_occupy_1[df_occupy_1[\"condition1\"] == \"true\"]"
   ]
  },
  {
   "cell_type": "code",
   "execution_count": 6,
   "metadata": {
    "collapsed": true
   },
   "outputs": [],
   "source": [
    "df_occupy_1[\"condition2\"] = df_occupy_1[\"time\"].apply(lambda x: \"true\" if 45 >= int(x[-2:]) >= 15 else \"false\")\n",
    "df_occupy_1 = df_occupy_1[df_occupy_1[\"condition2\"] == \"true\"]"
   ]
  },
  {
   "cell_type": "code",
   "execution_count": 7,
   "metadata": {
    "collapsed": true
   },
   "outputs": [],
   "source": [
    "del df_occupy_1[\"condition1\"]\n",
    "del df_occupy_1[\"condition2\"]\n",
    "df_occupy_1[\"time\"] = df_occupy_1[\"time\"].apply(lambda x: x[0:3] + \"00\")"
   ]
  },
  {
   "cell_type": "markdown",
   "metadata": {},
   "source": [
    "#### Merge tables and get average"
   ]
  },
  {
   "cell_type": "code",
   "execution_count": 8,
   "metadata": {
    "collapsed": true
   },
   "outputs": [],
   "source": [
    "df_occupy_merge = pd.merge(left = df_occupy_1, right = df_occupy_2, how=\"outer\", on=[\"room\", \"date\", \"time\"])"
   ]
  },
  {
   "cell_type": "code",
   "execution_count": 9,
   "metadata": {
    "collapsed": false
   },
   "outputs": [
    {
     "name": "stdout",
     "output_type": "stream",
     "text": [
      "(153, 7)\n"
     ]
    }
   ],
   "source": [
    "df_occupy = df_occupy_merge.groupby([\"room\", \"date\", \"time\", \"module_code\"], as_index=False).mean()\n",
    "df_occupy = df_occupy.dropna() \n",
    "print(df_occupy.shape)"
   ]
  },
  {
   "cell_type": "markdown",
   "metadata": {},
   "source": [
    "#### Module Dataframe"
   ]
  },
  {
   "cell_type": "code",
   "execution_count": 10,
   "metadata": {
    "collapsed": false
   },
   "outputs": [],
   "source": [
    "df_module = pd.read_sql(sql=\"SELECT * FROM module\", con=conn)"
   ]
  },
  {
   "cell_type": "markdown",
   "metadata": {},
   "source": [
    "#### Location Dataframe"
   ]
  },
  {
   "cell_type": "code",
   "execution_count": 11,
   "metadata": {
    "collapsed": true
   },
   "outputs": [],
   "source": [
    "df_location = pd.read_sql(sql=\"SELECT * FROM location\", con=conn)"
   ]
  },
  {
   "cell_type": "markdown",
   "metadata": {},
   "source": [
    "#### Close db connection"
   ]
  },
  {
   "cell_type": "code",
   "execution_count": 12,
   "metadata": {
    "collapsed": true
   },
   "outputs": [],
   "source": [
    "conn.close()"
   ]
  },
  {
   "cell_type": "markdown",
   "metadata": {},
   "source": [
    "#### Join tables"
   ]
  },
  {
   "cell_type": "code",
   "execution_count": 13,
   "metadata": {
    "collapsed": false
   },
   "outputs": [
    {
     "name": "stdout",
     "output_type": "stream",
     "text": [
      "(152, 11)\n"
     ]
    }
   ],
   "source": [
    "df_abt = pd.merge(left = df_occupy, right = df_module, how=\"outer\", on=[\"module_code\"]) \n",
    "df_abt = pd.merge(left = df_abt, right = df_location, how=\"outer\", on=[\"room\"]) \n",
    "df_abt = df_abt.dropna() \n",
    "print(df_abt.shape)"
   ]
  },
  {
   "cell_type": "markdown",
   "metadata": {},
   "source": [
    "#### Remove rows without registered students i.e. no class (only consider where those classes with modules taking place)"
   ]
  },
  {
   "cell_type": "code",
   "execution_count": 14,
   "metadata": {
    "collapsed": false
   },
   "outputs": [
    {
     "name": "stdout",
     "output_type": "stream",
     "text": [
      "(128, 11)\n"
     ]
    }
   ],
   "source": [
    "df_abt = df_abt[df_abt[\"reg_students\"] != 0]\n",
    "print(df_abt.shape)"
   ]
  },
  {
   "cell_type": "markdown",
   "metadata": {},
   "source": [
    "#### Add occupancy ground truth number to ABT (Capacity * GT%)"
   ]
  },
  {
   "cell_type": "code",
   "execution_count": 15,
   "metadata": {
    "collapsed": true
   },
   "outputs": [],
   "source": [
    "df_abt[\"occupancy_number\"] = df_abt[\"occupancy\"] * df_abt[\"capacity\"]"
   ]
  },
  {
   "cell_type": "markdown",
   "metadata": {},
   "source": [
    "#### Show error in GT i.e. difference between registered students and GT"
   ]
  },
  {
   "cell_type": "code",
   "execution_count": 16,
   "metadata": {
    "collapsed": false
   },
   "outputs": [],
   "source": [
    "df_abt[\"Difference\"] = df_abt[\"occupancy_number\"] - df_abt[\"reg_students\"]\n",
    "df_abt[\"max_error\"] = df_abt[\"capacity\"].apply(lambda x: x * .125)"
   ]
  },
  {
   "cell_type": "code",
   "execution_count": 17,
   "metadata": {
    "collapsed": false
   },
   "outputs": [
    {
     "data": {
      "text/html": [
       "<div>\n",
       "<table border=\"1\" class=\"dataframe\">\n",
       "  <thead>\n",
       "    <tr style=\"text-align: right;\">\n",
       "      <th></th>\n",
       "      <th>room</th>\n",
       "      <th>date</th>\n",
       "      <th>time</th>\n",
       "      <th>reg_students</th>\n",
       "      <th>occupancy_number</th>\n",
       "      <th>Difference</th>\n",
       "      <th>max_error</th>\n",
       "    </tr>\n",
       "  </thead>\n",
       "  <tbody>\n",
       "    <tr>\n",
       "      <th>4</th>\n",
       "      <td>B-002</td>\n",
       "      <td>2015-11-03</td>\n",
       "      <td>11:00</td>\n",
       "      <td>18</td>\n",
       "      <td>45.0</td>\n",
       "      <td>27.0</td>\n",
       "      <td>11.25</td>\n",
       "    </tr>\n",
       "    <tr>\n",
       "      <th>9</th>\n",
       "      <td>B-002</td>\n",
       "      <td>2015-11-03</td>\n",
       "      <td>12:00</td>\n",
       "      <td>27</td>\n",
       "      <td>45.0</td>\n",
       "      <td>18.0</td>\n",
       "      <td>11.25</td>\n",
       "    </tr>\n",
       "    <tr>\n",
       "      <th>15</th>\n",
       "      <td>B-002</td>\n",
       "      <td>2015-11-03</td>\n",
       "      <td>14:00</td>\n",
       "      <td>42</td>\n",
       "      <td>67.5</td>\n",
       "      <td>25.5</td>\n",
       "      <td>11.25</td>\n",
       "    </tr>\n",
       "    <tr>\n",
       "      <th>59</th>\n",
       "      <td>B-004</td>\n",
       "      <td>2015-11-13</td>\n",
       "      <td>15:00</td>\n",
       "      <td>38</td>\n",
       "      <td>80.0</td>\n",
       "      <td>42.0</td>\n",
       "      <td>20.00</td>\n",
       "    </tr>\n",
       "    <tr>\n",
       "      <th>97</th>\n",
       "      <td>B-004</td>\n",
       "      <td>2015-11-12</td>\n",
       "      <td>10:00</td>\n",
       "      <td>56</td>\n",
       "      <td>80.0</td>\n",
       "      <td>24.0</td>\n",
       "      <td>20.00</td>\n",
       "    </tr>\n",
       "    <tr>\n",
       "      <th>107</th>\n",
       "      <td>B-004</td>\n",
       "      <td>2015-11-09</td>\n",
       "      <td>15:00</td>\n",
       "      <td>19</td>\n",
       "      <td>80.0</td>\n",
       "      <td>61.0</td>\n",
       "      <td>20.00</td>\n",
       "    </tr>\n",
       "    <tr>\n",
       "      <th>116</th>\n",
       "      <td>B-003</td>\n",
       "      <td>2015-11-03</td>\n",
       "      <td>11:00</td>\n",
       "      <td>56</td>\n",
       "      <td>67.5</td>\n",
       "      <td>11.5</td>\n",
       "      <td>11.25</td>\n",
       "    </tr>\n",
       "  </tbody>\n",
       "</table>\n",
       "</div>"
      ],
      "text/plain": [
       "      room        date   time  reg_students  occupancy_number  Difference  \\\n",
       "4    B-002  2015-11-03  11:00            18              45.0        27.0   \n",
       "9    B-002  2015-11-03  12:00            27              45.0        18.0   \n",
       "15   B-002  2015-11-03  14:00            42              67.5        25.5   \n",
       "59   B-004  2015-11-13  15:00            38              80.0        42.0   \n",
       "97   B-004  2015-11-12  10:00            56              80.0        24.0   \n",
       "107  B-004  2015-11-09  15:00            19              80.0        61.0   \n",
       "116  B-003  2015-11-03  11:00            56              67.5        11.5   \n",
       "\n",
       "     max_error  \n",
       "4        11.25  \n",
       "9        11.25  \n",
       "15       11.25  \n",
       "59       20.00  \n",
       "97       20.00  \n",
       "107      20.00  \n",
       "116      11.25  "
      ]
     },
     "execution_count": 17,
     "metadata": {},
     "output_type": "execute_result"
    }
   ],
   "source": [
    "error = df_abt[df_abt[\"Difference\"] >= df_abt[\"max_error\"]]\n",
    "error[[\"room\",\"date\",\"time\",\"reg_students\",\"occupancy_number\",\"Difference\",\"max_error\"]]"
   ]
  },
  {
   "cell_type": "markdown",
   "metadata": {},
   "source": [
    "#### Remove those rows outside an acceptable error range"
   ]
  },
  {
   "cell_type": "code",
   "execution_count": 18,
   "metadata": {
    "collapsed": false
   },
   "outputs": [
    {
     "name": "stdout",
     "output_type": "stream",
     "text": [
      "(121, 14)\n"
     ]
    }
   ],
   "source": [
    "df_abt = df_abt[df_abt[\"Difference\"] <= df_abt[\"max_error\"]]\n",
    "print(df_abt.shape)"
   ]
  },
  {
   "cell_type": "markdown",
   "metadata": {},
   "source": [
    "#### Take min between occupancy gt and reg students to remove error in gt measurement"
   ]
  },
  {
   "cell_type": "code",
   "execution_count": 19,
   "metadata": {
    "collapsed": false
   },
   "outputs": [
    {
     "name": "stdout",
     "output_type": "stream",
     "text": [
      "(121, 15)\n"
     ]
    }
   ],
   "source": [
    "df_abt[\"min_occ_reg\"] = df_abt.loc[:, ['occupancy_number', 'reg_students']].min(axis=1)\n",
    "print(df_abt.shape)"
   ]
  },
  {
   "cell_type": "markdown",
   "metadata": {},
   "source": [
    "## Simple Linear Regression Models"
   ]
  },
  {
   "cell_type": "markdown",
   "metadata": {},
   "source": [
    "### Model 1: Simple Linear Regression (Y: min_occ_reg, X: authenticated_client_count)"
   ]
  },
  {
   "cell_type": "code",
   "execution_count": 20,
   "metadata": {
    "collapsed": false
   },
   "outputs": [
    {
     "name": "stdout",
     "output_type": "stream",
     "text": [
      "(121, 2)\n"
     ]
    }
   ],
   "source": [
    "df_reg_1= df_abt[[\"min_occ_reg\", \"authenticated_client_count\"]].copy()\n",
    "print(df_reg_1.shape)"
   ]
  },
  {
   "cell_type": "markdown",
   "metadata": {},
   "source": [
    "#### Feature Analysis"
   ]
  },
  {
   "cell_type": "code",
   "execution_count": 21,
   "metadata": {
    "collapsed": false
   },
   "outputs": [
    {
     "data": {
      "image/png": "[encoded data removed]",
      "text/plain": [
       "<matplotlib.figure.Figure at 0x10c530e10>"
      ]
     },
     "metadata": {},
     "output_type": "display_data"
    }
   ],
   "source": [
    "colour = dict(boxes='DarkGreen', whiskers='DarkOrange', medians='DarkBlue', caps='Gray') \n",
    "plt.figure() \n",
    "plt.subplot(211).set_title(\"min_occ_reg\", fontsize=15)\n",
    "df_reg_1[\"min_occ_reg\"].plot(kind = 'box', figsize = (15,15), color=colour, sym='r+') \n",
    "plt.subplot(212).set_title(\"authenticated_client_count\", fontsize=15)\n",
    "df_reg_1[\"authenticated_client_count\"].plot(kind = 'box', figsize = (15,15), color=colour, sym='r+') \n",
    "plt.tight_layout(pad=2.0, w_pad=2.0, h_pad=3.0)"
   ]
  },
  {
   "cell_type": "markdown",
   "metadata": {},
   "source": [
    "#### Normalize Features and remove outliers"
   ]
  },
  {
   "cell_type": "code",
   "execution_count": 22,
   "metadata": {
    "collapsed": false
   },
   "outputs": [
    {
     "name": "stdout",
     "output_type": "stream",
     "text": [
      "(121, 4)\n",
      "(118, 2)\n"
     ]
    }
   ],
   "source": [
    "df_reg_1[\"min_occ_reg_NORM\"] = normalize(df_reg_1, \"min_occ_reg\")\n",
    "df_reg_1[\"auth_client_count_NORM\"] = normalize(df_reg_1, \"authenticated_client_count\")\n",
    "print(df_reg_1.shape)\n",
    "df_reg_1 = removeOutliers(df_reg_1, \"min_occ_reg_NORM\")\n",
    "df_reg_1 = removeOutliers(df_reg_1, \"auth_client_count_NORM\")\n",
    "df_reg_1 = df_reg_1[[\"min_occ_reg\", \"authenticated_client_count\"]]\n",
    "print(df_reg_1.shape)"
   ]
  },
  {
   "cell_type": "code",
   "execution_count": 23,
   "metadata": {
    "collapsed": false
   },
   "outputs": [
    {
     "name": "stdout",
     "output_type": "stream",
     "text": [
      "min_occ_reg                   float64\n",
      "authenticated_client_count    float64\n",
      "dtype: object\n"
     ]
    },
    {
     "data": {
      "text/html": [
       "<div>\n",
       "<table border=\"1\" class=\"dataframe\">\n",
       "  <thead>\n",
       "    <tr style=\"text-align: right;\">\n",
       "      <th></th>\n",
       "      <th>min_occ_reg</th>\n",
       "      <th>authenticated_client_count</th>\n",
       "    </tr>\n",
       "  </thead>\n",
       "  <tbody>\n",
       "    <tr>\n",
       "      <th>min_occ_reg</th>\n",
       "      <td>1.000000</td>\n",
       "      <td>0.717987</td>\n",
       "    </tr>\n",
       "    <tr>\n",
       "      <th>authenticated_client_count</th>\n",
       "      <td>0.717987</td>\n",
       "      <td>1.000000</td>\n",
       "    </tr>\n",
       "  </tbody>\n",
       "</table>\n",
       "</div>"
      ],
      "text/plain": [
       "                            min_occ_reg  authenticated_client_count\n",
       "min_occ_reg                    1.000000                    0.717987\n",
       "authenticated_client_count     0.717987                    1.000000"
      ]
     },
     "execution_count": 23,
     "metadata": {},
     "output_type": "execute_result"
    }
   ],
   "source": [
    "print(df_reg_1.dtypes)\n",
    "corrMatrix = df_reg_1.corr()\n",
    "corrMatrix"
   ]
  },
  {
   "cell_type": "code",
   "execution_count": 24,
   "metadata": {
    "collapsed": false
   },
   "outputs": [
    {
     "data": {
      "text/plain": [
       "<matplotlib.axes._subplots.AxesSubplot at 0x10c4183c8>"
      ]
     },
     "execution_count": 24,
     "metadata": {},
     "output_type": "execute_result"
    },
    {
     "data": {
      "text/plain": [
       "<matplotlib.figure.Figure at 0x10c51f0f0>"
      ]
     },
     "metadata": {},
     "output_type": "display_data"
    },
    {
     "data": {
      "image/png": "[encoded data removed]",
      "text/plain": [
       "<matplotlib.figure.Figure at 0x10c4feef0>"
      ]
     },
     "metadata": {},
     "output_type": "display_data"
    }
   ],
   "source": [
    "plt.figure() \n",
    "df_reg_1.plot(kind=\"scatter\", x=\"authenticated_client_count\", y=\"min_occ_reg\", label=\"%.3f\" % corrMatrix.as_matrix()[0,1], figsize=(20, 6))"
   ]
  },
  {
   "cell_type": "markdown",
   "metadata": {},
   "source": [
    "#### Statsmodels"
   ]
  },
  {
   "cell_type": "code",
   "execution_count": 25,
   "metadata": {
    "collapsed": true
   },
   "outputs": [],
   "source": [
    "# lm_sm = sm.ols(formula=\"min_occ_reg ~ authenticated_client_count\", data=df_reg_1).fit()\n",
    "# print(lm_sm.summary())"
   ]
  },
  {
   "cell_type": "markdown",
   "metadata": {},
   "source": [
    "#### Scikit Learn"
   ]
  },
  {
   "cell_type": "code",
   "execution_count": 26,
   "metadata": {
    "collapsed": false
   },
   "outputs": [
    {
     "name": "stdout",
     "output_type": "stream",
     "text": [
      "Coefficients: \n",
      " [ 0.62967539]\n",
      "Intercept: \n",
      " 6.35641943526\n",
      "Residual sum of squares: 270.72\n",
      "Square Root of Residual sum of squares: 16.45\n",
      "Variance score: 0.52\n"
     ]
    },
    {
     "name": "stderr",
     "output_type": "stream",
     "text": [
      "/Library/Frameworks/Python.framework/Versions/3.4/lib/python3.4/site-packages/scipy/linalg/basic.py:884: RuntimeWarning: internal gelsd driver lwork query error, required iwork dimension not returned. This is likely the result of LAPACK bug 0038, fixed in LAPACK 3.2.2 (released July 21, 2010). Falling back to 'gelss' driver.\n",
      "  warnings.warn(mesg, RuntimeWarning)\n"
     ]
    },
    {
     "data": {
      "image/png": "[encoded data removed]",
      "text/plain": [
       "<matplotlib.figure.Figure at 0x10c557320>"
      ]
     },
     "metadata": {},
     "output_type": "display_data"
    },
    {
     "data": {
      "text/plain": [
       "<matplotlib.figure.Figure at 0x10c164be0>"
      ]
     },
     "metadata": {},
     "output_type": "display_data"
    }
   ],
   "source": [
    "X = df_reg_1[\"authenticated_client_count\"].reshape(len(df_reg_1[\"authenticated_client_count\"]), 1)\n",
    "y = df_reg_1[\"min_occ_reg\"]\n",
    "\n",
    "lm_scikit_1 = LinearRegression()\n",
    "\n",
    "# Fit the model \n",
    "lm_scikit_1.fit(X, y)\n",
    "\n",
    "# Coefficients\n",
    "print(\"Coefficients: \\n\", lm_scikit_1.coef_)\n",
    "# The intercept\n",
    "print('Intercept: \\n', lm_scikit_1.intercept_)\n",
    "# The mean square error: MSE is more popular than MAE because MSE \"punishes\" larger errors. \n",
    "# But, RMSE is even more popular than MSE because RMSE is interpretable in the \"y\" units.\n",
    "print(\"Residual sum of squares: %.2f\" % metrics.mean_squared_error(y, lm_scikit_1.predict(X)))\n",
    "print(\"Square Root of Residual sum of squares: %.2f\" % np.sqrt(metrics.mean_squared_error(y, lm_scikit_1.predict(X))))\n",
    "# Explained variance score: coefficient of determination (R^2)\n",
    "print(\"Variance score: %.2f\" % lm_scikit_1.score(X, y))\n",
    "\n",
    "# Plot outputs\n",
    "plt.scatter(X, y,  color='navy')\n",
    "plt.plot(X, lm_scikit_1.predict(X), color='red',linewidth=2)\n",
    "plt.figure(figsize=(20,20))\n",
    "plt.show()"
   ]
  },
  {
   "cell_type": "markdown",
   "metadata": {},
   "source": [
    "#### Train & Testing"
   ]
  },
  {
   "cell_type": "markdown",
   "metadata": {},
   "source": [
    "**Cross Validation**"
   ]
  },
  {
   "cell_type": "code",
   "execution_count": 27,
   "metadata": {
    "collapsed": false
   },
   "outputs": [
    {
     "name": "stdout",
     "output_type": "stream",
     "text": [
      "Accuracy: 0.30 (+/- 0.25)\n"
     ]
    }
   ],
   "source": [
    "R2_scores_1 = cross_val_score(lm_scikit_1.fit(X, y), X.astype(int), y.astype(int), cv=5, scoring=\"r2\")\n",
    "print(\"Accuracy: %0.2f (+/- %0.2f)\" % (R2_scores_1.mean(), R2_scores_1.std() * 2))"
   ]
  },
  {
   "cell_type": "code",
   "execution_count": 28,
   "metadata": {
    "collapsed": false
   },
   "outputs": [
    {
     "name": "stdout",
     "output_type": "stream",
     "text": [
      "[ 0.16406108  0.16743704  0.32248866  0.48245065  0.3806237 ]\n",
      "0.303412225252\n"
     ]
    }
   ],
   "source": [
    "R2_scores_1 = cross_val_score(lm_scikit_1.fit(X, y), X.astype(int), y.astype(int), cv=5, scoring=\"r2\")\n",
    "print(R2_scores_1)\n",
    "print(R2_scores_1.mean())"
   ]
  },
  {
   "cell_type": "markdown",
   "metadata": {},
   "source": [
    "**Train and test** "
   ]
  },
  {
   "cell_type": "code",
   "execution_count": 29,
   "metadata": {
    "collapsed": false
   },
   "outputs": [
    {
     "name": "stdout",
     "output_type": "stream",
     "text": [
      "Coefficients:  [ 0.58632434]\n",
      "Intercept:  8.93141780983\n",
      "Residual sum of squares: 316.11\n",
      "Square Root of Residual sum of squares: 17.78\n",
      "Variance score: 0.51\n"
     ]
    },
    {
     "data": {
      "image/png": "[encoded data removed]",
      "text/plain": [
       "<matplotlib.figure.Figure at 0x10c1777b8>"
      ]
     },
     "metadata": {},
     "output_type": "display_data"
    },
    {
     "data": {
      "text/plain": [
       "<matplotlib.figure.Figure at 0x10c170860>"
      ]
     },
     "metadata": {},
     "output_type": "display_data"
    }
   ],
   "source": [
    "X_train, X_test, y_train, y_test = train_test_split(X, y, test_size=0.6)\n",
    "\n",
    "lm_scikit_1_t = LinearRegression()\n",
    "\n",
    "# Train the model using the training sets\n",
    "lm_scikit_1_t.fit(X_train, y_train)\n",
    "\n",
    "# The coefficients\n",
    "print('Coefficients: ', lm_scikit_1_t.coef_)\n",
    "# The intercept\n",
    "print('Intercept: ', lm_scikit_1_t.intercept_)\n",
    "# The mean square error\n",
    "print(\"Residual sum of squares: %.2f\" % metrics.mean_squared_error(y_test, lm_scikit_1_t.predict(X_test)))\n",
    "print(\"Square Root of Residual sum of squares: %.2f\" % np.sqrt(metrics.mean_squared_error(y_test, lm_scikit_1_t.predict(X_test))))\n",
    "# Explained variance score: coefficient of determination (R^2)\n",
    "print('Variance score: %.2f' % lm_scikit_1_t.score(X_test, y_test))\n",
    "\n",
    "# Plot outputs\n",
    "plt.scatter(X_test, y_test,  color='navy')\n",
    "plt.plot(X_test, lm_scikit_1_t.predict(X_test), color='red',linewidth=3)\n",
    "plt.figure(figsize=(20,20))\n",
    "plt.show()"
   ]
  },
  {
   "cell_type": "markdown",
   "metadata": {},
   "source": [
    "### Model 2: Simple Linear (Y: min_occ_reg, X: asso_client_count)"
   ]
  },
  {
   "cell_type": "code",
   "execution_count": 30,
   "metadata": {
    "collapsed": false
   },
   "outputs": [
    {
     "name": "stdout",
     "output_type": "stream",
     "text": [
      "(121, 2)\n"
     ]
    }
   ],
   "source": [
    "df_reg_2= df_abt[[\"min_occ_reg\", \"associated_client_count\"]].copy()\n",
    "print(df_reg_2.shape)"
   ]
  },
  {
   "cell_type": "markdown",
   "metadata": {},
   "source": [
    "#### Feature Analysis"
   ]
  },
  {
   "cell_type": "code",
   "execution_count": 31,
   "metadata": {
    "collapsed": false
   },
   "outputs": [
    {
     "data": {
      "image/png": "[encoded data removed]",
      "text/plain": [
       "<matplotlib.figure.Figure at 0x10c3ee588>"
      ]
     },
     "metadata": {},
     "output_type": "display_data"
    }
   ],
   "source": [
    "plt.figure() \n",
    "plt.subplot(211).set_title(\"min_occ_reg\", fontsize=15)\n",
    "df_reg_2[\"min_occ_reg\"].plot(kind = 'box', figsize = (15,15), color=colour, sym='r+') \n",
    "plt.subplot(212).set_title(\"associated_client_count\", fontsize=15)\n",
    "df_reg_2[\"associated_client_count\"].plot(kind = 'box', figsize = (15,15), color=colour, sym='r+') \n",
    "plt.tight_layout(pad=2.0, w_pad=2.0, h_pad=3.0) #set padding"
   ]
  },
  {
   "cell_type": "markdown",
   "metadata": {},
   "source": [
    "#### Normalize Features and remove outliers"
   ]
  },
  {
   "cell_type": "code",
   "execution_count": 32,
   "metadata": {
    "collapsed": false
   },
   "outputs": [
    {
     "name": "stdout",
     "output_type": "stream",
     "text": [
      "(121, 4)\n",
      "(118, 2)\n"
     ]
    }
   ],
   "source": [
    "df_reg_2[\"min_occ_reg_NORM\"] = normalize(df_reg_2, \"min_occ_reg\")\n",
    "df_reg_2[\"asso_client_count_NORM\"] = normalize(df_reg_2, \"associated_client_count\")\n",
    "print(df_reg_2.shape)\n",
    "df_reg_2 = removeOutliers(df_reg_2, \"min_occ_reg_NORM\")\n",
    "df_reg_2 = removeOutliers(df_reg_2, \"asso_client_count_NORM\")\n",
    "df_reg_2 = df_reg_2[[\"min_occ_reg\", \"associated_client_count\"]]\n",
    "print(df_reg_2.shape)"
   ]
  },
  {
   "cell_type": "code",
   "execution_count": 33,
   "metadata": {
    "collapsed": false
   },
   "outputs": [
    {
     "name": "stdout",
     "output_type": "stream",
     "text": [
      "min_occ_reg                float64\n",
      "associated_client_count    float64\n",
      "dtype: object\n"
     ]
    },
    {
     "data": {
      "text/html": [
       "<div>\n",
       "<table border=\"1\" class=\"dataframe\">\n",
       "  <thead>\n",
       "    <tr style=\"text-align: right;\">\n",
       "      <th></th>\n",
       "      <th>min_occ_reg</th>\n",
       "      <th>associated_client_count</th>\n",
       "    </tr>\n",
       "  </thead>\n",
       "  <tbody>\n",
       "    <tr>\n",
       "      <th>min_occ_reg</th>\n",
       "      <td>1.000000</td>\n",
       "      <td>0.717581</td>\n",
       "    </tr>\n",
       "    <tr>\n",
       "      <th>associated_client_count</th>\n",
       "      <td>0.717581</td>\n",
       "      <td>1.000000</td>\n",
       "    </tr>\n",
       "  </tbody>\n",
       "</table>\n",
       "</div>"
      ],
      "text/plain": [
       "                         min_occ_reg  associated_client_count\n",
       "min_occ_reg                 1.000000                 0.717581\n",
       "associated_client_count     0.717581                 1.000000"
      ]
     },
     "execution_count": 33,
     "metadata": {},
     "output_type": "execute_result"
    }
   ],
   "source": [
    "print(df_reg_2.dtypes)\n",
    "corrMatrix = df_reg_2.corr()\n",
    "corrMatrix"
   ]
  },
  {
   "cell_type": "code",
   "execution_count": 34,
   "metadata": {
    "collapsed": false
   },
   "outputs": [
    {
     "data": {
      "text/plain": [
       "<matplotlib.axes._subplots.AxesSubplot at 0x10c522f28>"
      ]
     },
     "execution_count": 34,
     "metadata": {},
     "output_type": "execute_result"
    },
    {
     "data": {
      "text/plain": [
       "<matplotlib.figure.Figure at 0x10c557e10>"
      ]
     },
     "metadata": {},
     "output_type": "display_data"
    },
    {
     "data": {
      "image/png": "[encoded data removed]",
      "text/plain": [
       "<matplotlib.figure.Figure at 0x10c52ea20>"
      ]
     },
     "metadata": {},
     "output_type": "display_data"
    }
   ],
   "source": [
    "plt.figure() \n",
    "df_reg_2.plot(kind=\"scatter\", x=\"associated_client_count\", y=\"min_occ_reg\", label=\"%.3f\" % corrMatrix.as_matrix()[0,1], figsize=(20, 6))"
   ]
  },
  {
   "cell_type": "code",
   "execution_count": 35,
   "metadata": {
    "collapsed": false
   },
   "outputs": [
    {
     "name": "stdout",
     "output_type": "stream",
     "text": [
      "Coefficients: \n",
      " [ 0.62746015]\n",
      "Intercept: \n",
      " 6.38138235553\n",
      "Residual sum of squares: 271.05\n",
      "Square Root of Residual sum of squares: 16.46\n",
      "Variance score: 0.51\n"
     ]
    },
    {
     "data": {
      "image/png": "[encoded data removed]",
      "text/plain": [
       "<matplotlib.figure.Figure at 0x10c900f28>"
      ]
     },
     "metadata": {},
     "output_type": "display_data"
    },
    {
     "data": {
      "text/plain": [
       "<matplotlib.figure.Figure at 0x10c884668>"
      ]
     },
     "metadata": {},
     "output_type": "display_data"
    }
   ],
   "source": [
    "X = df_reg_2[\"associated_client_count\"].reshape(len(df_reg_2[\"associated_client_count\"]), 1)\n",
    "y = df_reg_2[\"min_occ_reg\"]\n",
    "\n",
    "lm_scikit_2 = LinearRegression()\n",
    "\n",
    "# Fit the model \n",
    "lm_scikit_2.fit(X, y)\n",
    "\n",
    "# Coefficients\n",
    "print(\"Coefficients: \\n\", lm_scikit_2.coef_)\n",
    "# The intercept\n",
    "print('Intercept: \\n', lm_scikit_2.intercept_)\n",
    "# The mean square error: MSE is more popular than MAE because MSE \"punishes\" larger errors. \n",
    "# But, RMSE is even more popular than MSE because RMSE is interpretable in the \"y\" units.\n",
    "print(\"Residual sum of squares: %.2f\" % metrics.mean_squared_error(y, lm_scikit_2.predict(X)))\n",
    "print(\"Square Root of Residual sum of squares: %.2f\" % np.sqrt(metrics.mean_squared_error(y, lm_scikit_2.predict(X))))\n",
    "# Explained variance score: coefficient of determination (R^2)\n",
    "print(\"Variance score: %.2f\" % lm_scikit_2.score(X, y))\n",
    "\n",
    "# Plot outputs\n",
    "plt.scatter(X, y,  color='navy')\n",
    "plt.plot(X, lm_scikit_2.predict(X), color='red',linewidth=2)\n",
    "plt.figure(figsize=(20,20))\n",
    "plt.show()"
   ]
  },
  {
   "cell_type": "markdown",
   "metadata": {},
   "source": [
    "#### Train & Testing\n",
    "\n",
    "**Cross Validation**"
   ]
  },
  {
   "cell_type": "code",
   "execution_count": 36,
   "metadata": {
    "collapsed": false
   },
   "outputs": [
    {
     "name": "stdout",
     "output_type": "stream",
     "text": [
      "[ 0.16112777  0.17065649  0.31806162  0.48293983  0.38207857]\n",
      "0.3029728567\n"
     ]
    }
   ],
   "source": [
    "R2_scores_2 = cross_val_score(lm_scikit_2.fit(X, y), X.astype(int), y.astype(int), cv=5)\n",
    "print(R2_scores_2)\n",
    "print(R2_scores_2.mean())"
   ]
  },
  {
   "cell_type": "markdown",
   "metadata": {},
   "source": [
    "**Train and test** "
   ]
  },
  {
   "cell_type": "code",
   "execution_count": 37,
   "metadata": {
    "collapsed": false
   },
   "outputs": [
    {
     "name": "stdout",
     "output_type": "stream",
     "text": [
      "Coefficients: \n",
      " [ 0.66588293]\n",
      "Intercept: \n",
      " 4.55047712022\n",
      "Residual sum of squares: 286.13\n",
      "Square Root of Residual sum of squares: 16.92\n",
      "Variance score: 0.49\n"
     ]
    },
    {
     "data": {
      "image/png": "[encoded data removed]",
      "text/plain": [
       "<matplotlib.figure.Figure at 0x10c8795f8>"
      ]
     },
     "metadata": {},
     "output_type": "display_data"
    },
    {
     "data": {
      "text/plain": [
       "<matplotlib.figure.Figure at 0x10c8fc400>"
      ]
     },
     "metadata": {},
     "output_type": "display_data"
    }
   ],
   "source": [
    "X_train, X_test, y_train, y_test = train_test_split(X, y, test_size=0.3, random_state=42)\n",
    "\n",
    "lm_scikit_2_t = LinearRegression()\n",
    "\n",
    "# Train the model using the training sets\n",
    "lm_scikit_2_t.fit(X_train, y_train)\n",
    "\n",
    "# The coefficients\n",
    "print('Coefficients: \\n', lm_scikit_2_t.coef_)\n",
    "# The intercept\n",
    "print('Intercept: \\n', lm_scikit_2_t.intercept_)\n",
    "# The mean square error\n",
    "print(\"Residual sum of squares: %.2f\" % metrics.mean_squared_error(y_test, lm_scikit_2_t.predict(X_test)))\n",
    "print(\"Square Root of Residual sum of squares: %.2f\" % np.sqrt(metrics.mean_squared_error(y_test, lm_scikit_2_t.predict(X_test))))\n",
    "# Explained variance score: coefficient of determination (R^2)\n",
    "print('Variance score: %.2f' % lm_scikit_2_t.score(X_test, y_test))\n",
    "\n",
    "# Plot outputs\n",
    "plt.scatter(X_test, y_test,  color='navy')\n",
    "plt.plot(X_test, lm_scikit_2_t.predict(X_test), color='red',linewidth=3)\n",
    "plt.figure(figsize=(20,20))\n",
    "plt.show()"
   ]
  },
  {
   "cell_type": "markdown",
   "metadata": {},
   "source": [
    "## Categorical Models"
   ]
  },
  {
   "cell_type": "code",
   "execution_count": 38,
   "metadata": {
    "collapsed": true
   },
   "outputs": [],
   "source": [
    "df = df_abt[[\"occupancy\", \"authenticated_client_count\", \"capacity\"]].copy()\n",
    "df = convert_perc_int(df)"
   ]
  },
  {
   "cell_type": "code",
   "execution_count": 39,
   "metadata": {
    "collapsed": false
   },
   "outputs": [
    {
     "data": {
      "text/plain": [
       "<matplotlib.axes._subplots.AxesSubplot at 0x10c900780>"
      ]
     },
     "execution_count": 39,
     "metadata": {},
     "output_type": "execute_result"
    },
    {
     "data": {
      "text/plain": [
       "<matplotlib.figure.Figure at 0x10c3c7a58>"
      ]
     },
     "metadata": {},
     "output_type": "display_data"
    },
    {
     "data": {
      "image/png": "[encoded data removed]",
      "text/plain": [
       "<matplotlib.figure.Figure at 0x10c8fc470>"
      ]
     },
     "metadata": {},
     "output_type": "display_data"
    }
   ],
   "source": [
    "plt.figure() \n",
    "df.plot(kind=\"scatter\", x=\"authenticated_client_count\", y=\"occupancy\", label=\"%.3f\" % corrMatrix.as_matrix()[0,1], figsize=(20, 6))"
   ]
  },
  {
   "cell_type": "code",
   "execution_count": 40,
   "metadata": {
    "collapsed": false
   },
   "outputs": [
    {
     "name": "stdout",
     "output_type": "stream",
     "text": [
      "(121, 4)\n"
     ]
    },
    {
     "data": {
      "text/plain": [
       "<matplotlib.axes._subplots.AxesSubplot at 0x10c904860>"
      ]
     },
     "execution_count": 40,
     "metadata": {},
     "output_type": "execute_result"
    },
    {
     "data": {
      "text/plain": [
       "<matplotlib.figure.Figure at 0x10c908358>"
      ]
     },
     "metadata": {},
     "output_type": "display_data"
    },
    {
     "data": {
      "image/png": "[encoded data removed]",
      "text/plain": [
       "<matplotlib.figure.Figure at 0x10d41e4a8>"
      ]
     },
     "metadata": {},
     "output_type": "display_data"
    }
   ],
   "source": [
    "df[\"occ_by_cap\"] = df[\"occupancy\"].copy().apply(lambda x: (x / 100) * df[\"capacity\"].values[0])\n",
    "print(df.shape)\n",
    "plt.figure() \n",
    "df.plot(kind=\"scatter\", x=\"authenticated_client_count\", y=\"occ_by_cap\", label=\"%.3f\" % corrMatrix.as_matrix()[0,1], figsize=(20, 6))"
   ]
  },
  {
   "cell_type": "code",
   "execution_count": 41,
   "metadata": {
    "collapsed": false
   },
   "outputs": [
    {
     "data": {
      "image/png": "[encoded data removed]",
      "text/plain": [
       "<matplotlib.figure.Figure at 0x10c183f98>"
      ]
     },
     "metadata": {},
     "output_type": "display_data"
    }
   ],
   "source": [
    "plt.figure() \n",
    "plt.subplot(211).set_title(\"occupancy\", fontsize=15)\n",
    "df[\"occupancy\"].plot(kind = 'box', figsize = (15,15), color=colour, sym='r+') \n",
    "plt.subplot(212).set_title(\"authenticated_client_count\", fontsize=15)\n",
    "df[\"authenticated_client_count\"].plot(kind = 'box', figsize = (15,15), color=colour, sym='r+') \n",
    "plt.tight_layout(pad=2.0, w_pad=2.0, h_pad=3.0)"
   ]
  },
  {
   "cell_type": "code",
   "execution_count": 42,
   "metadata": {
    "collapsed": true
   },
   "outputs": [],
   "source": [
    "# df[\"occupancy_NORM\"] = normalize(df, \"occupancy\")\n",
    "# df[\"authenticated_client_count_NORM\"] = normalize(df, \"authenticated_client_count\")\n",
    "# print(df.shape)\n",
    "# df = removeOutliers(df, \"occupancy_NORM\")\n",
    "# df = removeOutliers(df, \"authenticated_client_count_NORM\")\n",
    "# df = df[[\"occupancy\", \"authenticated_client_count\"]]\n",
    "# print(df.shape)"
   ]
  },
  {
   "cell_type": "markdown",
   "metadata": {},
   "source": [
    "### Multinomial Logistic Regression http://machinelearningmastery.com/get-your-hands-dirty-with-scikit-learn-now/\n",
    "\n",
    "log-odds of a categorical response being \"true\" (1) is modeled as a linear combination of the features.\n",
    "Logistic regression outputs the probabilities of a specific class\n",
    "Those probabilities can be converted into class predictions"
   ]
  },
  {
   "cell_type": "code",
   "execution_count": 43,
   "metadata": {
    "collapsed": false
   },
   "outputs": [
    {
     "name": "stdout",
     "output_type": "stream",
     "text": [
      "             precision    recall  f1-score   support\n",
      "\n",
      "          0       1.00      1.00      1.00        22\n",
      "         25       0.88      1.00      0.93        63\n",
      "         50       0.67      0.67      0.67        27\n",
      "         75       0.00      0.00      0.00         8\n",
      "        100       0.00      0.00      0.00         1\n",
      "\n",
      "avg / total       0.79      0.85      0.82       121\n",
      "\n",
      "[[22  0  0  0  0]\n",
      " [ 0 63  0  0  0]\n",
      " [ 0  9 18  0  0]\n",
      " [ 0  0  8  0  0]\n",
      " [ 0  0  1  0  0]]\n",
      "0.851239669421\n"
     ]
    },
    {
     "name": "stderr",
     "output_type": "stream",
     "text": [
      "/Library/Frameworks/Python.framework/Versions/3.4/lib/python3.4/site-packages/sklearn/metrics/classification.py:1074: UndefinedMetricWarning: Precision and F-score are ill-defined and being set to 0.0 in labels with no predicted samples.\n",
      "  'precision', 'predicted', average, warn_for)\n"
     ]
    }
   ],
   "source": [
    "df_log_1 = df.copy()\n",
    "occ = df_log_1[\"occupancy\"].copy().apply(lambda x: (x / 100) * df_log_1[\"capacity\"].values[0])\n",
    "EXP = []\n",
    "for a, o in zip(df_log_1[\"authenticated_client_count\"], occ):\n",
    "    EXP.append([a, o])\n",
    "\n",
    "X = np.array(EXP)\n",
    "# X = df_log_1[\"authenticated_client_count\"].div(df_log_1[\"capacity\"]).reshape(len(df_log_1[\"authenticated_client_count\"]), 1)\n",
    "# X = df_log_1[\"authenticated_client_count\"].reshape(len(df_log_1[\"authenticated_client_count\"]), 1)\n",
    "y = df_log_1[\"occupancy\"]\n",
    "lr = LogisticRegression()\n",
    "lr.fit(X, y)\n",
    "pred_lr = lr.predict(X)\n",
    "df_log_1[\"predicted\"] = pd.Series(pred_lr, index=df_log_1.index)\n",
    "print(metrics.classification_report(y, pred_lr))\n",
    "print(metrics.confusion_matrix(y, pred_lr))\n",
    "print(metrics.accuracy_score(y, pred_lr) )"
   ]
  },
  {
   "cell_type": "markdown",
   "metadata": {},
   "source": [
    "#### Rows where predicted doesn't match actual"
   ]
  },
  {
   "cell_type": "code",
   "execution_count": 44,
   "metadata": {
    "collapsed": false
   },
   "outputs": [
    {
     "data": {
      "text/html": [
       "<div>\n",
       "<table border=\"1\" class=\"dataframe\">\n",
       "  <thead>\n",
       "    <tr style=\"text-align: right;\">\n",
       "      <th></th>\n",
       "      <th>occupancy</th>\n",
       "      <th>authenticated_client_count</th>\n",
       "      <th>capacity</th>\n",
       "      <th>occ_by_cap</th>\n",
       "      <th>predicted</th>\n",
       "    </tr>\n",
       "  </thead>\n",
       "  <tbody>\n",
       "    <tr>\n",
       "      <th>63</th>\n",
       "      <td>50</td>\n",
       "      <td>110.000000</td>\n",
       "      <td>160</td>\n",
       "      <td>45.0</td>\n",
       "      <td>25</td>\n",
       "    </tr>\n",
       "    <tr>\n",
       "      <th>67</th>\n",
       "      <td>75</td>\n",
       "      <td>123.000000</td>\n",
       "      <td>160</td>\n",
       "      <td>67.5</td>\n",
       "      <td>50</td>\n",
       "    </tr>\n",
       "    <tr>\n",
       "      <th>68</th>\n",
       "      <td>100</td>\n",
       "      <td>225.166667</td>\n",
       "      <td>160</td>\n",
       "      <td>90.0</td>\n",
       "      <td>50</td>\n",
       "    </tr>\n",
       "    <tr>\n",
       "      <th>70</th>\n",
       "      <td>50</td>\n",
       "      <td>90.600000</td>\n",
       "      <td>160</td>\n",
       "      <td>45.0</td>\n",
       "      <td>25</td>\n",
       "    </tr>\n",
       "    <tr>\n",
       "      <th>71</th>\n",
       "      <td>50</td>\n",
       "      <td>102.333333</td>\n",
       "      <td>160</td>\n",
       "      <td>45.0</td>\n",
       "      <td>25</td>\n",
       "    </tr>\n",
       "    <tr>\n",
       "      <th>73</th>\n",
       "      <td>50</td>\n",
       "      <td>65.600000</td>\n",
       "      <td>160</td>\n",
       "      <td>45.0</td>\n",
       "      <td>25</td>\n",
       "    </tr>\n",
       "    <tr>\n",
       "      <th>90</th>\n",
       "      <td>50</td>\n",
       "      <td>72.833333</td>\n",
       "      <td>160</td>\n",
       "      <td>45.0</td>\n",
       "      <td>25</td>\n",
       "    </tr>\n",
       "    <tr>\n",
       "      <th>98</th>\n",
       "      <td>50</td>\n",
       "      <td>100.666667</td>\n",
       "      <td>160</td>\n",
       "      <td>45.0</td>\n",
       "      <td>25</td>\n",
       "    </tr>\n",
       "    <tr>\n",
       "      <th>100</th>\n",
       "      <td>50</td>\n",
       "      <td>85.333333</td>\n",
       "      <td>160</td>\n",
       "      <td>45.0</td>\n",
       "      <td>25</td>\n",
       "    </tr>\n",
       "    <tr>\n",
       "      <th>101</th>\n",
       "      <td>50</td>\n",
       "      <td>116.833333</td>\n",
       "      <td>160</td>\n",
       "      <td>45.0</td>\n",
       "      <td>25</td>\n",
       "    </tr>\n",
       "    <tr>\n",
       "      <th>104</th>\n",
       "      <td>50</td>\n",
       "      <td>66.166667</td>\n",
       "      <td>160</td>\n",
       "      <td>45.0</td>\n",
       "      <td>25</td>\n",
       "    </tr>\n",
       "    <tr>\n",
       "      <th>132</th>\n",
       "      <td>75</td>\n",
       "      <td>90.166667</td>\n",
       "      <td>90</td>\n",
       "      <td>67.5</td>\n",
       "      <td>50</td>\n",
       "    </tr>\n",
       "    <tr>\n",
       "      <th>133</th>\n",
       "      <td>75</td>\n",
       "      <td>88.166667</td>\n",
       "      <td>90</td>\n",
       "      <td>67.5</td>\n",
       "      <td>50</td>\n",
       "    </tr>\n",
       "    <tr>\n",
       "      <th>137</th>\n",
       "      <td>75</td>\n",
       "      <td>46.666667</td>\n",
       "      <td>90</td>\n",
       "      <td>67.5</td>\n",
       "      <td>50</td>\n",
       "    </tr>\n",
       "    <tr>\n",
       "      <th>140</th>\n",
       "      <td>75</td>\n",
       "      <td>55.285714</td>\n",
       "      <td>90</td>\n",
       "      <td>67.5</td>\n",
       "      <td>50</td>\n",
       "    </tr>\n",
       "    <tr>\n",
       "      <th>141</th>\n",
       "      <td>75</td>\n",
       "      <td>49.333333</td>\n",
       "      <td>90</td>\n",
       "      <td>67.5</td>\n",
       "      <td>50</td>\n",
       "    </tr>\n",
       "    <tr>\n",
       "      <th>151</th>\n",
       "      <td>75</td>\n",
       "      <td>92.000000</td>\n",
       "      <td>90</td>\n",
       "      <td>67.5</td>\n",
       "      <td>50</td>\n",
       "    </tr>\n",
       "    <tr>\n",
       "      <th>152</th>\n",
       "      <td>75</td>\n",
       "      <td>88.500000</td>\n",
       "      <td>90</td>\n",
       "      <td>67.5</td>\n",
       "      <td>50</td>\n",
       "    </tr>\n",
       "  </tbody>\n",
       "</table>\n",
       "</div>"
      ],
      "text/plain": [
       "     occupancy  authenticated_client_count  capacity  occ_by_cap  predicted\n",
       "63          50                  110.000000       160        45.0         25\n",
       "67          75                  123.000000       160        67.5         50\n",
       "68         100                  225.166667       160        90.0         50\n",
       "70          50                   90.600000       160        45.0         25\n",
       "71          50                  102.333333       160        45.0         25\n",
       "73          50                   65.600000       160        45.0         25\n",
       "90          50                   72.833333       160        45.0         25\n",
       "98          50                  100.666667       160        45.0         25\n",
       "100         50                   85.333333       160        45.0         25\n",
       "101         50                  116.833333       160        45.0         25\n",
       "104         50                   66.166667       160        45.0         25\n",
       "132         75                   90.166667        90        67.5         50\n",
       "133         75                   88.166667        90        67.5         50\n",
       "137         75                   46.666667        90        67.5         50\n",
       "140         75                   55.285714        90        67.5         50\n",
       "141         75                   49.333333        90        67.5         50\n",
       "151         75                   92.000000        90        67.5         50\n",
       "152         75                   88.500000        90        67.5         50"
      ]
     },
     "execution_count": 44,
     "metadata": {},
     "output_type": "execute_result"
    }
   ],
   "source": [
    "df_log_1[df_log_1[\"occupancy\"] != df_log_1[\"predicted\"]]"
   ]
  },
  {
   "cell_type": "markdown",
   "metadata": {},
   "source": [
    "#### Testing"
   ]
  },
  {
   "cell_type": "code",
   "execution_count": 45,
   "metadata": {
    "collapsed": false
   },
   "outputs": [
    {
     "name": "stdout",
     "output_type": "stream",
     "text": [
      "Accuracy: 0.86 (+/- 0.18)\n"
     ]
    },
    {
     "name": "stderr",
     "output_type": "stream",
     "text": [
      "/Library/Frameworks/Python.framework/Versions/3.4/lib/python3.4/site-packages/sklearn/cross_validation.py:516: Warning: The least populated class in y has only 1 members, which is too few. The minimum number of labels for any class cannot be less than n_folds=5.\n",
      "  % (min_labels, self.n_folds)), Warning)\n"
     ]
    }
   ],
   "source": [
    "clf = LogisticRegression()\n",
    "scores = cross_val_score(clf, X, y, cv=5)\n",
    "print(\"Accuracy: %0.2f (+/- %0.2f)\" % (scores.mean(), scores.std() * 2))"
   ]
  },
  {
   "cell_type": "code",
   "execution_count": 46,
   "metadata": {
    "collapsed": false
   },
   "outputs": [
    {
     "name": "stdout",
     "output_type": "stream",
     "text": [
      "             precision    recall  f1-score   support\n",
      "\n",
      "          0       1.00      0.90      0.95        10\n",
      "         25       0.72      1.00      0.84        23\n",
      "         50       0.62      0.38      0.48        13\n",
      "         75       0.00      0.00      0.00         2\n",
      "        100       0.00      0.00      0.00         1\n",
      "\n",
      "avg / total       0.71      0.76      0.71        49\n",
      "\n",
      "[[ 9  1  0  0  0]\n",
      " [ 0 23  0  0  0]\n",
      " [ 0  8  5  0  0]\n",
      " [ 0  0  2  0  0]\n",
      " [ 0  0  1  0  0]]\n",
      "0.755102040816\n"
     ]
    },
    {
     "name": "stderr",
     "output_type": "stream",
     "text": [
      "/Library/Frameworks/Python.framework/Versions/3.4/lib/python3.4/site-packages/sklearn/metrics/classification.py:1074: UndefinedMetricWarning: Precision and F-score are ill-defined and being set to 0.0 in labels with no predicted samples.\n",
      "  'precision', 'predicted', average, warn_for)\n"
     ]
    }
   ],
   "source": [
    "X_train, X_test, y_train, y_test = train_test_split(X, y, test_size=0.4, random_state=42)\n",
    "clf = LogisticRegression().fit(X_train, y_train)\n",
    "# score = clf.score(X_test, y_test)\n",
    "# print(score)\n",
    "pred_log_train = clf.predict(X_test)\n",
    "print(metrics.classification_report(y_test, pred_log_train))\n",
    "print(metrics.confusion_matrix(y_test, pred_log_train))\n",
    "print(metrics.accuracy_score(y_test, pred_log_train))"
   ]
  },
  {
   "cell_type": "code",
   "execution_count": 47,
   "metadata": {
    "collapsed": true
   },
   "outputs": [],
   "source": [
    "df_log_1[\"predicted\"] = pd.Series(pred_lr, index=df_log_1.index)"
   ]
  },
  {
   "cell_type": "code",
   "execution_count": 48,
   "metadata": {
    "collapsed": true
   },
   "outputs": [],
   "source": [
    "####### How to use model to return occupancy prediction #######\n",
    "# lr.predict_proba(X)\n",
    "# groups = [0, 25, 50, 75, 100]\n",
    "# lr.predict_proba(X).argmax(axis=1)"
   ]
  },
  {
   "cell_type": "code",
   "execution_count": 49,
   "metadata": {
    "collapsed": false
   },
   "outputs": [
    {
     "data": {
      "image/png": "[encoded data removed]",
      "text/plain": [
       "<matplotlib.figure.Figure at 0x10c1df780>"
      ]
     },
     "metadata": {},
     "output_type": "display_data"
    },
    {
     "data": {
      "text/plain": [
       "<matplotlib.figure.Figure at 0x10c55ada0>"
      ]
     },
     "metadata": {},
     "output_type": "display_data"
    }
   ],
   "source": [
    "plt.scatter(df_log_1[\"predicted\"], df_log_1[\"occupancy\"],  color='navy')\n",
    "plt.figure(figsize=(20,20))\n",
    "plt.show()"
   ]
  },
  {
   "cell_type": "code",
   "execution_count": 50,
   "metadata": {
    "collapsed": false
   },
   "outputs": [
    {
     "data": {
      "image/png": "[encoded data removed]",
      "text/plain": [
       "<matplotlib.figure.Figure at 0x10c553b00>"
      ]
     },
     "metadata": {},
     "output_type": "display_data"
    },
    {
     "data": {
      "text/plain": [
       "<matplotlib.figure.Figure at 0x10c5be390>"
      ]
     },
     "metadata": {},
     "output_type": "display_data"
    }
   ],
   "source": [
    "plt.scatter(df_log_1[\"authenticated_client_count\"], df_log_1[\"occupancy\"],  color='navy')\n",
    "plt.scatter(df_log_1[\"authenticated_client_count\"], df_log_1[\"predicted\"],  color='green')\n",
    "plt.figure(figsize=(20,20))\n",
    "plt.show()"
   ]
  },
  {
   "cell_type": "markdown",
   "metadata": {},
   "source": [
    "### Gaussian Naive Bayes "
   ]
  },
  {
   "cell_type": "code",
   "execution_count": 51,
   "metadata": {
    "collapsed": false
   },
   "outputs": [
    {
     "name": "stdout",
     "output_type": "stream",
     "text": [
      "             precision    recall  f1-score   support\n",
      "\n",
      "          0       1.00      1.00      1.00        22\n",
      "         25       1.00      1.00      1.00        63\n",
      "         50       1.00      1.00      1.00        27\n",
      "         75       1.00      1.00      1.00         8\n",
      "        100       1.00      1.00      1.00         1\n",
      "\n",
      "avg / total       1.00      1.00      1.00       121\n",
      "\n",
      "[[22  0  0  0  0]\n",
      " [ 0 63  0  0  0]\n",
      " [ 0  0 27  0  0]\n",
      " [ 0  0  0  8  0]\n",
      " [ 0  0  0  0  1]]\n"
     ]
    }
   ],
   "source": [
    "df_gnb = df.copy()\n",
    "\n",
    "occ = df_gnb[\"occupancy\"].copy().apply(lambda x: (x / 100) * df_gnb[\"capacity\"].values[0])\n",
    "EXP = []\n",
    "for a, o in zip(df_gnb[\"authenticated_client_count\"], occ):\n",
    "    EXP.append([a, o])\n",
    "X = np.array(EXP)\n",
    "# X = df_gnb[\"authenticated_client_count\"].div(df_gnb[\"capacity\"]).reshape(len(df_gnb[\"authenticated_client_count\"]), 1)\n",
    "# X = df_gnb[\"authenticated_client_count\"].reshape(len(df_gnb[\"authenticated_client_count\"]), 1)\n",
    "y = df_gnb[\"occupancy\"]\n",
    "# fit a Naive Bayes model to the data\n",
    "gnb = GaussianNB()\n",
    "gnb.fit(X, y)\n",
    "pred_gnb = gnb.predict(X)\n",
    "df_gnb[\"predicted\"] = pd.Series(pred_gnb, index=df_gnb.index)\n",
    "print(metrics.classification_report(y, pred_gnb))\n",
    "print(metrics.confusion_matrix(y, pred_gnb))"
   ]
  },
  {
   "cell_type": "code",
   "execution_count": 52,
   "metadata": {
    "collapsed": false
   },
   "outputs": [
    {
     "data": {
      "text/html": [
       "<div>\n",
       "<table border=\"1\" class=\"dataframe\">\n",
       "  <thead>\n",
       "    <tr style=\"text-align: right;\">\n",
       "      <th></th>\n",
       "      <th>occupancy</th>\n",
       "      <th>authenticated_client_count</th>\n",
       "      <th>capacity</th>\n",
       "      <th>occ_by_cap</th>\n",
       "      <th>predicted</th>\n",
       "    </tr>\n",
       "  </thead>\n",
       "  <tbody>\n",
       "  </tbody>\n",
       "</table>\n",
       "</div>"
      ],
      "text/plain": [
       "Empty DataFrame\n",
       "Columns: [occupancy, authenticated_client_count, capacity, occ_by_cap, predicted]\n",
       "Index: []"
      ]
     },
     "execution_count": 52,
     "metadata": {},
     "output_type": "execute_result"
    }
   ],
   "source": [
    "df_gnb[df_gnb[\"occupancy\"] != df_gnb[\"predicted\"]]"
   ]
  },
  {
   "cell_type": "markdown",
   "metadata": {},
   "source": [
    "#### Testing"
   ]
  },
  {
   "cell_type": "code",
   "execution_count": 53,
   "metadata": {
    "collapsed": false
   },
   "outputs": [
    {
     "name": "stdout",
     "output_type": "stream",
     "text": [
      "Accuracy: 0.99 (+/- 0.03)\n"
     ]
    },
    {
     "name": "stderr",
     "output_type": "stream",
     "text": [
      "/Library/Frameworks/Python.framework/Versions/3.4/lib/python3.4/site-packages/sklearn/cross_validation.py:516: Warning: The least populated class in y has only 1 members, which is too few. The minimum number of labels for any class cannot be less than n_folds=5.\n",
      "  % (min_labels, self.n_folds)), Warning)\n"
     ]
    }
   ],
   "source": [
    "clf = GaussianNB()\n",
    "scores = cross_val_score(clf, X, y, cv=5)\n",
    "print(\"Accuracy: %0.2f (+/- %0.2f)\" % (scores.mean(), scores.std() * 2))"
   ]
  },
  {
   "cell_type": "code",
   "execution_count": 54,
   "metadata": {
    "collapsed": false
   },
   "outputs": [
    {
     "name": "stdout",
     "output_type": "stream",
     "text": [
      "             precision    recall  f1-score   support\n",
      "\n",
      "          0       1.00      1.00      1.00        10\n",
      "         25       1.00      1.00      1.00        23\n",
      "         50       1.00      1.00      1.00        13\n",
      "         75       0.67      1.00      0.80         2\n",
      "        100       0.00      0.00      0.00         1\n",
      "\n",
      "avg / total       0.97      0.98      0.97        49\n",
      "\n",
      "[[10  0  0  0  0]\n",
      " [ 0 23  0  0  0]\n",
      " [ 0  0 13  0  0]\n",
      " [ 0  0  0  2  0]\n",
      " [ 0  0  0  1  0]]\n",
      "0.979591836735\n"
     ]
    },
    {
     "name": "stderr",
     "output_type": "stream",
     "text": [
      "/Library/Frameworks/Python.framework/Versions/3.4/lib/python3.4/site-packages/sklearn/metrics/classification.py:1074: UndefinedMetricWarning: Precision and F-score are ill-defined and being set to 0.0 in labels with no predicted samples.\n",
      "  'precision', 'predicted', average, warn_for)\n"
     ]
    }
   ],
   "source": [
    "X_train, X_test, y_train, y_test = train_test_split(X, y, test_size=0.4, random_state=42)\n",
    "clf = GaussianNB().fit(X_train, y_train)\n",
    "# score = clf.score(X_test, y_test)\n",
    "# print(score)\n",
    "pred_gnb_train = clf.predict(X_test)\n",
    "print(metrics.classification_report(y_test, pred_gnb_train))\n",
    "print(metrics.confusion_matrix(y_test, pred_gnb_train))\n",
    "print(metrics.accuracy_score(y_test, pred_gnb_train))"
   ]
  },
  {
   "cell_type": "code",
   "execution_count": 55,
   "metadata": {
    "collapsed": true
   },
   "outputs": [],
   "source": [
    "df_gnb[\"predicted\"] = pd.Series(pred_gnb, index=df_gnb.index)"
   ]
  },
  {
   "cell_type": "code",
   "execution_count": 56,
   "metadata": {
    "collapsed": false
   },
   "outputs": [
    {
     "data": {
      "image/png": "[encoded data removed]",
      "text/plain": [
       "<matplotlib.figure.Figure at 0x10c8d9550>"
      ]
     },
     "metadata": {},
     "output_type": "display_data"
    },
    {
     "data": {
      "text/plain": [
       "<matplotlib.figure.Figure at 0x10c5beda0>"
      ]
     },
     "metadata": {},
     "output_type": "display_data"
    }
   ],
   "source": [
    "plt.scatter(df_gnb[\"predicted\"], df_gnb[\"occupancy\"],  color='navy')\n",
    "plt.figure(figsize=(20,20))\n",
    "plt.show()"
   ]
  },
  {
   "cell_type": "code",
   "execution_count": 57,
   "metadata": {
    "collapsed": false
   },
   "outputs": [
    {
     "data": {
      "image/png": "[encoded data removed]",
      "text/plain": [
       "<matplotlib.figure.Figure at 0x10c939198>"
      ]
     },
     "metadata": {},
     "output_type": "display_data"
    },
    {
     "data": {
      "text/plain": [
       "<matplotlib.figure.Figure at 0x10c175898>"
      ]
     },
     "metadata": {},
     "output_type": "display_data"
    }
   ],
   "source": [
    "plt.scatter(df_gnb[\"authenticated_client_count\"], df_gnb[\"occupancy\"],  color='navy')\n",
    "plt.scatter(df_gnb[\"authenticated_client_count\"], df_gnb[\"predicted\"],  color='green')\n",
    "plt.figure(figsize=(20,20))\n",
    "plt.show()"
   ]
  },
  {
   "cell_type": "markdown",
   "metadata": {},
   "source": [
    "### k-Nearest Neighbor"
   ]
  },
  {
   "cell_type": "code",
   "execution_count": 58,
   "metadata": {
    "collapsed": false
   },
   "outputs": [
    {
     "name": "stdout",
     "output_type": "stream",
     "text": [
      "             precision    recall  f1-score   support\n",
      "\n",
      "          0       1.00      1.00      1.00        22\n",
      "         25       0.98      0.97      0.98        63\n",
      "         50       0.90      1.00      0.95        27\n",
      "         75       1.00      0.88      0.93         8\n",
      "        100       0.00      0.00      0.00         1\n",
      "\n",
      "avg / total       0.96      0.97      0.96       121\n",
      "\n",
      "[[22  0  0  0  0]\n",
      " [ 0 61  2  0  0]\n",
      " [ 0  0 27  0  0]\n",
      " [ 0  0  1  7  0]\n",
      " [ 0  1  0  0  0]]\n"
     ]
    },
    {
     "name": "stderr",
     "output_type": "stream",
     "text": [
      "/Library/Frameworks/Python.framework/Versions/3.4/lib/python3.4/site-packages/sklearn/metrics/classification.py:1074: UndefinedMetricWarning: Precision and F-score are ill-defined and being set to 0.0 in labels with no predicted samples.\n",
      "  'precision', 'predicted', average, warn_for)\n"
     ]
    }
   ],
   "source": [
    "df_nn = df.copy()\n",
    "occ = df_nn[\"occupancy\"].copy().apply(lambda x: (x / 100) * df_nn[\"capacity\"].values[0])\n",
    "EXP = []\n",
    "for a, o in zip(df_nn[\"authenticated_client_count\"], occ):\n",
    "    EXP.append([a, o])\n",
    "X = np.array(EXP)\n",
    "\n",
    "# X = df_nn[\"authenticated_client_count\"].div(df_nn[\"capacity\"]).reshape(len(df_nn[\"authenticated_client_count\"]), 1)\n",
    "# X = df_nn[\"authenticated_client_count\"].reshape(len(df_nn[\"authenticated_client_count\"]), 1)\n",
    "y = df_nn[\"occupancy\"] \n",
    "nn = KNeighborsClassifier() # default n_neighbors=5\n",
    "nn.fit(X, y)\n",
    "pred_nn = nn.predict(X)\n",
    "df_nn[\"predicted\"] = pd.Series(pred_nn, index=df_nn.index)\n",
    "print(metrics.classification_report(y, pred_nn))\n",
    "print(metrics.confusion_matrix(y, pred_nn))"
   ]
  },
  {
   "cell_type": "code",
   "execution_count": 59,
   "metadata": {
    "collapsed": false
   },
   "outputs": [
    {
     "data": {
      "text/html": [
       "<div>\n",
       "<table border=\"1\" class=\"dataframe\">\n",
       "  <thead>\n",
       "    <tr style=\"text-align: right;\">\n",
       "      <th></th>\n",
       "      <th>occupancy</th>\n",
       "      <th>authenticated_client_count</th>\n",
       "      <th>capacity</th>\n",
       "      <th>occ_by_cap</th>\n",
       "      <th>predicted</th>\n",
       "    </tr>\n",
       "  </thead>\n",
       "  <tbody>\n",
       "    <tr>\n",
       "      <th>67</th>\n",
       "      <td>75</td>\n",
       "      <td>123.000000</td>\n",
       "      <td>160</td>\n",
       "      <td>67.5</td>\n",
       "      <td>50</td>\n",
       "    </tr>\n",
       "    <tr>\n",
       "      <th>68</th>\n",
       "      <td>100</td>\n",
       "      <td>225.166667</td>\n",
       "      <td>160</td>\n",
       "      <td>90.0</td>\n",
       "      <td>25</td>\n",
       "    </tr>\n",
       "    <tr>\n",
       "      <th>72</th>\n",
       "      <td>25</td>\n",
       "      <td>122.833333</td>\n",
       "      <td>160</td>\n",
       "      <td>22.5</td>\n",
       "      <td>50</td>\n",
       "    </tr>\n",
       "    <tr>\n",
       "      <th>99</th>\n",
       "      <td>25</td>\n",
       "      <td>127.857143</td>\n",
       "      <td>160</td>\n",
       "      <td>22.5</td>\n",
       "      <td>50</td>\n",
       "    </tr>\n",
       "  </tbody>\n",
       "</table>\n",
       "</div>"
      ],
      "text/plain": [
       "    occupancy  authenticated_client_count  capacity  occ_by_cap  predicted\n",
       "67         75                  123.000000       160        67.5         50\n",
       "68        100                  225.166667       160        90.0         25\n",
       "72         25                  122.833333       160        22.5         50\n",
       "99         25                  127.857143       160        22.5         50"
      ]
     },
     "execution_count": 59,
     "metadata": {},
     "output_type": "execute_result"
    }
   ],
   "source": [
    "df_nn[df_nn[\"occupancy\"] != df_nn[\"predicted\"]]"
   ]
  },
  {
   "cell_type": "markdown",
   "metadata": {},
   "source": [
    "#### Testing"
   ]
  },
  {
   "cell_type": "code",
   "execution_count": 60,
   "metadata": {
    "collapsed": false
   },
   "outputs": [
    {
     "name": "stdout",
     "output_type": "stream",
     "text": [
      "Accuracy: 0.92 (+/- 0.06)\n"
     ]
    },
    {
     "name": "stderr",
     "output_type": "stream",
     "text": [
      "/Library/Frameworks/Python.framework/Versions/3.4/lib/python3.4/site-packages/sklearn/cross_validation.py:516: Warning: The least populated class in y has only 1 members, which is too few. The minimum number of labels for any class cannot be less than n_folds=5.\n",
      "  % (min_labels, self.n_folds)), Warning)\n"
     ]
    }
   ],
   "source": [
    "clf = KNeighborsClassifier()\n",
    "scores = cross_val_score(clf, X, y, cv=5)\n",
    "print(\"Accuracy: %0.2f (+/- %0.2f)\" % (scores.mean(), scores.std() * 2))"
   ]
  },
  {
   "cell_type": "code",
   "execution_count": 61,
   "metadata": {
    "collapsed": false
   },
   "outputs": [
    {
     "name": "stdout",
     "output_type": "stream",
     "text": [
      "             precision    recall  f1-score   support\n",
      "\n",
      "          0       1.00      1.00      1.00        10\n",
      "         25       1.00      1.00      1.00        23\n",
      "         50       1.00      1.00      1.00        13\n",
      "         75       0.67      1.00      0.80         2\n",
      "        100       0.00      0.00      0.00         1\n",
      "\n",
      "avg / total       0.97      0.98      0.97        49\n",
      "\n",
      "[[10  0  0  0  0]\n",
      " [ 0 23  0  0  0]\n",
      " [ 0  0 13  0  0]\n",
      " [ 0  0  0  2  0]\n",
      " [ 0  0  0  1  0]]\n",
      "0.979591836735\n"
     ]
    },
    {
     "name": "stderr",
     "output_type": "stream",
     "text": [
      "/Library/Frameworks/Python.framework/Versions/3.4/lib/python3.4/site-packages/sklearn/metrics/classification.py:1074: UndefinedMetricWarning: Precision and F-score are ill-defined and being set to 0.0 in labels with no predicted samples.\n",
      "  'precision', 'predicted', average, warn_for)\n"
     ]
    }
   ],
   "source": [
    "X_train, X_test, y_train, y_test = train_test_split(X, y, test_size=0.4, random_state=42)\n",
    "scores=[]\n",
    "for n in range(2,15):\n",
    "    clf = KNeighborsClassifier(n_neighbors=n).fit(X_train, y_train)\n",
    "    scores.append(round(clf.score(X_test, y_test),2))\n",
    "neighbours = scores.index(max(scores)) + 1\n",
    "# print(scores)\n",
    "clf = KNeighborsClassifier(n_neighbors=neighbours).fit(X_train, y_train)\n",
    "pred_knn_train = clf.predict(X_test)\n",
    "print(metrics.classification_report(y_test, pred_knn_train))\n",
    "print(metrics.confusion_matrix(y_test, pred_knn_train))\n",
    "print(metrics.accuracy_score(y_test, pred_knn_train))"
   ]
  },
  {
   "cell_type": "code",
   "execution_count": 62,
   "metadata": {
    "collapsed": true
   },
   "outputs": [],
   "source": [
    "df_nn[\"predicted\"] = pd.Series(pred_nn, index=df_nn.index)"
   ]
  },
  {
   "cell_type": "code",
   "execution_count": 63,
   "metadata": {
    "collapsed": false
   },
   "outputs": [
    {
     "data": {
      "image/png": "[encoded data removed]",
      "text/plain": [
       "<matplotlib.figure.Figure at 0x10c46dac8>"
      ]
     },
     "metadata": {},
     "output_type": "display_data"
    },
    {
     "data": {
      "text/plain": [
       "<matplotlib.figure.Figure at 0x10c3b74a8>"
      ]
     },
     "metadata": {},
     "output_type": "display_data"
    }
   ],
   "source": [
    "plt.scatter(df_nn[\"predicted\"], df_nn[\"occupancy\"],  color='navy')\n",
    "plt.figure(figsize=(20,20))\n",
    "plt.show()"
   ]
  },
  {
   "cell_type": "code",
   "execution_count": 64,
   "metadata": {
    "collapsed": false
   },
   "outputs": [
    {
     "data": {
      "image/png": "[encoded data removed]",
      "text/plain": [
       "<matplotlib.figure.Figure at 0x10c1731d0>"
      ]
     },
     "metadata": {},
     "output_type": "display_data"
    },
    {
     "data": {
      "text/plain": [
       "<matplotlib.figure.Figure at 0x10c5be588>"
      ]
     },
     "metadata": {},
     "output_type": "display_data"
    }
   ],
   "source": [
    "plt.scatter(df_nn[\"authenticated_client_count\"], df_nn[\"occupancy\"],  color='navy')\n",
    "plt.scatter(df_nn[\"authenticated_client_count\"], df_nn[\"predicted\"],  color='green')\n",
    "plt.figure(figsize=(20,20))\n",
    "plt.show()"
   ]
  },
  {
   "cell_type": "markdown",
   "metadata": {},
   "source": [
    "### Support Vector Machines"
   ]
  },
  {
   "cell_type": "code",
   "execution_count": 65,
   "metadata": {
    "collapsed": false
   },
   "outputs": [
    {
     "name": "stdout",
     "output_type": "stream",
     "text": [
      "             precision    recall  f1-score   support\n",
      "\n",
      "          0       1.00      1.00      1.00        22\n",
      "         25       1.00      1.00      1.00        63\n",
      "         50       1.00      1.00      1.00        27\n",
      "         75       1.00      1.00      1.00         8\n",
      "        100       1.00      1.00      1.00         1\n",
      "\n",
      "avg / total       1.00      1.00      1.00       121\n",
      "\n",
      "[[22  0  0  0  0]\n",
      " [ 0 63  0  0  0]\n",
      " [ 0  0 27  0  0]\n",
      " [ 0  0  0  8  0]\n",
      " [ 0  0  0  0  1]]\n"
     ]
    }
   ],
   "source": [
    "df_svm = df.copy()\n",
    "\n",
    "occ = df_svm[\"occupancy\"].copy().apply(lambda x: (x / 100) * df_svm[\"capacity\"].values[0])\n",
    "EXP = []\n",
    "for a, o in zip(df_svm[\"authenticated_client_count\"], occ):\n",
    "    EXP.append([a, o])\n",
    "X = np.array(EXP)\n",
    "\n",
    "# X = df_svm[\"authenticated_client_count\"].div(df_svm[\"capacity\"]).reshape(len(df_svm[\"authenticated_client_count\"]), 1)\n",
    "# X = df_svm[\"authenticated_client_count\"].reshape(len(df_svm[\"authenticated_client_count\"]), 1)\n",
    "y = df_svm[\"occupancy\"] \n",
    "svc = SVC()\n",
    "svc.fit(X, y)\n",
    "pred_svm = svc.predict(X)\n",
    "df_svm[\"predicted\"] = pd.Series(pred_svm, index=df_svm.index)\n",
    "print(metrics.classification_report(y, pred_svm))\n",
    "print(metrics.confusion_matrix(y, pred_svm))"
   ]
  },
  {
   "cell_type": "code",
   "execution_count": 66,
   "metadata": {
    "collapsed": false
   },
   "outputs": [
    {
     "data": {
      "text/html": [
       "<div>\n",
       "<table border=\"1\" class=\"dataframe\">\n",
       "  <thead>\n",
       "    <tr style=\"text-align: right;\">\n",
       "      <th></th>\n",
       "      <th>occupancy</th>\n",
       "      <th>authenticated_client_count</th>\n",
       "      <th>capacity</th>\n",
       "      <th>occ_by_cap</th>\n",
       "      <th>predicted</th>\n",
       "    </tr>\n",
       "  </thead>\n",
       "  <tbody>\n",
       "  </tbody>\n",
       "</table>\n",
       "</div>"
      ],
      "text/plain": [
       "Empty DataFrame\n",
       "Columns: [occupancy, authenticated_client_count, capacity, occ_by_cap, predicted]\n",
       "Index: []"
      ]
     },
     "execution_count": 66,
     "metadata": {},
     "output_type": "execute_result"
    }
   ],
   "source": [
    "df_svm[df_svm[\"occupancy\"] != df_svm[\"predicted\"]]"
   ]
  },
  {
   "cell_type": "markdown",
   "metadata": {},
   "source": [
    "#### Testing"
   ]
  },
  {
   "cell_type": "code",
   "execution_count": 67,
   "metadata": {
    "collapsed": false
   },
   "outputs": [
    {
     "name": "stdout",
     "output_type": "stream",
     "text": [
      "[ 0.74074074  0.73076923  0.75        0.81818182  0.95454545]\n",
      "Accuracy: 0.80 (+/- 0.17)\n"
     ]
    },
    {
     "name": "stderr",
     "output_type": "stream",
     "text": [
      "/Library/Frameworks/Python.framework/Versions/3.4/lib/python3.4/site-packages/sklearn/cross_validation.py:516: Warning: The least populated class in y has only 1 members, which is too few. The minimum number of labels for any class cannot be less than n_folds=5.\n",
      "  % (min_labels, self.n_folds)), Warning)\n"
     ]
    }
   ],
   "source": [
    "clf = SVC()\n",
    "scores = cross_val_score(clf, X, y, cv=5)\n",
    "print(scores)\n",
    "print(\"Accuracy: %0.2f (+/- %0.2f)\" % (scores.mean(), scores.std() * 2))"
   ]
  },
  {
   "cell_type": "code",
   "execution_count": 68,
   "metadata": {
    "collapsed": false
   },
   "outputs": [
    {
     "name": "stdout",
     "output_type": "stream",
     "text": [
      "             precision    recall  f1-score   support\n",
      "\n",
      "          0       1.00      0.20      0.33        10\n",
      "         25       0.53      1.00      0.70        23\n",
      "         50       1.00      0.31      0.47        13\n",
      "         75       0.00      0.00      0.00         2\n",
      "        100       0.00      0.00      0.00         1\n",
      "\n",
      "avg / total       0.72      0.59      0.52        49\n",
      "\n",
      "[[ 2  8  0  0  0]\n",
      " [ 0 23  0  0  0]\n",
      " [ 0  9  4  0  0]\n",
      " [ 0  2  0  0  0]\n",
      " [ 0  1  0  0  0]]\n"
     ]
    },
    {
     "name": "stderr",
     "output_type": "stream",
     "text": [
      "/Library/Frameworks/Python.framework/Versions/3.4/lib/python3.4/site-packages/sklearn/metrics/classification.py:1074: UndefinedMetricWarning: Precision and F-score are ill-defined and being set to 0.0 in labels with no predicted samples.\n",
      "  'precision', 'predicted', average, warn_for)\n"
     ]
    }
   ],
   "source": [
    "X_train, X_test, y_train, y_test = train_test_split(X, y, test_size=0.4, random_state=42)\n",
    "clf = SVC().fit(X_train, y_train)\n",
    "# score = clf.score(X_test, y_test)\n",
    "# print(score)\n",
    "pred_svm_train = clf.predict(X_test)\n",
    "print(metrics.classification_report(y_test, pred_svm_train))\n",
    "print(metrics.confusion_matrix(y_test, pred_svm_train))"
   ]
  },
  {
   "cell_type": "code",
   "execution_count": 69,
   "metadata": {
    "collapsed": false
   },
   "outputs": [
    {
     "name": "stdout",
     "output_type": "stream",
     "text": [
      "[0.58999999999999997, 0.55000000000000004, 0.51000000000000001, 0.51000000000000001, 0.48999999999999999, 0.48999999999999999, 0.48999999999999999, 0.48999999999999999, 0.48999999999999999, 0.48999999999999999, 0.48999999999999999, 0.48999999999999999, 0.48999999999999999, 0.48999999999999999, 0.48999999999999999, 0.48999999999999999, 0.46999999999999997, 0.46999999999999997, 0.46999999999999997, 0.46999999999999997]\n",
      "0\n"
     ]
    },
    {
     "name": "stderr",
     "output_type": "stream",
     "text": [
      "/Library/Frameworks/Python.framework/Versions/3.4/lib/python3.4/site-packages/sklearn/svm/base.py:85: DeprecationWarning: gamma=0.0 has been deprecated in favor of gamma='auto' as of 0.17. Backward compatibility for gamma=0.0 will be removed in 0.18\n",
      "  DeprecationWarning)\n"
     ]
    }
   ],
   "source": [
    "X_train, X_test, y_train, y_test = train_test_split(X, y, test_size=0.4, random_state=42)\n",
    "scores=[]\n",
    "for n in range(0,20):\n",
    "    clf = SVC(gamma=n).fit(X_train, y_train)\n",
    "    scores.append(round(clf.score(X_test, y_test),2))\n",
    "print(scores)\n",
    "gamma = scores.index(max(scores))\n",
    "print(gamma)"
   ]
  },
  {
   "cell_type": "code",
   "execution_count": 70,
   "metadata": {
    "collapsed": true
   },
   "outputs": [],
   "source": [
    "df_svm[\"predicted\"] = pd.Series(pred_svm, index=df_svm.index)"
   ]
  },
  {
   "cell_type": "code",
   "execution_count": 71,
   "metadata": {
    "collapsed": false
   },
   "outputs": [
    {
     "data": {
      "image/png": "[encoded data removed]",
      "text/plain": [
       "<matplotlib.figure.Figure at 0x10c8a5cc0>"
      ]
     },
     "metadata": {},
     "output_type": "display_data"
    },
    {
     "data": {
      "text/plain": [
       "<matplotlib.figure.Figure at 0x10d4d57f0>"
      ]
     },
     "metadata": {},
     "output_type": "display_data"
    }
   ],
   "source": [
    "plt.scatter(df_svm[\"predicted\"], df_svm[\"occupancy\"],  color='navy')\n",
    "plt.figure(figsize=(20,20))\n",
    "plt.show()"
   ]
  },
  {
   "cell_type": "code",
   "execution_count": 72,
   "metadata": {
    "collapsed": false
   },
   "outputs": [
    {
     "data": {
      "image/png": "[encoded data removed]",
      "text/plain": [
       "<matplotlib.figure.Figure at 0x10c47ca20>"
      ]
     },
     "metadata": {},
     "output_type": "display_data"
    },
    {
     "data": {
      "text/plain": [
       "<matplotlib.figure.Figure at 0x10c566160>"
      ]
     },
     "metadata": {},
     "output_type": "display_data"
    }
   ],
   "source": [
    "plt.scatter(df_svm[\"authenticated_client_count\"], df_svm[\"occupancy\"],  color='navy')\n",
    "plt.scatter(df_svm[\"authenticated_client_count\"], df_svm[\"predicted\"],  color='green')\n",
    "plt.figure(figsize=(20,20))\n",
    "plt.show()"
   ]
  },
  {
   "cell_type": "code",
   "execution_count": null,
   "metadata": {
    "collapsed": true
   },
   "outputs": [],
   "source": []
  },
  {
   "cell_type": "code",
   "execution_count": null,
   "metadata": {
    "collapsed": true
   },
   "outputs": [],
   "source": []
  },
  {
   "cell_type": "code",
   "execution_count": null,
   "metadata": {
    "collapsed": true
   },
   "outputs": [],
   "source": []
  },
  {
   "cell_type": "code",
   "execution_count": null,
   "metadata": {
    "collapsed": true
   },
   "outputs": [],
   "source": []
  },
  {
   "cell_type": "code",
   "execution_count": null,
   "metadata": {
    "collapsed": true
   },
   "outputs": [],
   "source": []
  },
  {
   "cell_type": "code",
   "execution_count": null,
   "metadata": {
    "collapsed": true
   },
   "outputs": [],
   "source": []
  },
  {
   "cell_type": "code",
   "execution_count": null,
   "metadata": {
    "collapsed": true
   },
   "outputs": [],
   "source": []
  },
  {
   "cell_type": "code",
   "execution_count": null,
   "metadata": {
    "collapsed": true
   },
   "outputs": [],
   "source": []
  },
  {
   "cell_type": "code",
   "execution_count": null,
   "metadata": {
    "collapsed": true
   },
   "outputs": [],
   "source": []
  },
  {
   "cell_type": "code",
   "execution_count": null,
   "metadata": {
    "collapsed": true
   },
   "outputs": [],
   "source": []
  },
  {
   "cell_type": "code",
   "execution_count": null,
   "metadata": {
    "collapsed": true
   },
   "outputs": [],
   "source": []
  },
  {
   "cell_type": "code",
   "execution_count": null,
   "metadata": {
    "collapsed": true
   },
   "outputs": [],
   "source": []
  },
  {
   "cell_type": "code",
   "execution_count": null,
   "metadata": {
    "collapsed": true
   },
   "outputs": [],
   "source": []
  },
  {
   "cell_type": "code",
   "execution_count": null,
   "metadata": {
    "collapsed": true
   },
   "outputs": [],
   "source": []
  },
  {
   "cell_type": "code",
   "execution_count": null,
   "metadata": {
    "collapsed": true
   },
   "outputs": [],
   "source": []
  },
  {
   "cell_type": "code",
   "execution_count": null,
   "metadata": {
    "collapsed": true
   },
   "outputs": [],
   "source": []
  },
  {
   "cell_type": "code",
   "execution_count": null,
   "metadata": {
    "collapsed": true
   },
   "outputs": [],
   "source": []
  },
  {
   "cell_type": "code",
   "execution_count": null,
   "metadata": {
    "collapsed": true
   },
   "outputs": [],
   "source": []
  },
  {
   "cell_type": "code",
   "execution_count": null,
   "metadata": {
    "collapsed": true
   },
   "outputs": [],
   "source": []
  },
  {
   "cell_type": "code",
   "execution_count": null,
   "metadata": {
    "collapsed": true
   },
   "outputs": [],
   "source": []
  },
  {
   "cell_type": "code",
   "execution_count": null,
   "metadata": {
    "collapsed": true
   },
   "outputs": [],
   "source": []
  },
  {
   "cell_type": "code",
   "execution_count": null,
   "metadata": {
    "collapsed": true
   },
   "outputs": [],
   "source": []
  },
  {
   "cell_type": "code",
   "execution_count": null,
   "metadata": {
    "collapsed": true
   },
   "outputs": [],
   "source": []
  },
  {
   "cell_type": "code",
   "execution_count": null,
   "metadata": {
    "collapsed": true
   },
   "outputs": [],
   "source": []
  },
  {
   "cell_type": "code",
   "execution_count": null,
   "metadata": {
    "collapsed": true
   },
   "outputs": [],
   "source": []
  },
  {
   "cell_type": "code",
   "execution_count": null,
   "metadata": {
    "collapsed": true
   },
   "outputs": [],
   "source": []
  },
  {
   "cell_type": "code",
   "execution_count": null,
   "metadata": {
    "collapsed": true
   },
   "outputs": [],
   "source": []
  },
  {
   "cell_type": "code",
   "execution_count": null,
   "metadata": {
    "collapsed": true
   },
   "outputs": [],
   "source": []
  },
  {
   "cell_type": "code",
   "execution_count": null,
   "metadata": {
    "collapsed": true
   },
   "outputs": [],
   "source": []
  },
  {
   "cell_type": "code",
   "execution_count": null,
   "metadata": {
    "collapsed": true
   },
   "outputs": [],
   "source": []
  },
  {
   "cell_type": "code",
   "execution_count": null,
   "metadata": {
    "collapsed": true
   },
   "outputs": [],
   "source": []
  },
  {
   "cell_type": "code",
   "execution_count": null,
   "metadata": {
    "collapsed": true
   },
   "outputs": [],
   "source": []
  },
  {
   "cell_type": "code",
   "execution_count": null,
   "metadata": {
    "collapsed": true
   },
   "outputs": [],
   "source": []
  },
  {
   "cell_type": "code",
   "execution_count": null,
   "metadata": {
    "collapsed": true
   },
   "outputs": [],
   "source": []
  },
  {
   "cell_type": "code",
   "execution_count": null,
   "metadata": {
    "collapsed": true
   },
   "outputs": [],
   "source": []
  },
  {
   "cell_type": "code",
   "execution_count": null,
   "metadata": {
    "collapsed": true
   },
   "outputs": [],
   "source": []
  },
  {
   "cell_type": "code",
   "execution_count": null,
   "metadata": {
    "collapsed": true
   },
   "outputs": [],
   "source": []
  },
  {
   "cell_type": "code",
   "execution_count": null,
   "metadata": {
    "collapsed": true
   },
   "outputs": [],
   "source": []
  },
  {
   "cell_type": "code",
   "execution_count": null,
   "metadata": {
    "collapsed": true
   },
   "outputs": [],
   "source": []
  },
  {
   "cell_type": "code",
   "execution_count": null,
   "metadata": {
    "collapsed": true
   },
   "outputs": [],
   "source": []
  },
  {
   "cell_type": "code",
   "execution_count": null,
   "metadata": {
    "collapsed": true
   },
   "outputs": [],
   "source": []
  },
  {
   "cell_type": "code",
   "execution_count": null,
   "metadata": {
    "collapsed": true
   },
   "outputs": [],
   "source": []
  },
  {
   "cell_type": "code",
   "execution_count": null,
   "metadata": {
    "collapsed": true
   },
   "outputs": [],
   "source": []
  },
  {
   "cell_type": "code",
   "execution_count": null,
   "metadata": {
    "collapsed": true
   },
   "outputs": [],
   "source": []
  },
  {
   "cell_type": "code",
   "execution_count": null,
   "metadata": {
    "collapsed": true
   },
   "outputs": [],
   "source": []
  },
  {
   "cell_type": "code",
   "execution_count": null,
   "metadata": {
    "collapsed": true
   },
   "outputs": [],
   "source": []
  },
  {
   "cell_type": "code",
   "execution_count": null,
   "metadata": {
    "collapsed": true
   },
   "outputs": [],
   "source": []
  },
  {
   "cell_type": "code",
   "execution_count": null,
   "metadata": {
    "collapsed": true
   },
   "outputs": [],
   "source": []
  },
  {
   "cell_type": "code",
   "execution_count": null,
   "metadata": {
    "collapsed": true
   },
   "outputs": [],
   "source": []
  },
  {
   "cell_type": "code",
   "execution_count": null,
   "metadata": {
    "collapsed": true
   },
   "outputs": [],
   "source": []
  },
  {
   "cell_type": "code",
   "execution_count": null,
   "metadata": {
    "collapsed": true
   },
   "outputs": [],
   "source": []
  },
  {
   "cell_type": "code",
   "execution_count": null,
   "metadata": {
    "collapsed": true
   },
   "outputs": [],
   "source": []
  },
  {
   "cell_type": "code",
   "execution_count": null,
   "metadata": {
    "collapsed": true
   },
   "outputs": [],
   "source": []
  },
  {
   "cell_type": "code",
   "execution_count": null,
   "metadata": {
    "collapsed": true
   },
   "outputs": [],
   "source": []
  },
  {
   "cell_type": "code",
   "execution_count": null,
   "metadata": {
    "collapsed": true
   },
   "outputs": [],
   "source": []
  },
  {
   "cell_type": "code",
   "execution_count": null,
   "metadata": {
    "collapsed": true
   },
   "outputs": [],
   "source": []
  },
  {
   "cell_type": "code",
   "execution_count": null,
   "metadata": {
    "collapsed": true
   },
   "outputs": [],
   "source": []
  },
  {
   "cell_type": "code",
   "execution_count": null,
   "metadata": {
    "collapsed": true
   },
   "outputs": [],
   "source": []
  },
  {
   "cell_type": "code",
   "execution_count": null,
   "metadata": {
    "collapsed": true
   },
   "outputs": [],
   "source": []
  },
  {
   "cell_type": "code",
   "execution_count": null,
   "metadata": {
    "collapsed": true
   },
   "outputs": [],
   "source": []
  },
  {
   "cell_type": "code",
   "execution_count": null,
   "metadata": {
    "collapsed": true
   },
   "outputs": [],
   "source": []
  },
  {
   "cell_type": "code",
   "execution_count": null,
   "metadata": {
    "collapsed": true
   },
   "outputs": [],
   "source": []
  },
  {
   "cell_type": "code",
   "execution_count": null,
   "metadata": {
    "collapsed": true
   },
   "outputs": [],
   "source": []
  }
 ],
 "metadata": {
  "kernelspec": {
   "display_name": "Python 3",
   "language": "python",
   "name": "python3"
  },
  "language_info": {
   "codemirror_mode": {
    "name": "ipython",
    "version": 3
   },
   "file_extension": ".py",
   "mimetype": "text/x-python",
   "name": "python",
   "nbconvert_exporter": "python",
   "pygments_lexer": "ipython3",
   "version": "3.4.3"
  }
 },
 "nbformat": 4,
 "nbformat_minor": 0
}
